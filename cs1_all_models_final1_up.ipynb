{
  "nbformat": 4,
  "nbformat_minor": 0,
  "metadata": {
    "colab": {
      "name": "cs1 all models final1 up.ipynb",
      "provenance": [],
      "collapsed_sections": []
    },
    "kernelspec": {
      "display_name": "Python 3",
      "name": "python3"
    },
    "language_info": {
      "name": "python"
    }
  },
  "cells": [
    {
      "cell_type": "code",
      "metadata": {
        "colab": {
          "base_uri": "https://localhost:8080/"
        },
        "id": "e5v60o3osHeF",
        "outputId": "b13943cd-a07f-47e2-b018-170199e06be2"
      },
      "source": [
        "from google.colab import drive\n",
        "drive.mount('/content/gdrive')"
      ],
      "execution_count": null,
      "outputs": [
        {
          "output_type": "stream",
          "text": [
            "Mounted at /content/gdrive\n"
          ],
          "name": "stdout"
        }
      ]
    },
    {
      "cell_type": "code",
      "metadata": {
        "colab": {
          "base_uri": "https://localhost:8080/"
        },
        "id": "S-eEbYsPssAj",
        "outputId": "4ced288f-faf0-454e-b7e0-d2a38aceebd7"
      },
      "source": [
        "import pandas as pd\n",
        "import numpy as np\n",
        "import re\n",
        "\n",
        "import matplotlib.pyplot as plt\n",
        "import seaborn as sns\n",
        "\n",
        "import nltk\n",
        "nltk.download('punkt')\n",
        "nltk.download('wordnet')\n",
        "nltk.download('stopwords')\n",
        "\n",
        "from nltk.corpus import stopwords\n",
        "from nltk.stem import WordNetLemmatizer\n",
        "from nltk import WordPunctTokenizer\n",
        "from nltk.corpus import stopwords\n",
        "from nltk.tokenize import word_tokenize\n",
        "from nltk.corpus import stopwords\n",
        "from textblob import TextBlob\n",
        "from sklearn.feature_extraction.text import TfidfVectorizer\n",
        "from sklearn.feature_extraction.text import CountVectorizer\n",
        "sto_word = list(set(stopwords.words('english')))\n",
        "from nltk.stem import WordNetLemmatizer  \n",
        "\n",
        "from wordcloud import WordCloud\n",
        "from nltk.tokenize import word_tokenize\n",
        "from nltk.util import ngrams\n",
        "\n",
        "pd.set_option('mode.chained_assignment', None)\n",
        "\n",
        "from sklearn.decomposition import PCA\n",
        "from sklearn.manifold import TSNE\n",
        "from sklearn.cluster import MiniBatchKMeans\n",
        "import plotly.express as px\n",
        "\n",
        "import pickle"
      ],
      "execution_count": null,
      "outputs": [
        {
          "output_type": "stream",
          "text": [
            "[nltk_data] Downloading package punkt to /root/nltk_data...\n",
            "[nltk_data]   Unzipping tokenizers/punkt.zip.\n",
            "[nltk_data] Downloading package wordnet to /root/nltk_data...\n",
            "[nltk_data]   Unzipping corpora/wordnet.zip.\n",
            "[nltk_data] Downloading package stopwords to /root/nltk_data...\n",
            "[nltk_data]   Unzipping corpora/stopwords.zip.\n"
          ],
          "name": "stdout"
        }
      ]
    },
    {
      "cell_type": "code",
      "metadata": {
        "id": "CInHaCm_ihiL"
      },
      "source": [
        "import pickle\n",
        "#pickle.dump((combined_data_fe), open('/content/gdrive/MyDrive/cs1/combined_data_fe.pkl','wb'))\n",
        "combined_data_fe = pickle.load(open('/content/gdrive/MyDrive/cs1/combined_data_fe4.pkl', 'rb'))\n",
        "fastext_dict     = pickle.load(open('/content/gdrive/MyDrive/cs1/data/ft/fastext_dict.pkl', 'rb'))"
      ],
      "execution_count": null,
      "outputs": []
    },
    {
      "cell_type": "code",
      "metadata": {
        "colab": {
          "base_uri": "https://localhost:8080/",
          "height": 513
        },
        "id": "heVf4GghRRct",
        "outputId": "964ab672-7850-4ef4-9cb0-f8ea9e6c0a34"
      },
      "source": [
        "combined_data_fe.head()"
      ],
      "execution_count": null,
      "outputs": [
        {
          "output_type": "execute_result",
          "data": {
            "text/html": [
              "<div>\n",
              "<style scoped>\n",
              "    .dataframe tbody tr th:only-of-type {\n",
              "        vertical-align: middle;\n",
              "    }\n",
              "\n",
              "    .dataframe tbody tr th {\n",
              "        vertical-align: top;\n",
              "    }\n",
              "\n",
              "    .dataframe thead th {\n",
              "        text-align: right;\n",
              "    }\n",
              "</style>\n",
              "<table border=\"1\" class=\"dataframe\">\n",
              "  <thead>\n",
              "    <tr style=\"text-align: right;\">\n",
              "      <th></th>\n",
              "      <th>description</th>\n",
              "      <th>commenting</th>\n",
              "      <th>ogling</th>\n",
              "      <th>grouping</th>\n",
              "      <th>noun_count</th>\n",
              "      <th>punctuation_count</th>\n",
              "      <th>stopword_count</th>\n",
              "      <th>p_or_a</th>\n",
              "      <th>idf_freqently</th>\n",
              "      <th>idf_rare</th>\n",
              "      <th>1_2_3_4gm</th>\n",
              "      <th>description_len</th>\n",
              "      <th>word_count</th>\n",
              "      <th>word_density</th>\n",
              "    </tr>\n",
              "  </thead>\n",
              "  <tbody>\n",
              "    <tr>\n",
              "      <th>0</th>\n",
              "      <td>walking along crowded street holding mum hand ...</td>\n",
              "      <td>0</td>\n",
              "      <td>0</td>\n",
              "      <td>1</td>\n",
              "      <td>8</td>\n",
              "      <td>6</td>\n",
              "      <td>15</td>\n",
              "      <td>1</td>\n",
              "      <td>1</td>\n",
              "      <td>0</td>\n",
              "      <td>19</td>\n",
              "      <td>101</td>\n",
              "      <td>17</td>\n",
              "      <td>5.611111</td>\n",
              "    </tr>\n",
              "    <tr>\n",
              "      <th>1</th>\n",
              "      <td>incident took place evening metro two guy star...</td>\n",
              "      <td>0</td>\n",
              "      <td>1</td>\n",
              "      <td>0</td>\n",
              "      <td>5</td>\n",
              "      <td>2</td>\n",
              "      <td>7</td>\n",
              "      <td>1</td>\n",
              "      <td>1</td>\n",
              "      <td>0</td>\n",
              "      <td>22</td>\n",
              "      <td>57</td>\n",
              "      <td>9</td>\n",
              "      <td>5.700000</td>\n",
              "    </tr>\n",
              "    <tr>\n",
              "      <th>2</th>\n",
              "      <td>waiting bus man came bike offering liftvto you...</td>\n",
              "      <td>1</td>\n",
              "      <td>0</td>\n",
              "      <td>0</td>\n",
              "      <td>5</td>\n",
              "      <td>2</td>\n",
              "      <td>9</td>\n",
              "      <td>1</td>\n",
              "      <td>1</td>\n",
              "      <td>0</td>\n",
              "      <td>13</td>\n",
              "      <td>54</td>\n",
              "      <td>9</td>\n",
              "      <td>5.400000</td>\n",
              "    </tr>\n",
              "    <tr>\n",
              "      <th>3</th>\n",
              "      <td>incident happened inside train</td>\n",
              "      <td>0</td>\n",
              "      <td>0</td>\n",
              "      <td>0</td>\n",
              "      <td>2</td>\n",
              "      <td>0</td>\n",
              "      <td>1</td>\n",
              "      <td>1</td>\n",
              "      <td>1</td>\n",
              "      <td>0</td>\n",
              "      <td>5</td>\n",
              "      <td>30</td>\n",
              "      <td>4</td>\n",
              "      <td>6.000000</td>\n",
              "    </tr>\n",
              "    <tr>\n",
              "      <th>4</th>\n",
              "      <td>witnessed incident chain brutally snatched eld...</td>\n",
              "      <td>0</td>\n",
              "      <td>0</td>\n",
              "      <td>0</td>\n",
              "      <td>7</td>\n",
              "      <td>2</td>\n",
              "      <td>9</td>\n",
              "      <td>1</td>\n",
              "      <td>1</td>\n",
              "      <td>0</td>\n",
              "      <td>19</td>\n",
              "      <td>83</td>\n",
              "      <td>11</td>\n",
              "      <td>6.916667</td>\n",
              "    </tr>\n",
              "  </tbody>\n",
              "</table>\n",
              "</div>"
            ],
            "text/plain": [
              "                                         description  ...  word_density\n",
              "0  walking along crowded street holding mum hand ...  ...      5.611111\n",
              "1  incident took place evening metro two guy star...  ...      5.700000\n",
              "2  waiting bus man came bike offering liftvto you...  ...      5.400000\n",
              "3                     incident happened inside train  ...      6.000000\n",
              "4  witnessed incident chain brutally snatched eld...  ...      6.916667\n",
              "\n",
              "[5 rows x 14 columns]"
            ]
          },
          "metadata": {
            "tags": []
          },
          "execution_count": 6
        }
      ]
    },
    {
      "cell_type": "code",
      "metadata": {
        "id": "hsPL55ZaRUVC"
      },
      "source": [
        "y = combined_data_fe[['commenting', 'ogling', 'grouping']]\n",
        "combined_data_fe.drop(['commenting', 'ogling', 'grouping'], axis=1, inplace=True)\n",
        "x = combined_data_fe"
      ],
      "execution_count": null,
      "outputs": []
    },
    {
      "cell_type": "code",
      "metadata": {
        "colab": {
          "base_uri": "https://localhost:8080/"
        },
        "id": "EEy6rSEuSTtx",
        "outputId": "df4c4f06-0fd2-4838-c73f-26e248bcc6b6"
      },
      "source": [
        "x.shape, y.shape"
      ],
      "execution_count": null,
      "outputs": [
        {
          "output_type": "execute_result",
          "data": {
            "text/plain": [
              "((9193, 11), (9193, 3))"
            ]
          },
          "metadata": {
            "tags": []
          },
          "execution_count": 8
        }
      ]
    },
    {
      "cell_type": "code",
      "metadata": {
        "id": "-ZDDav-7ex4E"
      },
      "source": [
        "from sklearn.model_selection import train_test_split\n",
        "x_train, x_test, y_train, y_test = train_test_split(x, y, stratify=y, test_size=0.20, random_state=42)"
      ],
      "execution_count": null,
      "outputs": []
    },
    {
      "cell_type": "code",
      "metadata": {
        "colab": {
          "base_uri": "https://localhost:8080/"
        },
        "id": "rYG-hhCTTM6y",
        "outputId": "af2761ed-a114-4450-f4d0-75c33f481a7a"
      },
      "source": [
        "print(f'x train shape {x_train.shape}')\n",
        "print(f'y train shape {y_train.shape}')\n",
        "print(f'x test shape  {x_test.shape}')\n",
        "print(f'y test shape  {y_test.shape}')"
      ],
      "execution_count": null,
      "outputs": [
        {
          "output_type": "stream",
          "text": [
            "x train shape (7354, 11)\n",
            "y train shape (7354, 3)\n",
            "x test shape  (1839, 11)\n",
            "y test shape  (1839, 3)\n"
          ],
          "name": "stdout"
        }
      ]
    },
    {
      "cell_type": "code",
      "metadata": {
        "id": "MkK165cCvUtp"
      },
      "source": [
        "def normalize(frame_tr, frame_te, column):                   #---------------------- in 2\n",
        "\n",
        "  norm = Normalizer()\n",
        "  tr   = norm.fit_transform(frame_tr[column].values.reshape(-1,1))\n",
        "  te   = norm.transform(frame_te[column].values.reshape(-1,1))\n",
        "  return tr, te"
      ],
      "execution_count": null,
      "outputs": []
    },
    {
      "cell_type": "code",
      "metadata": {
        "id": "icFlcEjkVMDp"
      },
      "source": [
        "def vectorizer(train, test, column, type, analyz, ndim):    #----------- in 1\n",
        "\n",
        "  '''takes train : train data frame,\n",
        "           test  : test data frame,\n",
        "          column : text data column\n",
        "          analyz : word level or character level tfidf'''\n",
        "  \n",
        "  if type == 'bow' and analyz == 'word':\n",
        "    bow_vect   = CountVectorizer(ngram_range=(1,1), analyzer=analyz, stop_words='english')\n",
        "    train      = bow_vect.fit_transform(train[column])\n",
        "    test       = bow_vect.transform(test[column])\n",
        "\n",
        "  if type == 'tfidf' and analyz == 'word':\n",
        "    tfidf_vect = TfidfVectorizer(ngram_range=(1,1), analyzer=analyz, stop_words='english')\n",
        "    train      = tfidf_vect.fit_transform(train[column])\n",
        "    test       = tfidf_vect.transform(test[column])\n",
        "    #pickle.dump((tfidf_vect), open('/content/tfidf_vect.pkl','wb'))\n",
        "\n",
        "  if type == 'tfidf' and analyz == 'char':\n",
        "    tfidf_vect = TfidfVectorizer(ngram_range=(1,4), analyzer=analyz, stop_words='english')\n",
        "    train      = tfidf_vect.fit_transform(train[column])\n",
        "    test       = tfidf_vect.transform(test[column])\n",
        "    #pickle.dump((tfidf_vect), open('/content/tfidf_vect.pkl','wb'))\n",
        "\n",
        "  if type == 'fastext':\n",
        "    train = fastext_embedding(train[column].values, fastext_dict, ndim)\n",
        "    test  = fastext_embedding(test[column].values, fastext_dict, ndim)\n",
        "\n",
        "  return train, test"
      ],
      "execution_count": null,
      "outputs": []
    },
    {
      "cell_type": "code",
      "metadata": {
        "id": "FoMw4_tnTVNy"
      },
      "source": [
        "from scipy.sparse import hstack                                  ## --------------------------- in 3\n",
        "from sklearn.preprocessing import Normalizer, MinMaxScaler\n",
        "import pickle\n",
        "def data_for_model(frame_tr, frame_te,  type, analyz, ndim):\n",
        "\n",
        "  '''frame_tr, frame_te : x_train, x_test frame,\n",
        "     type               : tfidf/fastext/dl/bert,\n",
        "     analyz             : if char level needs to taken or not,\n",
        "     nidm               : maximum dimenssion'''\n",
        "     \n",
        "\n",
        "  col =  frame_tr.columns\n",
        "  vect_x_train, vect_x_test = vectorizer(frame_tr, frame_te, col[0], type, analyz, ndim)\n",
        "\n",
        "  x_train_p_or_a = frame_tr[col[4]].values.reshape(-1,1)\n",
        "  x_test_p_or_a  = frame_te[col[4]].values.reshape(-1,1)\n",
        "\n",
        "  x_train_idf_frequently = frame_tr[col[5]].values.reshape(-1,1)\n",
        "  x_test_idf_frequently  = frame_te[col[5]].values.reshape(-1,1)\n",
        "\n",
        "  x_train_idf_rare = frame_tr[col[6]].values.reshape(-1,1)\n",
        "  x_test_idf_rare  = frame_te[col[6]].values.reshape(-1,1)\n",
        "\n",
        "  x_train_noun_count, x_test_noun_count                = normalize(frame_tr, frame_te, col[1])\n",
        "  x_train_punctuation_count, x_test_punctuation_count  = normalize(frame_tr, frame_te, col[2])\n",
        "  x_train_stopword_count, x_test_stopword_count        = normalize(frame_tr, frame_te, col[3])\n",
        "  x_train_gm, x_test_gm                                = normalize(frame_tr, frame_te, col[7])\n",
        "  x_train_desc_len, x_test_desc_len                    = normalize(frame_tr, frame_te, col[8])\n",
        "  x_train_word_count, x_test_word_count                = normalize(frame_tr, frame_te, col[9])\n",
        "  x_train_word_density, x_test_word_density            = normalize(frame_tr, frame_te, col[10])\n",
        "  \n",
        "  if type == 'bow': \n",
        "    x_train_final = hstack((vect_x_train, x_train_noun_count, x_train_punctuation_count, x_train_stopword_count, x_train_p_or_a, \n",
        "                          x_train_idf_frequently, x_train_idf_rare, x_train_desc_len, x_train_word_count, \n",
        "                          x_train_word_density)).tocsr()\n",
        "\n",
        "    x_test_final  = hstack((vect_x_test, x_test_noun_count, x_test_punctuation_count, x_test_stopword_count, \n",
        "                          x_test_p_or_a, x_test_idf_frequently, x_test_idf_rare, x_test_desc_len, x_test_word_count, \n",
        "                          x_test_word_density)).tocsr()\n",
        "  \n",
        "  \n",
        "  if type == 'tfidf': \n",
        "    x_train_final = hstack((vect_x_train, x_train_noun_count, x_train_punctuation_count, x_train_stopword_count, x_train_p_or_a, \n",
        "                          x_train_idf_frequently, x_train_idf_rare, x_train_desc_len, x_train_word_count, \n",
        "                          x_train_word_density)).tocsr()\n",
        "\n",
        "    x_test_final  = hstack((vect_x_test, x_test_noun_count, x_test_punctuation_count, x_test_stopword_count, \n",
        "                          x_test_p_or_a, x_test_idf_frequently, x_test_idf_rare, x_test_desc_len, x_test_word_count, \n",
        "                          x_test_word_density)).tocsr()\n",
        "\n",
        "  if type == 'fastext':\n",
        "\n",
        "    x_train_final = np.concatenate([vect_x_train, x_train_noun_count, x_train_punctuation_count, x_train_stopword_count, x_train_p_or_a, \n",
        "                          x_train_idf_frequently, x_train_idf_rare, x_train_desc_len, x_train_word_count, \n",
        "                          x_train_word_density], axis=1)\n",
        "\n",
        "    x_test_final  = np.concatenate([vect_x_test, x_test_noun_count, x_test_punctuation_count, x_test_stopword_count, \n",
        "                          x_test_p_or_a, x_test_idf_frequently, x_test_idf_rare, x_test_desc_len, x_test_word_count, \n",
        "                          x_test_word_density], axis=1)\n",
        "    \n",
        "\n",
        "  if type == 'dl':\n",
        "      \n",
        "    path = '/content/gdrive/MyDrive/cs1/dl_features.pkl'\n",
        "\n",
        "    if os.path.isfile(path):\n",
        "      x_trn_dl, x_tes_dl = pickle.load(open('/content/gdrive/MyDrive/cs1/dl_features.pkl','rb'))\n",
        "\n",
        "    else:\n",
        "      x_train_final = np.concatenate([x_trn_dl, x_train_noun_count, x_train_punctuation_count, x_train_stopword_count, x_train_p_or_a, \n",
        "                          x_train_idf_frequently, x_train_idf_rare, x_train_desc_len, x_train_word_count, \n",
        "                          x_train_word_density], axis=1)\n",
        "\n",
        "      x_test_final  = np.concatenate([x_tes_dl, x_test_noun_count, x_test_punctuation_count, x_test_stopword_count, \n",
        "                          x_test_p_or_a, x_test_idf_frequently, x_test_idf_rare, x_test_desc_len, x_test_word_count, \n",
        "                          x_test_word_density], axis=1)\n",
        "    \n",
        "  if type == 'bert':\n",
        "    \n",
        "    path = '/content/gdrive/MyDrive/cs1/bert_features2.pkl'\n",
        "\n",
        "    if os.path.isfile(path):\n",
        "      x_train_final, x_test_final = pickle.load(open('/content/gdrive/MyDrive/cs1/bert_features2.pkl','rb'))\n",
        "    \n",
        "    else:\n",
        "      x_train_final = final_bert_embedd(frame_tr, col[0])\n",
        "      x_test_final  = final_bert_embedd(frame_te, col[0])\n",
        "\n",
        "  return x_train_final, x_test_final"
      ],
      "execution_count": null,
      "outputs": []
    },
    {
      "cell_type": "markdown",
      "metadata": {
        "id": "bGKB-F2NQqPt"
      },
      "source": [
        "###fastext vec"
      ]
    },
    {
      "cell_type": "code",
      "metadata": {
        "id": "im38XgKjTqnS"
      },
      "source": [
        "from gensim.models import FastText\n",
        "\n",
        "def load_fast_text():\n",
        "  fastext = {}\n",
        "  f = open('/content/gdrive/MyDrive/cs1/data/ft/wiki-news-300d-1M.vec', encoding='utf-8')\n",
        "  for line in f:\n",
        "    value = line.strip().split(' ')\n",
        "    word  = value[0].lower()\n",
        "    coef  = np.array(value[1:], dtype='float32')\n",
        "    fastext[word] = coef\n",
        "  f.close()\n",
        "  print(f'Found {len(fastext)} word vector')\n",
        "  return fastext\n",
        "\n",
        "fastext_dict = load_fast_text()"
      ],
      "execution_count": null,
      "outputs": []
    },
    {
      "cell_type": "code",
      "metadata": {
        "id": "fTR671uk4J_K"
      },
      "source": [
        "def fastext_embedding(x, dic, ndim):\n",
        "  embedd = []\n",
        "  for sent in x:\n",
        "    vector = np.zeros(ndim)               # as word vectors are of zero length\n",
        "    for word in sent.split():\n",
        "      if word in dic.keys():\n",
        "        vector += fastext_dict[word]\n",
        "    embedd.append(vector)\n",
        "  \n",
        "  return np.array(embedd)\n"
      ],
      "execution_count": null,
      "outputs": []
    },
    {
      "cell_type": "markdown",
      "metadata": {
        "id": "dC3gZHZ_QnYq"
      },
      "source": [
        "###Bert vec"
      ]
    },
    {
      "cell_type": "code",
      "metadata": {
        "colab": {
          "base_uri": "https://localhost:8080/"
        },
        "id": "pUuoc9oyKJZe",
        "outputId": "a328d032-522c-4566-f5a5-27f1c23cfe6b"
      },
      "source": [
        "pip install transformers"
      ],
      "execution_count": null,
      "outputs": [
        {
          "output_type": "stream",
          "text": [
            "Collecting transformers\n",
            "  Downloading transformers-4.9.1-py3-none-any.whl (2.6 MB)\n",
            "\u001b[K     |████████████████████████████████| 2.6 MB 5.2 MB/s \n",
            "\u001b[?25hRequirement already satisfied: filelock in /usr/local/lib/python3.7/dist-packages (from transformers) (3.0.12)\n",
            "Requirement already satisfied: importlib-metadata in /usr/local/lib/python3.7/dist-packages (from transformers) (4.6.1)\n",
            "Requirement already satisfied: tqdm>=4.27 in /usr/local/lib/python3.7/dist-packages (from transformers) (4.41.1)\n",
            "Requirement already satisfied: requests in /usr/local/lib/python3.7/dist-packages (from transformers) (2.23.0)\n",
            "Collecting tokenizers<0.11,>=0.10.1\n",
            "  Downloading tokenizers-0.10.3-cp37-cp37m-manylinux_2_5_x86_64.manylinux1_x86_64.manylinux_2_12_x86_64.manylinux2010_x86_64.whl (3.3 MB)\n",
            "\u001b[K     |████████████████████████████████| 3.3 MB 33.3 MB/s \n",
            "\u001b[?25hRequirement already satisfied: packaging in /usr/local/lib/python3.7/dist-packages (from transformers) (21.0)\n",
            "Requirement already satisfied: numpy>=1.17 in /usr/local/lib/python3.7/dist-packages (from transformers) (1.19.5)\n",
            "Collecting huggingface-hub==0.0.12\n",
            "  Downloading huggingface_hub-0.0.12-py3-none-any.whl (37 kB)\n",
            "Collecting sacremoses\n",
            "  Downloading sacremoses-0.0.45-py3-none-any.whl (895 kB)\n",
            "\u001b[K     |████████████████████████████████| 895 kB 61.0 MB/s \n",
            "\u001b[?25hCollecting pyyaml>=5.1\n",
            "  Downloading PyYAML-5.4.1-cp37-cp37m-manylinux1_x86_64.whl (636 kB)\n",
            "\u001b[K     |████████████████████████████████| 636 kB 47.1 MB/s \n",
            "\u001b[?25hRequirement already satisfied: regex!=2019.12.17 in /usr/local/lib/python3.7/dist-packages (from transformers) (2019.12.20)\n",
            "Requirement already satisfied: typing-extensions in /usr/local/lib/python3.7/dist-packages (from huggingface-hub==0.0.12->transformers) (3.7.4.3)\n",
            "Requirement already satisfied: pyparsing>=2.0.2 in /usr/local/lib/python3.7/dist-packages (from packaging->transformers) (2.4.7)\n",
            "Requirement already satisfied: zipp>=0.5 in /usr/local/lib/python3.7/dist-packages (from importlib-metadata->transformers) (3.5.0)\n",
            "Requirement already satisfied: certifi>=2017.4.17 in /usr/local/lib/python3.7/dist-packages (from requests->transformers) (2021.5.30)\n",
            "Requirement already satisfied: chardet<4,>=3.0.2 in /usr/local/lib/python3.7/dist-packages (from requests->transformers) (3.0.4)\n",
            "Requirement already satisfied: idna<3,>=2.5 in /usr/local/lib/python3.7/dist-packages (from requests->transformers) (2.10)\n",
            "Requirement already satisfied: urllib3!=1.25.0,!=1.25.1,<1.26,>=1.21.1 in /usr/local/lib/python3.7/dist-packages (from requests->transformers) (1.24.3)\n",
            "Requirement already satisfied: joblib in /usr/local/lib/python3.7/dist-packages (from sacremoses->transformers) (1.0.1)\n",
            "Requirement already satisfied: click in /usr/local/lib/python3.7/dist-packages (from sacremoses->transformers) (7.1.2)\n",
            "Requirement already satisfied: six in /usr/local/lib/python3.7/dist-packages (from sacremoses->transformers) (1.15.0)\n",
            "Installing collected packages: tokenizers, sacremoses, pyyaml, huggingface-hub, transformers\n",
            "  Attempting uninstall: pyyaml\n",
            "    Found existing installation: PyYAML 3.13\n",
            "    Uninstalling PyYAML-3.13:\n",
            "      Successfully uninstalled PyYAML-3.13\n",
            "Successfully installed huggingface-hub-0.0.12 pyyaml-5.4.1 sacremoses-0.0.45 tokenizers-0.10.3 transformers-4.9.1\n"
          ],
          "name": "stdout"
        }
      ]
    },
    {
      "cell_type": "code",
      "metadata": {
        "id": "O9VKR51VLaAW"
      },
      "source": [
        "from transformers import DistilBertConfig, DistilBertTokenizer, TFDistilBertModel, pipeline"
      ],
      "execution_count": null,
      "outputs": []
    },
    {
      "cell_type": "code",
      "metadata": {
        "id": "cEzyaVLIf3-2"
      },
      "source": [
        "from tqdm import tqdm\n",
        "tokenizer = DistilBertTokenizer.from_pretrained('distilbert-base-uncased') # Loading Tokenizer\n",
        "config    = DistilBertConfig.from_pretrained('distilbert-base-uncased', output_hidden_states = True) # Loading COnfig File\n",
        "model     = TFDistilBertModel.from_pretrained('distilbert-base-uncased', config = config) # Loading Model\n",
        "\n",
        "pipe_nlp = pipeline('feature-extraction', model=model, config=config, tokenizer=tokenizer, framework='tf')\n",
        "\n",
        "def final_bert_layers_tokens(string):\n",
        "\n",
        "  '''extract layers'''\n",
        "\n",
        "  input  = tokenizer(string, return_tensors = \"tf\")\n",
        "  output = model(input) \n",
        "  output = np.concatenate((output[1][5][0,0,:], output[1][6][0,0,:]), axis=0)  #output[1][3][0,0,:],output[1][4][0,0,:],\n",
        "  return output\n"
      ],
      "execution_count": null,
      "outputs": []
    },
    {
      "cell_type": "code",
      "metadata": {
        "id": "27yZtvrAkJBe"
      },
      "source": [
        "def final_bert_embedd(frame, column):\n",
        "\n",
        "  ''' EXTRACT EMBEDDING'''\n",
        "  \n",
        "  sent_embd = []\n",
        "  for i in tqdm(frame[column].values):\n",
        "    sent = i[:512]\n",
        "    sent_embd.append(final_bert_layers_tokens(sent))\n",
        "\n",
        "  return np.array(sent_embd)\n"
      ],
      "execution_count": null,
      "outputs": []
    },
    {
      "cell_type": "markdown",
      "metadata": {
        "id": "WVgfZtueW6lp"
      },
      "source": [
        "###dl features"
      ]
    },
    {
      "cell_type": "code",
      "metadata": {
        "id": "SJ8NHjyXLXu0"
      },
      "source": [
        "from tensorflow.keras.models import *\n",
        "from tensorflow.keras.layers import *\n",
        "from tensorflow.keras.activations import *\n",
        "from tensorflow.keras.callbacks import *\n",
        "from tensorflow.keras.utils import plot_model\n",
        "import matplotlib.pyplot as plt"
      ],
      "execution_count": null,
      "outputs": []
    },
    {
      "cell_type": "code",
      "metadata": {
        "colab": {
          "base_uri": "https://localhost:8080/"
        },
        "id": "ay6xUPasAynQ",
        "outputId": "bfd4eb2c-d5bd-46fb-917e-ad0fc2f4f2f9"
      },
      "source": [
        "in_shape = x_train_ft.shape[1]\n",
        "input = Input(shape=(in_shape,))\n",
        "\n",
        "#encoder 1\n",
        "e1 = Dense(units=500, activation='relu')(input)\n",
        "e1 = BatchNormalization()(e1)\n",
        "e1 = LeakyReLU()(e1)\n",
        "\n",
        "#encoder 2\n",
        "e2 = Dense(units=200, activation='relu')(e1)\n",
        "e2 = BatchNormalization()(e2)\n",
        "e2 = LeakyReLU()(e2)\n",
        "\n",
        "#bottleneck\n",
        "b = Dense(units=100, activation='relu')(e2)\n",
        "\n",
        "#decoder\n",
        "d1 = Dense(units=200, activation='relu')(b)\n",
        "d1 = BatchNormalization()(d1)\n",
        "d1 = LeakyReLU()(d1)\n",
        "\n",
        "#decoder 2\n",
        "d2 = Dense(units=200, activation='relu')(d1)\n",
        "d2 = BatchNormalization()(d2)\n",
        "d2 = LeakyReLU()(d2)\n",
        "\n",
        "# output layer\n",
        "output = Dense(in_shape, activation='linear')(d2)\n",
        "# define autoencoder model\n",
        "\n",
        "model = Model(inputs=input, outputs=output)\n",
        "\n",
        "# plot the autoencoder\n",
        "plot_model(model, show_shapes=True)\n",
        "model.summary()"
      ],
      "execution_count": null,
      "outputs": [
        {
          "output_type": "stream",
          "text": [
            "Model: \"model_1\"\n",
            "_________________________________________________________________\n",
            "Layer (type)                 Output Shape              Param #   \n",
            "=================================================================\n",
            "input_2 (InputLayer)         [(None, 309)]             0         \n",
            "_________________________________________________________________\n",
            "dense_6 (Dense)              (None, 500)               155000    \n",
            "_________________________________________________________________\n",
            "batch_normalization_4 (Batch (None, 500)               2000      \n",
            "_________________________________________________________________\n",
            "leaky_re_lu_4 (LeakyReLU)    (None, 500)               0         \n",
            "_________________________________________________________________\n",
            "dense_7 (Dense)              (None, 200)               100200    \n",
            "_________________________________________________________________\n",
            "batch_normalization_5 (Batch (None, 200)               800       \n",
            "_________________________________________________________________\n",
            "leaky_re_lu_5 (LeakyReLU)    (None, 200)               0         \n",
            "_________________________________________________________________\n",
            "dense_8 (Dense)              (None, 100)               20100     \n",
            "_________________________________________________________________\n",
            "dense_9 (Dense)              (None, 200)               20200     \n",
            "_________________________________________________________________\n",
            "batch_normalization_6 (Batch (None, 200)               800       \n",
            "_________________________________________________________________\n",
            "leaky_re_lu_6 (LeakyReLU)    (None, 200)               0         \n",
            "_________________________________________________________________\n",
            "dense_10 (Dense)             (None, 200)               40200     \n",
            "_________________________________________________________________\n",
            "batch_normalization_7 (Batch (None, 200)               800       \n",
            "_________________________________________________________________\n",
            "leaky_re_lu_7 (LeakyReLU)    (None, 200)               0         \n",
            "_________________________________________________________________\n",
            "dense_11 (Dense)             (None, 309)               62109     \n",
            "=================================================================\n",
            "Total params: 402,209\n",
            "Trainable params: 400,009\n",
            "Non-trainable params: 2,200\n",
            "_________________________________________________________________\n"
          ],
          "name": "stdout"
        }
      ]
    },
    {
      "cell_type": "code",
      "metadata": {
        "colab": {
          "base_uri": "https://localhost:8080/",
          "height": 1000
        },
        "id": "Zf7tLKDuGw2E",
        "outputId": "95278830-63d5-46e8-e061-a0b4c1e1a462"
      },
      "source": [
        "# plot the autoencoder\n",
        "plot_model(model, 'autoencoder_compress.png', show_shapes=True)"
      ],
      "execution_count": null,
      "outputs": [
        {
          "output_type": "execute_result",
          "data": {
            "image/png": "[encoded data removed]",
            "text/plain": [
              "<IPython.core.display.Image object>"
            ]
          },
          "metadata": {
            "tags": []
          },
          "execution_count": 25
        }
      ]
    },
    {
      "cell_type": "code",
      "metadata": {
        "colab": {
          "base_uri": "https://localhost:8080/"
        },
        "id": "pMiICKAkAyp3",
        "outputId": "55b02c14-8f46-4284-8be6-50f2316e020f"
      },
      "source": [
        "# compile autoencoder model\n",
        "model.compile(optimizer='adam', loss='mse')\n",
        "\n",
        "ckp = ModelCheckpoint('/content/gdrive/MyDrive/cs1/de_feature.h5', verbose = 1, save_best_only = True)\n",
        "# fit the autoencoder model to reconstruct input\n",
        "hstry = model.fit(x_train_ft, x_train_ft, epochs=300, batch_size=32, verbose=2, validation_data=(x_test_ft, x_test_ft))  #, callbacks=ckp)"
      ],
      "execution_count": null,
      "outputs": [
        {
          "output_type": "stream",
          "text": [
            "Epoch 1/300\n",
            "230/230 - 2s - loss: 0.8787 - val_loss: 0.4069\n",
            "Epoch 2/300\n",
            "230/230 - 1s - loss: 0.5249 - val_loss: 1.1658\n",
            "Epoch 3/300\n",
            "230/230 - 1s - loss: 0.5031 - val_loss: 0.6833\n",
            "Epoch 4/300\n",
            "230/230 - 1s - loss: 0.4288 - val_loss: 0.9228\n",
            "Epoch 5/300\n",
            "230/230 - 1s - loss: 0.4820 - val_loss: 0.4808\n",
            "Epoch 6/300\n",
            "230/230 - 1s - loss: 0.4122 - val_loss: 0.2161\n",
            "Epoch 7/300\n",
            "230/230 - 1s - loss: 0.3805 - val_loss: 0.2345\n",
            "Epoch 8/300\n",
            "230/230 - 1s - loss: 0.3672 - val_loss: 0.2307\n",
            "Epoch 9/300\n",
            "230/230 - 1s - loss: 0.3661 - val_loss: 0.2255\n",
            "Epoch 10/300\n",
            "230/230 - 1s - loss: 0.3717 - val_loss: 0.2708\n",
            "Epoch 11/300\n",
            "230/230 - 1s - loss: 0.3670 - val_loss: 0.4978\n",
            "Epoch 12/300\n",
            "230/230 - 1s - loss: 0.3924 - val_loss: 0.2153\n",
            "Epoch 13/300\n",
            "230/230 - 1s - loss: 0.3465 - val_loss: 0.2059\n",
            "Epoch 14/300\n",
            "230/230 - 1s - loss: 0.3328 - val_loss: 0.3304\n",
            "Epoch 15/300\n",
            "230/230 - 1s - loss: 0.3094 - val_loss: 0.2535\n",
            "Epoch 16/300\n",
            "230/230 - 1s - loss: 0.2853 - val_loss: 0.1994\n",
            "Epoch 17/300\n",
            "230/230 - 1s - loss: 0.2779 - val_loss: 0.3496\n",
            "Epoch 18/300\n",
            "230/230 - 1s - loss: 0.2664 - val_loss: 0.1888\n",
            "Epoch 19/300\n",
            "230/230 - 1s - loss: 0.2777 - val_loss: 0.1980\n",
            "Epoch 20/300\n",
            "230/230 - 1s - loss: 0.2801 - val_loss: 0.2756\n",
            "Epoch 21/300\n",
            "230/230 - 1s - loss: 0.3169 - val_loss: 0.2699\n",
            "Epoch 22/300\n",
            "230/230 - 1s - loss: 0.2792 - val_loss: 0.2284\n",
            "Epoch 23/300\n",
            "230/230 - 1s - loss: 0.2907 - val_loss: 0.2276\n",
            "Epoch 24/300\n",
            "230/230 - 1s - loss: 0.2457 - val_loss: 0.3839\n",
            "Epoch 25/300\n",
            "230/230 - 1s - loss: 0.2818 - val_loss: 0.4833\n",
            "Epoch 26/300\n",
            "230/230 - 1s - loss: 0.2720 - val_loss: 1.2903\n",
            "Epoch 27/300\n",
            "230/230 - 1s - loss: 0.3104 - val_loss: 0.2967\n",
            "Epoch 28/300\n",
            "230/230 - 1s - loss: 0.3100 - val_loss: 0.4455\n",
            "Epoch 29/300\n",
            "230/230 - 1s - loss: 0.3343 - val_loss: 0.2878\n",
            "Epoch 30/300\n",
            "230/230 - 1s - loss: 0.2359 - val_loss: 0.3429\n",
            "Epoch 31/300\n",
            "230/230 - 1s - loss: 0.2211 - val_loss: 0.7253\n",
            "Epoch 32/300\n",
            "230/230 - 1s - loss: 0.2284 - val_loss: 0.2378\n",
            "Epoch 33/300\n",
            "230/230 - 1s - loss: 0.2729 - val_loss: 0.3620\n",
            "Epoch 34/300\n",
            "230/230 - 1s - loss: 0.2267 - val_loss: 0.8256\n",
            "Epoch 35/300\n",
            "230/230 - 1s - loss: 0.2165 - val_loss: 0.3038\n",
            "Epoch 36/300\n",
            "230/230 - 1s - loss: 0.2221 - val_loss: 0.2734\n",
            "Epoch 37/300\n",
            "230/230 - 1s - loss: 0.2057 - val_loss: 0.3879\n",
            "Epoch 38/300\n",
            "230/230 - 1s - loss: 0.2148 - val_loss: 0.4446\n",
            "Epoch 39/300\n",
            "230/230 - 1s - loss: 0.2043 - val_loss: 0.5557\n",
            "Epoch 40/300\n",
            "230/230 - 1s - loss: 0.2940 - val_loss: 0.3928\n",
            "Epoch 41/300\n",
            "230/230 - 1s - loss: 0.2375 - val_loss: 0.3656\n",
            "Epoch 42/300\n",
            "230/230 - 1s - loss: 0.2364 - val_loss: 0.3662\n",
            "Epoch 43/300\n",
            "230/230 - 1s - loss: 0.1936 - val_loss: 0.3709\n",
            "Epoch 44/300\n",
            "230/230 - 1s - loss: 0.1831 - val_loss: 0.2718\n",
            "Epoch 45/300\n",
            "230/230 - 1s - loss: 0.2165 - val_loss: 0.2893\n",
            "Epoch 46/300\n",
            "230/230 - 1s - loss: 0.1833 - val_loss: 0.2930\n",
            "Epoch 47/300\n",
            "230/230 - 1s - loss: 0.1913 - val_loss: 0.2549\n",
            "Epoch 48/300\n",
            "230/230 - 1s - loss: 0.1951 - val_loss: 0.3439\n",
            "Epoch 49/300\n",
            "230/230 - 1s - loss: 0.1899 - val_loss: 0.2402\n",
            "Epoch 50/300\n",
            "230/230 - 1s - loss: 0.1794 - val_loss: 0.2937\n",
            "Epoch 51/300\n",
            "230/230 - 1s - loss: 0.1812 - val_loss: 0.3068\n",
            "Epoch 52/300\n",
            "230/230 - 1s - loss: 0.1730 - val_loss: 0.2580\n",
            "Epoch 53/300\n",
            "230/230 - 1s - loss: 0.1847 - val_loss: 0.2379\n",
            "Epoch 54/300\n",
            "230/230 - 1s - loss: 0.1823 - val_loss: 0.2501\n",
            "Epoch 55/300\n",
            "230/230 - 1s - loss: 0.2158 - val_loss: 0.4331\n",
            "Epoch 56/300\n",
            "230/230 - 1s - loss: 0.1993 - val_loss: 0.2413\n",
            "Epoch 57/300\n",
            "230/230 - 1s - loss: 0.1937 - val_loss: 0.2546\n",
            "Epoch 58/300\n",
            "230/230 - 1s - loss: 0.2255 - val_loss: 0.3792\n",
            "Epoch 59/300\n",
            "230/230 - 1s - loss: 0.1805 - val_loss: 0.3351\n",
            "Epoch 60/300\n",
            "230/230 - 1s - loss: 0.1710 - val_loss: 0.3163\n",
            "Epoch 61/300\n",
            "230/230 - 1s - loss: 0.2050 - val_loss: 0.2847\n",
            "Epoch 62/300\n",
            "230/230 - 1s - loss: 0.1677 - val_loss: 0.4522\n",
            "Epoch 63/300\n",
            "230/230 - 1s - loss: 0.1618 - val_loss: 0.3983\n",
            "Epoch 64/300\n",
            "230/230 - 1s - loss: 0.2048 - val_loss: 0.6216\n",
            "Epoch 65/300\n",
            "230/230 - 1s - loss: 0.1838 - val_loss: 0.7133\n",
            "Epoch 66/300\n",
            "230/230 - 1s - loss: 0.2240 - val_loss: 0.3439\n",
            "Epoch 67/300\n",
            "230/230 - 1s - loss: 0.1858 - val_loss: 0.2548\n",
            "Epoch 68/300\n",
            "230/230 - 1s - loss: 0.1683 - val_loss: 0.7458\n",
            "Epoch 69/300\n",
            "230/230 - 1s - loss: 0.2195 - val_loss: 0.6195\n",
            "Epoch 70/300\n",
            "230/230 - 1s - loss: 0.2283 - val_loss: 0.3598\n",
            "Epoch 71/300\n",
            "230/230 - 1s - loss: 0.1934 - val_loss: 0.3138\n",
            "Epoch 72/300\n",
            "230/230 - 1s - loss: 0.1697 - val_loss: 0.3986\n",
            "Epoch 73/300\n",
            "230/230 - 1s - loss: 0.1601 - val_loss: 0.4860\n",
            "Epoch 74/300\n",
            "230/230 - 1s - loss: 0.1654 - val_loss: 0.3164\n",
            "Epoch 75/300\n",
            "230/230 - 1s - loss: 0.1989 - val_loss: 0.3802\n",
            "Epoch 76/300\n",
            "230/230 - 1s - loss: 0.1830 - val_loss: 0.3280\n",
            "Epoch 77/300\n",
            "230/230 - 1s - loss: 0.1792 - val_loss: 0.4847\n",
            "Epoch 78/300\n",
            "230/230 - 1s - loss: 0.1465 - val_loss: 0.2729\n",
            "Epoch 79/300\n",
            "230/230 - 1s - loss: 0.1664 - val_loss: 0.6919\n",
            "Epoch 80/300\n",
            "230/230 - 1s - loss: 0.2086 - val_loss: 0.3255\n",
            "Epoch 81/300\n",
            "230/230 - 1s - loss: 0.1756 - val_loss: 0.5014\n",
            "Epoch 82/300\n",
            "230/230 - 1s - loss: 0.1571 - val_loss: 0.2669\n",
            "Epoch 83/300\n",
            "230/230 - 1s - loss: 0.1525 - val_loss: 0.7029\n",
            "Epoch 84/300\n",
            "230/230 - 1s - loss: 0.1551 - val_loss: 0.2533\n",
            "Epoch 85/300\n",
            "230/230 - 1s - loss: 0.1631 - val_loss: 0.4428\n",
            "Epoch 86/300\n",
            "230/230 - 1s - loss: 0.1886 - val_loss: 0.4693\n",
            "Epoch 87/300\n",
            "230/230 - 1s - loss: 0.1757 - val_loss: 0.2472\n",
            "Epoch 88/300\n",
            "230/230 - 1s - loss: 0.1784 - val_loss: 0.2816\n",
            "Epoch 89/300\n",
            "230/230 - 1s - loss: 0.1839 - val_loss: 0.2395\n",
            "Epoch 90/300\n",
            "230/230 - 1s - loss: 0.1766 - val_loss: 0.3461\n",
            "Epoch 91/300\n",
            "230/230 - 1s - loss: 0.1666 - val_loss: 0.2883\n",
            "Epoch 92/300\n",
            "230/230 - 1s - loss: 0.1604 - val_loss: 0.3497\n",
            "Epoch 93/300\n",
            "230/230 - 1s - loss: 0.2342 - val_loss: 0.7745\n",
            "Epoch 94/300\n",
            "230/230 - 1s - loss: 0.1520 - val_loss: 0.3446\n",
            "Epoch 95/300\n",
            "230/230 - 1s - loss: 0.1667 - val_loss: 0.2851\n",
            "Epoch 96/300\n",
            "230/230 - 1s - loss: 0.1490 - val_loss: 0.2702\n",
            "Epoch 97/300\n",
            "230/230 - 1s - loss: 0.1460 - val_loss: 0.2591\n",
            "Epoch 98/300\n",
            "230/230 - 1s - loss: 0.1569 - val_loss: 0.3429\n",
            "Epoch 99/300\n",
            "230/230 - 1s - loss: 0.1366 - val_loss: 0.2989\n",
            "Epoch 100/300\n",
            "230/230 - 1s - loss: 0.1508 - val_loss: 0.2694\n",
            "Epoch 101/300\n",
            "230/230 - 1s - loss: 0.1502 - val_loss: 0.2789\n",
            "Epoch 102/300\n",
            "230/230 - 1s - loss: 0.1529 - val_loss: 0.4058\n",
            "Epoch 103/300\n",
            "230/230 - 1s - loss: 0.1480 - val_loss: 0.2392\n",
            "Epoch 104/300\n",
            "230/230 - 1s - loss: 0.1479 - val_loss: 0.3657\n",
            "Epoch 105/300\n",
            "230/230 - 1s - loss: 0.1430 - val_loss: 0.4910\n",
            "Epoch 106/300\n",
            "230/230 - 1s - loss: 0.1457 - val_loss: 0.2601\n",
            "Epoch 107/300\n",
            "230/230 - 1s - loss: 0.1379 - val_loss: 0.2984\n",
            "Epoch 108/300\n",
            "230/230 - 1s - loss: 0.2123 - val_loss: 0.4088\n",
            "Epoch 109/300\n",
            "230/230 - 1s - loss: 0.1592 - val_loss: 0.3308\n",
            "Epoch 110/300\n",
            "230/230 - 1s - loss: 0.1445 - val_loss: 0.3907\n",
            "Epoch 111/300\n",
            "230/230 - 1s - loss: 0.1865 - val_loss: 0.2866\n",
            "Epoch 112/300\n",
            "230/230 - 1s - loss: 0.1482 - val_loss: 0.3916\n",
            "Epoch 113/300\n",
            "230/230 - 1s - loss: 0.1427 - val_loss: 0.2138\n",
            "Epoch 114/300\n",
            "230/230 - 1s - loss: 0.1517 - val_loss: 0.2642\n",
            "Epoch 115/300\n",
            "230/230 - 1s - loss: 0.1351 - val_loss: 0.2600\n",
            "Epoch 116/300\n",
            "230/230 - 1s - loss: 0.1544 - val_loss: 0.2852\n",
            "Epoch 117/300\n",
            "230/230 - 1s - loss: 0.1517 - val_loss: 0.3538\n",
            "Epoch 118/300\n",
            "230/230 - 1s - loss: 0.1472 - val_loss: 0.4504\n",
            "Epoch 119/300\n",
            "230/230 - 1s - loss: 0.1316 - val_loss: 0.2518\n",
            "Epoch 120/300\n",
            "230/230 - 1s - loss: 0.1382 - val_loss: 0.3512\n",
            "Epoch 121/300\n",
            "230/230 - 1s - loss: 0.1441 - val_loss: 0.4306\n",
            "Epoch 122/300\n",
            "230/230 - 1s - loss: 0.1372 - val_loss: 0.4078\n",
            "Epoch 123/300\n",
            "230/230 - 1s - loss: 0.1369 - val_loss: 0.3531\n",
            "Epoch 124/300\n",
            "230/230 - 1s - loss: 0.1428 - val_loss: 0.3296\n",
            "Epoch 125/300\n",
            "230/230 - 1s - loss: 0.1321 - val_loss: 0.3122\n",
            "Epoch 126/300\n",
            "230/230 - 1s - loss: 0.1310 - val_loss: 0.2467\n",
            "Epoch 127/300\n",
            "230/230 - 1s - loss: 0.1354 - val_loss: 0.2624\n",
            "Epoch 128/300\n",
            "230/230 - 1s - loss: 0.1492 - val_loss: 0.6504\n",
            "Epoch 129/300\n",
            "230/230 - 1s - loss: 0.2048 - val_loss: 0.5058\n",
            "Epoch 130/300\n",
            "230/230 - 1s - loss: 0.1386 - val_loss: 0.2868\n",
            "Epoch 131/300\n",
            "230/230 - 1s - loss: 0.1498 - val_loss: 0.3125\n",
            "Epoch 132/300\n",
            "230/230 - 1s - loss: 0.1506 - val_loss: 0.3489\n",
            "Epoch 133/300\n",
            "230/230 - 1s - loss: 0.1679 - val_loss: 0.4513\n",
            "Epoch 134/300\n",
            "230/230 - 1s - loss: 0.1408 - val_loss: 0.4760\n",
            "Epoch 135/300\n",
            "230/230 - 1s - loss: 0.1379 - val_loss: 0.5405\n",
            "Epoch 136/300\n",
            "230/230 - 1s - loss: 0.1286 - val_loss: 0.2767\n",
            "Epoch 137/300\n",
            "230/230 - 1s - loss: 0.1330 - val_loss: 0.3459\n",
            "Epoch 138/300\n",
            "230/230 - 1s - loss: 0.1307 - val_loss: 0.3127\n",
            "Epoch 139/300\n",
            "230/230 - 1s - loss: 0.1240 - val_loss: 0.2824\n",
            "Epoch 140/300\n",
            "230/230 - 1s - loss: 0.1374 - val_loss: 0.3740\n",
            "Epoch 141/300\n",
            "230/230 - 1s - loss: 0.1321 - val_loss: 0.4909\n",
            "Epoch 142/300\n",
            "230/230 - 1s - loss: 0.1398 - val_loss: 0.2463\n",
            "Epoch 143/300\n",
            "230/230 - 1s - loss: 0.1571 - val_loss: 0.2937\n",
            "Epoch 144/300\n",
            "230/230 - 1s - loss: 0.1775 - val_loss: 0.4140\n",
            "Epoch 145/300\n",
            "230/230 - 1s - loss: 0.1352 - val_loss: 0.3241\n",
            "Epoch 146/300\n",
            "230/230 - 1s - loss: 0.1336 - val_loss: 0.3307\n",
            "Epoch 147/300\n",
            "230/230 - 1s - loss: 0.1268 - val_loss: 0.3291\n",
            "Epoch 148/300\n",
            "230/230 - 1s - loss: 0.1272 - val_loss: 0.3004\n",
            "Epoch 149/300\n",
            "230/230 - 1s - loss: 0.1287 - val_loss: 0.2417\n",
            "Epoch 150/300\n",
            "230/230 - 1s - loss: 0.1262 - val_loss: 0.2547\n",
            "Epoch 151/300\n",
            "230/230 - 1s - loss: 0.1284 - val_loss: 0.2938\n",
            "Epoch 152/300\n",
            "230/230 - 1s - loss: 0.1653 - val_loss: 0.5825\n",
            "Epoch 153/300\n",
            "230/230 - 1s - loss: 0.1436 - val_loss: 0.3913\n",
            "Epoch 154/300\n",
            "230/230 - 1s - loss: 0.1741 - val_loss: 0.5131\n",
            "Epoch 155/300\n",
            "230/230 - 1s - loss: 0.1315 - val_loss: 0.3104\n",
            "Epoch 156/300\n",
            "230/230 - 1s - loss: 0.1268 - val_loss: 0.2640\n",
            "Epoch 157/300\n",
            "230/230 - 1s - loss: 0.1290 - val_loss: 0.3839\n",
            "Epoch 158/300\n",
            "230/230 - 1s - loss: 0.1214 - val_loss: 0.4103\n",
            "Epoch 159/300\n",
            "230/230 - 1s - loss: 0.1218 - val_loss: 0.2458\n",
            "Epoch 160/300\n",
            "230/230 - 1s - loss: 0.1228 - val_loss: 0.2775\n",
            "Epoch 161/300\n",
            "230/230 - 1s - loss: 0.1236 - val_loss: 0.3045\n",
            "Epoch 162/300\n",
            "230/230 - 1s - loss: 0.1236 - val_loss: 0.3431\n",
            "Epoch 163/300\n",
            "230/230 - 1s - loss: 0.1238 - val_loss: 0.3472\n",
            "Epoch 164/300\n",
            "230/230 - 1s - loss: 0.1279 - val_loss: 0.3395\n",
            "Epoch 165/300\n",
            "230/230 - 1s - loss: 0.1142 - val_loss: 0.3892\n",
            "Epoch 166/300\n",
            "230/230 - 1s - loss: 0.1286 - val_loss: 0.3519\n",
            "Epoch 167/300\n",
            "230/230 - 1s - loss: 0.1233 - val_loss: 0.2929\n",
            "Epoch 168/300\n",
            "230/230 - 1s - loss: 0.1176 - val_loss: 0.4482\n",
            "Epoch 169/300\n",
            "230/230 - 1s - loss: 0.1332 - val_loss: 0.5873\n",
            "Epoch 170/300\n",
            "230/230 - 1s - loss: 0.1515 - val_loss: 0.3495\n",
            "Epoch 171/300\n",
            "230/230 - 1s - loss: 0.1295 - val_loss: 0.3421\n",
            "Epoch 172/300\n",
            "230/230 - 1s - loss: 0.1242 - val_loss: 0.3777\n",
            "Epoch 173/300\n",
            "230/230 - 1s - loss: 0.1387 - val_loss: 0.4270\n",
            "Epoch 174/300\n",
            "230/230 - 1s - loss: 0.1644 - val_loss: 0.9736\n",
            "Epoch 175/300\n",
            "230/230 - 1s - loss: 0.1200 - val_loss: 0.6483\n",
            "Epoch 176/300\n",
            "230/230 - 1s - loss: 0.1182 - val_loss: 0.4439\n",
            "Epoch 177/300\n",
            "230/230 - 1s - loss: 0.1137 - val_loss: 0.3368\n",
            "Epoch 178/300\n",
            "230/230 - 1s - loss: 0.1273 - val_loss: 0.5820\n",
            "Epoch 179/300\n",
            "230/230 - 1s - loss: 0.1275 - val_loss: 0.4391\n",
            "Epoch 180/300\n",
            "230/230 - 1s - loss: 0.1201 - val_loss: 0.3366\n",
            "Epoch 181/300\n",
            "230/230 - 1s - loss: 0.1174 - val_loss: 0.4190\n",
            "Epoch 182/300\n",
            "230/230 - 1s - loss: 0.1311 - val_loss: 0.3914\n",
            "Epoch 183/300\n",
            "230/230 - 1s - loss: 0.1191 - val_loss: 0.4792\n",
            "Epoch 184/300\n",
            "230/230 - 1s - loss: 0.1147 - val_loss: 0.4929\n",
            "Epoch 185/300\n",
            "230/230 - 1s - loss: 0.1222 - val_loss: 0.4954\n",
            "Epoch 186/300\n",
            "230/230 - 1s - loss: 0.1210 - val_loss: 0.3300\n",
            "Epoch 187/300\n",
            "230/230 - 1s - loss: 0.1207 - val_loss: 0.3359\n",
            "Epoch 188/300\n",
            "230/230 - 1s - loss: 0.1159 - val_loss: 0.5743\n",
            "Epoch 189/300\n",
            "230/230 - 1s - loss: 0.1120 - val_loss: 0.2738\n",
            "Epoch 190/300\n",
            "230/230 - 1s - loss: 0.1150 - val_loss: 0.4572\n",
            "Epoch 191/300\n",
            "230/230 - 1s - loss: 0.1199 - val_loss: 0.3850\n",
            "Epoch 192/300\n",
            "230/230 - 1s - loss: 0.1184 - val_loss: 0.4656\n",
            "Epoch 193/300\n",
            "230/230 - 1s - loss: 0.1090 - val_loss: 0.3764\n",
            "Epoch 194/300\n",
            "230/230 - 1s - loss: 0.1662 - val_loss: 0.6392\n",
            "Epoch 195/300\n",
            "230/230 - 1s - loss: 0.1351 - val_loss: 0.7821\n",
            "Epoch 196/300\n",
            "230/230 - 1s - loss: 0.1258 - val_loss: 0.4564\n",
            "Epoch 197/300\n",
            "230/230 - 1s - loss: 0.1178 - val_loss: 0.7194\n",
            "Epoch 198/300\n",
            "230/230 - 1s - loss: 0.1132 - val_loss: 0.5240\n",
            "Epoch 199/300\n",
            "230/230 - 1s - loss: 0.1091 - val_loss: 0.7032\n",
            "Epoch 200/300\n",
            "230/230 - 1s - loss: 0.1163 - val_loss: 0.4642\n",
            "Epoch 201/300\n",
            "230/230 - 1s - loss: 0.1195 - val_loss: 0.7994\n",
            "Epoch 202/300\n",
            "230/230 - 1s - loss: 0.1173 - val_loss: 0.3835\n",
            "Epoch 203/300\n",
            "230/230 - 1s - loss: 0.1275 - val_loss: 0.4288\n",
            "Epoch 204/300\n",
            "230/230 - 1s - loss: 0.1378 - val_loss: 0.3784\n",
            "Epoch 205/300\n",
            "230/230 - 1s - loss: 0.1443 - val_loss: 0.4403\n",
            "Epoch 206/300\n",
            "230/230 - 1s - loss: 0.1270 - val_loss: 0.4783\n",
            "Epoch 207/300\n",
            "230/230 - 1s - loss: 0.1161 - val_loss: 0.5943\n",
            "Epoch 208/300\n",
            "230/230 - 1s - loss: 0.1177 - val_loss: 0.5380\n",
            "Epoch 209/300\n",
            "230/230 - 1s - loss: 0.1114 - val_loss: 0.5015\n",
            "Epoch 210/300\n",
            "230/230 - 1s - loss: 0.1080 - val_loss: 0.3941\n",
            "Epoch 211/300\n",
            "230/230 - 1s - loss: 0.1094 - val_loss: 0.3812\n",
            "Epoch 212/300\n",
            "230/230 - 1s - loss: 0.1111 - val_loss: 0.5549\n",
            "Epoch 213/300\n",
            "230/230 - 1s - loss: 0.1093 - val_loss: 0.3660\n",
            "Epoch 214/300\n",
            "230/230 - 1s - loss: 0.1125 - val_loss: 0.2912\n",
            "Epoch 215/300\n",
            "230/230 - 1s - loss: 0.1089 - val_loss: 0.4012\n",
            "Epoch 216/300\n",
            "230/230 - 1s - loss: 0.1067 - val_loss: 0.7598\n",
            "Epoch 217/300\n",
            "230/230 - 1s - loss: 0.1228 - val_loss: 0.8337\n",
            "Epoch 218/300\n",
            "230/230 - 1s - loss: 0.1764 - val_loss: 0.4362\n",
            "Epoch 219/300\n",
            "230/230 - 1s - loss: 0.1382 - val_loss: 0.2916\n",
            "Epoch 220/300\n",
            "230/230 - 1s - loss: 0.1243 - val_loss: 0.2449\n",
            "Epoch 221/300\n",
            "230/230 - 1s - loss: 0.1278 - val_loss: 0.2637\n",
            "Epoch 222/300\n",
            "230/230 - 1s - loss: 0.1175 - val_loss: 0.3525\n",
            "Epoch 223/300\n",
            "230/230 - 1s - loss: 0.1220 - val_loss: 0.3950\n",
            "Epoch 224/300\n",
            "230/230 - 1s - loss: 0.1159 - val_loss: 0.3504\n",
            "Epoch 225/300\n",
            "230/230 - 1s - loss: 0.1088 - val_loss: 0.4164\n",
            "Epoch 226/300\n",
            "230/230 - 1s - loss: 0.1163 - val_loss: 0.2873\n",
            "Epoch 227/300\n",
            "230/230 - 1s - loss: 0.1155 - val_loss: 0.3995\n",
            "Epoch 228/300\n",
            "230/230 - 1s - loss: 0.1085 - val_loss: 0.4472\n",
            "Epoch 229/300\n",
            "230/230 - 1s - loss: 0.1095 - val_loss: 0.4508\n",
            "Epoch 230/300\n",
            "230/230 - 1s - loss: 0.1111 - val_loss: 0.5387\n",
            "Epoch 231/300\n",
            "230/230 - 1s - loss: 0.1088 - val_loss: 0.4985\n",
            "Epoch 232/300\n",
            "230/230 - 1s - loss: 0.1066 - val_loss: 0.5653\n",
            "Epoch 233/300\n",
            "230/230 - 1s - loss: 0.1077 - val_loss: 0.4073\n",
            "Epoch 234/300\n",
            "230/230 - 1s - loss: 0.1067 - val_loss: 0.4178\n",
            "Epoch 235/300\n",
            "230/230 - 1s - loss: 0.1162 - val_loss: 0.3629\n",
            "Epoch 236/300\n",
            "230/230 - 1s - loss: 0.1382 - val_loss: 0.4561\n",
            "Epoch 237/300\n",
            "230/230 - 1s - loss: 0.1189 - val_loss: 0.4684\n",
            "Epoch 238/300\n",
            "230/230 - 1s - loss: 0.1290 - val_loss: 0.6341\n",
            "Epoch 239/300\n",
            "230/230 - 1s - loss: 0.1262 - val_loss: 0.3252\n",
            "Epoch 240/300\n",
            "230/230 - 1s - loss: 0.1276 - val_loss: 0.3331\n",
            "Epoch 241/300\n",
            "230/230 - 1s - loss: 0.1111 - val_loss: 0.3439\n",
            "Epoch 242/300\n",
            "230/230 - 1s - loss: 0.1199 - val_loss: 0.3720\n",
            "Epoch 243/300\n",
            "230/230 - 1s - loss: 0.1154 - val_loss: 0.4369\n",
            "Epoch 244/300\n",
            "230/230 - 1s - loss: 0.1430 - val_loss: 0.2336\n",
            "Epoch 245/300\n",
            "230/230 - 1s - loss: 0.1205 - val_loss: 0.4589\n",
            "Epoch 246/300\n",
            "230/230 - 1s - loss: 0.1115 - val_loss: 0.2906\n",
            "Epoch 247/300\n",
            "230/230 - 1s - loss: 0.2158 - val_loss: 0.7855\n",
            "Epoch 248/300\n",
            "230/230 - 1s - loss: 0.1188 - val_loss: 0.6797\n",
            "Epoch 249/300\n",
            "230/230 - 1s - loss: 0.1219 - val_loss: 0.3088\n",
            "Epoch 250/300\n",
            "230/230 - 1s - loss: 0.1130 - val_loss: 0.5936\n",
            "Epoch 251/300\n",
            "230/230 - 1s - loss: 0.1111 - val_loss: 0.3935\n",
            "Epoch 252/300\n",
            "230/230 - 1s - loss: 0.1101 - val_loss: 0.7046\n",
            "Epoch 253/300\n",
            "230/230 - 1s - loss: 0.1066 - val_loss: 0.4309\n",
            "Epoch 254/300\n",
            "230/230 - 1s - loss: 0.1176 - val_loss: 0.6562\n",
            "Epoch 255/300\n",
            "230/230 - 1s - loss: 0.1061 - val_loss: 0.7493\n",
            "Epoch 256/300\n",
            "230/230 - 1s - loss: 0.1068 - val_loss: 0.8925\n",
            "Epoch 257/300\n",
            "230/230 - 1s - loss: 0.1109 - val_loss: 0.4108\n",
            "Epoch 258/300\n",
            "230/230 - 1s - loss: 0.1098 - val_loss: 0.6176\n",
            "Epoch 259/300\n",
            "230/230 - 1s - loss: 0.1086 - val_loss: 0.6382\n",
            "Epoch 260/300\n",
            "230/230 - 1s - loss: 0.1042 - val_loss: 0.5922\n",
            "Epoch 261/300\n",
            "230/230 - 1s - loss: 0.1012 - val_loss: 0.4182\n",
            "Epoch 262/300\n",
            "230/230 - 1s - loss: 0.1029 - val_loss: 0.5756\n",
            "Epoch 263/300\n",
            "230/230 - 1s - loss: 0.1062 - val_loss: 0.6711\n",
            "Epoch 264/300\n",
            "230/230 - 1s - loss: 0.1034 - val_loss: 0.4844\n",
            "Epoch 265/300\n",
            "230/230 - 1s - loss: 0.1043 - val_loss: 0.4202\n",
            "Epoch 266/300\n",
            "230/230 - 1s - loss: 0.1055 - val_loss: 0.5175\n",
            "Epoch 267/300\n",
            "230/230 - 1s - loss: 0.1014 - val_loss: 0.4853\n",
            "Epoch 268/300\n",
            "230/230 - 1s - loss: 0.1296 - val_loss: 0.8616\n",
            "Epoch 269/300\n",
            "230/230 - 1s - loss: 0.1085 - val_loss: 0.5978\n",
            "Epoch 270/300\n",
            "230/230 - 1s - loss: 0.1008 - val_loss: 0.4898\n",
            "Epoch 271/300\n",
            "230/230 - 1s - loss: 0.0994 - val_loss: 0.5352\n",
            "Epoch 272/300\n",
            "230/230 - 1s - loss: 0.1024 - val_loss: 0.3041\n",
            "Epoch 273/300\n",
            "230/230 - 1s - loss: 0.1041 - val_loss: 0.3489\n",
            "Epoch 274/300\n",
            "230/230 - 1s - loss: 0.1056 - val_loss: 0.4893\n",
            "Epoch 275/300\n",
            "230/230 - 1s - loss: 0.1023 - val_loss: 0.4812\n",
            "Epoch 276/300\n",
            "230/230 - 1s - loss: 0.1056 - val_loss: 0.3759\n",
            "Epoch 277/300\n",
            "230/230 - 1s - loss: 0.1503 - val_loss: 0.6848\n",
            "Epoch 278/300\n",
            "230/230 - 1s - loss: 0.1123 - val_loss: 0.6670\n",
            "Epoch 279/300\n",
            "230/230 - 1s - loss: 0.1109 - val_loss: 0.9203\n",
            "Epoch 280/300\n",
            "230/230 - 1s - loss: 0.1104 - val_loss: 0.5215\n",
            "Epoch 281/300\n",
            "230/230 - 1s - loss: 0.1005 - val_loss: 0.7982\n",
            "Epoch 282/300\n",
            "230/230 - 1s - loss: 0.0989 - val_loss: 0.3474\n",
            "Epoch 283/300\n",
            "230/230 - 1s - loss: 0.1033 - val_loss: 0.7011\n",
            "Epoch 284/300\n",
            "230/230 - 1s - loss: 0.1003 - val_loss: 0.5285\n",
            "Epoch 285/300\n",
            "230/230 - 1s - loss: 0.0997 - val_loss: 0.5115\n",
            "Epoch 286/300\n",
            "230/230 - 1s - loss: 0.1008 - val_loss: 0.3856\n",
            "Epoch 287/300\n",
            "230/230 - 1s - loss: 0.0982 - val_loss: 0.4296\n",
            "Epoch 288/300\n",
            "230/230 - 1s - loss: 0.1214 - val_loss: 0.3529\n",
            "Epoch 289/300\n",
            "230/230 - 1s - loss: 0.1324 - val_loss: 0.6406\n",
            "Epoch 290/300\n",
            "230/230 - 1s - loss: 0.1022 - val_loss: 0.5595\n",
            "Epoch 291/300\n",
            "230/230 - 1s - loss: 0.1010 - val_loss: 0.6283\n",
            "Epoch 292/300\n",
            "230/230 - 1s - loss: 0.1015 - val_loss: 0.4185\n",
            "Epoch 293/300\n",
            "230/230 - 1s - loss: 0.1032 - val_loss: 0.5125\n",
            "Epoch 294/300\n",
            "230/230 - 1s - loss: 0.0975 - val_loss: 0.4828\n",
            "Epoch 295/300\n",
            "230/230 - 1s - loss: 0.0994 - val_loss: 0.5941\n",
            "Epoch 296/300\n",
            "230/230 - 1s - loss: 0.1019 - val_loss: 0.4728\n",
            "Epoch 297/300\n",
            "230/230 - 1s - loss: 0.1014 - val_loss: 0.5163\n",
            "Epoch 298/300\n",
            "230/230 - 1s - loss: 0.0995 - val_loss: 0.4717\n",
            "Epoch 299/300\n",
            "230/230 - 1s - loss: 0.0967 - val_loss: 0.5783\n",
            "Epoch 300/300\n",
            "230/230 - 1s - loss: 0.0984 - val_loss: 0.3993\n"
          ],
          "name": "stdout"
        }
      ]
    },
    {
      "cell_type": "code",
      "metadata": {
        "colab": {
          "base_uri": "https://localhost:8080/",
          "height": 350
        },
        "id": "Oj4KirenHcML",
        "outputId": "d41127cf-25ce-4339-a6a4-aca6170d3623"
      },
      "source": [
        "fig = plt.figure(figsize=(5,5))\n",
        "fig.patch.set_facecolor('silver')\n",
        "plt.plot(hstry.history['loss'], label='train')\n",
        "plt.plot(hstry.history['val_loss'], label='test')\n",
        "plt.title('loss curve')\n",
        "plt.xlabel('epochs')\n",
        "plt.ylabel('loss value')\n",
        "plt.legend()\n",
        "plt.show()"
      ],
      "execution_count": null,
      "outputs": [
        {
          "output_type": "display_data",
          "data": {
            "image/png": "[encoded data removed]",
            "text/plain": [
              "<Figure size 360x360 with 1 Axes>"
            ]
          },
          "metadata": {
            "tags": []
          }
        }
      ]
    },
    {
      "cell_type": "code",
      "metadata": {
        "id": "LzqNhmgZJyVx"
      },
      "source": [
        "encoder = Model(inputs=input, outputs=b)  #b=bottle neck\n",
        "\n",
        "# encode the train data\n",
        "x_trn_dl = encoder.predict(x_train_ft)  # get the compressed features for train and test\n",
        "\n",
        "# encode the test data\n",
        "x_tes_dl= encoder.predict(x_test_ft)"
      ],
      "execution_count": null,
      "outputs": []
    },
    {
      "cell_type": "markdown",
      "metadata": {
        "id": "6p5Cpe98Q0IN"
      },
      "source": [
        "###all variables"
      ]
    },
    {
      "cell_type": "code",
      "metadata": {
        "id": "jYXTO-4U19pH"
      },
      "source": [
        "import pickle\n",
        "pickle.dump((x_train_bert, x_test_bert), open('/content/gdrive/MyDrive/cs1/bert_features2.pkl','wb'))"
      ],
      "execution_count": null,
      "outputs": []
    },
    {
      "cell_type": "code",
      "metadata": {
        "colab": {
          "base_uri": "https://localhost:8080/"
        },
        "id": "1_XA3STWWhzH",
        "outputId": "ad1956e6-1879-431d-9903-23aec9c83b71"
      },
      "source": [
        "x_train_bow_w, x_test_bow_w = data_for_model(x_train, x_test, 'bow', 'word',_)\n",
        "x_train_bow_w.shape, x_test_bow_w.shape"
      ],
      "execution_count": null,
      "outputs": [
        {
          "output_type": "execute_result",
          "data": {
            "text/plain": [
              "((7354, 7914), (1839, 7914))"
            ]
          },
          "metadata": {
            "tags": []
          },
          "execution_count": 26
        }
      ]
    },
    {
      "cell_type": "code",
      "metadata": {
        "id": "ddNF0RW-Mva7"
      },
      "source": [
        "x_train_tfidf_w, x_test_tfidf_w = data_for_model(x_train, x_test, 'word')"
      ],
      "execution_count": null,
      "outputs": []
    },
    {
      "cell_type": "code",
      "metadata": {
        "colab": {
          "base_uri": "https://localhost:8080/"
        },
        "id": "AfEJfWz6Mva8",
        "outputId": "db60a7aa-6062-4513-bb51-fec218cbd7ad"
      },
      "source": [
        "x_train_tfidf_w.shape, x_test_tfidf_w.shape"
      ],
      "execution_count": null,
      "outputs": [
        {
          "output_type": "execute_result",
          "data": {
            "text/plain": [
              "((7354, 7914), (1839, 7914))"
            ]
          },
          "metadata": {
            "tags": []
          },
          "execution_count": 15
        }
      ]
    },
    {
      "cell_type": "code",
      "metadata": {
        "id": "ZQuqkX2bi-BF"
      },
      "source": [
        "x_train_tfidf_c, x_test_tfidf_c= data_for_model(x_train, x_test, 'tfidf', 'char', _)"
      ],
      "execution_count": null,
      "outputs": []
    },
    {
      "cell_type": "code",
      "metadata": {
        "colab": {
          "base_uri": "https://localhost:8080/"
        },
        "id": "uWVVAfhFsNYF",
        "outputId": "d2590f6c-e139-4418-f35e-295929d8d137"
      },
      "source": [
        "x_train_tfidf_c.shape, x_test_tfidf_c.shape"
      ],
      "execution_count": null,
      "outputs": [
        {
          "output_type": "execute_result",
          "data": {
            "text/plain": [
              "((7354, 30150), (1839, 30150))"
            ]
          },
          "metadata": {
            "tags": []
          },
          "execution_count": 27
        }
      ]
    },
    {
      "cell_type": "code",
      "metadata": {
        "id": "DRzp-t3JMva8"
      },
      "source": [
        "x_train_ft, x_test_ft = data_for_model(x_train, x_test, 'fastext', _, 300)"
      ],
      "execution_count": null,
      "outputs": []
    },
    {
      "cell_type": "code",
      "metadata": {
        "colab": {
          "base_uri": "https://localhost:8080/"
        },
        "id": "B6pvGlXRMva8",
        "outputId": "5fd930d6-2952-4c2f-83ce-fe431ffb496f"
      },
      "source": [
        "x_train_ft.shape, x_test_ft.shape"
      ],
      "execution_count": null,
      "outputs": [
        {
          "output_type": "execute_result",
          "data": {
            "text/plain": [
              "((7354, 309), (1839, 309))"
            ]
          },
          "metadata": {
            "tags": []
          },
          "execution_count": 11
        }
      ]
    },
    {
      "cell_type": "code",
      "metadata": {
        "id": "E8yP00kRUT_w"
      },
      "source": [
        "x_train_dl, x_test_dl = data_for_model(x_train, x_test, 'dl', _, _)"
      ],
      "execution_count": null,
      "outputs": []
    },
    {
      "cell_type": "code",
      "metadata": {
        "colab": {
          "base_uri": "https://localhost:8080/"
        },
        "id": "ygPrFp92Vj0V",
        "outputId": "b54fec26-8770-4a45-884f-26c7f3d23f45"
      },
      "source": [
        "x_train_dl.shape, x_test_dl.shape"
      ],
      "execution_count": null,
      "outputs": [
        {
          "output_type": "execute_result",
          "data": {
            "text/plain": [
              "((7354, 109), (1839, 109))"
            ]
          },
          "metadata": {
            "tags": []
          },
          "execution_count": 10
        }
      ]
    },
    {
      "cell_type": "code",
      "metadata": {
        "id": "iAtqqBIF7mrr",
        "colab": {
          "base_uri": "https://localhost:8080/"
        },
        "outputId": "486e3e10-2ae5-40f1-d01e-1b11ed40cef0"
      },
      "source": [
        "x_train_bert, x_test_bert = data_for_model(x_train, x_test,'bert', _, _)\n",
        "x_train_bert.shape, x_test_bert.shape"
      ],
      "execution_count": null,
      "outputs": [
        {
          "output_type": "execute_result",
          "data": {
            "text/plain": [
              "((7354, 1536), (1839, 1536))"
            ]
          },
          "metadata": {
            "tags": []
          },
          "execution_count": 20
        }
      ]
    },
    {
      "cell_type": "markdown",
      "metadata": {
        "id": "MkUoE9s2VBk2"
      },
      "source": [
        "#set1 bow word"
      ]
    },
    {
      "cell_type": "markdown",
      "metadata": {
        "id": "Sgfn_3U8VBk3"
      },
      "source": [
        "**MULTINOMIAL NB**"
      ]
    },
    {
      "cell_type": "code",
      "metadata": {
        "colab": {
          "base_uri": "https://localhost:8080/"
        },
        "id": "uge8SCsgVBk3",
        "outputId": "a3f6e85d-ae22-4219-ab8a-aed749ff896b"
      },
      "source": [
        "%%time\n",
        "from tqdm import tqdm\n",
        "params = [{'classifier': [MultinomialNB()],\n",
        "        \"classifier__alpha\": [0.001, 0.05, 0.01, 0.1, 0.2, 0.3, 0.4, 0.5, 1, 5, 10, 20, 25, 30, 50, 70, 100]}]\n",
        "\n",
        "mb_pred, best_clf = model(x_train_bow_w, y_train, x_test_bow_w, tqdm(params), 'multi.nb')\n",
        "pickle.dump((best_clf), open('/content/gdrive/MyDrive/cs1/best_clf_mult_nb_w.pkl','wb'))"
      ],
      "execution_count": null,
      "outputs": [
        {
          "output_type": "stream",
          "text": [
            "100%|██████████| 1/1 [00:00<00:00, 228.08it/s]\n",
            "[Parallel(n_jobs=1)]: Using backend SequentialBackend with 1 concurrent workers.\n"
          ],
          "name": "stderr"
        },
        {
          "output_type": "stream",
          "text": [
            "Fitting 3 folds for each of 10 candidates, totalling 30 fits\n"
          ],
          "name": "stdout"
        },
        {
          "output_type": "stream",
          "text": [
            "[Parallel(n_jobs=1)]: Done  30 out of  30 | elapsed:   38.3s finished\n"
          ],
          "name": "stderr"
        },
        {
          "output_type": "stream",
          "text": [
            "best cv params for multi.nb model : {'classifier__alpha': 0.3, 'classifier': MultinomialNB(alpha=0.3, class_prior=None, fit_prior=True)}\n",
            "best cv score for multi.nb model  : 0.6355642588662562\n",
            "CPU times: user 46.9 s, sys: 8.94 s, total: 55.9 s\n",
            "Wall time: 39.5 s\n"
          ],
          "name": "stdout"
        }
      ]
    },
    {
      "cell_type": "code",
      "metadata": {
        "colab": {
          "base_uri": "https://localhost:8080/"
        },
        "id": "_6sMLvECVBk3",
        "outputId": "384644c0-4e3f-4378-dc4d-f7bbbc9db97f"
      },
      "source": [
        "metrics(y_test, mb_pred)"
      ],
      "execution_count": null,
      "outputs": [
        {
          "output_type": "stream",
          "text": [
            "Hamming Loss      :  0.1868769258655066\n",
            "Exact Match Ratio :  0.5725938009787929\n",
            "Recall            :  0.5976871576384662\n",
            "Precision         :  0.7263313609467456\n",
            "Fl score          :  0.6557595993322204\n"
          ],
          "name": "stdout"
        }
      ]
    },
    {
      "cell_type": "markdown",
      "metadata": {
        "id": "0c3ro5PIVBk4"
      },
      "source": [
        "**LOGISTIC REGRESSION**"
      ]
    },
    {
      "cell_type": "code",
      "metadata": {
        "colab": {
          "base_uri": "https://localhost:8080/"
        },
        "id": "wG3ZR_uMVBk4",
        "outputId": "7acbfadb-0e0e-4508-d411-237c8416e988"
      },
      "source": [
        "#0:[{0:1.61 ,1:1.0}], 1:[{0:3.82 ,1:1.0}], 2:[{0:2.3, 1:1.0}]\n",
        "from tqdm import tqdm\n",
        "params = [{'classifier': [LogisticRegression(class_weight={0:2.3 ,1:1.0} ,random_state=42)],\n",
        "        \"classifier__C\": [ 0.0001, 0.001, 0.1, 0.25, 0.50, 0.75, 1.25, 1.5, 1.75, 2.0],\n",
        "        \"classifier__class_weight\" : [{0:1.61 ,1:1.0}, {0:3.82 ,1:1.0}, {0:2.3, 1:1.0}],\n",
        "        \"classifier__penalty\": ['l2'],\n",
        "        \"classifier__solver\": ['liblinear']}]      #[\"newton-cg\", \"liblinear\", \"sag\"]}]\n",
        "\n",
        "lr_pred, best_clf = model(x_train_bow_w, y_train, x_test_bow_w, tqdm(params), 'logistic_regression')\n",
        "pickle.dump((best_clf), open('/content/gdrive/MyDrive/cs1/best_clf_log_reg_w.pkl','wb'))"
      ],
      "execution_count": null,
      "outputs": [
        {
          "output_type": "stream",
          "text": [
            "100%|██████████| 1/1 [00:00<00:00, 344.56it/s]\n",
            "[Parallel(n_jobs=1)]: Using backend SequentialBackend with 1 concurrent workers.\n"
          ],
          "name": "stderr"
        },
        {
          "output_type": "stream",
          "text": [
            "Fitting 3 folds for each of 10 candidates, totalling 30 fits\n"
          ],
          "name": "stdout"
        },
        {
          "output_type": "stream",
          "text": [
            "[Parallel(n_jobs=1)]: Done  30 out of  30 | elapsed:   46.7s finished\n"
          ],
          "name": "stderr"
        },
        {
          "output_type": "stream",
          "text": [
            "best cv params for logistic_regression model : {'classifier__solver': 'liblinear', 'classifier__penalty': 'l2', 'classifier__class_weight': {0: 2.3, 1: 1.0}, 'classifier__C': 1.5, 'classifier': LogisticRegression(C=1.5, class_weight={0: 2.3, 1: 1.0}, dual=False,\n",
            "                   fit_intercept=True, intercept_scaling=1, l1_ratio=None,\n",
            "                   max_iter=100, multi_class='auto', n_jobs=None, penalty='l2',\n",
            "                   random_state=42, solver='liblinear', tol=0.0001, verbose=0,\n",
            "                   warm_start=False)}\n",
            "best cv score for logistic_regression model  : 0.6569579368455659\n"
          ],
          "name": "stdout"
        }
      ]
    },
    {
      "cell_type": "code",
      "metadata": {
        "colab": {
          "base_uri": "https://localhost:8080/"
        },
        "id": "BXdg2JS8VBk4",
        "outputId": "849f56fa-2f1e-48e5-f89c-b7f1afcf5efb"
      },
      "source": [
        "metrics(y_test, lr_pred)"
      ],
      "execution_count": null,
      "outputs": [
        {
          "output_type": "stream",
          "text": [
            "Hamming Loss      :  0.16838861700199384\n",
            "Exact Match Ratio :  0.6144643828167482\n",
            "Recall            :  0.5976871576384662\n",
            "Precision         :  0.7856\n",
            "Fl score          :  0.6788800553059108\n"
          ],
          "name": "stdout"
        }
      ]
    },
    {
      "cell_type": "code",
      "metadata": {
        "id": "LAV5N0ApVBk5"
      },
      "source": [
        "##LABEL POWESET HAVE NO CV_RESULT_ PARAM SO CANNOT PLOT FOR CV SCORES."
      ],
      "execution_count": null,
      "outputs": []
    },
    {
      "cell_type": "markdown",
      "metadata": {
        "id": "p_38EiiEVBk5"
      },
      "source": [
        "**SVM**"
      ]
    },
    {
      "cell_type": "code",
      "metadata": {
        "colab": {
          "base_uri": "https://localhost:8080/"
        },
        "id": "oNiVE_WWVBk5",
        "outputId": "dd2c1648-b9d5-4d3f-959e-86d9c11efc26"
      },
      "source": [
        "%%time\n",
        "from tqdm import tqdm\n",
        "from sklearn.svm import LinearSVC\n",
        "params = [{'classifier': [LinearSVC(max_iter=5000, random_state=42)],         #linearsvc consider\n",
        "        \"classifier__C\": [ 0.0001, 0.001, 0.1, 0.25, 0.50, 0.75, 1, 1.25, 1.5, 1.75, 2.0],\n",
        "        \"classifier__class_weight\" : [{0:1.61 ,1:1.0}, {0:3.82 ,1:1.0}, {0:2.3, 1:1.0}]}]\n",
        "        #'classifier__kernel': ['linear']}]\n",
        "\n",
        "cvm_lin_pred, best_clf = model(x_train_bow_w, y_train, x_test_bow_w, tqdm(params), 'svc lin')\n",
        "pickle.dump((best_clf), open('/content/gdrive/MyDrive/cs1/best_clf_lin_svc_w.pkl','wb'))"
      ],
      "execution_count": null,
      "outputs": [
        {
          "output_type": "stream",
          "text": [
            "100%|██████████| 1/1 [00:00<00:00, 304.53it/s]\n",
            "[Parallel(n_jobs=1)]: Using backend SequentialBackend with 1 concurrent workers.\n"
          ],
          "name": "stderr"
        },
        {
          "output_type": "stream",
          "text": [
            "Fitting 3 folds for each of 10 candidates, totalling 30 fits\n"
          ],
          "name": "stdout"
        },
        {
          "output_type": "stream",
          "text": [
            "[Parallel(n_jobs=1)]: Done  30 out of  30 | elapsed:  1.4min finished\n"
          ],
          "name": "stderr"
        },
        {
          "output_type": "stream",
          "text": [
            "best cv params for svc lin model : {'classifier__class_weight': {0: 1.61, 1: 1.0}, 'classifier__C': 0.5, 'classifier': LinearSVC(C=0.5, class_weight={0: 1.61, 1: 1.0}, dual=True, fit_intercept=True,\n",
            "          intercept_scaling=1, loss='squared_hinge', max_iter=5000,\n",
            "          multi_class='ovr', penalty='l2', random_state=42, tol=0.0001,\n",
            "          verbose=0)}\n",
            "best cv score for svc lin model  : 0.6377196521383581\n",
            "CPU times: user 1min 34s, sys: 7.3 s, total: 1min 42s\n",
            "Wall time: 1min 31s\n"
          ],
          "name": "stdout"
        }
      ]
    },
    {
      "cell_type": "code",
      "metadata": {
        "colab": {
          "base_uri": "https://localhost:8080/"
        },
        "id": "fF6ACl8MVBk5",
        "outputId": "8288bfd5-b7dc-4bd6-ad18-45b8a1cda0b5"
      },
      "source": [
        "metrics(y_test, cvm_lin_pred)"
      ],
      "execution_count": null,
      "outputs": [
        {
          "output_type": "stream",
          "text": [
            "Hamming Loss      :  0.1845205727750589\n",
            "Exact Match Ratio :  0.5807504078303426\n",
            "Recall            :  0.6092513694461351\n",
            "Precision         :  0.7269426289034132\n",
            "Fl score          :  0.6629139072847682\n"
          ],
          "name": "stdout"
        }
      ]
    },
    {
      "cell_type": "markdown",
      "metadata": {
        "id": "To5EUUomVBk5"
      },
      "source": [
        "**DT**"
      ]
    },
    {
      "cell_type": "code",
      "metadata": {
        "colab": {
          "base_uri": "https://localhost:8080/"
        },
        "id": "_S_8fXymVBk6",
        "outputId": "79fc7146-ed1f-4ac2-937a-b7799f74c76e"
      },
      "source": [
        "%%time\n",
        "from tqdm import tqdm\n",
        "from sklearn.tree import DecisionTreeClassifier\n",
        "params = [{'classifier'                      : [DecisionTreeClassifier()],\n",
        "          'classifier__criterion'            : ['gini', 'entropy'], \n",
        "          'classifier__max_depth'            : [2, 4, 6, 8, 10, 12, 15, 18, 20, 25, 30, 50, 75, 100], \n",
        "          'classifier__min_samples_split'    : [2, 3, 4, 5, 6, 7, 8, 10]}]\n",
        "\n",
        "dt_pred, best_clf = model(x_train_bow_w, y_train, x_test_bow_w, tqdm(params), 'decision tree')\n",
        "pickle.dump((best_clf), open('/content/gdrive/MyDrive/cs1/best_clf_dt_w.pkl','wb'))"
      ],
      "execution_count": null,
      "outputs": [
        {
          "output_type": "stream",
          "text": [
            "100%|██████████| 1/1 [00:00<00:00, 236.95it/s]\n",
            "[Parallel(n_jobs=1)]: Using backend SequentialBackend with 1 concurrent workers.\n"
          ],
          "name": "stderr"
        },
        {
          "output_type": "stream",
          "text": [
            "Fitting 3 folds for each of 10 candidates, totalling 30 fits\n"
          ],
          "name": "stdout"
        },
        {
          "output_type": "stream",
          "text": [
            "[Parallel(n_jobs=1)]: Done  30 out of  30 | elapsed:  2.4min finished\n"
          ],
          "name": "stderr"
        },
        {
          "output_type": "stream",
          "text": [
            "best cv params for decision tree model : {'classifier__min_samples_split': 4, 'classifier__max_depth': 18, 'classifier__criterion': 'gini', 'classifier': DecisionTreeClassifier(ccp_alpha=0.0, class_weight=None, criterion='gini',\n",
            "                       max_depth=18, max_features=None, max_leaf_nodes=None,\n",
            "                       min_impurity_decrease=0.0, min_impurity_split=None,\n",
            "                       min_samples_leaf=1, min_samples_split=4,\n",
            "                       min_weight_fraction_leaf=0.0, presort='deprecated',\n",
            "                       random_state=None, splitter='best')}\n",
            "best cv score for decision tree model  : 0.5940296519256923\n",
            "CPU times: user 2min 50s, sys: 1.04 s, total: 2min 51s\n",
            "Wall time: 2min 50s\n"
          ],
          "name": "stdout"
        }
      ]
    },
    {
      "cell_type": "code",
      "metadata": {
        "colab": {
          "base_uri": "https://localhost:8080/"
        },
        "id": "luqRPZ5zVBk6",
        "outputId": "ee22bef4-46a6-41bc-adf9-29b6f07647be"
      },
      "source": [
        "metrics( y_test, dt_pred)"
      ],
      "execution_count": null,
      "outputs": [
        {
          "output_type": "stream",
          "text": [
            "Hamming Loss      :  0.18705818379554107\n",
            "Exact Match Ratio :  0.5747688961392061\n",
            "Recall            :  0.4564820450395618\n",
            "Precision         :  0.843644544431946\n",
            "Fl score          :  0.5924170616113745\n"
          ],
          "name": "stdout"
        }
      ]
    },
    {
      "cell_type": "markdown",
      "metadata": {
        "id": "wbTPmJ_nVBk6"
      },
      "source": [
        "**RANDOM FOREST**"
      ]
    },
    {
      "cell_type": "code",
      "metadata": {
        "colab": {
          "base_uri": "https://localhost:8080/"
        },
        "id": "OGM3MTIuVBk6",
        "outputId": "4103ab41-6665-401c-8729-98582725a469"
      },
      "source": [
        "%%time\n",
        "from tqdm import tqdm\n",
        "params = [{'classifier': [RandomForestClassifier(random_state=42)],\n",
        "        'classifier__n_estimators': [50, 80, 250, 500],\n",
        "        'classifier__max_depth'   : [5,8,10, 20, 50, 100, 250],\n",
        "        'classifier__max_features' : ['sqrt', 'log2'],\n",
        "        'classifier__max_samples' : [0.6, 0.75, 1],\n",
        "        \"classifier__class_weight\" : [{0:1.61 ,1:1.0}, {0:3.82 ,1:1.0}, {0:2.3, 1:1.0}]}]\n",
        "\n",
        "rf_pred, best_clf = model(x_train_bow_w, y_train, x_test_bow_w, tqdm(params), 'random forest')\n",
        "pickle.dump((best_clf), open('/content/gdrive/MyDrive/cs1/best_clf_rf_w.pkl','wb'))"
      ],
      "execution_count": null,
      "outputs": [
        {
          "output_type": "stream",
          "text": [
            "100%|██████████| 1/1 [00:00<00:00, 409.32it/s]"
          ],
          "name": "stderr"
        },
        {
          "output_type": "stream",
          "text": [
            "Fitting 3 folds for each of 10 candidates, totalling 30 fits\n"
          ],
          "name": "stdout"
        },
        {
          "output_type": "stream",
          "text": [
            "\n",
            "[Parallel(n_jobs=1)]: Using backend SequentialBackend with 1 concurrent workers.\n",
            "[Parallel(n_jobs=1)]: Done  30 out of  30 | elapsed:  3.5min finished\n"
          ],
          "name": "stderr"
        },
        {
          "output_type": "stream",
          "text": [
            "best cv params for random forest model : {'classifier__n_estimators': 80, 'classifier__max_samples': 0.75, 'classifier__max_features': 'sqrt', 'classifier__max_depth': 250, 'classifier__class_weight': {0: 3.82, 1: 1.0}, 'classifier': RandomForestClassifier(bootstrap=True, ccp_alpha=0.0,\n",
            "                       class_weight={0: 3.82, 1: 1.0}, criterion='gini',\n",
            "                       max_depth=250, max_features='sqrt', max_leaf_nodes=None,\n",
            "                       max_samples=0.75, min_impurity_decrease=0.0,\n",
            "                       min_impurity_split=None, min_samples_leaf=1,\n",
            "                       min_samples_split=2, min_weight_fraction_leaf=0.0,\n",
            "                       n_estimators=80, n_jobs=None, oob_score=False,\n",
            "                       random_state=42, verbose=0, warm_start=False)}\n",
            "best cv score for random forest model  : 0.6464883929932966\n",
            "CPU times: user 4min 27s, sys: 1.55 s, total: 4min 29s\n",
            "Wall time: 4min 28s\n"
          ],
          "name": "stdout"
        }
      ]
    },
    {
      "cell_type": "code",
      "metadata": {
        "colab": {
          "base_uri": "https://localhost:8080/"
        },
        "id": "UWMS-YWZVBk7",
        "outputId": "a4f6ebd7-2b42-4aca-b7ce-906fa78b4c54"
      },
      "source": [
        "metrics(y_test, rf_pred)"
      ],
      "execution_count": null,
      "outputs": [
        {
          "output_type": "stream",
          "text": [
            "Hamming Loss      :  0.16983868044226935\n",
            "Exact Match Ratio :  0.6171832517672649\n",
            "Recall            :  0.5696895922093731\n",
            "Precision         :  0.8027444253859348\n",
            "Fl score          :  0.6664293342826628\n"
          ],
          "name": "stdout"
        }
      ]
    },
    {
      "cell_type": "code",
      "metadata": {
        "colab": {
          "base_uri": "https://localhost:8080/"
        },
        "id": "9C3WaDqyVBk8",
        "outputId": "0c99defc-2660-44e3-a437-832e50079c68"
      },
      "source": [
        "from prettytable import PrettyTable\n",
        "k = PrettyTable()\n",
        "k.field_names = [\"Vectorizer\",\"Model\",\"Hamming loss\",\"EMR\",\"Recall\",\"Precision\",\"F1 score\",]\n",
        "k.add_row([\"bow word + Numerical\",'MULTINOMIAL NB',0.1869, 0.5726, 0.5977, 0.7263, 0.6557])\n",
        "k.add_row([\"bow word + Numerical\",'LOGISTIC REGRESSION',0.1684, 0.6145, 0.5977, 0.7856, 0.6789])\n",
        "k.add_row([\"bow word + Numerical\",'LINEAR SVM',0.1845, 0.5808, 0.6093, 0.7269, 0.6629])\n",
        "k.add_row([\"bow word + Numerical\",'DESICION TREE',0.1871, 0.5748, 0.4565, 0.8436, 0.5924])\n",
        "k.add_row([\"bow word + Numerical\",'RANDOM FOREST',0.1698, 0.6172, 0.5697, 0.8027, 0.6664])\n",
        "print(k)"
      ],
      "execution_count": null,
      "outputs": [
        {
          "output_type": "stream",
          "text": [
            "+----------------------+---------------------+--------------+--------+--------+-----------+----------+\n",
            "|      Vectorizer      |        Model        | Hamming loss |  EMR   | Recall | Precision | F1 score |\n",
            "+----------------------+---------------------+--------------+--------+--------+-----------+----------+\n",
            "| bow word + Numerical |    MULTINOMIAL NB   |    0.1869    | 0.5726 | 0.5977 |   0.7263  |  0.6557  |\n",
            "| bow word + Numerical | LOGISTIC REGRESSION |    0.1684    | 0.6145 | 0.5977 |   0.7856  |  0.6789  |\n",
            "| bow word + Numerical |      LINEAR SVM     |    0.1845    | 0.5808 | 0.6093 |   0.7269  |  0.6629  |\n",
            "| bow word + Numerical |    DESICION TREE    |    0.1871    | 0.5748 | 0.4565 |   0.8436  |  0.5924  |\n",
            "| bow word + Numerical |    RANDOM FOREST    |    0.1698    | 0.6172 | 0.5697 |   0.8027  |  0.6664  |\n",
            "+----------------------+---------------------+--------------+--------+--------+-----------+----------+\n"
          ],
          "name": "stdout"
        }
      ]
    },
    {
      "cell_type": "markdown",
      "metadata": {
        "id": "YjR5UtP9L-d8"
      },
      "source": [
        "##set1 tfidf word"
      ]
    },
    {
      "cell_type": "markdown",
      "metadata": {
        "id": "OoZjWkVKwOY4"
      },
      "source": [
        "**MULTINOMIAL NB**"
      ]
    },
    {
      "cell_type": "code",
      "metadata": {
        "colab": {
          "base_uri": "https://localhost:8080/"
        },
        "id": "mLkUa3lDwNe8",
        "outputId": "3bb973d4-a524-46dd-8def-7b30b55f9ccd"
      },
      "source": [
        "%%time\n",
        "from tqdm import tqdm\n",
        "params = [{'classifier': [MultinomialNB()],\n",
        "        \"classifier__alpha\": [0.001, 0.05, 0.01, 0.1, 0.2, 0.3, 0.4, 0.5, 1, 5, 10, 20, 25, 30, 50, 70, 100]}]\n",
        "\n",
        "mb_pred, best_clf = model(x_train_tfidf_w, y_train, x_test_tfidf_w, tqdm(params), 'multi.nb')\n",
        "pickle.dump((best_clf), open('/content/gdrive/MyDrive/cs1/best_clf_mult_nb_w.pkl','wb'))"
      ],
      "execution_count": null,
      "outputs": [
        {
          "output_type": "stream",
          "text": [
            "100%|██████████| 1/1 [00:00<00:00, 549.86it/s]\n",
            "[Parallel(n_jobs=1)]: Using backend SequentialBackend with 1 concurrent workers.\n"
          ],
          "name": "stderr"
        },
        {
          "output_type": "stream",
          "text": [
            "Fitting 3 folds for each of 10 candidates, totalling 30 fits\n"
          ],
          "name": "stdout"
        },
        {
          "output_type": "stream",
          "text": [
            "[Parallel(n_jobs=1)]: Done  30 out of  30 | elapsed:   35.0s finished\n"
          ],
          "name": "stderr"
        },
        {
          "output_type": "stream",
          "text": [
            "best cv params for multi.nb model : {'classifier__alpha': 0.01, 'classifier': MultinomialNB(alpha=0.01, class_prior=None, fit_prior=True)}\n",
            "best cv score for multi.nb model  : 0.590703536535718\n",
            "CPU times: user 43.7 s, sys: 8.23 s, total: 51.9 s\n",
            "Wall time: 36.1 s\n"
          ],
          "name": "stdout"
        }
      ]
    },
    {
      "cell_type": "code",
      "metadata": {
        "colab": {
          "base_uri": "https://localhost:8080/"
        },
        "id": "80RCxdofI6QH",
        "outputId": "e23a4b5f-4aa8-49be-e015-09e0aa04f2ed"
      },
      "source": [
        "metrics(y_test, mb_pred)"
      ],
      "execution_count": null,
      "outputs": [
        {
          "output_type": "stream",
          "text": [
            "Hamming Loss      :  0.20717781402936378\n",
            "Exact Match Ratio :  0.5388798259923872\n",
            "Recall            :  0.5331710286062081\n",
            "Precision         :  0.6996805111821086\n",
            "Fl score          :  0.6051813471502591\n"
          ],
          "name": "stdout"
        }
      ]
    },
    {
      "cell_type": "markdown",
      "metadata": {
        "id": "nemJQxn7QMz3"
      },
      "source": [
        "**LOGISTIC REGRESSION**"
      ]
    },
    {
      "cell_type": "code",
      "metadata": {
        "colab": {
          "base_uri": "https://localhost:8080/"
        },
        "id": "Pf0xgPxoI6QI",
        "outputId": "0ffdc425-d9b7-4dae-be42-18c6a7113694"
      },
      "source": [
        "from tqdm import tqdm\n",
        "params = [{'classifier': [LogisticRegression(class_weight={0:2.3 ,1:1.0} ,random_state=42)],\n",
        "        \"classifier__C\": [ 0.0001, 0.001, 0.1, 0.25, 0.50, 0.75, 1.25, 1.5, 1.75, 2.0],\n",
        "        \"classifier__class_weight\" : [{0:1.61 ,1:1.0}, {0:3.82 ,1:1.0}, {0:2.3, 1:1.0}],\n",
        "        \"classifier__penalty\": ['l2'],\n",
        "        \"classifier__solver\": ['liblinear']}]     \n",
        "\n",
        "lr_pred, best_clf = model(x_train_tfidf_w, y_train, x_test_tfidf_w, tqdm(params), 'logistic_regression')\n",
        "pickle.dump((best_clf), open('/content/gdrive/MyDrive/cs1/best_clf_log_reg_w.pkl','wb'))"
      ],
      "execution_count": null,
      "outputs": [
        {
          "output_type": "stream",
          "text": [
            "100%|██████████| 1/1 [00:00<00:00, 331.91it/s]\n",
            "[Parallel(n_jobs=1)]: Using backend SequentialBackend with 1 concurrent workers.\n"
          ],
          "name": "stderr"
        },
        {
          "output_type": "stream",
          "text": [
            "Fitting 3 folds for each of 10 candidates, totalling 30 fits\n"
          ],
          "name": "stdout"
        },
        {
          "output_type": "stream",
          "text": [
            "[Parallel(n_jobs=1)]: Done  30 out of  30 | elapsed:   40.2s finished\n"
          ],
          "name": "stderr"
        },
        {
          "output_type": "stream",
          "text": [
            "best cv params for logistic_regression model : {'classifier__solver': 'liblinear', 'classifier__penalty': 'l2', 'classifier__class_weight': {0: 1.61, 1: 1.0}, 'classifier__C': 2.0, 'classifier': LogisticRegression(C=2.0, class_weight={0: 1.61, 1: 1.0}, dual=False,\n",
            "                   fit_intercept=True, intercept_scaling=1, l1_ratio=None,\n",
            "                   max_iter=100, multi_class='auto', n_jobs=None, penalty='l2',\n",
            "                   random_state=42, solver='liblinear', tol=0.0001, verbose=0,\n",
            "                   warm_start=False)}\n",
            "best cv score for logistic_regression model  : 0.645143676283222\n"
          ],
          "name": "stdout"
        }
      ]
    },
    {
      "cell_type": "code",
      "metadata": {
        "colab": {
          "base_uri": "https://localhost:8080/"
        },
        "id": "qUdAuKf1I6QI",
        "outputId": "2373e308-536b-4f2f-afea-b083fdfd03a4"
      },
      "source": [
        "metrics(y_test, lr_pred)"
      ],
      "execution_count": null,
      "outputs": [
        {
          "output_type": "stream",
          "text": [
            "Hamming Loss      :  0.17183251767264818\n",
            "Exact Match Ratio :  0.6133768352365416\n",
            "Recall            :  0.548995739500913\n",
            "Precision         :  0.8133453561767358\n",
            "Fl score          :  0.6555232558139534\n"
          ],
          "name": "stdout"
        }
      ]
    },
    {
      "cell_type": "code",
      "metadata": {
        "id": "akGqP-cXU6Du"
      },
      "source": [
        "##LABEL POWESET HAVE NO CV_RESULT_ PARAM SO CANNOT PLOT FOR CV SCORES."
      ],
      "execution_count": null,
      "outputs": []
    },
    {
      "cell_type": "markdown",
      "metadata": {
        "id": "RLdK8U_lI6QJ"
      },
      "source": [
        "**SVM**"
      ]
    },
    {
      "cell_type": "code",
      "metadata": {
        "colab": {
          "base_uri": "https://localhost:8080/"
        },
        "id": "evJRXqQSI6QJ",
        "outputId": "043008fe-593e-44eb-dd4c-2bea304d40f8"
      },
      "source": [
        "%%time\n",
        "from tqdm import tqdm\n",
        "from sklearn.svm import LinearSVC\n",
        "params = [{'classifier': [LinearSVC(random_state=42)],         #linearsvc consider\n",
        "        \"classifier__C\": [ 0.0001, 0.001, 0.1, 0.25, 0.50, 0.75, 1, 1.25, 1.5, 1.75, 2.0],\n",
        "        \"classifier__class_weight\" : [{0:1.61 ,1:1.0}, {0:3.82 ,1:1.0}, {0:2.3, 1:1.0}]}]\n",
        "        #'classifier__kernel': ['linear']}]\n",
        "\n",
        "cvm_lin_pred, best_clf = model(x_train_tfidf_w, y_train, x_test_tfidf_w, tqdm(params), 'svc lin')\n",
        "pickle.dump((best_clf), open('/content/gdrive/MyDrive/cs1/best_clf_lin_svc_w.pkl','wb'))"
      ],
      "execution_count": null,
      "outputs": [
        {
          "output_type": "stream",
          "text": [
            "100%|██████████| 1/1 [00:00<00:00, 272.69it/s]\n",
            "[Parallel(n_jobs=1)]: Using backend SequentialBackend with 1 concurrent workers.\n"
          ],
          "name": "stderr"
        },
        {
          "output_type": "stream",
          "text": [
            "Fitting 3 folds for each of 10 candidates, totalling 30 fits\n"
          ],
          "name": "stdout"
        },
        {
          "output_type": "stream",
          "text": [
            "[Parallel(n_jobs=1)]: Done  30 out of  30 | elapsed:   56.0s finished\n"
          ],
          "name": "stderr"
        },
        {
          "output_type": "stream",
          "text": [
            "best cv params for svc lin model : {'classifier__class_weight': {0: 2.3, 1: 1.0}, 'classifier__C': 0.5, 'classifier': LinearSVC(C=0.5, class_weight={0: 2.3, 1: 1.0}, dual=True, fit_intercept=True,\n",
            "          intercept_scaling=1, loss='squared_hinge', max_iter=1000,\n",
            "          multi_class='ovr', penalty='l2', random_state=42, tol=0.0001,\n",
            "          verbose=0)}\n",
            "best cv score for svc lin model  : 0.6464322595516735\n",
            "CPU times: user 1min 2s, sys: 6.74 s, total: 1min 9s\n",
            "Wall time: 58.3 s\n"
          ],
          "name": "stdout"
        }
      ]
    },
    {
      "cell_type": "code",
      "metadata": {
        "colab": {
          "base_uri": "https://localhost:8080/"
        },
        "id": "WceosuivI6QK",
        "outputId": "b2df76e0-9673-43b7-9027-bd79a5211eae"
      },
      "source": [
        "metrics(y_test, cvm_lin_pred)"
      ],
      "execution_count": null,
      "outputs": [
        {
          "output_type": "stream",
          "text": [
            "Hamming Loss      :  0.17273880732282038\n",
            "Exact Match Ratio :  0.6057640021750952\n",
            "Recall            :  0.5879488740109555\n",
            "Precision         :  0.7777777777777778\n",
            "Fl score          :  0.6696707105719237\n"
          ],
          "name": "stdout"
        }
      ]
    },
    {
      "cell_type": "markdown",
      "metadata": {
        "id": "7jr7ZdX5I6QL"
      },
      "source": [
        "**DT**"
      ]
    },
    {
      "cell_type": "code",
      "metadata": {
        "colab": {
          "base_uri": "https://localhost:8080/"
        },
        "id": "rVxwV-SWI6QL",
        "outputId": "6e63a478-4e77-4677-8e37-11c95a7006a3"
      },
      "source": [
        "%%time\n",
        "from tqdm import tqdm\n",
        "from sklearn.tree import DecisionTreeClassifier\n",
        "params = [{'classifier'                      : [DecisionTreeClassifier()],\n",
        "          'classifier__criterion'            : ['gini', 'entropy'], \n",
        "          'classifier__max_depth'            : [2, 4, 6, 8, 10, 12, 15, 18, 20, 25, 30, 50, 75, 100], \n",
        "          'classifier__min_samples_split'    : [2, 3, 4, 5, 6, 7, 8, 10]}]\n",
        "\n",
        "dt_pred, best_clf = model(x_train_tfidf_w, y_train, x_test_tfidf_w, tqdm(params), 'decision tree')\n",
        "pickle.dump((best_clf), open('/content/gdrive/MyDrive/cs1/best_clf_dt_w.pkl','wb'))"
      ],
      "execution_count": null,
      "outputs": [
        {
          "output_type": "stream",
          "text": [
            "100%|██████████| 1/1 [00:00<00:00, 267.97it/s]\n",
            "[Parallel(n_jobs=1)]: Using backend SequentialBackend with 1 concurrent workers.\n"
          ],
          "name": "stderr"
        },
        {
          "output_type": "stream",
          "text": [
            "Fitting 3 folds for each of 10 candidates, totalling 30 fits\n"
          ],
          "name": "stdout"
        },
        {
          "output_type": "stream",
          "text": [
            "[Parallel(n_jobs=1)]: Done  30 out of  30 | elapsed:  3.8min finished\n"
          ],
          "name": "stderr"
        },
        {
          "output_type": "stream",
          "text": [
            "best cv params for decision tree model : {'classifier__min_samples_split': 6, 'classifier__max_depth': 100, 'classifier__criterion': 'gini', 'classifier': DecisionTreeClassifier(ccp_alpha=0.0, class_weight=None, criterion='gini',\n",
            "                       max_depth=100, max_features=None, max_leaf_nodes=None,\n",
            "                       min_impurity_decrease=0.0, min_impurity_split=None,\n",
            "                       min_samples_leaf=1, min_samples_split=6,\n",
            "                       min_weight_fraction_leaf=0.0, presort='deprecated',\n",
            "                       random_state=None, splitter='best')}\n",
            "best cv score for decision tree model  : 0.6144726460451394\n",
            "CPU times: user 4min 28s, sys: 490 ms, total: 4min 29s\n",
            "Wall time: 4min 28s\n"
          ],
          "name": "stdout"
        }
      ]
    },
    {
      "cell_type": "code",
      "metadata": {
        "colab": {
          "base_uri": "https://localhost:8080/"
        },
        "id": "LGj21y34I6QM",
        "outputId": "035c6d69-4d3b-4ed0-a221-33e76106baff"
      },
      "source": [
        "metrics( y_test, dt_pred)"
      ],
      "execution_count": null,
      "outputs": [
        {
          "output_type": "stream",
          "text": [
            "Hamming Loss      :  0.20174007612833061\n",
            "Exact Match Ratio :  0.5568243610657966\n",
            "Recall            :  0.5849056603773585\n",
            "Precision         :  0.6903735632183908\n",
            "Fl score          :  0.6332784184514003\n"
          ],
          "name": "stdout"
        }
      ]
    },
    {
      "cell_type": "markdown",
      "metadata": {
        "id": "WhhMG129I6QM"
      },
      "source": [
        "**RANDOM FOREST**"
      ]
    },
    {
      "cell_type": "code",
      "metadata": {
        "colab": {
          "base_uri": "https://localhost:8080/"
        },
        "id": "tUOQdJoJI6QM",
        "outputId": "e37f2532-3b56-4001-a532-4875c5b954c2"
      },
      "source": [
        "%%time\n",
        "from tqdm import tqdm\n",
        "params = [{'classifier': [RandomForestClassifier(random_state=42)],\n",
        "        'classifier__n_estimators': [50, 80, 250, 500],\n",
        "        'classifier__max_depth'   : [5,8,10, 20, 50, 100, 250],\n",
        "        'classifier__max_features' : ['sqrt', 'log2'],\n",
        "        'classifier__max_samples' : [0.6, 0.75, 1],\n",
        "        \"classifier__class_weight\" : [{0:1.61 ,1:1.0}, {0:3.82 ,1:1.0}, {0:2.3, 1:1.0}]}]\n",
        "\n",
        "rf_pred, best_clf = model(x_train_tfidf_w, y_train, x_test_tfidf_w, tqdm(params), 'random forest')\n",
        "pickle.dump((best_clf), open('/content/gdrive/MyDrive/cs1/best_clf_rf_w.pkl','wb'))"
      ],
      "execution_count": null,
      "outputs": [
        {
          "output_type": "stream",
          "text": [
            "100%|██████████| 1/1 [00:00<00:00, 533.97it/s]\n",
            "[Parallel(n_jobs=1)]: Using backend SequentialBackend with 1 concurrent workers.\n"
          ],
          "name": "stderr"
        },
        {
          "output_type": "stream",
          "text": [
            "Fitting 3 folds for each of 10 candidates, totalling 30 fits\n"
          ],
          "name": "stdout"
        },
        {
          "output_type": "stream",
          "text": [
            "[Parallel(n_jobs=1)]: Done  30 out of  30 | elapsed:  1.2min finished\n"
          ],
          "name": "stderr"
        },
        {
          "output_type": "stream",
          "text": [
            "best cv params for random forest model : {'classifier__n_estimators': 50, 'classifier__max_samples': 0.75, 'classifier__max_features': 'sqrt', 'classifier__max_depth': 100, 'classifier__class_weight': {0: 3.82, 1: 1.0}, 'classifier': RandomForestClassifier(bootstrap=True, ccp_alpha=0.0,\n",
            "                       class_weight={0: 3.82, 1: 1.0}, criterion='gini',\n",
            "                       max_depth=100, max_features='sqrt', max_leaf_nodes=None,\n",
            "                       max_samples=0.75, min_impurity_decrease=0.0,\n",
            "                       min_impurity_split=None, min_samples_leaf=1,\n",
            "                       min_samples_split=2, min_weight_fraction_leaf=0.0,\n",
            "                       n_estimators=50, n_jobs=None, oob_score=False,\n",
            "                       random_state=42, verbose=0, warm_start=False)}\n",
            "best cv score for random forest model  : 0.6225852901223429\n",
            "CPU times: user 1min 43s, sys: 427 ms, total: 1min 44s\n",
            "Wall time: 1min 44s\n"
          ],
          "name": "stdout"
        }
      ]
    },
    {
      "cell_type": "code",
      "metadata": {
        "colab": {
          "base_uri": "https://localhost:8080/"
        },
        "id": "3mbAnj1HI6QN",
        "outputId": "e4af072a-38ca-46fd-b799-088f71bcbd7a"
      },
      "source": [
        "metrics(y_test, rf_pred)"
      ],
      "execution_count": null,
      "outputs": [
        {
          "output_type": "stream",
          "text": [
            "Hamming Loss      :  0.18089541417437013\n",
            "Exact Match Ratio :  0.5948885263730288\n",
            "Recall            :  0.5039561777236762\n",
            "Precision         :  0.8189910979228486\n",
            "Fl score          :  0.6239638281838733\n"
          ],
          "name": "stdout"
        }
      ]
    },
    {
      "cell_type": "code",
      "metadata": {
        "colab": {
          "base_uri": "https://localhost:8080/"
        },
        "id": "3ltpEg1_MAEl",
        "outputId": "cfc405c5-4ca2-43f2-f60b-67f24f26dc2a"
      },
      "source": [
        "from prettytable import PrettyTable\n",
        "k = PrettyTable()\n",
        "k.field_names = [\"Vectorizer\",\"Model\",\"Hamming loss\",\"EMR\",\"Recall\",\"Precision\",\"F1 score\",]\n",
        "k.add_row([\"tf-idf word + Numerical\",'MULTINOMIAL NB',0.2071, 0.5389, 0.5332, 0.6997, 0.6052])\n",
        "k.add_row([\"tf-idf word + Numerical\",'LINEAR SVM',0.1727, 0.6057, 0.5879, 0.7777, 0.6697])\n",
        "k.add_row([\"tf-idf word + Numerical\",'LOGISTIC REGRESSION',0.1718, 0.6134, 0.5490, 0.8133, 0.6555])\n",
        "k.add_row([\"tf-idf word + Numerical\",'DESICION TREE',0.2017, 0.5568, 0.5849, 0.6903, 0.6332])\n",
        "k.add_row([\"tf-idf word + Numerical\",'RANDOM FOREST',0.1809, 0.5949, 0.5040, 0.8190, 0.6240])\n",
        "print(k)"
      ],
      "execution_count": null,
      "outputs": [
        {
          "output_type": "stream",
          "text": [
            "+-------------------------+---------------------+--------------+--------+--------+-----------+----------+\n",
            "|        Vectorizer       |        Model        | Hamming loss |  EMR   | Recall | Precision | F1 score |\n",
            "+-------------------------+---------------------+--------------+--------+--------+-----------+----------+\n",
            "| tf-idf word + Numerical |    MULTINOMIAL NB   |    0.2071    | 0.5389 | 0.5332 |   0.6997  |  0.6052  |\n",
            "| tf-idf word + Numerical |      LINEAR SVM     |    0.1727    | 0.6057 | 0.5879 |   0.7777  |  0.6697  |\n",
            "| tf-idf word + Numerical | LOGISTIC REGRESSION |    0.1718    | 0.6134 | 0.549  |   0.8133  |  0.6555  |\n",
            "| tf-idf word + Numerical |    DESICION TREE    |    0.2017    | 0.5568 | 0.5849 |   0.6903  |  0.6332  |\n",
            "| tf-idf word + Numerical |    RANDOM FOREST    |    0.1809    | 0.5949 | 0.504  |   0.819   |  0.624   |\n",
            "+-------------------------+---------------------+--------------+--------+--------+-----------+----------+\n"
          ],
          "name": "stdout"
        }
      ]
    },
    {
      "cell_type": "markdown",
      "metadata": {
        "id": "q8eWNbtFXXb7"
      },
      "source": [
        "##set2 tfidf char"
      ]
    },
    {
      "cell_type": "markdown",
      "metadata": {
        "id": "lO3WcF0HB_q6"
      },
      "source": [
        "**MULTINOMIAL NB**"
      ]
    },
    {
      "cell_type": "code",
      "metadata": {
        "colab": {
          "base_uri": "https://localhost:8080/"
        },
        "id": "qgtQCLNbYqaH",
        "outputId": "3fb5c067-4fdf-4c07-eecb-7679a8194789"
      },
      "source": [
        "%%time\n",
        "from tqdm import tqdm\n",
        "params = [{'classifier': [MultinomialNB()],\n",
        "        \"classifier__alpha\": [0.001, 0.05, 0.01, 0.1, 0.2, 0.3, 0.4, 0.5, 1, 5, 10, 20, 25, 30, 50, 70, 100]}]\n",
        "\n",
        "mb_pred_c, best_clf = model(x_train_tfidf_c, y_train, x_test_tfidf_c, tqdm(params), 'muli.nb')\n",
        "pickle.dump((best_clf), open('/content/gdrive/MyDrive/cs1/best_clf_mb_c.pkl','wb'))"
      ],
      "execution_count": null,
      "outputs": [
        {
          "output_type": "stream",
          "text": [
            "100%|██████████| 1/1 [00:00<00:00, 526.20it/s]\n",
            "[Parallel(n_jobs=1)]: Using backend SequentialBackend with 1 concurrent workers.\n"
          ],
          "name": "stderr"
        },
        {
          "output_type": "stream",
          "text": [
            "Fitting 3 folds for each of 10 candidates, totalling 30 fits\n"
          ],
          "name": "stdout"
        },
        {
          "output_type": "stream",
          "text": [
            "[Parallel(n_jobs=1)]: Done  30 out of  30 | elapsed:  1.4min finished\n"
          ],
          "name": "stderr"
        },
        {
          "output_type": "stream",
          "text": [
            "best cv params for muli.nb model : {'classifier__alpha': 0.01, 'classifier': MultinomialNB(alpha=0.01, class_prior=None, fit_prior=True)}\n",
            "best cv score for muli.nb model  : 0.6267669575889293\n",
            "CPU times: user 1min 53s, sys: 12.5 s, total: 2min 6s\n",
            "Wall time: 1min 26s\n"
          ],
          "name": "stdout"
        }
      ]
    },
    {
      "cell_type": "code",
      "metadata": {
        "colab": {
          "base_uri": "https://localhost:8080/"
        },
        "id": "MGS66ZIt416N",
        "outputId": "6f1b9f71-77ea-4117-d86c-87daa0621d49"
      },
      "source": [
        "metrics(y_test, mb_pred_c)"
      ],
      "execution_count": null,
      "outputs": [
        {
          "output_type": "stream",
          "text": [
            "Hamming Loss      :  0.19195214790647092\n",
            "Exact Match Ratio :  0.5720500271886895\n",
            "Recall            :  0.5642118076688983\n",
            "Precision         :  0.7299212598425197\n",
            "Fl score          :  0.6364572605561277\n"
          ],
          "name": "stdout"
        }
      ]
    },
    {
      "cell_type": "markdown",
      "metadata": {
        "id": "_aPz-MK8-uQ6"
      },
      "source": [
        "**LOGISTIC REGRESSION**"
      ]
    },
    {
      "cell_type": "code",
      "metadata": {
        "colab": {
          "base_uri": "https://localhost:8080/"
        },
        "id": "Xdw6r-jj6jy3",
        "outputId": "3e773787-a1ae-4776-de2a-c78ce4b562cd"
      },
      "source": [
        "from tqdm import tqdm\n",
        "params = [{'classifier': [LogisticRegression(max_iter=2000 ,random_state=42)],\n",
        "        \"classifier__C\": [ 0.0001, 0.001, 0.1, 0.25, 0.50, 0.75, 1.25, 1.5, 1.75, 2.0],\n",
        "        \"classifier__class_weight\" : [{0:1.61 ,1:1.0}, {0:3.82 ,1:1.0}, {0:2.3, 1:1.0}],\n",
        "        \"classifier__penalty\": ['l2'],\n",
        "        \"classifier__solver\": ['liblinear']}]    \n",
        "\n",
        "lr_pred_c, best_clf = model(x_train_tfidf_c, y_train, x_test_tfidf_c, tqdm(params), 'logistic_regression')\n",
        "pickle.dump((best_clf), open('/content/gdrive/MyDrive/cs1/best_clf_lr_c.pkl','wb'))"
      ],
      "execution_count": null,
      "outputs": [
        {
          "output_type": "stream",
          "text": [
            "100%|██████████| 1/1 [00:00<00:00, 253.83it/s]\n",
            "[Parallel(n_jobs=1)]: Using backend SequentialBackend with 1 concurrent workers.\n"
          ],
          "name": "stderr"
        },
        {
          "output_type": "stream",
          "text": [
            "Fitting 3 folds for each of 10 candidates, totalling 30 fits\n"
          ],
          "name": "stdout"
        },
        {
          "output_type": "stream",
          "text": [
            "[Parallel(n_jobs=1)]: Done  30 out of  30 | elapsed:  2.3min finished\n"
          ],
          "name": "stderr"
        },
        {
          "output_type": "stream",
          "text": [
            "best cv params for logistic_regression model : {'classifier__solver': 'liblinear', 'classifier__penalty': 'l2', 'classifier__class_weight': {0: 2.3, 1: 1.0}, 'classifier__C': 2.0, 'classifier': LogisticRegression(C=2.0, class_weight={0: 2.3, 1: 1.0}, dual=False,\n",
            "                   fit_intercept=True, intercept_scaling=1, l1_ratio=None,\n",
            "                   max_iter=2000, multi_class='auto', n_jobs=None, penalty='l2',\n",
            "                   random_state=42, solver='liblinear', tol=0.0001, verbose=0,\n",
            "                   warm_start=False)}\n",
            "best cv score for logistic_regression model  : 0.6478430160663854\n"
          ],
          "name": "stdout"
        }
      ]
    },
    {
      "cell_type": "code",
      "metadata": {
        "colab": {
          "base_uri": "https://localhost:8080/"
        },
        "id": "bbrLRCCV5ETt",
        "outputId": "4c7f618b-5eb1-4fd0-ab87-d525f9920a91"
      },
      "source": [
        "metrics(y_test, lr_pred_c)"
      ],
      "execution_count": null,
      "outputs": [
        {
          "output_type": "stream",
          "text": [
            "Hamming Loss      :  0.16947616458220047\n",
            "Exact Match Ratio :  0.6144643828167482\n",
            "Recall            :  0.5471698113207547\n",
            "Precision         :  0.8247706422018348\n",
            "Fl score          :  0.6578851079399927\n"
          ],
          "name": "stdout"
        }
      ]
    },
    {
      "cell_type": "markdown",
      "metadata": {
        "id": "8KJi_ee6ECHc"
      },
      "source": [
        "**SVM**"
      ]
    },
    {
      "cell_type": "code",
      "metadata": {
        "colab": {
          "base_uri": "https://localhost:8080/"
        },
        "id": "LaJLh-Tv4oLk",
        "outputId": "bb069a0d-2b81-48f3-f743-5a67edf55b32"
      },
      "source": [
        "%%time\n",
        "from tqdm import tqdm\n",
        "from sklearn.svm import LinearSVC\n",
        "params = [{'classifier': [LinearSVC(max_iter=2000, random_state=42)],         #linearsvc consider\n",
        "        \"classifier__C\": [ 0.0001, 0.001, 0.1, 0.25, 0.50, 0.75, 1, 1.25, 1.5, 1.75, 2.0],\n",
        "        \"classifier__class_weight\" : [{0:1.61 ,1:1.0}, {0:3.82 ,1:1.0}, {0:2.3, 1:1.0}]}]\n",
        "        #'classifier__kernel': ['linear']}]\n",
        "\n",
        "cvm_lin_pred_c, best_clf = model(x_train_tfidf_c, y_train, x_test_tfidf_c, tqdm(params), 'svc lin')\n",
        "pickle.dump((best_clf), open('/content/gdrive/MyDrive/cs1/best_clf_lin_svc_c.pkl','wb'))"
      ],
      "execution_count": null,
      "outputs": [
        {
          "output_type": "stream",
          "text": [
            "100%|██████████| 1/1 [00:00<00:00, 133.44it/s]\n",
            "[Parallel(n_jobs=1)]: Using backend SequentialBackend with 1 concurrent workers.\n"
          ],
          "name": "stderr"
        },
        {
          "output_type": "stream",
          "text": [
            "Fitting 3 folds for each of 10 candidates, totalling 30 fits\n"
          ],
          "name": "stdout"
        },
        {
          "output_type": "stream",
          "text": [
            "[Parallel(n_jobs=1)]: Done  30 out of  30 | elapsed:  4.0min finished\n"
          ],
          "name": "stderr"
        },
        {
          "output_type": "stream",
          "text": [
            "best cv params for svc lin model : {'classifier__class_weight': {0: 2.3, 1: 1.0}, 'classifier__C': 0.5, 'classifier': LinearSVC(C=0.5, class_weight={0: 2.3, 1: 1.0}, dual=True, fit_intercept=True,\n",
            "          intercept_scaling=1, loss='squared_hinge', max_iter=2000,\n",
            "          multi_class='ovr', penalty='l2', random_state=42, tol=0.0001,\n",
            "          verbose=0)}\n",
            "best cv score for svc lin model  : 0.6521426478997411\n",
            "CPU times: user 4min 24s, sys: 8.55 s, total: 4min 32s\n",
            "Wall time: 4min 10s\n"
          ],
          "name": "stdout"
        }
      ]
    },
    {
      "cell_type": "code",
      "metadata": {
        "id": "vOKZct8rGw9h",
        "colab": {
          "base_uri": "https://localhost:8080/"
        },
        "outputId": "43d61b67-5315-4138-a87d-652b17c713fd"
      },
      "source": [
        "metrics(y_test, cvm_lin_pred_c)"
      ],
      "execution_count": null,
      "outputs": [
        {
          "output_type": "stream",
          "text": [
            "Hamming Loss      :  0.17310132318288926\n",
            "Exact Match Ratio :  0.6073953235454052\n",
            "Recall            :  0.5617772367620207\n",
            "Precision         :  0.7970639032815199\n",
            "Fl score          :  0.6590503391645841\n"
          ],
          "name": "stdout"
        }
      ]
    },
    {
      "cell_type": "markdown",
      "metadata": {
        "id": "53Zcd_1kbtg3"
      },
      "source": [
        "**DT**"
      ]
    },
    {
      "cell_type": "code",
      "metadata": {
        "colab": {
          "base_uri": "https://localhost:8080/"
        },
        "id": "NzysRFiibvq7",
        "outputId": "2b3fea92-90fb-4b20-ca3b-b93510b2c433"
      },
      "source": [
        "%%time\n",
        "from tqdm import tqdm\n",
        "from sklearn.tree import DecisionTreeClassifier\n",
        "params = [{'classifier'                      : [DecisionTreeClassifier()],\n",
        "          'classifier__criterion'            : ['gini', 'entropy'], \n",
        "          'classifier__max_depth'            : [2, 4, 6, 8, 10, 12, 15, 18, 20, 25, 30, 50, 75, 100], \n",
        "          'classifier__min_samples_split'    : [2, 3, 4, 5, 6, 7, 8, 10],\n",
        "          \"classifier__class_weight\"         : [{0:1.61 ,1:1.0}, {0:3.82 ,1:1.0}, {0:2.3, 1:1.0}]}]\n",
        "\n",
        "dt_pred_c, best_clf = model(x_train_tfidf_c, y_train, x_test_tfidf_c, tqdm(params), 'decision tree')\n",
        "pickle.dump((best_clf), open('/content/gdrive/MyDrive/cs1/best_clf_dt_c.pkl','wb'))"
      ],
      "execution_count": null,
      "outputs": [
        {
          "output_type": "stream",
          "text": [
            "100%|██████████| 1/1 [00:00<00:00, 340.78it/s]\n",
            "[Parallel(n_jobs=1)]: Using backend SequentialBackend with 1 concurrent workers.\n"
          ],
          "name": "stderr"
        },
        {
          "output_type": "stream",
          "text": [
            "Fitting 3 folds for each of 10 candidates, totalling 30 fits\n"
          ],
          "name": "stdout"
        },
        {
          "output_type": "stream",
          "text": [
            "[Parallel(n_jobs=1)]: Done  30 out of  30 | elapsed: 12.8min finished\n"
          ],
          "name": "stderr"
        },
        {
          "output_type": "stream",
          "text": [
            "best cv params for decision tree model : {'classifier__min_samples_split': 5, 'classifier__max_depth': 20, 'classifier__criterion': 'gini', 'classifier__class_weight': {0: 2.3, 1: 1.0}, 'classifier': DecisionTreeClassifier(ccp_alpha=0.0, class_weight={0: 2.3, 1: 1.0},\n",
            "                       criterion='gini', max_depth=20, max_features=None,\n",
            "                       max_leaf_nodes=None, min_impurity_decrease=0.0,\n",
            "                       min_impurity_split=None, min_samples_leaf=1,\n",
            "                       min_samples_split=5, min_weight_fraction_leaf=0.0,\n",
            "                       presort='deprecated', random_state=None,\n",
            "                       splitter='best')}\n",
            "best cv score for decision tree model  : 0.6071515920250442\n",
            "CPU times: user 14min 41s, sys: 2.23 s, total: 14min 44s\n",
            "Wall time: 14min 39s\n"
          ],
          "name": "stdout"
        }
      ]
    },
    {
      "cell_type": "code",
      "metadata": {
        "colab": {
          "base_uri": "https://localhost:8080/"
        },
        "id": "RlxM9JlYfJ-3",
        "outputId": "0fa96943-2ed6-41c8-d3ee-b78d8702738f"
      },
      "source": [
        "metrics(y_test, dt_pred_c)"
      ],
      "execution_count": null,
      "outputs": [
        {
          "output_type": "stream",
          "text": [
            "Hamming Loss      :  0.19720862787746965\n",
            "Exact Match Ratio :  0.5579119086460033\n",
            "Recall            :  0.5514303104077907\n",
            "Precision         :  0.720763723150358\n",
            "Fl score          :  0.6248275862068966\n"
          ],
          "name": "stdout"
        }
      ]
    },
    {
      "cell_type": "markdown",
      "metadata": {
        "id": "NS3ptc4EHT-6"
      },
      "source": [
        "**RANDOM FOREST**"
      ]
    },
    {
      "cell_type": "code",
      "metadata": {
        "colab": {
          "base_uri": "https://localhost:8080/"
        },
        "id": "ierBCBdDHZ7g",
        "outputId": "fb3c921d-8f62-4acf-e8ea-857b4040b3ef"
      },
      "source": [
        "%%time\n",
        "from tqdm import tqdm\n",
        "params = [{'classifier': [RandomForestClassifier()],\n",
        "        'classifier__n_estimators': [100, 250, 500, 750],\n",
        "        'classifier__max_depth'   : [5,8,10, 20, 50, 100, 250],\n",
        "        'classifier__max_features' : ['sqrt', 'log2'],\n",
        "        'classifier__max_samples' : [0.6, 0.75, 1],\n",
        "        \"classifier__class_weight\" : [{0:1.61 ,1:1.0}, {0:3.82 ,1:1.0}, {0:2.3, 1:1.0}]}]\n",
        "\n",
        "rf_pred_c, best_clf = model(x_train_tfidf_c, y_train, x_test_tfidf_c, tqdm(params), 'random forest')\n",
        "pickle.dump((best_clf), open('/content/gdrive/MyDrive/cs1/best_clf_rf_c.pkl','wb'))"
      ],
      "execution_count": null,
      "outputs": [
        {
          "output_type": "stream",
          "text": [
            "100%|██████████| 1/1 [00:00<00:00, 643.69it/s]\n",
            "[Parallel(n_jobs=1)]: Using backend SequentialBackend with 1 concurrent workers.\n"
          ],
          "name": "stderr"
        },
        {
          "output_type": "stream",
          "text": [
            "Fitting 3 folds for each of 10 candidates, totalling 30 fits\n"
          ],
          "name": "stdout"
        },
        {
          "output_type": "stream",
          "text": [
            "[Parallel(n_jobs=1)]: Done  30 out of  30 | elapsed: 12.6min finished\n"
          ],
          "name": "stderr"
        },
        {
          "output_type": "stream",
          "text": [
            "best cv params for random forest model : {'classifier__n_estimators': 750, 'classifier__max_samples': 0.6, 'classifier__max_features': 'sqrt', 'classifier__max_depth': 50, 'classifier__class_weight': {0: 3.82, 1: 1.0}, 'classifier': RandomForestClassifier(bootstrap=True, ccp_alpha=0.0,\n",
            "                       class_weight={0: 3.82, 1: 1.0}, criterion='gini',\n",
            "                       max_depth=50, max_features='sqrt', max_leaf_nodes=None,\n",
            "                       max_samples=0.6, min_impurity_decrease=0.0,\n",
            "                       min_impurity_split=None, min_samples_leaf=1,\n",
            "                       min_samples_split=2, min_weight_fraction_leaf=0.0,\n",
            "                       n_estimators=750, n_jobs=None, oob_score=False,\n",
            "                       random_state=None, verbose=0, warm_start=False)}\n",
            "best cv score for random forest model  : 0.610417275559492\n",
            "CPU times: user 22min 59s, sys: 4.93 s, total: 23min 4s\n",
            "Wall time: 22min 57s\n"
          ],
          "name": "stdout"
        }
      ]
    },
    {
      "cell_type": "code",
      "metadata": {
        "colab": {
          "base_uri": "https://localhost:8080/"
        },
        "id": "Oz75rtUBHZ7i",
        "outputId": "90361849-53b8-461f-e7ff-94448426c5f2"
      },
      "source": [
        "metrics(y_test, rf_pred_c)"
      ],
      "execution_count": null,
      "outputs": [
        {
          "output_type": "stream",
          "text": [
            "Hamming Loss      :  0.17582019213340583\n",
            "Exact Match Ratio :  0.601957585644372\n",
            "Recall            :  0.4844796104686549\n",
            "Precision         :  0.8661588683351469\n",
            "Fl score          :  0.6213895394223263\n"
          ],
          "name": "stdout"
        }
      ]
    },
    {
      "cell_type": "code",
      "metadata": {
        "colab": {
          "base_uri": "https://localhost:8080/"
        },
        "id": "VOCgDjF1Qv2r",
        "outputId": "3565a890-8ac3-4f7e-ecec-5911441fd1ae"
      },
      "source": [
        "from prettytable import PrettyTable\n",
        "k1 = PrettyTable()\n",
        "k1.field_names = [\"Vectorizer\",\"Model\",\"Hamming loss\",\"EMR\",\"Recall\",\"Precision\",\"F1 score\",]\n",
        "k1.add_row([\"tf-idf char + Numerical\",'MULTINOMIAL NB',0.1920, 0.5720, 0.5642, 0.7299, 0.6365])\n",
        "k1.add_row([\"tf-idf char + Numerical\",'LINEAR SVM',0.1731, 0.6074, 0.5618, 0.7971, 0.6591])\n",
        "k1.add_row([\"tf-idf char + Numerical\",'LOGISTIC REGRESSION',0.1695, 0.6145, 0.5472, 0.8248, 0.6579])\n",
        "k1.add_row([\"tf-idf char + Numerical\",'DESICION TREE',0.1972,  0.5579, 0.5514, 0.7208, 0.6248])\n",
        "k1.add_row([\"tf-idf char + Numerical\",'RANDOM FOREST',0.17582, 0.6020, 0.4845, 0.8662, 0.6214])\n",
        "print(k1)"
      ],
      "execution_count": null,
      "outputs": [
        {
          "output_type": "stream",
          "text": [
            "+-------------------------+---------------------+--------------+--------+--------+-----------+----------+\n",
            "|        Vectorizer       |        Model        | Hamming loss |  EMR   | Recall | Precision | F1 score |\n",
            "+-------------------------+---------------------+--------------+--------+--------+-----------+----------+\n",
            "| tf-idf char + Numerical |    MULTINOMIAL NB   |    0.192     | 0.572  | 0.5642 |   0.7299  |  0.6365  |\n",
            "| tf-idf char + Numerical |      LINEAR SVM     |    0.1731    | 0.6074 | 0.5618 |   0.7971  |  0.6591  |\n",
            "| tf-idf char + Numerical | LOGISTIC REGRESSION |    0.1695    | 0.6145 | 0.5472 |   0.8248  |  0.6579  |\n",
            "| tf-idf char + Numerical |    DESICION TREE    |    0.1972    | 0.5579 | 0.5514 |   0.7208  |  0.6248  |\n",
            "| tf-idf char + Numerical |    RANDOM FOREST    |   0.17582    | 0.602  | 0.4845 |   0.8662  |  0.6214  |\n",
            "+-------------------------+---------------------+--------------+--------+--------+-----------+----------+\n"
          ],
          "name": "stdout"
        }
      ]
    },
    {
      "cell_type": "markdown",
      "metadata": {
        "id": "4VVWFwuYMMTT"
      },
      "source": [
        "##set3 fastext"
      ]
    },
    {
      "cell_type": "markdown",
      "metadata": {
        "id": "GUU6DvgUJQgg"
      },
      "source": [
        "**LOGISTIC REGRESSION**"
      ]
    },
    {
      "cell_type": "code",
      "metadata": {
        "colab": {
          "base_uri": "https://localhost:8080/"
        },
        "id": "lLuSujUAJQgg",
        "outputId": "f0f99aaf-1827-4a66-f6be-ea1dff49aa99"
      },
      "source": [
        "from tqdm import tqdm\n",
        "params = [{'classifier': [LogisticRegression(random_state=42)],\n",
        "        \"classifier__C\": [ 0.0001, 0.001, 0.1, 0.25, 0.50, 0.75, 1.25, 1.5, 1.75, 2.0],\n",
        "        \"classifier__class_weight\" : [{0:1.61 ,1:1.0}, {0:3.82 ,1:1.0}, {0:2.3, 1:1.0}],\n",
        "        \"classifier__penalty\": ['l2'],\n",
        "        \"classifier__solver\": ['liblinear']}]     \n",
        "        \n",
        "lr_pred, best_clf = model(x_train_ft, y_train, x_test_ft, tqdm(params), 'logistic_regression')\n",
        "pickle.dump((best_clf), open('/content/gdrive/MyDrive/cs1/best_clf_log_reg_ft.pkl','wb'))"
      ],
      "execution_count": null,
      "outputs": [
        {
          "output_type": "stream",
          "text": [
            "100%|██████████| 1/1 [00:00<00:00, 548.28it/s]\n",
            "[Parallel(n_jobs=1)]: Using backend SequentialBackend with 1 concurrent workers.\n"
          ],
          "name": "stderr"
        },
        {
          "output_type": "stream",
          "text": [
            "Fitting 3 folds for each of 10 candidates, totalling 30 fits\n"
          ],
          "name": "stdout"
        },
        {
          "output_type": "stream",
          "text": [
            "[Parallel(n_jobs=1)]: Done  30 out of  30 | elapsed:  2.5min finished\n"
          ],
          "name": "stderr"
        },
        {
          "output_type": "stream",
          "text": [
            "best cv params for logistic_regression model : {'classifier__solver': 'liblinear', 'classifier__penalty': 'l2', 'classifier__class_weight': {0: 2.3, 1: 1.0}, 'classifier__C': 1.5, 'classifier': LogisticRegression(C=1.5, class_weight={0: 2.3, 1: 1.0}, dual=False,\n",
            "                   fit_intercept=True, intercept_scaling=1, l1_ratio=None,\n",
            "                   max_iter=100, multi_class='auto', n_jobs=None, penalty='l2',\n",
            "                   random_state=42, solver='liblinear', tol=0.0001, verbose=0,\n",
            "                   warm_start=False)}\n",
            "best cv score for logistic_regression model  : 0.5974573324765183\n"
          ],
          "name": "stdout"
        }
      ]
    },
    {
      "cell_type": "code",
      "metadata": {
        "colab": {
          "base_uri": "https://localhost:8080/"
        },
        "id": "DkLdNZnuJQgh",
        "outputId": "6cecfefc-061b-4986-b971-2c719e978821"
      },
      "source": [
        "metrics(y_test, lr_pred)"
      ],
      "execution_count": null,
      "outputs": [
        {
          "output_type": "stream",
          "text": [
            "Hamming Loss      :  0.2021025919883995\n",
            "Exact Match Ratio :  0.5415986949429038\n",
            "Recall            :  0.5398660986001217\n",
            "Precision         :  0.7118780096308186\n",
            "Fl score          :  0.6140533056420907\n"
          ],
          "name": "stdout"
        }
      ]
    },
    {
      "cell_type": "code",
      "metadata": {
        "id": "tVl6MuzCJQgh"
      },
      "source": [
        "##LABEL POWESET HAVE NO CV_RESULT_ PARAM SO CANNOT PLOT FOR CV SCORES."
      ],
      "execution_count": null,
      "outputs": []
    },
    {
      "cell_type": "markdown",
      "metadata": {
        "id": "oaf-bifNJQgi"
      },
      "source": [
        "**SVM**"
      ]
    },
    {
      "cell_type": "code",
      "metadata": {
        "colab": {
          "base_uri": "https://localhost:8080/"
        },
        "id": "eolZFeeRJQgi",
        "outputId": "813c02a4-0cf1-4845-f203-77b8c2b57697"
      },
      "source": [
        "%%time\n",
        "from tqdm import tqdm\n",
        "from sklearn.svm import LinearSVC\n",
        "params = [{'classifier': [SVC(random_state=42)],         #linearsvc consider\n",
        "        \"classifier__C\": [ 0.0001, 0.001, 0.1, 0.75, 1.0,  1.5, 2.0, 10, 50],\n",
        "        \"classifier__class_weight\" : [{0:1.61 ,1:1.0}, {0:3.82 ,1:1.0}, {0:2.3, 1:1.0}],\n",
        "        'classifier__kernel':['poly', 'rbf']}]\n",
        "\n",
        "cvm_lin_pred, best_clf = model(x_train_ft, y_train, x_test_ft, tqdm(params), 'svc lin')\n",
        "pickle.dump((best_clf), open('/content/gdrive/MyDrive/cs1/best_clf_lin_svc_ft.pkl','wb'))"
      ],
      "execution_count": null,
      "outputs": [
        {
          "output_type": "stream",
          "text": [
            "100%|██████████| 1/1 [00:00<00:00, 341.53it/s]\n",
            "[Parallel(n_jobs=1)]: Using backend SequentialBackend with 1 concurrent workers.\n"
          ],
          "name": "stderr"
        },
        {
          "output_type": "stream",
          "text": [
            "Fitting 3 folds for each of 10 candidates, totalling 30 fits\n"
          ],
          "name": "stdout"
        },
        {
          "output_type": "stream",
          "text": [
            "[Parallel(n_jobs=1)]: Done  30 out of  30 | elapsed: 14.6min finished\n"
          ],
          "name": "stderr"
        },
        {
          "output_type": "stream",
          "text": [
            "best cv params for svc lin model : {'classifier__kernel': 'rbf', 'classifier__class_weight': {0: 3.82, 1: 1.0}, 'classifier__C': 10, 'classifier': SVC(C=10, break_ties=False, cache_size=200, class_weight={0: 3.82, 1: 1.0},\n",
            "    coef0=0.0, decision_function_shape='ovr', degree=3, gamma='scale',\n",
            "    kernel='rbf', max_iter=-1, probability=False, random_state=42,\n",
            "    shrinking=True, tol=0.001, verbose=False)}\n",
            "best cv score for svc lin model  : 0.576710309216563\n",
            "CPU times: user 15min 40s, sys: 794 ms, total: 15min 41s\n",
            "Wall time: 15min 38s\n"
          ],
          "name": "stdout"
        }
      ]
    },
    {
      "cell_type": "code",
      "metadata": {
        "colab": {
          "base_uri": "https://localhost:8080/"
        },
        "id": "zmPj841fJQgj",
        "outputId": "13ef8749-2f48-41c9-95e2-aebadb13ec70"
      },
      "source": [
        "metrics(y_test, cvm_lin_pred)"
      ],
      "execution_count": null,
      "outputs": [
        {
          "output_type": "stream",
          "text": [
            "Hamming Loss      :  0.20826536160957043\n",
            "Exact Match Ratio :  0.5356171832517672\n",
            "Recall            :  0.5404747413268411\n",
            "Precision         :  0.6926677067082684\n",
            "Fl score          :  0.6071794871794872\n"
          ],
          "name": "stdout"
        }
      ]
    },
    {
      "cell_type": "markdown",
      "metadata": {
        "id": "E7FebRThJQgj"
      },
      "source": [
        "**DT**"
      ]
    },
    {
      "cell_type": "code",
      "metadata": {
        "colab": {
          "base_uri": "https://localhost:8080/"
        },
        "id": "AQDE4u0nJQgj",
        "outputId": "2e2630e6-1323-44ed-ed8e-5b54d4ce90b9"
      },
      "source": [
        "%%time\n",
        "from tqdm import tqdm\n",
        "from sklearn.tree import DecisionTreeClassifier\n",
        "params = [{'classifier'                      : [DecisionTreeClassifier()],\n",
        "          'classifier__criterion'            : ['gini', 'entropy'], \n",
        "          'classifier__max_depth'            : [2, 4, 6, 8, 10, 12, 15, 18, 20, 25, 30, 50, 75, 100], \n",
        "          'classifier__min_samples_split'    : [2, 3, 4, 5, 6, 7, 8, 10]}]\n",
        "\n",
        "dt_pred, best_clf = model(x_train_ft, y_train, x_test_ft, tqdm(params), 'decision tree')\n",
        "pickle.dump((best_clf), open('/content/gdrive/MyDrive/cs1/best_clf_dt_ft.pkl','wb'))"
      ],
      "execution_count": null,
      "outputs": [
        {
          "output_type": "stream",
          "text": [
            "100%|██████████| 1/1 [00:00<00:00, 233.51it/s]\n",
            "[Parallel(n_jobs=1)]: Using backend SequentialBackend with 1 concurrent workers.\n"
          ],
          "name": "stderr"
        },
        {
          "output_type": "stream",
          "text": [
            "Fitting 3 folds for each of 10 candidates, totalling 30 fits\n"
          ],
          "name": "stdout"
        },
        {
          "output_type": "stream",
          "text": [
            "[Parallel(n_jobs=1)]: Done  30 out of  30 | elapsed:  2.5min finished\n"
          ],
          "name": "stderr"
        },
        {
          "output_type": "stream",
          "text": [
            "best cv params for decision tree model : {'classifier__min_samples_split': 4, 'classifier__max_depth': 12, 'classifier__criterion': 'entropy', 'classifier': DecisionTreeClassifier(ccp_alpha=0.0, class_weight=None, criterion='entropy',\n",
            "                       max_depth=12, max_features=None, max_leaf_nodes=None,\n",
            "                       min_impurity_decrease=0.0, min_impurity_split=None,\n",
            "                       min_samples_leaf=1, min_samples_split=4,\n",
            "                       min_weight_fraction_leaf=0.0, presort='deprecated',\n",
            "                       random_state=None, splitter='best')}\n",
            "best cv score for decision tree model  : 0.41306990332108867\n",
            "CPU times: user 2min 48s, sys: 165 ms, total: 2min 48s\n",
            "Wall time: 2min 48s\n"
          ],
          "name": "stdout"
        }
      ]
    },
    {
      "cell_type": "code",
      "metadata": {
        "colab": {
          "base_uri": "https://localhost:8080/"
        },
        "id": "W9NjS6zAJQgk",
        "outputId": "7fb1e562-aef7-448c-9cb0-93a08aa720c4"
      },
      "source": [
        "metrics( y_test, dt_pred)"
      ],
      "execution_count": null,
      "outputs": [
        {
          "output_type": "stream",
          "text": [
            "Hamming Loss      :  0.33822729744426316\n",
            "Exact Match Ratio :  0.30886351277868407\n",
            "Recall            :  0.4071819841752891\n",
            "Precision         :  0.42857142857142855\n",
            "Fl score          :  0.41760299625468167\n"
          ],
          "name": "stdout"
        }
      ]
    },
    {
      "cell_type": "markdown",
      "metadata": {
        "id": "TKmub5YeJQgk"
      },
      "source": [
        "**RANDOM FOREST**"
      ]
    },
    {
      "cell_type": "code",
      "metadata": {
        "colab": {
          "base_uri": "https://localhost:8080/"
        },
        "id": "Y9_ZMIwrJQgl",
        "outputId": "7a457265-8a16-47e1-c0e4-72f63e8a537e"
      },
      "source": [
        "%%time\n",
        "from tqdm import tqdm\n",
        "params = [{'classifier': [RandomForestClassifier(random_state=42)],\n",
        "        'classifier__n_estimators': [50, 80, 250, 500],\n",
        "        'classifier__max_depth'   : [5,8,10, 20, 50, 100, 250],\n",
        "        'classifier__max_features' : ['sqrt', 'log2'],\n",
        "        'classifier__max_samples' : [0.6, 0.75, 1],\n",
        "        \"classifier__class_weight\" : [{0:1.61 ,1:1.0}, {0:3.82 ,1:1.0}, {0:2.3, 1:1.0}]}]\n",
        "\n",
        "rf_pred, best_clf = model(x_train_ft, y_train, x_test_ft, tqdm(params), 'random forest')\n",
        "pickle.dump((best_clf), open('/content/gdrive/MyDrive/cs1/best_clf_rf_ft.pkl','wb'))"
      ],
      "execution_count": null,
      "outputs": [
        {
          "output_type": "stream",
          "text": [
            "100%|██████████| 1/1 [00:00<00:00, 309.18it/s]\n",
            "[Parallel(n_jobs=1)]: Using backend SequentialBackend with 1 concurrent workers.\n"
          ],
          "name": "stderr"
        },
        {
          "output_type": "stream",
          "text": [
            "Fitting 3 folds for each of 10 candidates, totalling 30 fits\n"
          ],
          "name": "stdout"
        },
        {
          "output_type": "stream",
          "text": [
            "[Parallel(n_jobs=1)]: Done  30 out of  30 | elapsed:  1.4min finished\n"
          ],
          "name": "stderr"
        },
        {
          "output_type": "stream",
          "text": [
            "best cv params for random forest model : {'classifier__n_estimators': 250, 'classifier__max_samples': 0.75, 'classifier__max_features': 'log2', 'classifier__max_depth': 100, 'classifier__class_weight': {0: 2.3, 1: 1.0}, 'classifier': RandomForestClassifier(bootstrap=True, ccp_alpha=0.0,\n",
            "                       class_weight={0: 2.3, 1: 1.0}, criterion='gini',\n",
            "                       max_depth=100, max_features='log2', max_leaf_nodes=None,\n",
            "                       max_samples=0.75, min_impurity_decrease=0.0,\n",
            "                       min_impurity_split=None, min_samples_leaf=1,\n",
            "                       min_samples_split=2, min_weight_fraction_leaf=0.0,\n",
            "                       n_estimators=250, n_jobs=None, oob_score=False,\n",
            "                       random_state=42, verbose=0, warm_start=False)}\n",
            "best cv score for random forest model  : 0.42206657313162904\n",
            "CPU times: user 1min 47s, sys: 503 ms, total: 1min 48s\n",
            "Wall time: 1min 48s\n"
          ],
          "name": "stdout"
        }
      ]
    },
    {
      "cell_type": "code",
      "metadata": {
        "colab": {
          "base_uri": "https://localhost:8080/"
        },
        "id": "is8JrGS_JQgl",
        "outputId": "4625a96b-9fa0-4aea-cc8b-fd3b134b8fb4"
      },
      "source": [
        "metrics(y_test, rf_pred)"
      ],
      "execution_count": null,
      "outputs": [
        {
          "output_type": "stream",
          "text": [
            "Hamming Loss      :  0.24415443175638935\n",
            "Exact Match Ratio :  0.4632952691680261\n",
            "Recall            :  0.3012781497261108\n",
            "Precision         :  0.7132564841498559\n",
            "Fl score          :  0.42362002567394097\n"
          ],
          "name": "stdout"
        }
      ]
    },
    {
      "cell_type": "code",
      "metadata": {
        "colab": {
          "base_uri": "https://localhost:8080/"
        },
        "id": "L8GSOuMuJQgn",
        "outputId": "7a2159c4-40d8-4c1c-bb0a-10a3d2360761"
      },
      "source": [
        "from prettytable import PrettyTable\n",
        "k = PrettyTable()\n",
        "k.field_names = [\"Vectorizer\",\"Model\",\"Hamming loss\",\"EMR\",\"Recall\",\"Precision\",\"F1 score\",]\n",
        "k.add_row([\"fastext + Numerical\",'LOGISTIC REGRESSION',0.2021, 0.5416, 0.5399, 0.7119, 0.6140])\n",
        "k.add_row([\"fastext + Numerical\",'LINEAR SVM',0.2083, 0.5356, 0.5405, 0.6927, 0.6072])\n",
        "k.add_row([\"fastext + Numerical\",'DESICION TREE',0.3382, 0.3089, 0.4072, 0.4286, 0.4176])\n",
        "k.add_row([\"fastext + Numerical\",'RANDOM FOREST',0.2442, 0.4633, 0.3013, 0.7133, 0.4236])\n",
        "print(k) "
      ],
      "execution_count": null,
      "outputs": [
        {
          "output_type": "stream",
          "text": [
            "+---------------------+---------------------+--------------+--------+--------+-----------+----------+\n",
            "|      Vectorizer     |        Model        | Hamming loss |  EMR   | Recall | Precision | F1 score |\n",
            "+---------------------+---------------------+--------------+--------+--------+-----------+----------+\n",
            "| fastext + Numerical | LOGISTIC REGRESSION |    0.2021    | 0.5416 | 0.5399 |   0.7119  |  0.614   |\n",
            "| fastext + Numerical |      LINEAR SVM     |    0.2083    | 0.5356 | 0.5405 |   0.6927  |  0.6072  |\n",
            "| fastext + Numerical |    DESICION TREE    |    0.3382    | 0.3089 | 0.4072 |   0.4286  |  0.4176  |\n",
            "| fastext + Numerical |    RANDOM FOREST    |    0.2442    | 0.4633 | 0.3013 |   0.7133  |  0.4236  |\n",
            "+---------------------+---------------------+--------------+--------+--------+-----------+----------+\n"
          ],
          "name": "stdout"
        }
      ]
    },
    {
      "cell_type": "markdown",
      "metadata": {
        "id": "jFvHIPnxXbuZ"
      },
      "source": [
        "##set4 dl"
      ]
    },
    {
      "cell_type": "markdown",
      "metadata": {
        "id": "shq3gy80MdOU"
      },
      "source": [
        "**MULTINOMIAL NB** "
      ]
    },
    {
      "cell_type": "code",
      "metadata": {
        "id": "tdCXN4X6MdOU",
        "colab": {
          "base_uri": "https://localhost:8080/"
        },
        "outputId": "214960a8-d423-443f-c666-a2bb5c0268c3"
      },
      "source": [
        "%%time\n",
        "from tqdm import tqdm\n",
        "params = [{'classifier': [MultinomialNB()],\n",
        "        \"classifier__alpha\": [0.001, 0.05, 0.01, 0.1, 0.2, 0.3, 0.4, 0.5, 1, 5, 10, 20, 25, 30, 50, 70, 150,200,350, 500]}]\n",
        "\n",
        "mb_pred_dl, best_clf = model(x_train_dl, y_train, x_test_dl, tqdm(params), 'multi.nb')\n",
        "pickle.dump((best_clf), open('/content/gdrive/MyDrive/cs1/best_clf_mult_nb_dl.pkl','wb'))"
      ],
      "execution_count": null,
      "outputs": [
        {
          "output_type": "stream",
          "text": [
            "100%|██████████| 1/1 [00:00<00:00, 510.69it/s]\n",
            "[Parallel(n_jobs=1)]: Using backend SequentialBackend with 1 concurrent workers.\n"
          ],
          "name": "stderr"
        },
        {
          "output_type": "stream",
          "text": [
            "Fitting 3 folds for each of 10 candidates, totalling 30 fits\n"
          ],
          "name": "stdout"
        },
        {
          "output_type": "stream",
          "text": [
            "[Parallel(n_jobs=1)]: Done  30 out of  30 | elapsed:   23.9s finished\n"
          ],
          "name": "stderr"
        },
        {
          "output_type": "stream",
          "text": [
            "best cv params for multi.nb model : {'classifier__alpha': 150, 'classifier': MultinomialNB(alpha=150, class_prior=None, fit_prior=True)}\n",
            "best cv score for multi.nb model  : 0.4185085263533194\n",
            "CPU times: user 25.2 s, sys: 7.1 s, total: 32.3 s\n",
            "Wall time: 24.6 s\n"
          ],
          "name": "stdout"
        }
      ]
    },
    {
      "cell_type": "code",
      "metadata": {
        "id": "on74aLOZMdOV",
        "colab": {
          "base_uri": "https://localhost:8080/"
        },
        "outputId": "e548ea0a-1846-4676-a185-1883e65452fb"
      },
      "source": [
        "metrics(y_test, mb_pred_dl)"
      ],
      "execution_count": null,
      "outputs": [
        {
          "output_type": "stream",
          "text": [
            "Hamming Loss      :  0.38952329164400945\n",
            "Exact Match Ratio :  0.25067971723762916\n",
            "Recall            :  0.4303104077906269\n",
            "Precision         :  0.36822916666666666\n",
            "Fl score          :  0.39685658153241643\n"
          ],
          "name": "stdout"
        }
      ]
    },
    {
      "cell_type": "markdown",
      "metadata": {
        "id": "pIqZp7SXMdOV"
      },
      "source": [
        "**LOGISTIC REGRESSION**"
      ]
    },
    {
      "cell_type": "code",
      "metadata": {
        "colab": {
          "base_uri": "https://localhost:8080/"
        },
        "id": "xVftbtycMdOV",
        "outputId": "d4a761e2-c791-46e0-e5d9-e62e60fef3de"
      },
      "source": [
        "from tqdm import tqdm\n",
        "params = [{'classifier': [LogisticRegression(random_state=42)],\n",
        "        \"classifier__C\": [ 0.0001, 0.001, 0.1, 0.25, 0.50, 0.75, 1.25, 1.5, 1.75, 2.0],\n",
        "        \"classifier__class_weight\" : [{0:1.61 ,1:1.0}, {0:3.82 ,1:1.0}, {0:2.3, 1:1.0}],\n",
        "        \"classifier__penalty\": ['l2'],\n",
        "        \"classifier__solver\": ['liblinear']}]      #[\"newton-cg\", \"liblinear\", \"sag\"]}]\n",
        "\n",
        "lr_pred_dl, best_clf = model(x_train_dl, y_train, x_test_dl, tqdm(params), 'logistic_regression')\n",
        "pickle.dump((best_clf), open('/content/gdrive/MyDrive/cs1/best_clf_log_reg_dl.pkl','wb'))"
      ],
      "execution_count": null,
      "outputs": [
        {
          "output_type": "stream",
          "text": [
            "100%|██████████| 1/1 [00:00<00:00, 182.81it/s]\n",
            "[Parallel(n_jobs=1)]: Using backend SequentialBackend with 1 concurrent workers.\n"
          ],
          "name": "stderr"
        },
        {
          "output_type": "stream",
          "text": [
            "Fitting 3 folds for each of 10 candidates, totalling 30 fits\n"
          ],
          "name": "stdout"
        },
        {
          "output_type": "stream",
          "text": [
            "[Parallel(n_jobs=1)]: Done  30 out of  30 | elapsed:  1.6min finished\n"
          ],
          "name": "stderr"
        },
        {
          "output_type": "stream",
          "text": [
            "best cv params for logistic_regression model : {'classifier__solver': 'liblinear', 'classifier__penalty': 'l2', 'classifier__class_weight': {0: 3.82, 1: 1.0}, 'classifier__C': 1.75, 'classifier': LogisticRegression(C=1.75, class_weight={0: 3.82, 1: 1.0}, dual=False,\n",
            "                   fit_intercept=True, intercept_scaling=1, l1_ratio=None,\n",
            "                   max_iter=100, multi_class='auto', n_jobs=None, penalty='l2',\n",
            "                   random_state=42, solver='liblinear', tol=0.0001, verbose=0,\n",
            "                   warm_start=False)}\n",
            "best cv score for logistic_regression model  : 0.47495277638776673\n"
          ],
          "name": "stdout"
        }
      ]
    },
    {
      "cell_type": "code",
      "metadata": {
        "colab": {
          "base_uri": "https://localhost:8080/"
        },
        "id": "CCeMzCY4MdOW",
        "outputId": "e01364fa-7c3d-4391-e2e4-59e283892483"
      },
      "source": [
        "metrics(y_test, lr_pred_dl)"
      ],
      "execution_count": null,
      "outputs": [
        {
          "output_type": "stream",
          "text": [
            "Hamming Loss      :  0.268805510241073\n",
            "Exact Match Ratio :  0.4110929853181077\n",
            "Recall            :  0.4126597687157638\n",
            "Precision         :  0.5668896321070234\n",
            "Fl score          :  0.4776329693554068\n"
          ],
          "name": "stdout"
        }
      ]
    },
    {
      "cell_type": "code",
      "metadata": {
        "id": "_puhnjuNMdOW"
      },
      "source": [
        "##LABEL POWESET HAVE NO CV_RESULT_ PARAM SO CANNOT PLOT FOR CV SCORES."
      ],
      "execution_count": null,
      "outputs": []
    },
    {
      "cell_type": "markdown",
      "metadata": {
        "id": "aYSrQjScMdOW"
      },
      "source": [
        "**SVM**"
      ]
    },
    {
      "cell_type": "code",
      "metadata": {
        "colab": {
          "base_uri": "https://localhost:8080/"
        },
        "id": "Lsfv-6CcMdOW",
        "outputId": "3fcd9741-9ce4-43df-c36c-89352a48f7dc"
      },
      "source": [
        "%%time\n",
        "from tqdm import tqdm\n",
        "from sklearn.svm import LinearSVC\n",
        "params = [{'classifier': [SVC(random_state=42)],         #linearsvc consider\n",
        "        \"classifier__C\": [ 0.0001, 0.001, 0.1, 0.75, 1.0,  1.5, 2.0, 10, 50],\n",
        "        \"classifier__class_weight\" : [{0:1.61 ,1:1.0}, {0:3.82 ,1:1.0}, {0:2.3, 1:1.0}],\n",
        "        'classifier__kernel':['poly', 'rbf']}]\n",
        "\n",
        "cvm_lin_pred_dl, best_clf = model(x_train_dl, y_train, x_test_dl, tqdm(params), 'svc lin')\n",
        "pickle.dump((best_clf), open('/content/gdrive/MyDrive/cs1/best_clf_lin_svc_dl.pkl','wb'))"
      ],
      "execution_count": null,
      "outputs": [
        {
          "output_type": "stream",
          "text": [
            "100%|██████████| 1/1 [00:00<00:00, 226.16it/s]\n",
            "[Parallel(n_jobs=1)]: Using backend SequentialBackend with 1 concurrent workers.\n"
          ],
          "name": "stderr"
        },
        {
          "output_type": "stream",
          "text": [
            "Fitting 3 folds for each of 10 candidates, totalling 30 fits\n"
          ],
          "name": "stdout"
        },
        {
          "output_type": "stream",
          "text": [
            "[Parallel(n_jobs=1)]: Done  30 out of  30 | elapsed:  6.7min finished\n"
          ],
          "name": "stderr"
        },
        {
          "output_type": "stream",
          "text": [
            "best cv params for svc lin model : {'classifier__kernel': 'poly', 'classifier__class_weight': {0: 2.3, 1: 1.0}, 'classifier__C': 50, 'classifier': SVC(C=50, break_ties=False, cache_size=200, class_weight={0: 2.3, 1: 1.0},\n",
            "    coef0=0.0, decision_function_shape='ovr', degree=3, gamma='scale',\n",
            "    kernel='poly', max_iter=-1, probability=False, random_state=42,\n",
            "    shrinking=True, tol=0.001, verbose=False)}\n",
            "best cv score for svc lin model  : 0.4911480102562123\n",
            "CPU times: user 7min 38s, sys: 933 ms, total: 7min 39s\n",
            "Wall time: 7min 37s\n"
          ],
          "name": "stdout"
        }
      ]
    },
    {
      "cell_type": "code",
      "metadata": {
        "colab": {
          "base_uri": "https://localhost:8080/"
        },
        "id": "3nt5SvqrMdOX",
        "outputId": "3bd79f15-70da-487f-b449-7bc2a261662b"
      },
      "source": [
        "metrics(y_test, cvm_lin_pred_dl)"
      ],
      "execution_count": null,
      "outputs": [
        {
          "output_type": "stream",
          "text": [
            "Hamming Loss      :  0.26228022475983326\n",
            "Exact Match Ratio :  0.4279499728113105\n",
            "Recall            :  0.443700547778454\n",
            "Precision         :  0.5776545166402536\n",
            "Fl score          :  0.5018932874354561\n"
          ],
          "name": "stdout"
        }
      ]
    },
    {
      "cell_type": "markdown",
      "metadata": {
        "id": "Mmgfwx3aMdOX"
      },
      "source": [
        "**DT**"
      ]
    },
    {
      "cell_type": "code",
      "metadata": {
        "colab": {
          "base_uri": "https://localhost:8080/"
        },
        "id": "P3Bdw4ikMdOX",
        "outputId": "93066f5d-e9a1-4662-855c-9783eda4ff4b"
      },
      "source": [
        "%%time\n",
        "from tqdm import tqdm\n",
        "from sklearn.tree import DecisionTreeClassifier\n",
        "params = [{'classifier'                      : [DecisionTreeClassifier()],\n",
        "          'classifier__criterion'            : ['gini', 'entropy'], \n",
        "          'classifier__max_depth'            : [2, 4, 6, 8, 10, 12, 15, 18, 20, 25, 30, 50, 75, 100], \n",
        "          'classifier__min_samples_split'    : [2, 3, 4, 5, 6, 7, 8, 10]}]\n",
        "\n",
        "dt_pred_dl, best_clf = model(x_train_dl, y_train, x_test_dl, tqdm(params), 'decision tree')\n",
        "pickle.dump((best_clf), open('/content/gdrive/MyDrive/cs1/best_clf_dt_dl.pkl','wb'))"
      ],
      "execution_count": null,
      "outputs": [
        {
          "output_type": "stream",
          "text": [
            "100%|██████████| 1/1 [00:00<00:00, 556.64it/s]\n",
            "[Parallel(n_jobs=1)]: Using backend SequentialBackend with 1 concurrent workers.\n"
          ],
          "name": "stderr"
        },
        {
          "output_type": "stream",
          "text": [
            "Fitting 3 folds for each of 10 candidates, totalling 30 fits\n"
          ],
          "name": "stdout"
        },
        {
          "output_type": "stream",
          "text": [
            "[Parallel(n_jobs=1)]: Done  30 out of  30 | elapsed:   52.5s finished\n"
          ],
          "name": "stderr"
        },
        {
          "output_type": "stream",
          "text": [
            "best cv params for decision tree model : {'classifier__min_samples_split': 2, 'classifier__max_depth': 75, 'classifier__criterion': 'entropy', 'classifier': DecisionTreeClassifier(ccp_alpha=0.0, class_weight=None, criterion='entropy',\n",
            "                       max_depth=75, max_features=None, max_leaf_nodes=None,\n",
            "                       min_impurity_decrease=0.0, min_impurity_split=None,\n",
            "                       min_samples_leaf=1, min_samples_split=2,\n",
            "                       min_weight_fraction_leaf=0.0, presort='deprecated',\n",
            "                       random_state=None, splitter='best')}\n",
            "best cv score for decision tree model  : 0.40546508020242644\n",
            "CPU times: user 57.9 s, sys: 107 ms, total: 58 s\n",
            "Wall time: 57.9 s\n"
          ],
          "name": "stdout"
        }
      ]
    },
    {
      "cell_type": "code",
      "metadata": {
        "colab": {
          "base_uri": "https://localhost:8080/"
        },
        "id": "bTSZ1U4YMdOX",
        "outputId": "1b858f4a-1098-4b21-b98b-e35b2dc81f15"
      },
      "source": [
        "metrics( y_test, dt_pred_dl)"
      ],
      "execution_count": null,
      "outputs": [
        {
          "output_type": "stream",
          "text": [
            "Hamming Loss      :  0.35200290012688057\n",
            "Exact Match Ratio :  0.29200652528548127\n",
            "Recall            :  0.41935483870967744\n",
            "Precision         :  0.4108527131782946\n",
            "Fl score          :  0.4150602409638554\n"
          ],
          "name": "stdout"
        }
      ]
    },
    {
      "cell_type": "markdown",
      "metadata": {
        "id": "vBZCvdJGMdOY"
      },
      "source": [
        "**RANDOM FOREST**"
      ]
    },
    {
      "cell_type": "code",
      "metadata": {
        "colab": {
          "base_uri": "https://localhost:8080/"
        },
        "id": "CX5ylub4MdOY",
        "outputId": "c01caa6f-76d3-4267-e62c-45f8aa28812c"
      },
      "source": [
        "%%time\n",
        "from tqdm import tqdm\n",
        "params = [{'classifier': [RandomForestClassifier(random_state=42)],\n",
        "        'classifier__n_estimators': [50, 80, 250, 500],\n",
        "        'classifier__max_depth'   : [5,8,10, 20, 50, 100, 250],\n",
        "        'classifier__max_features' : ['sqrt', 'log2'],\n",
        "        'classifier__max_samples' : [0.6, 0.75, 1],\n",
        "        \"classifier__class_weight\" : [{0:1.61 ,1:1.0}, {0:3.82 ,1:1.0}, {0:2.3, 1:1.0}]}]\n",
        "\n",
        "rf_pred_dl, best_clf = model(x_train_dl, y_train, x_test_dl, tqdm(params), 'random forest')\n",
        "pickle.dump((best_clf), open('/content/gdrive/MyDrive/cs1/best_clf_rf_dl.pkl','wb'))"
      ],
      "execution_count": null,
      "outputs": [
        {
          "output_type": "stream",
          "text": [
            "100%|██████████| 1/1 [00:00<00:00, 334.05it/s]\n",
            "[Parallel(n_jobs=1)]: Using backend SequentialBackend with 1 concurrent workers.\n"
          ],
          "name": "stderr"
        },
        {
          "output_type": "stream",
          "text": [
            "Fitting 3 folds for each of 10 candidates, totalling 30 fits\n"
          ],
          "name": "stdout"
        },
        {
          "output_type": "stream",
          "text": [
            "[Parallel(n_jobs=1)]: Done  30 out of  30 | elapsed:  2.6min finished\n"
          ],
          "name": "stderr"
        },
        {
          "output_type": "stream",
          "text": [
            "best cv params for random forest model : {'classifier__n_estimators': 50, 'classifier__max_samples': 0.6, 'classifier__max_features': 'sqrt', 'classifier__max_depth': 20, 'classifier__class_weight': {0: 1.61, 1: 1.0}, 'classifier': RandomForestClassifier(bootstrap=True, ccp_alpha=0.0,\n",
            "                       class_weight={0: 1.61, 1: 1.0}, criterion='gini',\n",
            "                       max_depth=20, max_features='sqrt', max_leaf_nodes=None,\n",
            "                       max_samples=0.6, min_impurity_decrease=0.0,\n",
            "                       min_impurity_split=None, min_samples_leaf=1,\n",
            "                       min_samples_split=2, min_weight_fraction_leaf=0.0,\n",
            "                       n_estimators=50, n_jobs=None, oob_score=False,\n",
            "                       random_state=42, verbose=0, warm_start=False)}\n",
            "best cv score for random forest model  : 0.4285433284754316\n",
            "CPU times: user 2min 37s, sys: 790 ms, total: 2min 38s\n",
            "Wall time: 2min 37s\n"
          ],
          "name": "stdout"
        }
      ]
    },
    {
      "cell_type": "code",
      "metadata": {
        "colab": {
          "base_uri": "https://localhost:8080/"
        },
        "id": "odWRTdpfMdOY",
        "outputId": "e2074a7e-88c1-4a9e-eba5-da6f4649e7ed"
      },
      "source": [
        "metrics(y_test, rf_pred_dl)"
      ],
      "execution_count": null,
      "outputs": [
        {
          "output_type": "stream",
          "text": [
            "Hamming Loss      :  0.27460576400217507\n",
            "Exact Match Ratio :  0.4067427949972811\n",
            "Recall            :  0.3359707851491175\n",
            "Precision         :  0.5655737704918032\n",
            "Fl score          :  0.4215349369988545\n"
          ],
          "name": "stdout"
        }
      ]
    },
    {
      "cell_type": "code",
      "metadata": {
        "id": "mJNfdLIIMdOZ",
        "colab": {
          "base_uri": "https://localhost:8080/"
        },
        "outputId": "5778491b-d349-4715-c537-30303868cede"
      },
      "source": [
        "from prettytable import PrettyTable\n",
        "k4 = PrettyTable()\n",
        "k4.field_names = [\"Vectorizer\",\"Model\",\"Hamming loss\",\"EMR\",\"Recall\",\"Precision\",\"F1 score\",]\n",
        "k4.add_row([\"dl features + Numerical\",'MULTINOMIAL NB',0.3895, 0.2507, 0.4303, 0.3682, 0.3969])\n",
        "k4.add_row([\"dl features + Numerical\",'LOGISTIC REGRESSION',0.2688, 0.4111, 0.4127, 0.5669, 0.4776])\n",
        "k4.add_row([\"dl features + Numerical\",'LINEAR SVM',0.2623, 0.4279, 0.4437, 0.5777, 0.5019])\n",
        "k4.add_row([\"dl features + Numerical\",'DESICION TREE',0.3520, 0.2920, 0.4194, 0.4109, 0.4151])\n",
        "k4.add_row([\"dl features + Numerical\",'RANDOM FOREST',0.2746, 0.4067, 0.3360, 0.5656, 0.4215])\n",
        "print(k4)"
      ],
      "execution_count": null,
      "outputs": [
        {
          "output_type": "stream",
          "text": [
            "+-------------------------+---------------------+--------------+--------+--------+-----------+----------+\n",
            "|        Vectorizer       |        Model        | Hamming loss |  EMR   | Recall | Precision | F1 score |\n",
            "+-------------------------+---------------------+--------------+--------+--------+-----------+----------+\n",
            "| dl features + Numerical |    MULTINOMIAL NB   |    0.3895    | 0.2507 | 0.4303 |   0.3682  |  0.3969  |\n",
            "| dl features + Numerical | LOGISTIC REGRESSION |    0.2688    | 0.4111 | 0.4127 |   0.5669  |  0.4776  |\n",
            "| dl features + Numerical |      LINEAR SVM     |    0.2623    | 0.4279 | 0.4437 |   0.5777  |  0.5019  |\n",
            "| dl features + Numerical |    DESICION TREE    |    0.352     | 0.292  | 0.4194 |   0.4109  |  0.4151  |\n",
            "| dl features + Numerical |    RANDOM FOREST    |    0.2746    | 0.4067 | 0.336  |   0.5656  |  0.4215  |\n",
            "+-------------------------+---------------------+--------------+--------+--------+-----------+----------+\n"
          ],
          "name": "stdout"
        }
      ]
    },
    {
      "cell_type": "markdown",
      "metadata": {
        "id": "Gl2ZrObiEBvK"
      },
      "source": [
        "##set5 bert"
      ]
    },
    {
      "cell_type": "markdown",
      "metadata": {
        "id": "2TXBn6iGzl5b"
      },
      "source": [
        "###BERT THEORY"
      ]
    },
    {
      "cell_type": "markdown",
      "metadata": {
        "id": "_pev-2Aece2C"
      },
      "source": [
        "1. BERT (Bidirectional Encoder Representations from Transformers) is used to generate language model that only encoporates encoder network.\n",
        "\n",
        "2. able to learn context of words based on surroundings as it read entire sequence at once (left to right or vice versa), it is used for various tasks,ex. next sentence prediction, word/class prediction, word embeddings(transfer learning), question anserwing task etc.\n",
        "\n",
        "3. basic structure is as follow ![Capture1.JPG](data:image/jpeg;base64,/9j/4AAQSkZJRgABAQEAYABgAAD/4RDSRXhpZgAATU0AKgAAAAgABAE7AAIAAAAETmlrAIdpAAQAAAABAAAISpydAAEAAAAIAAAQwuocAAcAAAgMAAAAPgAAAAAc6gAAAAgAAAAAAAAAAAAAAAAAAAAAAAAAAAAAAAAAAAAAAAAAAAAAAAAAAAAAAAAAAAAAAAAAAAAAAAAAAAAAAAAAAAAAAAAAAAAAAAAAAAAAAAAAAAAAAAAAAAAAAAAAAAAAAAAAAAAAAAAAAAAAAAAAAAAAAAAAAAAAAAAAAAAAAAAAAAAAAAAAAAAAAAAAAAAAAAAAAAAAAAAAAAAAAAAAAAAAAAAAAAAAAAAAAAAAAAAAAAAAAAAAAAAAAAAAAAAAAAAAAAAAAAAAAAAAAAAAAAAAAAAAAAAAAAAAAAAAAAAAAAAAAAAAAAAAAAAAAAAAAAAAAAAAAAAAAAAAAAAAAAAAAAAAAAAAAAAAAAAAAAAAAAAAAAAAAAAAAAAAAAAAAAAAAAAAAAAAAAAAAAAAAAAAAAAAAAAAAAAAAAAAAAAAAAAAAAAAAAAAAAAAAAAAAAAAAAAAAAAAAAAAAAAAAAAAAAAAAAAAAAAAAAAAAAAAAAAAAAAAAAAAAAAAAAAAAAAAAAAAAAAAAAAAAAAAAAAAAAAAAAAAAAAAAAAAAAAAAAAAAAAAAAAAAAAAAAAAAAAAAAAAAAAAAAAAAAAAAAAAAAAAAAAAAAAAAAAAAAAAAAAAAAAAAAAAAAAAAAAAAAAAAAAAAAAAAAAAAAAAAAAAAAAAAAAAAAAAAAAAAAAAAAAAAAAAAAAAAAAAAAAAAAAAAAAAAAAAAAAAAAAAAAAAAAAAAAAAAAAAAAAAAAAAAAAAAAAAAAAAAAAAAAAAAAAAAAAAAAAAAAAAAAAAAAAAAAAAAAAAAAAAAAAAAAAAAAAAAAAAAAAAAAAAAAAAAAAAAAAAAAAAAAAAAAAAAAAAAAAAAAAAAAAAAAAAAAAAAAAAAAAAAAAAAAAAAAAAAAAAAAAAAAAAAAAAAAAAAAAAAAAAAAAAAAAAAAAAAAAAAAAAAAAAAAAAAAAAAAAAAAAAAAAAAAAAAAAAAAAAAAAAAAAAAAAAAAAAAAAAAAAAAAAAAAAAAAAAAAAAAAAAAAAAAAAAAAAAAAAAAAAAAAAAAAAAAAAAAAAAAAAAAAAAAAAAAAAAAAAAAAAAAAAAAAAAAAAAAAAAAAAAAAAAAAAAAAAAAAAAAAAAAAAAAAAAAAAAAAAAAAAAAAAAAAAAAAAAAAAAAAAAAAAAAAAAAAAAAAAAAAAAAAAAAAAAAAAAAAAAAAAAAAAAAAAAAAAAAAAAAAAAAAAAAAAAAAAAAAAAAAAAAAAAAAAAAAAAAAAAAAAAAAAAAAAAAAAAAAAAAAAAAAAAAAAAAAAAAAAAAAAAAAAAAAAAAAAAAAAAAAAAAAAAAAAAAAAAAAAAAAAAAAAAAAAAAAAAAAAAAAAAAAAAAAAAAAAAAAAAAAAAAAAAAAAAAAAAAAAAAAAAAAAAAAAAAAAAAAAAAAAAAAAAAAAAAAAAAAAAAAAAAAAAAAAAAAAAAAAAAAAAAAAAAAAAAAAAAAAAAAAAAAAAAAAAAAAAAAAAAAAAAAAAAAAAAAAAAAAAAAAAAAAAAAAAAAAAAAAAAAAAAAAAAAAAAAAAAAAAAAAAAAAAAAAAAAAAAAAAAAAAAAAAAAAAAAAAAAAAAAAAAAAAAAAAAAAAAAAAAAAAAAAAAAAAAAAAAAAAAAAAAAAAAAAAAAAAAAAAAAAAAAAAAAAAAAAAAAAAAAAAAAAAAAAAAAAAAAAAAAAAAAAAAAAAAAAAAAAAAAAAAAAAAAAAAAAAAAAAAAAAAAAAAAAAAAAAAAAAAAAAAAAAAAAAAAAAAAAAAAAAAAAAAAAAAAAAAAAAAAAAAAAAAAAAAAAAAAAAAAAAAAAAAAAAAAAAAAAAAAAAAAAAAAAAAAAAAAAAAAAAAAAAAAAAAAAAAAAAAAAAAAAAAAAAAAAAAAAAAAAAAAAAAAAAAAAAAAAAAAAAAAAAAAAAAAAAAAAAAAAAAAAAAAAAAAAAAAAAAAAAAAAAAAAAAAAAAAAAAAAAAAAAAAAAAAAAAAAAAAAAAAAAAAAAAAAAAAAAAAAAAAAAAAAAAAAAAAAAAAAAAAAAAAAAAAAAAAAAAAAAAAAAAAAAAAAAAAAAAAAAAAAAAAAAAAAAAAAAAAAAAAAAAAAAAAAAAAAAAAAAAAAAAAAAAAAAAAAAAAAAAAAAAAAAAAAAAAAAAAAAAAAAAAAAAAAAAAAAAAAAAAAAAAAAAAAAAAAAAAAAAAAAAAAAAAAAAAAAAAAAAAAAAAAAAAAAAAAAAAAAAAAAAAAAAAAAAAAAAAAAAAAAAAAAAAAAAAAAAAAAAAAAAAAAAAAAAAAAAAAAAAAAAAAAAAAAAAAAAAAAAAAAAAAAAAAAAAAAAAAAAAAAAAAAAAAAAAAAAAAAAAAAAAAAAAAAAAAAAAAAAAAAAAAAAAAAAAAAAAAAAAAAAAAAAAAAAAAAAAAAAAAAAAAAAAAAAAAAAAAAAAAAAAAAAAAAAAAAAAAAAAAAAAAAAAAAAAAAAAAAAAAAAAAAAAAAAAAAAAAAAAAAAAAAAAAAAAAAAAAAAAAAAAAAAAAAAAAAAAAAAAAAAAAAAAAAAAAAAAAAAAAAAAAAAAAAAAAAAAAAAAAAAAAAAAAAAAAAAAAAAAAAAAAAAAAAAAAAAAAAAAAAAAAAAAAAAAAAAAAAAAAAAAAAAAAAAAAAAAAAAAAAAAAAAAAAAAAAAAAAAAAAAAAAAAAAAAAAAAAAAAAAAAAAAAAAAAAAAAAAAAAAAAAAAAAAAAAAAAAFkAMAAgAAABQAABCYkAQAAgAAABQAABCskpEAAgAAAAM0OQAAkpIAAgAAAAM0OQAA6hwABwAACAwAAAiMAAAAABzqAAAACAAAAAAAAAAAAAAAAAAAAAAAAAAAAAAAAAAAAAAAAAAAAAAAAAAAAAAAAAAAAAAAAAAAAAAAAAAAAAAAAAAAAAAAAAAAAAAAAAAAAAAAAAAAAAAAAAAAAAAAAAAAAAAAAAAAAAAAAAAAAAAAAAAAAAAAAAAAAAAAAAAAAAAAAAAAAAAAAAAAAAAAAAAAAAAAAAAAAAAAAAAAAAAAAAAAAAAAAAAAAAAAAAAAAAAAAAAAAAAAAAAAAAAAAAAAAAAAAAAAAAAAAAAAAAAAAAAAAAAAAAAAAAAAAAAAAAAAAAAAAAAAAAAAAAAAAAAAAAAAAAAAAAAAAAAAAAAAAAAAAAAAAAAAAAAAAAAAAAAAAAAAAAAAAAAAAAAAAAAAAAAAAAAAAAAAAAAAAAAAAAAAAAAAAAAAAAAAAAAAAAAAAAAAAAAAAAAAAAAAAAAAAAAAAAAAAAAAAAAAAAAAAAAAAAAAAAAAAAAAAAAAAAAAAAAAAAAAAAAAAAAAAAAAAAAAAAAAAAAAAAAAAAAAAAAAAAAAAAAAAAAAAAAAAAAAAAAAAAAAAAAAAAAAAAAAAAAAAAAAAAAAAAAAAAAAAAAAAAAAAAAAAAAAAAAAAAAAAAAAAAAAAAAAAAAAAAAAAAAAAAAAAAAAAAAAAAAAAAAAAAAAAAAAAAAAAAAAAAAAAAAAAAAAAAAAAAAAAAAAAAAAAAAAAAAAAAAAAAAAAAAAAAAAAAAAAAAAAAAAAAAAAAAAAAAAAAAAAAAAAAAAAAAAAAAAAAAAAAAAAAAAAAAAAAAAAAAAAAAAAAAAAAAAAAAAAAAAAAAAAAAAAAAAAAAAAAAAAAAAAAAAAAAAAAAAAAAAAAAAAAAAAAAAAAAAAAAAAAAAAAAAAAAAAAAAAAAAAAAAAAAAAAAAAAAAAAAAAAAAAAAAAAAAAAAAAAAAAAAAAAAAAAAAAAAAAAAAAAAAAAAAAAAAAAAAAAAAAAAAAAAAAAAAAAAAAAAAAAAAAAAAAAAAAAAAAAAAAAAAAAAAAAAAAAAAAAAAAAAAAAAAAAAAAAAAAAAAAAAAAAAAAAAAAAAAAAAAAAAAAAAAAAAAAAAAAAAAAAAAAAAAAAAAAAAAAAAAAAAAAAAAAAAAAAAAAAAAAAAAAAAAAAAAAAAAAAAAAAAAAAAAAAAAAAAAAAAAAAAAAAAAAAAAAAAAAAAAAAAAAAAAAAAAAAAAAAAAAAAAAAAAAAAAAAAAAAAAAAAAAAAAAAAAAAAAAAAAAAAAAAAAAAAAAAAAAAAAAAAAAAAAAAAAAAAAAAAAAAAAAAAAAAAAAAAAAAAAAAAAAAAAAAAAAAAAAAAAAAAAAAAAAAAAAAAAAAAAAAAAAAAAAAAAAAAAAAAAAAAAAAAAAAAAAAAAAAAAAAAAAAAAAAAAAAAAAAAAAAAAAAAAAAAAAAAAAAAAAAAAAAAAAAAAAAAAAAAAAAAAAAAAAAAAAAAAAAAAAAAAAAAAAAAAAAAAAAAAAAAAAAAAAAAAAAAAAAAAAAAAAAAAAAAAAAAAAAAAAAAAAAAAAAAAAAAAAAAAAAAAAAAAAAAAAAAAAAAAAAAAAAAAAAAAAAAAAAAAAAAAAAAAAAAAAAAAAAAAAAAAAAAAAAAAAAAAAAAAAAAAAAAAAAAAAAAAAAAAAAAAAAAAAAAAAAAAAAAAAAAAAAAAAAAAAAAAAAAAAAAAAAAAAAAAAAAAAAAAAAAAAAAAAAAAAAAAAAAAAAAAAAAAAAAAAAAAAAAAAAAAAAAAAAAAAAAAAAAAAAAAAAAAAAAAAAAAAAAAAAAAAAAAAAAAAAAAAAAAAAAAAAAAAAAAAAAAAAAAAAAAAAAAAAAAAAAAAAAAAAAAAAAAAAAAAAAAAAAAAAAAAAAAAAAAAAAAAAAAAAAAAAAAAAAAAAAAAAAAAAAAAAAAAAAAAAAAAAAAAAAAAAAAAAAAAAAAAAAAAAAAAAAAAAAAAAAAAAAAAAAAAAAAAAAAAAAAAAAAAAAAAAAAAAAAAAAAAAAAAAAAAAAAAAAAAAAAAAAAAAAAAAAAAAAAAAAAAAAAAAAAAAAAAAAAAAAAAAAAAAAAAAAAAAAAAAAAAAAAAAAAAAAAAAAAAAAAAAAAAAAAAAAAAAAAAAAAAAAAAAAAAAAAAAAAAAAAAAAAAAAAAAAAAAAAAAAAAAAAAAAAAAAAAAAAAAAAAAAAAAAAAAAAAAAAAAAAAAAAAAAAAAAAAAAAAAAAAAAAAAAAAAAAAAAAAAAAAAAAAAAAAAAAAAAAAAAAAAAAAAAAAAAAAAAAAAAAAAAAAAAAAAAAAAAAAAAAAAAAAAAAAAAAAAAAAAAAAAAAAAAAAAAAAAAAAAAAAAAAAAAAAAAAAAAAAAAAAAAAAAAAAAAAAAAAAAAAAAAAAAAAAAAAAAAAAAAAAAAAAAAAAAAAAAAAAAAAAAAAAAAAAAAAAAAAAAAAAAAAAAAAAAAAAAAAAAAAAAAAAAAAAAAAAAAAAAAAAAAAAAAAAAAAAAAAAAAAAAAAAAAAAAAAAAAAAAAAAAAAAAAAAAAAAAAAAAAAAAAAAAAAAAAAAAAAAAAAAAAAAAAAAAAAAAAAAAAAAAAAAAAAAAAAAAAAAAAAAAAAAAAAAAAAAAAAAAAAAAAAAAAAAAAAAAAAAAAAAAAAAAAAAAAAAAAAAAAAAAAAAAAAAAAAAAAAAAAAAAAAAAAAAAAAAAAAAAAAAAAAAAAAAAAAAAAAAAAAAAAAAAAAMjAyMTowODowNiAyMzozMjo1MwAyMDIxOjA4OjA2IDIzOjMyOjUzAAAATgBpAGsAAAD/4QsWaHR0cDovL25zLmFkb2JlLmNvbS94YXAvMS4wLwA8P3hwYWNrZXQgYmVnaW49J++7vycgaWQ9J1c1TTBNcENlaGlIenJlU3pOVGN6a2M5ZCc/Pg0KPHg6eG1wbWV0YSB4bWxuczp4PSJhZG9iZTpuczptZXRhLyI+PHJkZjpSREYgeG1sbnM6cmRmPSJodHRwOi8vd3d3LnczLm9yZy8xOTk5LzAyLzIyLXJkZi1zeW50YXgtbnMjIj48cmRmOkRlc2NyaXB0aW9uIHJkZjphYm91dD0idXVpZDpmYWY1YmRkNS1iYTNkLTExZGEtYWQzMS1kMzNkNzUxODJmMWIiIHhtbG5zOmRjPSJodHRwOi8vcHVybC5vcmcvZGMvZWxlbWVudHMvMS4xLyIvPjxyZGY6RGVzY3JpcHRpb24gcmRmOmFib3V0PSJ1dWlkOmZhZjViZGQ1LWJhM2QtMTFkYS1hZDMxLWQzM2Q3NTE4MmYxYiIgeG1sbnM6eG1wPSJodHRwOi8vbnMuYWRvYmUuY29tL3hhcC8xLjAvIj48eG1wOkNyZWF0ZURhdGU+MjAyMS0wOC0wNlQyMzozMjo1My40OTM8L3htcDpDcmVhdGVEYXRlPjwvcmRmOkRlc2NyaXB0aW9uPjxyZGY6RGVzY3JpcHRpb24gcmRmOmFib3V0PSJ1dWlkOmZhZjViZGQ1LWJhM2QtMTFkYS1hZDMxLWQzM2Q3NTE4MmYxYiIgeG1sbnM6ZGM9Imh0dHA6Ly9wdXJsLm9yZy9kYy9lbGVtZW50cy8xLjEvIj48ZGM6Y3JlYXRvcj48cmRmOlNlcSB4bWxuczpyZGY9Imh0dHA6Ly93d3cudzMub3JnLzE5OTkvMDIvMjItcmRmLXN5bnRheC1ucyMiPjxyZGY6bGk+TmlrPC9yZGY6bGk+PC9yZGY6U2VxPg0KCQkJPC9kYzpjcmVhdG9yPjwvcmRmOkRlc2NyaXB0aW9uPjwvcmRmOlJERj48L3g6eG1wbWV0YT4NCiAgICAgICAgICAgICAgICAgICAgICAgICAgICAgICAgICAgICAgICAgICAgICAgICAgICAgICAgICAgICAgICAgICAgICAgICAgICAgICAgICAgICAgICAgICAgICAgICAgICAKICAgICAgICAgICAgICAgICAgICAgICAgICAgICAgICAgICAgICAgICAgICAgICAgICAgICAgICAgICAgICAgICAgICAgICAgICAgICAgICAgICAgICAgICAgICAgICAgICAgIAogICAgICAgICAgICAgICAgICAgICAgICAgICAgICAgICAgICAgICAgICAgICAgICAgICAgICAgICAgICAgICAgICAgICAgICAgICAgICAgICAgICAgICAgICAgICAgICAgICAgCiAgICAgICAgICAgICAgICAgICAgICAgICAgICAgICAgICAgICAgICAgICAgICAgICAgICAgICAgICAgICAgICAgICAgICAgICAgICAgICAgICAgICAgICAgICAgICAgICAgICAKICAgICAgICAgICAgICAgICAgICAgICAgICAgICAgICAgICAgICAgICAgICAgICAgICAgICAgICAgICAgICAgICAgICAgICAgICAgICAgICAgICAgICAgICAgICAgICAgICAgIAogICAgICAgICAgICAgICAgICAgICAgICAgICAgICAgICAgICAgICAgICAgICAgICAgICAgICAgICAgICAgICAgICAgICAgICAgICAgICAgICAgICAgICAgICAgICAgICAgICAgCiAgICAgICAgICAgICAgICAgICAgICAgICAgICAgICAgICAgICAgICAgICAgICAgICAgICAgICAgICAgICAgICAgICAgICAgICAgICAgICAgICAgICAgICAgICAgICAgICAgICAKICAgICAgICAgICAgICAgICAgICAgICAgICAgICAgICAgICAgICAgICAgICAgICAgICAgICAgICAgICAgICAgICAgICAgICAgICAgICAgICAgICAgICAgICAgICAgICAgICAgIAogICAgICAgICAgICAgICAgICAgICAgICAgICAgICAgICAgICAgICAgICAgICAgICAgICAgICAgICAgICAgICAgICAgICAgICAgICAgICAgICAgICAgICAgICAgICAgICAgICAgCiAgICAgICAgICAgICAgICAgICAgICAgICAgICAgICAgICAgICAgICAgICAgICAgICAgICAgICAgICAgICAgICAgICAgICAgICAgICAgICAgICAgICAgICAgICAgICAgICAgICAKICAgICAgICAgICAgICAgICAgICAgICAgICAgICAgICAgICAgICAgICAgICAgICAgICAgICAgICAgICAgICAgICAgICAgICAgICAgICAgICAgICAgICAgICAgICAgICAgICAgIAogICAgICAgICAgICAgICAgICAgICAgICAgICAgICAgICAgICAgICAgICAgICAgICAgICAgICAgICAgICAgICAgICAgICAgICAgICAgICAgICAgICAgICAgICAgICAgICAgICAgCiAgICAgICAgICAgICAgICAgICAgICAgICAgICAgICAgICAgICAgICAgICAgICAgICAgICAgICAgICAgICAgICAgICAgICAgICAgICAgICAgICAgICAgICAgICAgICAgICAgICAKICAgICAgICAgICAgICAgICAgICAgICAgICAgICAgICAgICAgICAgICAgICAgICAgICAgICAgICAgICAgICAgICAgICAgICAgICAgICAgICAgICAgICAgICAgICAgICAgICAgIAogICAgICAgICAgICAgICAgICAgICAgICAgICAgICAgICAgICAgICAgICAgICAgICAgICAgICAgICAgICAgICAgICAgICAgICAgICAgICAgICAgICAgICAgICAgICAgICAgICAgCiAgICAgICAgICAgICAgICAgICAgICAgICAgICAgICAgICAgICAgICAgICAgICAgICAgICAgICAgICAgICAgICAgICAgICAgICAgICAgICAgICAgICAgICAgICAgICAgICAgICAKICAgICAgICAgICAgICAgICAgICAgICAgICAgICAgICAgICAgICAgICAgICAgICAgICAgICAgICAgICAgICAgICAgICAgICAgICAgICAgICAgICAgICAgICAgICAgICAgICAgIAogICAgICAgICAgICAgICAgICAgICAgICAgICAgICAgICAgICAgICAgICAgICAgICAgICAgICAgICAgICAgICAgICAgICAgICAgICAgICAgICAgICAgICAgICAgICAgICAgICAgCiAgICAgICAgICAgICAgICAgICAgICAgICAgICAgICAgICAgICAgICAgICAgICAgICAgICAgICAgICAgICAgICAgICAgICAgICAgICAgICAgICAgICAgICAgICAgICAgICAgICAKICAgICAgICAgICAgICAgICAgICAgICAgICAgICAgICAgICAgICAgICAgICAgICAgICAgICAgICAgICAgICAgICAgICAgICAgICAgICAgICAgICAgICAgICAgICAgICAgICAgIAogICAgICAgICAgICAgICAgICAgICAgICAgICAgPD94cGFja2V0IGVuZD0ndyc/Pv/bAEMABwUFBgUEBwYFBggHBwgKEQsKCQkKFQ8QDBEYFRoZGBUYFxseJyEbHSUdFxgiLiIlKCkrLCsaIC8zLyoyJyorKv/bAEMBBwgICgkKFAsLFCocGBwqKioqKioqKioqKioqKioqKioqKioqKioqKioqKioqKioqKioqKioqKioqKioqKioqKv/AABEIAdQB+QMBIgACEQEDEQH/xAAfAAABBQEBAQEBAQAAAAAAAAAAAQIDBAUGBwgJCgv/xAC1EAACAQMDAgQDBQUEBAAAAX0BAgMABBEFEiExQQYTUWEHInEUMoGRoQgjQrHBFVLR8CQzYnKCCQoWFxgZGiUmJygpKjQ1Njc4OTpDREVGR0hJSlNUVVZXWFlaY2RlZmdoaWpzdHV2d3h5eoOEhYaHiImKkpOUlZaXmJmaoqOkpaanqKmqsrO0tba3uLm6wsPExcbHyMnK0tPU1dbX2Nna4eLj5OXm5+jp6vHy8/T19vf4+fr/xAAfAQADAQEBAQEBAQEBAAAAAAAAAQIDBAUGBwgJCgv/xAC1EQACAQIEBAMEBwUEBAABAncAAQIDEQQFITEGEkFRB2FxEyIygQgUQpGhscEJIzNS8BVictEKFiQ04SXxFxgZGiYnKCkqNTY3ODk6Q0RFRkdISUpTVFVWV1hZWmNkZWZnaGlqc3R1dnd4eXqCg4SFhoeIiYqSk5SVlpeYmZqio6Slpqeoqaqys7S1tre4ubrCw8TFxsfIycrS09TV1tfY2dri4+Tl5ufo6ery8/T19vf4+fr/2gAMAwEAAhEDEQA/APpGiiigAooooAKKKKACiiigAooooAKKKKACiiigAooooAKKKKACikd1jjZ5GCqoyzE4AHrS0AFFFFABRRRQAUUUUAFFFFABRRRQAUUUUAFFFFABRRRQAUUUUAFFFFABRRRQAUUUUAFFFNMiLIsbOodwSqk8nHXH50AOooooAKKKKACiiigAooooAKKKKACiiigAooooAKKKKACiiigAooooAKKKKACiiorm6gtITLdTJDGOrO2KA2JaK5uTxrZMSunWt1fOP+eURA/x/Sof7f8AEdxza+Hyi9vOYg/rip5kY+2h019DqqK5X+0vGLfd0e1H1cf/ABdH9oeNP+gRZ/8AfY/+OUcwe2XZ/cdVRXK/2h40/wCgRZ/99j/45R/aHjT/AKBFn/32P/jlHMHtl2f3HVUVyv8AaHjT/oEWf/fY/wDjlH9oeNP+gRZ/99j/AOOUcwe2XZ/cdVRXK/2h40/6BFn/AN9j/wCOUf2h40/6BFn/AN9j/wCOUcwe2XZ/cdVRXK/2h40/6BFn/wB9j/45R/aHjT/oEWf/AH2P/jlHMHtl2f3HP/GTxQ+l6JFo9lOEuL/PnBT8wh6Ee248fQGtz4beKF8S+EoDNN5l/aARXQJ+bP8ACx+oGc+ua4n4jaPqNzot7rWr6HaxXCLGpu0mYsg3qoAXzCO+Onf8a0/BWk6xo+kWt/omgWiPeWkReYzMTKCoIYgy4B5z0HWq5lyi9r1s/uPUaK5X+0PGn/QIs/8Avsf/AByj+0PGn/QIs/8Avsf/AByp5h+2XZ/cdVRXK/2h40/6BFn/AN9j/wCOUf2h40/6BFn/AN9j/wCOUcwe2XZ/cdVRXK/2h40/6BFn/wB9j/45R/aHjT/oEWf/AH2P/jlHMHtl2f3HVUVyv9oeNP8AoEWf/fY/+OUf2h40/wCgRZ/99j/45RzB7Zdn9x1VFcr/AGh40/6BFn/32P8A45R/aHjT/oEWf/fY/wDjlHMHtl2f3HVUVyv9oeNP+gRZ/wDfY/8AjlH9oeNP+gRZ/wDfY/8AjlHMHtl2f3HVUVyv9oeNP+gRZ/8AfY/+OUf2h40/6BFn/wB9j/45RzB7Zdn9x1VFcr/aHjT/AKBFn/32P/jlH9oeNP8AoEWf/fY/+OUcwe2XZ/cdVRXK/wBoeNP+gRZ/99j/AOOUf2h40/6BFn/32P8A45RzB7Zdn9x1VFcr/aHjT/oEWf8A32P/AI5R/aHjT/oEWf8A32P/AI5RzB7Zdn9x1VFcr/aHjT/oEWf/AH2P/jlH9oeNP+gRZ/8AfY/+OUcwe2XZ/cdVRXK/2h40/wCgRZ/99j/45R/aHjT/AKBFn/32P/jlHMHtl2f3HVV4h43+IV1Z/E+GfT8PBo5aDZu4lJ/1oPp/d/4CDXojX3jN0KnSLTDDBxIAfzEleZ6n4UeLx3pNg/h+2RrqOVzbCdys2FY5LGQkYxn7w6VUZIXtb9H9x7laXUV7ZQ3Vs2+GeNZI2HdSMg/kalritMj8UaNp0djpuh2cNtFnZH5xbbk56tKT1NW/7Q8af9Aiz/77H/xyp5g9suz+46qiuV/tDxp/0CLP/vsf/HKP7Q8af9Aiz/77H/xyjmH7Zdn9x1VFcr/aHjT/AKBFn/32P/jlH9oeNP8AoEWf/fY/+OUcwe2XZ/cdVRXK/wBoeNP+gRZ/99j/AOOUf2h40/6BFn/32P8A45RzB7Zdn9x1VFcr/aHjT/oEWf8A32P/AI5R/aHjT/oEWf8A32P/AI5RzB7Zdn9x1VFcr/ani9fv6LbH/dcf/F0DxNrNuf8ATvD0+3u0OTj9D/OjmQe2j1T+5nVUVhWfjDSrqcQyPJaynjbcJt5+vQVuKwdQykMpGQQetNNPY0jOMvhYtFFFMoKKKKACiiigAooooAoazrFvotgbi4yxJ2xxjq7elYNn4fn8QSJqfiR2IYZitEyoRffv/X3oslTxP4omvZN0lhY4SBT91n9f6/8AfNdbUfEc6XtXd7dBkMEVtCsVvGscajAVRgCn0UVZ0BXnmtePtT1DXpNB8DWaXE8T7J7+UboYj3xjjj1PcYANaPxR1qXSfBskFnv+16jItpDsPI3ck/kCPqRVjwl4ei8NeHbexREE20NcOo+/IRyc9/QewrOpU9nG/UznKxzsvgzxhft5t947uoJT1W1jZUH0Cuo/So/+FfeJf+ihar/5E/8AjtegUVx/WKncy5mef/8ACvvEv/RQtV/8if8Ax2j/AIV94l/6KFqv/kT/AOO16BRR9Yqdw5mef/8ACvvEv/RQtV/8if8Ax2j/AIV94l/6KFqv/kT/AOO16BRR9Yqdw5mef/8ACvvEv/RQtV/8if8Ax2j/AIV94l/6KFqv/kT/AOO16BRR9Yqdw5mef/8ACvvEv/RQtV/8if8Ax2j/AIV94l/6KFqv/kT/AOO16BRR9Yqdw5mef/8ACvvEv/RQtV/8if8Ax2j/AIV94l/6KFqv/kT/AOO16BRR9Yqdw5mef/8ACvvEv/RQtV/8if8Ax2j/AIV94l/6KFqv/kT/AOO16BRR9Yqdw5mef/8ACvvEv/RQtV/8if8Ax2j/AIV94l/6KFqv/kT/AOO137MEUsxCqBkknoKzNA1+18RWL3VkksapJsKzKFboGBxk8FWBHsaft6tr3/IOaRyf/CvvEv8A0ULVf/In/wAdo/4V94l/6KFqv/kT/wCO11+q6xFpaW5ZfNM11FbbVYZQyNgE1bu7lLS2llbkxxtJszywAycUe3q9/wAg5pHC/wDCvvEv/RQtV/8AIn/x2j/hX3iX/ooWq/8AkT/47XbaXfLqmkWl+iGNbqBJghOSoZQcfrWNbeN9MutTitY4roQzzNbwXjR/uZZB1UHOfxIxTVas9n+Qc0jC/wCFfeJf+ihar/5E/wDjtH/CvvEv/RQtV/8AIn/x2vQKxfDfimw8UQXEmnrNG1vJskjnUBhkZB4J4POPoaXtqrV7hzSOZ/4V94l/6KFqv/kT/wCO0f8ACvvEv/RQtV/8if8Ax2uy0nVoNZ0iHUbdXjhlDECUAEYJBzgkdqu7lKhgw2noc8UOvVTtf8g5mcB/wr7xL/0ULVf/ACJ/8do/4V94l/6KFqv/AJE/+O133mIWIDLkHBGeho82PZv3rtzjdnjPSl9Yq9w5mcD/AMK+8S/9FC1X/wAif/HaP+FfeJf+ihar/wCRP/jtd+zKilnIVR1JOAKoavq8ek2Ed00ZmV5o4gEP99woP601XqvRP8g5pHH/APCvvEv/AEULVf8AyJ/8do/4V94l/wCihar/AORP/jtdtDeNJeXUElvJCluU2zORtl3DPy8546c4qyrq/wBxg30OaPb1e/5BzM4D/hX3iX/ooWq/+RP/AI7R/wAK+8S/9FC1X/yJ/wDHa79XVwSjBgDgkHPNLS+sVe4czPP/APhX3iX/AKKFqv8A5E/+O0f8K+8S/wDRQtV/8if/AB2vQKKPrFTuHMzz/wD4V94l/wCihar/AORP/jtH/CvvEv8A0ULVf/In/wAdr0Cij6xU7hzM8/8A+FfeJf8AooWq/wDkT/47R/wr7xL/ANFC1X/yJ/8AHa9Aoo+sVO4czPP/APhX3iX/AKKFqv8A5E/+O0f8K+8S/wDRQtV/8if/AB2vQKKPrFTuHMzz/wD4V94l/wCihar/AORP/jtH/CvvEv8A0ULVf/In/wAdr0Cij6xU7hzM8/8A+FfeJf8AooWq/wDkT/47R/wr7xL/ANFC1X/yJ/8AHa9Aoo+sVO4czOAHgDxMh3J8QdTJHQMJCP8A0bRc69418ENHNrXla/pI4lnij2yxD1OOn1OR7iu/pHRZI2SRQyMMMrDII9KqOImnrqCm0S6Tq1nremQ3+nTLNBMoYEEEqcdD6EdxVyvMvCVvJ4P+Jl54fjbOm6pC13bJ/wA82BPH4AMPoFr02u5NNXR0J3VynqWk2erW/lX0IcD7rdGX6GuaZr7wXOi5e80d2PUZaH8f8g+1djUc8EV1bvBcIHjkXaynuKlq+pnOnf3lox0UqTQpLEwdHAZWHQg06uV8MPNpOrXeg3ZYhcy2zE8FM9v5/nXVU07oqnLnjcKKKKZYUUUUAFVNUn+zaRdzg4McLsPqAcVbrH8WPs8K3xH9wD82ApPYibtFsr+CIPJ8LwtjBmd3P54/kBXQVm+HU8vw3YAf88FP5jP9adrut2nh7RbjU9QYiGBc7V+856BR7k0R2QqatBLyNCuIg+KmiJr17pGr77Ca2unt1lYbo3AbAOR933yMD1rXa3h8c+DIPt0V5p6XiJIUVwkiYOeDzwfccg9q8xtPgxfXviK7+0S/YdIS4cRMzB5pYw3GB0GR3P5GrVupbudV8VriO3tvDmpuQ9pb6pG7lTkFcbvx4U12YIZQVIIIyCO9Ylz8PtLHgm88P6erosyZSSaRnKyDlW56c9cAcZrnfB/ik6Rt8LeLWFlqNmfKhkk4SZAPl+bp7A9+O9cuIg5JNdDKonud9RQCGUFTkHkEd6K4DIKKKKACiiigAooooAKKKKACiiigAooooA5nx7c3Y8PLpulti+1SZbSLnGAclz7DaDk+9Y2l/wBqaD4la3v7e3tP7UsfKtUt5TIpmgTC5yBglT/46K71oo3kR2RWdM7GIyVz1we1I8MUrI0kaOyHKFlB2n1HpWsZ2jy2Hc8msm0J9F8OzwTq+uTanbm8IkJmdvN+fzRnOM4698VpalJo7a54nfxJOEv4Nq2G6QiRYzH8vlAHklic47nmvRBZ2qyNIttCHchmYRjLEHIJPfnmnPbQSTLM8MbSoMK5QFlHsav2quFzI8NyND4C0uSNDI6abEyoP4iIxxXmGneIrTS4rTxBJJa30080rHSY2KGylbPzxpk8EDnPrwa9pRFjRUjUKqjCqowAPSolsrVJmmS2hWVvvOIwGP41MaiV7rcLlXQLua/8PWN3dSwyzTwrI7wD5CSM8fyrgtKEmheFdJ8V2iNIsKPBqEKdZYPNbD+7If0zyK9KiijgjEcMaxoOiouAPwoWGJIfKWNFjwRsCjbg9eKlTtcVzzO0a3fwd4TGrOBoUs8wvN5IUtlzFv8A9nd68Zxmql1OU8NeM10eUtolvJALEo+Y0fcpcRn0zg8cV6r9mg+z+R5Efk4x5ewbfy6UfZYPs/2fyI/Jxjy9g2/l0rT2qvt/V7jucZ4l0Ky0/T9HtrYSKbrWbf7RN5jeZMxDBmLZzk88iqMPhvTH8X69pRt/+JbDaRzx2Yc+UsrLguFzjdgdfevRHijk2+YivtYMu4ZwR0I96QQxCRpBGm9xhm2jLD0JqVVaVgueWWGqw3PgfwtZ6zHZ3H2prj/SNTlYRRCJyBnHU4IABPal024Evgu9ihlWS1g8QQrbeWCEWMyRkBASSFySR9a9Naws3hWF7WBokOVQxgqp9h2p/wBmg2lfJjwzBiNg5I6H68Cq9quwXOEu7rSbPWvGs/iCFZ7JHsi0RXdvbyhtAHrnFZaWtrYeANWutDurP+0bpklvI9PmD/ZoNw+QBTnCrnJ6n5ua9OktLaXf5tvE/mEF9yA7sdM+uKIbK1t932e2hi3DDbIwuR74pKrZfd+AXON8G2dpB4glm0zUNJMEtnh7PTXYgkMMSMCTg4JH413FQwWdraszW1tDCW+8Y4wufyqas5y5ncQUUUVABRRRQAUUUUAFFFFABRRRQAUUUUAFFFYfiPxdpXhm0aS+uFafH7u2Q5kkPYY7D3PFNJydkBj3xE3xt0COPlreymkkx2DK4H616JXAfDnw9qK3d74o8SRldS1H/VIx5iiODjHbsMdQB9a7+vUjHlionTFWQUUUVRRzGvubLxdol4B/rS0DfQkD/wBmzXT1zXjIYXSpe63qD/P5V0tSt2Yw0nJBRRRVGwUUUUAFYfjI48JXv/AP/Q1rcrD8Z/8AIo3v/bP/ANGLSlszOr/Dl6MvaGMeHtO/69Y//QRVTXJ9Bu5odC10wSve8xW0qk78dwex9+tW9E/5F/Tv+vWL/wBAFZWs+Ehq/i7SdcN4YjpucQ+Vu8znPXPH5Gmthx+FHRgAAADAHQCiiigsKxvEXhPR/FNssWsWokMefLlU7Xjz6EfyPFbNFAHmv/CpLqzJTQvGGp6fb54i5OPxV1H6Uf8ACsPEP/RQtT/75k/+O16VRQLlR5r/AMKw8Q/9FC1P/vmT/wCO0f8ACsPEP/RQtT/75k/+O16VRRoLlR5r/wAKw8Q/9FC1P/vmT/47R/wrDxD/ANFC1P8A75k/+O16VRRoHKjzX/hWHiH/AKKFqf8A3zJ/8do/4Vh4h/6KFqf/AHzJ/wDHa9Koo0DlR5NrfgjWNB0a51K++ImprDboWI2yZY9lH77qTxVq2+HOuXlrFc2vxG1KSGZA8bqsmGUjIP8AraofG261K5S2s4LC7/s61/f3F15TeUXb5VG7GOM+vVsVufCHUNUk8N/2dqthdQx26iS0uZYmVJYm5ABIwcdR7EelPlVrisrlf/hWHiH/AKKFqf8A3zJ/8do/4Vh4h/6KFqf/AHzJ/wDHa9KopaD5Uea/8Kw8Q/8ARQtT/wC+ZP8A47R/wrDxD/0ULU/++ZP/AI7XpVFGgcqPNf8AhWHiH/ooWp/98yf/AB2j/hWHiH/ooWp/98yf/Ha9Koo0DlR5r/wrDxD/ANFC1P8A75k/+O0f8Kw8Q/8ARQtT/wC+ZP8A47XpVFGgcqPNf+FYeIf+ihan/wB8yf8Ax2j/AIVh4h/6KFqf/fMn/wAdr0qijQOVHmv/AArDxD/0ULU/++ZP/jtH/CsPEP8A0ULU/wDvmT/47XpVFGgcqPNf+FYeIf8AooWp/wDfMn/x2j/hWHiH/ooWp/8AfMn/AMdr0qijQOVHmv8AwrDxD/0ULU/++ZP/AI7R/wAKw8Q/9FC1P/vmT/47XpVFGgcqPNf+FYeIf+ihan/3zJ/8do/4Vh4h/wCihan/AN8yf/Ha9Koo0DlR5r/wrDxD/wBFC1P/AL5k/wDjtH/CsPEP/RQtT/75k/8AjtelUUaByo81/wCFYeIf+ihan/3zJ/8AHaP+FYeIf+ihan/3zJ/8dr0qijQOVHmv/CsPEP8A0ULU/wDvmT/47R/wrDxD/wBFC1P/AL5k/wDjtelUUaByo81/4Vh4h/6KFqf/AHzJ/wDHay7zwfqtl4isNGm+Imqfab5JHj4fA2gdf33fnH0NevE4Uk549BmvnPxlP4h1f4hm7isNShuGfOnRNA6yeXHyCq4z2LcdMmmkmJpI9C/4Vh4h/wCihan/AN8yf/HaP+FYeIf+ihan/wB8yf8Ax2u70O+m1LQ7S7uraa1nkjHmwzxlGR+jDB9849qv0tB8qPNf+FYeIf8AooWp/wDfMn/x2j/hWHiH/ooWp/8AfMn/AMdr0qijQOVHmv8AwrDxD/0ULU/++ZP/AI7R/wAKw8Q/9FC1P/vmT/47XpVFGgcqPNf+FYeIf+ihan/3zJ/8do/4Vh4h/wCihan/AN8yf/Ha9Koo0DlR5r/wq7Xn+Wbx/qboeq7ZOf8AyLWx4f8AhhoGgXkd9tmvr2Nt6z3L52t6hRgfnmuyooHZBRRRQMKKKKAOc8af8eGnn/p/j/k1dHXOeNP+QfYf9f8AH/Jq6OpW7Mo/xJfIKKKKo1CiiigArD8Z/wDIo3v/AGz/APRi1uVh+M/+RRvf+2f/AKMWlLZmdX+HL0Ze0T/kX9O/69Yv/QBXPeIdK1278faDe6d5v9m2+fte2cKvXuuRu/I10Oif8i/p3/XrF/6AKw9d8WXGk+NtE0SK3iki1HO+Ridyc9qcRx+FHVUUUUFhWN4i8WaP4Wtll1i6ERkz5cSjc8mPQD+Z4p3inXo/DXhm81SQKzQp+6Rj99zwo/M/lmuG8I+FzrGPFHixRe6jeHzYY5OUhQj5fl6e4HbjvVxjzEylYmPxburxi+heENT1C3zxLyufwVGH60f8LQ8Q/wDRPtT/AO+pP/jVdsAFUBRgDgAdqWtfZoy9oziP+FoeIf8Aon2p/wDfUn/xqj/haHiH/on2p/8AfUn/AMarts460Zz0o9mg9ozif+FoeIf+ifan/wB9Sf8Axqj/AIWh4h/6J9qf/fUn/wAart6KPZoPaM4j/haHiH/on2p/99Sf/GqP+FoeIf8Aon2p/wDfUn/xqu0eaKNkWSREaQ4QMwBY+g9ad0o9mg9ozzHxX4x8Q+J/DF3pH/CD6na/aNn73Ej7drq3Tyxn7uOvermkfEHxDpWh2On/APCBanL9kt44PMzIu/aoXOPKOM46V6FnPSlo5EHOziP+FoeIf+ifan/31J/8ao/4Wh4h/wCifan/AN9Sf/Gq7eij2aD2jOI/4Wh4h/6J9qf/AH1J/wDGqP8AhaHiH/on2p/99Sf/ABqu3oo9mg9oziP+FoeIf+ifan/31J/8ao/4Wh4h/wCifan/AN9Sf/Gq7emRyxzKTFIrgEqSrZwR1FHs0HtGcX/wtDxD/wBE+1P/AL6k/wDjVOj+L62kgXxH4a1LSlb7rEFs/wDfQX9M12tMlijmjMcyLIjdVcZB/Cl7ND9oyfRdb0/xBpqX+k3AngYkZAIKkdQQeQav15L4h0eXwHqkfinwxmK0EgW/shnYyseoHYe3Y4xXqdje2+pWEF7ZSCWCdBJG47g1lKPKzSMronoooqSgooooAKKK4P4i+I7uN7Xwx4edhq2pEBnUf6qE5BOex4PPYAn0ppXDYu+I/iZoHhy9eymea7vE4aG1QNtPYEkgA+3J9qxP+Fp63J81t4C1OWM/dfc/P5RGtnw34Q0vwzaBLSES3B5kupVBkc/XsPYVvVsqa6mLqM4j/haHiH/on2p/99Sf/GqP+FoeIf8Aon2p/wDfUn/xqu3pMj1p+zQvaM4n/haHiH/on2p/99Sf/GqP+FoeIf8Aon2p/wDfUn/xqu3oo9mg9oziP+FoeIf+ifan/wB9Sf8Axqj/AIWh4h/6J9qf/fUn/wAart6YssbSPGsis6Y3qDyuemR2o9mg9ozi/wDhaHiH/on2p/8AfUn/AMarBv8AxV4hvvGuleIP+EJ1OP8As6OSPyNsh8zerDO7y+MbvQ16pkDqaWjkQc7OI/4Wh4h/6J9qf/fUn/xqj/haHiH/AKJ9qf8A31J/8art6KPZoPaM4j/haHiH/on2p/8AfUn/AMao/wCFoeIf+ifan/31J/8AGq7eij2aD2jOI/4Wh4h/6J9qf/fUn/xqj/haHiH/AKJ9qf8A31J/8art6ZLLHBGZJpFjRerOcAfjR7NB7RnF/wDC0PEP/RPtT/76k/8AjVH/AAtDxAPvfD/UwO53Sf8Axqu3oo9mg9ozk9O+L+iTXAttZtbzSLjIBE8eVGfUjkfiBXeo6yxq8bK6MAVZTkEeoNYOqaPp+s2rW+p2kVxGwI+dclfcHqD7iuQ8LX114I8ZDwpqEkk2lXxL6bK7bjGf7n04xj1we5qJQtqi4zvoen0UUVkaBRRRQBznjT/kH2H/AF/x/wAmro65zxp/yD7D/r/j/k1dHUrdmUf4kvkFFFFUahRRRQAVh+M/+RRvf+2f/oxa3Kw/Gf8AyKN7/wBs/wD0YtKWzM6v8OXoy9on/Iv6d/16xf8AoAqvqF3oUOvWMGpfZf7Tkz9k82INJ/wFscfnVjRP+Rf07/r1i/8AQBWdq3hO31bxRpety3Mkcum52RqBtfnvTWxUfhRv0UUUFHnvxZjW8h8O6fMcQXWqxrJ9Pu/yY11wAVQFAAAwAO1YPxR0WXVvBsk9nv8AtenSLdxbBydvDD8iT9QKl8J+IIvEnh23vkdDNtC3CKfuSDqMdvUexrensY1NzaooorQzOG+JKWkj6Emo2s13am7bzILcEu42HgAEGq9trOneHNEtrfw1p76U2oXbgf2qrhU2oCzkFiSMbQAD1rsNS0ePUr/Trp5WRrCYzKoHDkqVwfzputaKurrbvHcy2d3ayeZBcwgFkJGCMHggg4IpDuc2vjqa30HUp7hba6urOaOFJoNywy+Z91uckY5yPb3pLXxvc2/9prqBs9QWzsjdxzWIZFbBwYzuzg5I59DW5L4dkv8ARZ7DWdTnvmlcOk+xImiIwVKhRjgjPNCeH7qeyu7TWtYn1K3uYTCUaGOPaD3BUdfrRqGhyt3daze6p4Qu9YS0CXV0JohbhgYgyZ2tknJwRyMdDWv8SxE3heBbmJ5oTfQCSOMEs67uQMdyKltvBTRTaY91rN3dJpcga1jdEAVQMbTgAk9OT6Vs61o8etW0EMsrRCG5juAVGclDkCgDjbDU9G8L6LPc+HNCvbOe8uYrRI74OgeQhtp+Yk7RznFbI1zWdNvLux1lbKWYWEl5bTWysqkpwUZSSe4PB6Vta1o1trmnG0u9ygMJI5EOGicfdYe4rOt/Cr+fd3Oparcahc3Fq1oskiIgijbrhVAGenPtQBhN4t8RQ+DovEs8Nh9lIiLQIjlypYKzZzgZ7DnHGc1ek8Y3EXiK8iKQNpUcM/kyqDuaWKNHYE5xjDEdM/Ka2bbw9bQ+E10CV2mtxbmAuwwSCOv1rMbwJaN4Yt9HN5N+5naZrjA3yFtwYH2IcijUNCI67q3/AAjumXNxf6Rp99dRGaSO4jc5B5UKobPQ89earf8ACZ6pPo/h24s7W1NxqszwSI5bYrKSuQRyBkZ78Vtaj4aa61xdUstTuNPmNuLaUQojbow27A3A7Tk9RUUHg22t7fR4YrmXZpNxJPFuAJfcxOCfbd1o1DQgm1PxCdYttEtm04XotDd3Nw8TmPG8qqqoYH8Se1L8Py50O8MyhZP7RuNyqcgHfyKvap4fkvdYi1Sw1KbTrtITbs8caOHjJ3YIYEcHvU+gaImg6fJaxXElwHneYvLjcSxyc4ph0NSiiigRn69Clx4d1GGUAo9rIpz/ALprK+EErSfDm1Vukc0qr9N5P8yar/ELXhpfh2SxtWV9R1AfZ4IQcsQ3ykgfTge+K6XwdoP/AAjXhOy0xm3SxIWlb1diWb8ATj6CsqhrTNuiiisTUKKKKACvL4f9J+P+qeZ/y62C+X7ZWP8A+LNeoV5d4n3eF/i5Z67coV07UoRbSz/wo+MYP/fKH6Z9KuG5MtjvqKKK6DnCvLNattCuPH+uf27ouo6kwa3EbWaOwjHlLndtYe1ep1n2ekpZ6xqWoLKzPqBjLIRwmxNox9aGCOY17xhdadq99Y6e1jCumwo7JdBma5Zl3BEwRjjuc8kUXvji4lk02Cy+yae93ZC8klv9zLGCdoQBcEnIPPoK2b3w5NJrE+paVq0+mz3KIlwEiSRZNuQpwwOCAcZpL3w1LcXVpfW2r3NrqNvB9na5VEbzkzn51IweeeMdaWo9DJtvGd9qthpsGm28EWp31xLAWmDGFBEu53AGCQQRge/WpvC/2z/hN/Eg1IQ/aRHaB2gzsb5H5API+nNaN34bmvLOz83Vrj+0bKVpIr8RpvG4EFduNu0g4xjsKl0Xw+dJ1G+vpr+e+uL5YxK8yqOUBAwFAA+90x2oA4zxhDpM/wARtuuaXe6lCNMQpHZozMreY3J2kcYzW5b392sthoXhS2isYksBdE6gjsY0LFVTaGzuyDnJreXR418TvrXmt5j2gtfLxwAHLZz681BqugSXupxalp+pTadepCYGkjRXDxk5wVYEcHofegLmM/jG+Og2dzDaQm9fU/7NmiLHYXyy5U9QMgHnOBnr1qS58RaroNzKniA2cqf2dLdRNbIyb5I25T5if4Sv61dj8IWsWmWFmlxMfsl8t+0r4LTSAknd9Se1T+IfDNr4jayN3IyC0m8zCj/WKRhkPsRRqGhg6d41v7qy0y3uIII9VudQFtPHtO1U2iRmAznhGUdetGu+MrzRLt5/tuk3lrHcCNrSDcZgpOMltxAYemK2h4Ts/wDhMv8AhIjI5mCECHA2hyoUv9doArJl+Hay6bNp39tXS2DzmdIBGnyuWzy2Mt+dGoaF46vrV74s1DStNWzjhsTC7zTqxJV1yVAB68Hnt6Gua8SatrOu/D7U9TC2S6TNlYosN54RZQoYtnbnIzjHTvXdWejx2eu6jqaysz36xKyEcJ5YIGPrmsK68B/aNOudMj1q7h0uZmdbNETbGS27AYjdtzzjNAaHWr90fSlpBwKWmIK8++LP+h2ei6xDxdWV+vlke43fzjFeg1554rceKPiJofh22/fQ2kv2i9CchQCDhvTgY/4HSlsOO56tRRRXKdIUUUUAc540/wCQfYf9f8f8mro65zxp/wAg+w/6/wCP+TV0dSt2ZR/iS+QUUUVRqFFFFABWH4z/AORRvf8Atn/6MWtysPxn/wAije/9s/8A0YtKWzM6v8OXoy9on/Iv6d/16xf+gCue8Q6Vrt34+0G907zf7Nt8/a9s4Vevdcjd+RrodE/5F/Tv+vWL/wBAFV/E9zqln4avLjQIUnv4k3RxupbODzgDqcZwO5pxHH4Ua1FZHhfXl8R+H7fUFgmgd1CyJLGUw4Aztz1XPQj+ea16CwrzvW/AGp6fr0mveB7xLeeV989hKdsMp74xxz6HucgivRKKabQmrnmMvjDxhYN5V94FuppB1a1dmQ/QqrD9aj/4T/xL/wBE+1X/AMif/Gq9Soq/aMnkR5b/AMJ/4l/6J9qv/kT/AONUf8J/4l/6J9qv/kT/AONV6lRR7RhyI8t/4T/xL/0T7Vf/ACJ/8ao/4T/xL/0T7Vf/ACJ/8ar1Kij2jDkR5b/wn/iX/on2q/8AkT/41R/wn/iX/on2q/8AkT/41XqVFHtGHIjy3/hP/En/AET7Vf8AyJ/8ao/4T/xL/wBE+1X/AMif/Gqu/GDxTJo3h+LTLGYR3WoEiTafmWEDn6ZJAz6bq3Ph54mXxN4St5pJvMvbdRDdA/e3Dox+o5z9fSnzytcXIrnLf8J/4l/6J9qv/kT/AONUf8J/4l/6J9qv/kT/AONV6lRS9ox8iPLf+E/8S/8ARPtV/wDIn/xqj/hP/Ev/AET7Vf8AyJ/8ar1Kij2jDkR5b/wn/iX/AKJ9qv8A5E/+NUf8J/4l/wCifar/AORP/jVepUUe0YciPLf+E/8AEv8A0T7Vf/In/wAaqWLxP431bMel+DHs3/56X8hVR+DBM16bRR7RhyI4Xwn8P5rHV/8AhIPE97/aGsMDgdY4c+mR1A6dAM8DvXdUUVDdy9gooopAFFFFABWbr+hWfiPRZ9M1FMxSjhh95GHRh7itKigDyuKLxl4At2tjYnxFpMbZilhY+bGvoRyQPwIHrR/wuLRI/ludO1OKQfeTy04/NxXqlFaKoyHBM8r/AOFy+Hv+fPU/+/Uf/wAXR/wuXw9/z56n/wB+o/8A4uvVKKftGL2aPK/+Fy+Hv+fPU/8Av1H/APF0f8Ll8Pf8+ep/9+o//i69Uoo9ow9mjyv/AIXL4e/589T/AO/Uf/xdH/C5fD3/AD56n/36j/8Ai69Uoo9ow9mjyv8A4XL4e/589T/79R//ABdH/C5fD3/Pnqf/AH6j/wDi69Urxjxp8RJdP+KFq9iS9rpOYZo88Slv9Z+QwB7rTU2xciRp/wDC5fD3/Pnqf/fqP/4uj/hcvh7/AJ89T/79R/8AxdeoW1xFd2sVxbsHimQOjDupGQakpe0Y/Zo8r/4XL4e/589T/wC/Uf8A8XR/wuXw9/z56n/36j/+Lr1Sij2jD2aPK/8Ahcvh7/nz1P8A79R//F0f8Ll8Pf8APnqf/fqP/wCLr1Sij2jD2aPK/wDhcvh7/nz1P/v1H/8AF0f8Ll8Pn7tlqZPYeVH/APF16pRR7Rh7NHlq+KfFXiuOSHwnoD2kLDab69baFz3Xtke276V1vgvwdD4S0+UNO13f3Tb7m5fqzeg7469eTkmuloqJSbKUUgoooqSgooooA5zxp/yD7D/r/j/k1dHXOeNP+QfYf9f8f8mro6lbsyj/ABJfIKKKKo1CiiigArD8Z/8AIo3v/bP/ANGLW5WH4z/5FG9/7Z/+jFpS2ZnV/hy9GXtE/wCRf07/AK9Yv/QBV6qOif8AIv6d/wBesX/oAq9QtiofCjM8QQ6xPo0kfhy5gtr/ACCkk65UDPI6Hr06GoPDV5rdxoJl8S2UdtfxuymOE5DgdGHJ6/X/AAraoplHM+HPFt3rupPa3HhvVNLVYjIJruEqhIIG3JA55z+BpniDxjd6JqhtIPDOq6kgQN59rCWTntkDqK6mimBleIdZm0PSxdwaZd6k5kCeRaIWcZzzgDoMUaFrMusaOb6bTLvT3DMPs9yhWTjvj3rVopAcx4c8XXWvak9rceHNU0xViMnnXcRVCQQNuSOvOfwNN8QeMrrQ9UNnB4a1XUkCBvPtYSyc9sgda6mq0upWMEhjmvLeN16q8qgj8M09xxjKWi1KfiHWZdD0sXkGmXWpMZAnkWqFnGc84HbinaTq8up+H11KTTrqzkZXP2SdCJBtJGMe+Mj61oo6Sxq8bK6MMqynIIrG8ReKrXw01st3bXU5uQ5X7OEONu3OdzD+8KEm9EOMJzlyxV32Kfhzxfc69qT2s/h3U9MVYjJ513EVQkEDbkjrzn8DS614uuNJ1xNPi8PanfI4Q/areItGu49zjt3qh/wtDTP+gZqf/fMP/wAcpsfxU0qVSyaZqZAYr9yLqDg/8tPUVfs5/wAp0fUsVe3s5fc/8jE+Mmg6eukSa41rdTX7mOBZUc+XAoPVh0API+rCtX4aaJp+l+EodbsrO7hubu1BnikYnzSufmVfRuSPZhS3vxG0K9s5IL/RL65t2GXimhgdWwc8gyYPIzUkPxK0e3gjht9I1CKKNQiRpHCqqoGAABJwAKfs6lrWYfUcVf8Ahy/8Bf8AkaPhvxfca/qT2s3h7U9MVYjJ513EVU4IG0HHXnP4Gk1fxlcaXr/9mx+HdUvEyg+1QQlo/mx3x2zzVH/haWl7iv8AZmp5Az92H/457Uv/AAtDTP8AoGan/wB8w/8Axyj2c/5Q+pYr/n3L/wABf+RueJdel8P2MVxDpV5qZkk2GK0Qsy8E5Ptxj8am0nWH1Pw+upyafc2jsrn7LOmJBtJGMe+Mj61JoesQa9o8Wo2scsUUrOoSYAMCrlDnBI6qe9X6zOVpp2ZzHhvxhP4g1J7WXw/qemqkRk867iKqcEDaDjrzn8DTdX8Zz6Vr/wDZqeHtUvEyg+1QREx/NjvjtnmupooAxvEuvyeHrGK4i0u81MySbDHaJuZeCcn24/WptJ1h9U8Prqb6fc2jMrt9lnTEg2kjGPfGR9a06KQHMeG/GM3iDUntJfD+p6aEiMnnXcRVTggbQcdec/gabrHjObStf/s1PD2p3i5QfaoIiY/mx39s811NFMDE8TeIn8O2sM0elXmpGVyhS0TcU4zk+1WNJ1ltU8Prqb2FzaMyufss6YkG0kYx744+tadFIDmPDfjKXxDqT2kmgalpwSIyebdxFVOCBtB9ec/gabd+NJbXxQNHHh/U5VMyRfbEiJi+bHzZ9Bnn6GupopgYnibxE/h21hmj0u81IyuU2WibivGcn2qbTdcbUPDP9rtp91bt5cj/AGSVMS/KSMY9Tjj6itWikBzfhnxbJ4jup4X0TUNN8pA2+7i2h+cYHvUV541ktPFA0caBqcqmZIvtiRZi+bHzZ9Bnn6GupopgYnibxG3hy1hmTS7zUTK5TZaJuK8ZyfapdN1xtQ8M/wBrnT7q3PlyP9klTEvykjGPU44+orWopAc34Z8XP4jup4W0TUNO8pA++7i2hucYHvUN542e08UDRhoGpygzJF9rSLMXzY+bPoM8/Q10Darp6OUe+tlZTggzKCD+dWgc9KexThKO6MTxN4jPhy1hmXTLzUfNcpstE3FeM5PtUum64dQ8M/2udPurc+XI/wBllTEvykjGPU44+orFuviRptpez2z6dqLtBK0TMixYJUkEjMmccVCfijpYUk6ZqeAM/dh/+OVfs52vY3WExLjzKnK3ozR8NeLm8S3FxAdG1HTfKj3eZdR7Q2TjA968r1rw5olv8U7HRl0zUWtpZdlwzSEtOzDIdW9FJyx9jXon/C0NM/6Bmp/98w//AByq0vxE8Py6hBdTaFevdxK3kztBAXQdCA3mZH3v1p+zmujB4LFdacv/AAF/5HY6PpVvoekwadY+Z9ngBEYkfcQM5xn8au1xX/C0NM/6Bmp/98w//HKanxT0qRdy6ZqeMkfci7cf89KXs59h/U8Te3s5fc/8jt6K5Gy+I2nX1/b2ken6gjzyrErOsW0FjgE4kJxz6V11TKLjujGpSqUnapFr1VgoooqTMKKKKACiiigAooooAKKKKAOc8af8g+w/6/4/5NXR1znjT/kH2H/X/H/Jq6OpW7Mo/wASXyCiiiqNQooooAKw/Gf/ACKN7/2z/wDRi1uVh+M/+RRvf+2f/oxaUtmZ1f4cvRl7RP8AkX9O/wCvWL/0AVeqjon/ACL+nf8AXrF/6AKvULYqHwoKKKKZQUUUUAFFFFABXA+Kb3SNQ1o6a32e02tm7vmgzJkdEU4ye3Nd9ULWds7Fnt4mY8klASa0pyUXdnZg8RHD1OeSflZ2/wAzISYxS6Imm3CHTZWMaqqHcyiJyMsT04HGK5v4of8AHxpP+7P/ADjru2tIGaBjGubdi0WONpII6fQmsvxB4Xs/EbWzXk9xEbcOF8hlGd23Ocqf7oqoTSmpM3w2Kp0sTTqy2V79+v37njtV7L/j3b/rtL/6MavUv+FZ6T/z/ah/33H/APEU2P4XaPEpVb7UcFmbl4+pJJ/g967PrMLn0jzzCe0Utdn09PPyPM5v+PeT/cP8qkr0lvhjpLKVN9qGCMH54/8A4il/4VnpP/P9qH/fcf8A8RR9ap3K/t7Cc19fu/4J5iP+Ph/91f5mpK9J/wCFY6SHLfbtQyQB9+P/AOI96X/hWek/8/2of99x/wDxFCxVMI59hEuv3f8ABLfw6/5EWz/663H/AKPkrp6oaJpEGg6RFp1o8skUTOwaUgsSzlznAA6se1X686Tu2z4qpJSm5LqwooopGYUUUUAFFFFABRRRQAUUUUAFFFFABRRRQAUUUUAed6he+H9W8ReXMLazsrZ98sghxJcvnkZAzjrXQC5vn8URx2d61xFuDTQIg8qCEr8uT13k84/pW6bG0JybWEn/AK5iqyaFpyXxvEgKzl95YSMAT64zit3Ui1Y9eWMoyjy2dkmlez369Pv9Omh49rH/ACHtS/6/Jv8A0Y1Un/1b/wC6f5V6jdfDrS7q8nuXvL9XnlaVgrx4BYknHydOaiPwy0kqR9u1DkY+/H/8RXSsRBQ5T2qOdYWGGjSd7qKW3l6nmtRN/wAfcX+4/wDNa9P/AOFZ6T/z/ah/33H/APEUh+GGkGRX+3ajlQQPnj74/wBj2qniYM3nnuEktL7rp/wTzaoLT/j3H+83/oRr1H/hWek/8/2of99x/wDxFNj+F+kRptW+1HGSeXj7nP8Aco+swvcTz3Cc6lrs+np5nC6F/wAjHpn/AF9xf+hivbq5Oz+HmmWV9BdR3l8zwSrIqu8eCVORnCdOK6yuWvUjUkmjwM2xlLGVYzp3slbUKKKK5zxwooooAKKKKACiiigAooooA5zxp/yD7D/r/j/k1dHXOeNP+QfYf9f8f8mro6lbsyj/ABJfIKKKKo1CiiigArD8Z/8AIo3v/bP/ANGLW5WH4z/5FG9/7Z/+jFpS2ZnV/hy9GXtE/wCRf07/AK9Yv/QBV6qOif8AIv6d/wBesX/oAq9QtiofCgoooplBRRRQAUVDNd21ucXFxFEf9twv86h/tfTf+gha/wDf9f8AGspV6UXaUkn6iukXKKp/2xpv/QRtP+/6/wCNH9sab/0EbT/v+v8AjU/WKP8AOvvQuaPcuUVT/tjTf+gjaf8Af9f8aP7Y03/oI2n/AH/X/Gj6xR/nX3oOaPcuUVT/ALY03/oI2n/f9f8AGj+2NN/6CNp/3/X/ABo+sUf5196Dmj3Mbx34rj8JeG5LsfNdTZitk9XI6n2HX9O9amgazD4g0Cz1S2G2O5jDbc52HoV/Agj8K8x+LWmX2usNQs9Ssbixso1EVlDKXmdmYBmCgc9R36LWt8LrO78OaSyarq+nmzuo0nit/PxJbuRkqwIGOvIzwR9ar6xQt8a+9C5lfc9Joqn/AGxpv/QRtP8Av+v+NH9sab/0EbT/AL/r/jU/WKP86+9D5o9y2zBVLMcADJJ7Vk6VrD313JHMFVJFMttgEF4wxXn34B/Go9a1W0l0qWC0vrVpZ8RAiZflBOCTz6ZrMeKz0+exubXWI7n7M4QxtNHxGeGxivJxeOlGvH2TvGOr1Wt3b8Fd6dbGcp2ehqatrsMVhdiymbz4Rt3rGSqvnoTjGatDVYIY4I52d53iEjLHGzkDH3iFHAzXLPeRwaXqemqYJWnmaSOUTx7SpIOfvdeOlX01W207VFuPMiuEltEj/dTplGXscnp71w080qOrzykkrJPR2Wsul9Xtqu5CqO9za0S6kvdJSeZ/MZncbsAZAcgdPYCqF5rd5DrDW8MUTBJEQQEHzJQRksD0AH9KdoOoWVto8cVxeWkUgdyUE64GXJ9elYdzehL66lglRr/7QWt7lblNnlnopy2MY7VeJx0oYOi4z97S9tXtqvXtfd6Mcp2itTuaxrPWpH1q4tLxUji81o7eQcbmXqp564IqPQ9VtU00C9v4VuDIxk8y4U857c9Kp/8AEvu7W/SW/topftjTW8nnrlTgYYc9OK66+OlUhSqUZJN6tX8tn2f6lOd0mjXttWX7Pez3zJFHb3LxBgD0GMfU81PDqdtP5oDOjxLvdJI2RgvrgjkVy1vdJJo7zTz2q3SX/wBr8jz0HmYxkdfr+VWxqdrf6jcXpmhtkWzaBFlmQNIxOegPSuajmlTlim1r33663vZWstP80JVDYGu2DQPOsjmBFDNKI228kDGcdeRxQNesDJ5YeXzCNyJ5L5kHqoxz+FY11c2R8EpZxXVr53kxgxiZc7sgt3+tXbi+09/EFlOt5alI4pAX85flJxjv9a2+v17pc8doN6fzNp/a+yrP8x8779jTh1K2ns2uYWd0RtrARsWDdMbcZzVW71VH0m+ls3ZJ7eMkq8ZVkOMjIYViNqItrW9+zXkS+ZqLO3lzJvMRAyVyetRR3UDx603noguYFEQmuUZ2wCOTnr7VhUzackoK12nf7pap37pfeS6nQ6SO8b+0BE8wIFoJTCIyWJz97I/LFPi1e0luHh3SRyJGZWEsTJhR35A4rH/tK1h1s3S3Nu6ppwQYnX5nDE7evWqlpfWV3aXsc8qxX17G3mTyyoEBxwo+YnArT+0pQlyRkt3vfZLTW+7fy3fq/aHR2+rWl1MkUbOGkUtHviZRIB1KkjmrtclpV9pwurP7RLKk1upAeW6Qxp8uDj5u9dD/AGxpv/QRtP8Av+v+NduBx6rUnKrKKd/Tou/ncuE01qy5RVP+2NN/6CNp/wB/1/xo/tjTf+gjaf8Af9f8a7/rFH+dfeiuaPcuUVT/ALY03/oI2n/f9f8AGj+2NN/6CNp/3/X/ABo+sUf5196Dmj3LlcT4h+INpoXjzTtGmlRbZ0P2yT/nkzY8vPp6n2YGupbWNOCHZqFmWxwDcKAT9a8E8R+FtR1Hx4kV7q+lPc6s0k3nRzkxRBQTtJxkcDA/CrjXoyfxL70Dkuh9EUVhaDqC2uhWlvrOqadLeQxiOSSG4BV8cBucHJGM++a0f7Y03/oI2n/f9f8AGo+sUf5196Dmj3LlFU/7Y03/AKCNp/3/AF/xo/tjTf8AoI2n/f8AX/Gj6xR/nX3oOaPcuUVT/tjTf+gjaf8Af9f8aP7Y03/oI2n/AH/X/Gj6xR/nX3oOaPcuUVT/ALY03/oI2n/f9f8AGj+2NN/6CNp/3/X/ABo+sUf5196Dmj3LlFVU1OwkbEd7bufRZVP9atVpCpCfwNMd0woooqxhRRRQBznjT/kH2H/X/H/Jq6Ouc8af8g+w/wCv+P8Ak1dHUrdmUf4kvkFFFFUahRRRQAVh+M/+RRvf+2f/AKMWtysPxn/yKN7/ANs//Ri0pbMzq/w5ejL2if8AIv6d/wBesX/oAq9VHRP+Rf07/r1i/wDQBV6hbFQ+FBRRRTKGySJDE0krBEQEsx6AVzDTaj4omZbGVrPTUbaZeQ0n+fSrfi+eSPRlgi+9cyrH+HX+grXsbRLGxhto/uxIFz6+p/OvHrqWMxLw12oRScraNt7K/a2rsZS9+XL0MaDwZpcY/fedO3cu+P5Yqx/wiei/8+f/AJFf/GtiiuiOWYGCsqUfuT/Mfs4djH/4RPRf+fL/AMiv/jR/wiei/wDPl/5Ff/Gtiiq/s7Bf8+Y/+Ar/ACH7OHZGP/wiei/8+X/kV/8AGj/hE9F/58v/ACK/+NbFFH9nYL/nzH/wFf5B7OHZGP8A8Inov/Pl/wCRX/xo/wCET0X/AJ8v/Ir/AONbFFH9nYL/AJ8x/wDAV/kHs4dkY/8Awiei/wDPl/5Ff/Gj/hE9F/58v/Ir/wCNbFFH9nYL/nzH/wABX+Qezh2Rj/8ACJ6L/wA+X/kV/wDGj/hE9F/58v8AyK/+NbFFH9nYL/nzH/wFf5B7OHZGP/wiei/8+X/kV/8AGj/hE9F/58v/ACK/+NbFFH9nYL/nzH/wFf5B7OHZGP8A8Inov/Pl/wCRX/xo/wCET0X/AJ8v/Ir/AONbFFH9nYL/AJ8x/wDAV/kHs4dkY/8Awiei/wDPl/5Ff/Gj/hE9F/58v/Ir/wCNbFFH9nYL/nzH/wABX+Qezh2Rj/8ACJ6L/wA+X/kV/wDGj/hE9F/58v8AyK/+NbFFH9nYL/nzH/wFf5B7OHZGP/wiei/8+X/kV/8AGj/hE9F/58v/ACK/+NaF7fQ6fb+fclhGDglVJx+VNl1G2huLeFnLSXHMYRScj146CspYXLotqVOCat0j10X39A9nDsij/wAInov/AD5f+RX/AMaP+ET0X/ny/wDIr/41sUVr/Z2C/wCfMf8AwFf5B7OHZGP/AMInov8Az5f+RX/xo/4RPRf+fL/yK/8AjWxRR/Z2C/58x/8AAV/kHs4dkY//AAiei/8APl/5Ff8Axo/4RPRf+fL/AMiv/jWxRR/Z2C/58x/8BX+Qezh2Rj/8Inov/Pl/5Ff/ABo/4RPRf+fL/wAiv/jWxRR/Z2C/58x/8BX+Qezh2Rj/APCJ6L/z5f8AkV/8aP8AhE9F/wCfL/yK/wDjWrNKsELSSHCqMnAzVL+27IdZG/74NP8As3Bv/lzH/wABX+RccPzq8YX+RX/4RPRf+fL/AMiv/jR/wiei/wDPl/5Ff/Gtiil/Z2C/58x/8BX+RHs4dkY//CJ6L/z5f+RX/wAaP+ET0X/ny/8AIr/41sUUf2dgv+fMf/AV/kHs4dkY/wDwiei/8+X/AJFf/Gj/AIRPRf8Any/8iv8A41sUUf2dgv8AnzH/AMBX+Qezh2Rj/wDCJ6L/AM+X/kV/8aP+ET0X/ny/8iv/AI1sUUf2dgv+fMf/AAFf5B7OHZGP/wAInov/AD5f+RX/AMaP+ET0X/ny/wDIr/41sUUf2dgv+fMf/AV/kHs4dkY//CJ6L/z5f+RX/wAaP+ET0X/ny/8AIr/41sUUf2dgv+fMf/AV/kHs4dkYknhDR3XCwPH7rK39SaoyaBf6KftOh3ckqpy1tKc7x+HB/SuporGplOElrCHJLo46NfcJ0odFYoaPq8Or2fmxAo6nbJGeqn/Cr9c3BENM8cNFCSIr6EyMvYNkn+h/OukrXAVqlWk41fii3F+bXX5qzHBtrUKKKK7yznPGn/IPsP8Ar/j/AJNXR1znjT/kH2H/AF/x/wAmro6lbsyj/El8goooqjUKKKKACsPxn/yKN7/2z/8ARi1uVh+M/wDkUb3/ALZ/+jFpS2ZnV/hy9GXtE/5F/Tv+vWL/ANAFXqo6J/yL+nf9esX/AKAKvULYqHwoKKKKZRgeJhuu9IU9DeL/ADFb9YPiT/j+0b/r9T+YrerzcN/vdf1j/wCkmcfikFFFFekaBRRRQAUUUUAFFFFABRRRQAUUUUAFFFFABRRRQAUUUyaaO3heaeRYoo1Lu7sAqqBkkk9AKAH0Vl/8JPoP/Qb03/wLj/xo/wCEn0D/AKDmm/8AgXH/AI0AXNQa3XT5ze8wbDvHqK5vwv8Au9R236yCdoB9lMn/ADy54FaN5rXhm/g8m61nT3jJyVF6q5/JqZJq/haeeGd9X03zLfiNlvVXb7cNXlYnCVauJhXjb3PxvvfTotY+YXN6isv/AISfQB11zTf/AALj/wAaP+En0H/oN6b/AOBcf+NeqBqUVSs9Z0vUJzDYalaXUoUuUhnV2CggZwD05H51doAKKKCQASeAOtABRWaPEWjEAjVbMg/9N1/xoPiLRRjOq2fJwP368/rQBoSSLFGzyMFVRkk9qzLeM6leC8mBEEZxChHX3pZtc0OeJo5dTs2Ruo89Rn9apC68KsSFvrM7Tg/6V0P51SOinKEYu97+n/BOhorNPiLRVUk6rZgAZJ89f8aX/hIdG/6Cln/3/X/GpOc0aKpW+s6Zd3CwW2oW00rZ2okoJOBk8VdoAKKKKACiiigAooooAKKKKACiiigDAv8AjxtpR9YpB/461b9c1q15b23jDTZZ5kRI45N5Lfd+Uirh8WaPv2JdGRvRInP9K48Bh6rnWai7Ofb+7E5PrNCnKSnNLXq12Rs0VjL4osGzsS6bHcW7f4U7/hJbL/nld/8AgM3+Fen9Xq/ysf1zD/zr7yn40/5B9h/1/wAf8mro64vxPrllf2VosBlBjvEkbfEy4UA57e9b8XibRpcbL+Mf74K/zFT9XrJtuD+4yhi8O6kv3i6dUatFVItV0+b/AFV9bOfRZVJ/nU32q3/57xf99iocJLdHYqkJK6aJazdeu7+x0w3GmRxSPGwMglBICdyAOeOPwzWlVPU7p7S3R457WEmQKTdEhTweMjoah7Dn8LMmObxZLGsiJpRVgCD8/I/OpPF+/wD4Q2683G/Ee7b0zvXNU7TxHqBntle3+1q0crMLZ1Zmw4AOOMYH55zVzxe2/wAG3bbSu4RnDDkfOvWo6M57p05Wb2/Q0NE/5F/Tv+vWL/0AVeqjon/Iv6d/16xf+gCr1Wtjoh8KCgEHoc9uK5vxd4wHhVbUDSrzUJbosI1t1+UEY4J5OeeOOxrxaHx/4i0bxRqM2m74BeXbyvp86lwjs2SuOCDzg4wTVqLY27Ht/iT/AI/tG/6/U/mK3q4ePV9Q1q10K71XSJNLla8TEcjg7uRzjqo9jzXcV5eG/wB7r+sf/SURH4pBRRRXpGgUUUUAFM86Lz/J8xPN27/L3DdtzjOPTPen1zp/5Ken/YHb/wBHCgDoqKw/FGqf2baW+y+ltZpptqRW1sJ5p+DlUX16EnBAA96wdN8R63e6Nr+zzVu9KkSSH7VaiKWSPaHKOg4DEAgEY6g8U7CO6ornY/Ef23Wn+wN5mn2umi8lZQD5jScxqD2wqsf+BD0rndF8Wa/qMml3P2TUpFvJk8+M6cFtkic/eSQfN8oIOTkEA9KLBc9EqJLmCS4kgjmjeaLHmRq4LJnpkdRWHezatd+LJdMsb1bO1jsop3kESu+5nkXAzxztHXPT3zXMRRHRvGmqeIJpGmkgu7exvXUbQ8UkEQ346DD7W+hNFgPRILiG5j8y2ljmTJG6NgwyOoyKkrzLwlqN7DoGk6Zp0y28mo6pdo85QOURN7naDxk4A5z9K6zRdSvmu9c06/mW4l02RRHcBApdHjDjcBxkZI4x9KLAdDRXLaPNrtx4bt9av9TjJlshP9ljtlC8x5BLHndnk9u2O9YA8R+IYUaeTUo5Et49PndDbKPMFw+1kyOgHUHrzzRYLnf3WoW1lNbRXMm2S6l8qFQCS7YJ7ewJz0qh4u/5EnXP+wdcf+i2qvcMZviNZRSqClvps00WR/G0iKT+CjH/AAI1Y8Xf8iTrn/YOuP8A0W1AD9o9B+VVJFH9sW/A/wCPeXt/tR0edqH/AD5wf+BB/wDiKqyTX/8Aa9v/AKJDnyJcD7Qf70f+zXzEYu5zmrtHoPyrJ8OKP7Lm4H/H/edv+nmSrfnah/z5wf8AgQf/AIisvw9LfDTJtlpCw+3XfJnI5+0yZ/h9apJ8j+X6gamqqP7HveB/x7v2/wBk1b2j0H5VlanNfnSLzdaQgeQ+SLg/3T/s1a87UP8Anzg/8CD/APEVPK7ANjAHjawwMf8AEuu//RlvXRVy9o9w/jax+0wpFjTrrbsk35/eW/sK3NV1A6Xp73S2V1fFSB5NpGHkbJxwCRXu4T+DH+uptDYuU2X/AFL/AO6a5Dwt4xu9W1C4tLrR9WQNdyqk8tsqxwIBkI5B4YYx35I5rrpf9S/+6a6S0cFaf8eUH/XNf5U25/4+LT/rsf8A0BqitXu/scOIIMeWv/LY+n+7Tbh7vz7XMEP+tOP3x/uN/s10H011Yv1R0/8A4+dQ/wCvn/2mlTb7z/nhB/3/AD/8RVKwe7+0X+IYf+Pnn98f+eaf7NMG1dF3UP8AkG3P/XF/5GrFZ9+93/Z1zmCHHlNn98fQ/wCzVjfef88IP+/5/wDiKB3VzQ0v/kP2P++//otq6u4vYLWW3juJNjXMnlRZBwzYJxntwD1rj9Ga4PiGx86KJV3PyshY/wCrbttFW/ia3lfD++uUk8qa2eGaF+6uJVwRWMviPExr/es6yimRMXhRnGGZQSPQ0+oOMKKKKACiiigAooooAgvbkWVhPcldwhjZ8euBnFY0GnahrMEdxql+8MMqh1tbX5AAeQGbqa3nRZY2SRQ6MMMrDIIpQAqhVAAAwAO1bQq8kfdWvc5qtD2s/ffu9vPz7+hysmk2Nh4t0uC2t1EbJIzBvm3Ha3JzXVKqouEUKPQDFYWof8jtpX/XOT/0Fq3q8vC1alSpX55N+/1/wxHRpwp3UElr09EFFFFdx0HOeNP+QfYf9f8AH/Jq3pLW3l/1sEb/AO8gNYPjT/kH2H/X/H/Jq6Okm03YxSTnK/kZ76DpT/e062H+7EB/Kov+EY0b/nwj/M/41q0Vsq1VbSf3kvC0HvBfcgoIBGCMg9qKx/Et61nYwAXBtVnuFiknXrGuCSR78Y/GsW7G0pKKuxD4W0w3McpgXCK4IxgsWOckjnI6D61H4xUJ4PvFXoBGB/32tY8eqRSTzWUviRlsoyrJMP8AXSZHK7scAEdcZ5rW8W7B4KufKOU2x7TnqN64qNLOxz80XTlyroaOif8AIv6d/wBesX/oArG8eX2t22hLb+GLS4mv7uRY1mhXItxkZY+np+Z7Vs6J/wAi/p3/AF6xf+gCsnWvF39keL9I0P7F539pZ/f+bt8vnH3cHP5itIm8fhRv2qTR2cKXcglnWNRLIq4DNjkgdsms+w8M6RpmpXOo2llGt7cyNJLcMNzkscnBPQewrVooLMHxJ/x/aN/1+p/MVvVz3ithE2mTtwsd2pJ/X+ldDXm4Z/7XXX+H/wBJM4/HIKKKK9I0CiiigArE1Xwymp6tHqMep6hYXCQGDdZui7k3bsHcjd626KAOfufCMV1bWnm6pqD31lI0ltqDOhmj3DDD7u0gjjBFPttHg8NQ6je2cV9qU92UeaMurvKwAXIztHPU849ABgVu0UwOZ8D+H30Pw68N3bJBNdTPM9uH3iJWOFj3d9qgD061YsfC39nXUX2PV9RjsYWzHYB08pR/dzt3bfbNb1FFwKqafEmry6iGfzpYEgZcjaFVmYHpnOXP6VXGhWmdV375F1U5uEcjH+rEeBx02r3zzWlRSA5m18C6fY6Db6ba3V4j2k7XFveGRTNE7Zyc7cEEEjBB4NaelaFBpdtcKJprme7bfc3MzAyStjGTgADAAAAGOK06KdwKdvpkNtocWlRtIYIrYWysxG4qF25zjGce1Zb+DdPeGaIzXO2aK1ibDLkC3bcmPl6k9f0xXQUUgM3UNMlutW02/tpxDJZu4kBGfNidcMn5hG/4DUPi7/kSdc/7B1x/6Latiq2o2Mep6Xd2E7OsV1C8LshAYKylSRnvg0AVKqSf8hi3/wCveX/0KOpP+EeuP+hg1P8A74tv/jNMPhmYzLKdf1PeqlQdltwCQT/yy9hXjrAVF1X4/wCRjyMtVk+HP+QXN/1/3n/pTJV//hHrj/oYNT/74tv/AIzUVt4UeziaO317U1RpHlI225+Z2LseYu5Ymn9Rqctrr+vkHIxdV/5A97/17v8A+gmrdVZfDM08LxS6/qZSRSrDZbcgjB/5ZU//AIR64/6GDU/++Lb/AOM0vqFS1rr8f8g5GQR/8jtYf9g67/8ARlvXRVk2OgfZNUS/m1K8vJY4XhRZxEFVXZGb7iLzmNeta1elQpunTUH0NIqyILWyt7Pzvs0fl+dK00nJO526nmpZf9S/+6adSMAykHoRitijgLT/AI8oP+ua/wAqbc/8fFp/12P/AKA1dKnhOzjjVFubvCjA/eD/AAobwlZOyM1zd5Rty/vB1wR6e5rbnR7P16lbZmFVHT/+PnUP+vn/ANppXW/8Iraf8/N3/wB/B/hUcfg+xiaRkuLwGV97fvBycAenoBRzoHjqTa0Zzmof8g25/wCuL/yNWK3ZPCNlLE8b3N2VdSpHmDofwp3/AAitp/z83f8A38H+FHOg+vUr7MyNL/5D9j/vv/6Lat/XNHTXIbW2uCPsqXCzTxkf60Lkqv03bSfYY70y08O2tnex3KTXDvFnaHcEcgj09DWtWcnd3POxFSNWpzIKKKKk5wooooAKKKKACiiigAooooAwdQ/5HbSv+ucn/oLVvVgXp3eOdNUfwwOx/EMK368zAu86/wDj/wDbYmcN5eoUUUV6Zoc540/5B9h/1/x/yaujrnPGn/IPsP8Ar/j/AJNXR1K3ZlH+JL5BRRRVGoVma1crb/YVkSFo5rpY381QQAVY556HitOs3X1sf7LL6nbm5jRgUiH3mc8AD1PNJ7ET+FmXNqFolvq7JBYbrP8A1HyL8/yA8+vJ7VL4pcyeBp3IALRxEgDgfOtZTW+m2ojl1Twu1pauwHnedv2Z6FgDkVseL1VPBt2sYwqiMLj03rUdGc124Sv2NDRP+Rf07/r1i/8AQBVfUYtBbXLCTUzZjU1/48/NcCT/AIACcmrGif8AIv6d/wBesX/oArH1zwk+seL9G1pbxYl00kmIx5MnOeueK0Wx1R+FHTUUUUFGZ4h046lossMa7pVw8Y/2h/8AWyPxpnh7VV1DTkSVsXUI2TI3DZHGa1qxNT8OJdXn26xna0vQc715DH3FeXiaNalXWKoLmdrSjtddGvNee6M5JqXNE26K51m8V2/CrZ3f+0OP6im/bfFv/QMtP++h/wDF0v7SitHSn/4C/wBLi9p5P7jpKK5v7b4t/wCgXaf99D/4uj7b4t/6Bdp/30P/AIuj+04f8+p/+AMPaLs/uOkorm/tvi3/AKBdp/30P/i6Ptvi3/oF2n/fQ/8Ai6P7Th/z6n/4Aw9ouz+46Siub+2+Lf8AoF2n/fQ/+Lo+2+Lf+gXaf99D/wCLo/tOH/Pqf/gDD2i7P7jpKK5o3/itVLNploABkkuOP/H6X7b4t/6Bdp/30P8A4uj+04f8+p/+AMPaLs/uOkorm/tvi3/oF2n/AH0P/i6Ptvi3/oF2n/fQ/wDi6P7Th/z6n/4Aw9ouz+46Siub+2+Lf+gXaf8AfQ/+Lo+2+Lf+gXaf99D/AOLo/tOH/Pqf/gDD2i7P7jpKK5v7b4t/6Bdp/wB9D/4uj7b4t/6Bdp/30P8A4uj+04f8+p/+AMPaLs/uOkorm/tvi3/oF2n/AH0P/i6Ptvi3/oF2n/fQ/wDi6P7Th/z6n/4Aw9ouz+46Siub+2+Lf+gXaf8AfQ/+Lo+2+Lf+gXaf99D/AOLo/tOH/Pqf/gDD2i7P7jpKK5v7b4t/6Bdp/wB9D/4uj7b4t/6Bdp/30P8A4uj+04f8+p/+AMPaLs/uOkorm/tvi3/oF2n/AH0P/i6Ptvi3/oF2n/fQ/wDi6P7Th/z6n/4Aw9ouz+46Siub+2+Lf+gXaf8AfQ/+Lo+2+Lf+gXaf99D/AOLo/tOH/Pqf/gDD2i7P7jpKK5v7b4t/6Bdp/wB9D/4uj7b4t/6Bdp/30P8A4uj+04f8+p/+AMPaLs/uOkorm/tvi3/oF2n/AH0P/i6Ptvi3/oF2n/fQ/wDi6P7Th/z6n/4Aw9ouz+46Siub+2+Lf+gXaf8AfQ/+Lo+2+Lf+gXaf99D/AOLo/tOH/Pqf/gDD2i7P7jpKK5v7b4t/6Bdp/wB9D/4uj7b4t/6Bdp/30P8A4uj+04f8+p/+AMPaLs/uOkorm/tvi3/oF2n/AH0P/i6Q6h4rDBTptmGPQbxk/wDj9H9pw/59T/8AAGHtF2f3HS0Vzf23xb/0C7T/AL6H/wAXR9t8W/8AQLtP++h/8XR/acP+fU//AABh7Rdn9x0lFc39t8W/9Au0/wC+h/8AF0fbfFv/AEC7T/vof/F0f2nD/n1P/wAAYe0XZ/cdJRXN/bfFv/QLtP8Avof/ABdH23xb/wBAu0/76H/xdH9pw/59T/8AAGHtF2f3HSUVzf23xb/0C7T/AL6H/wAXR9t8W/8AQMtP++h/8XR/acP+fU//AABh7Rdn9x0lRz3EVrA81w4jjQZZj2rAFz4skODZWkXuWH/xRoPh2+1OZJNevhJGhyIIBhfz4/l+NKWPq1FahRk5f3lyr531+4Odv4UN0DzdV1q61mYFYgPKtwRj5f8AP6k10tNjjSGJY4lCogCqo7AU6urB4Z4alySd5O7b7t7lxjyqwUUUV2FHOeNP+QfYf9f8f8mro65zxp/yD7D/AK/4/wCTV0dSt2ZR/iS+QUUUVRqFZutWl3dR2jWIiaS3uVmKysVBABHYHuRWlWP4kYm0tbcyNFDc3SQzOpwQpyevbJAH40nsRUtyu5Xv49d1GwuLNrfTwJEKMROxK57/AHaPFaNH4IuEfllSIHHqHWq+t6FpmmaLLd2amyuLdd0U0bncW7A8856VY8Vu0nge4eQYdkiLD0O9al7MwldRlfe3+ZpaJ/yL+nf9esX/AKAK57xK/iBfHHh8aV9q/s0sftvlLlMZH3vwrodE/wCRf07/AK9Yv/QBWTrvi7+xfFOjaN9i87+1HK+d5u3yuQOmDnr6iribx+FHSUUUUFhRRRQAUUUUAFFFFABRRVLUtVttKSBrvf8A6RL5UYRdxLbWb+SmgN9EXaKyP+Emsf7lx/36NRReLdNmkmSMXBaF9jjyjwdob+TCnZmns5/ys5L4x+KG0rQotHsp9lzf584KfmEPQ/TcePoGrc+HHihPEvhOAyTGS+tFEV0GPzZ7Mf8AeAzn1zWD490jQ/EemXl3b2zJq5RBHdT+YFRVYE8DI+6G7dT+NaPhGz0DwtYwm3s5Y797aOO7lj8xllcAbiAxx97J6DrVW0F7Kpf4Wd1RWM3inT0ZFZbgFztX90eTgn+QNO/4Sax/uXH/AH6NTZj9lU/lf3GvRVTT9Sg1KKSS23gRv5bB1wc4B/kwq3SIaadmFFFFAgooooAKKKKACiiigAooooAKKKKACiiigAooooAKKKKACis681u0sbs28wlMgQOdiZGDnH8jVeTxTp8UTSOtwFQFifKPAFOzLVObV0mbNeJ+NfiFLZ/FG2nsMvb6OTA6buJST+9Ht2X6rmvU28SWDoVKXOGGDiMg/mK861Dwh4Zk8X6bPb2OzS9kn2u3dpi8zbTtIOT0OD94fjVRXcHSqfys9ZtLqK9sobq2bfDPGskbDupGQfyNS1zumalo2jadHY6bb3ENtFnZHtZtuTnqxJ6mrK+KdPdnVVuCUO1v3R4OAf5EVNmP2VT+V/cbNFY7eJ7FVLFLjAGT+6Na0biSNXX7rAEfQ0iZRlHdWHUUUUEhRRRQAUUUUAFFFFABRRRQBznjT/kH2H/X/H/Jq6Ouc8af8g+w/wCv+P8Ak1dHUrdmUf4kvkFFFFUahWdrE0SxW9tPAs8d5OsDK54AIJz+laNZ+tRWc1gFv7pbQBw0UxcKUccggnv1pPYmfwsz7rQtL0izlv47Tz2tkMiRTTMVGB6HI/Sl8WSCbwVcygYDrEwH1daoyeTfR/Z9V8VWs9ocbo4/LjZ8dMtmr/i/YPBl15WNm2Pbg8Y3rip6Oxzu3JKysreX6Ghon/Iv6d/16xf+gCq+pxaC+s6e+rGzGoK3+hec4Emcj7gJyecdKsaJ/wAi/p3/AF6xf+gCsfxB4SfW/FOiaut4sI0uQuYjHu8zkHrnjpVrY6I/CjpqKKKCgooooAKKKKACqGpz3NtGJYZIkjAwQ4JJPtV+qN7p73dxFKs/l+WPlUx7hn1601ua0XFTXNsEN68VlHJqA2ySHhVXt2rH8adNF/7CB/8ASeatqW1nlsjDJMJZC4O4rt4BBxx9KqeINGl1mGzFvcpbyWtx54Z4jIG/dumMBh/fz17U1a9y1KCnGXn/AJHOVnab/wAf+r/9fi/+iIq6H/hFtU/6Clp/4BN/8dqC38GalbzXMi6tak3EokYGybghFTj956KK050em8ZRbWpnah/yDbr/AK4v/I1Yqv4qsLnQPDN5fX+q2nlrGUVFs2DSM3AUfvev9MntWhp+iXup6bb31pq9o8FxGskZ+xN0Iz/z160+ZD+u0b7mfc/8fFp/11P/AKA1WKuyeEdTkeJjqtoPLbcP9Cbngj/nr70//hFtU/6Clp/4BN/8dpc6BYyj3LvhX/j1vv8Ar6/9pR1u1maHpc2lW06XNxHcPNN5m6OIxgDaq4wWP93171p1k9WeRVkpVHJBRRRSMgooooAKKKKACiiigAooooAKKKKACiiigAooooAy7+5voLpUgaFvMOI48Zb8asrehCkU4bzPlV2VflDHtmon06c30lzFebGcYGYg2B6dac1tdPcRtMySpGQV+Yrk92Ix1/Gq0Ot+zcUtNvRmDrv/ACMEn/XCP+b1k6h/yDbn/ri/8jXSatoF5f6mbq1voIFaNUKSW5c5BPOQ49fSqE/hHU57eSJtVtAJFKkiybjIx/z1q1JJHXRxVKNJRb1KVVbj/kIWn1f/ANBra/4RbVP+gpaf+ATf/Ha5/U4ZrHxjpGjXGq2gnu0kdGNowC8YUH95/Fgge4quZGzxlHuaFV7b/j4u/wDrsP8A0Ba2P+EW1T/oKWn/AIBN/wDHaZH4R1ON5WGq2h8xtx/0JuOAP+evtRzoHjKPcz5v9RJ/un+VdvZ/8eMH/XNf5VzTeFNTZCp1W05GP+PJv/jtdRDH5VvHGTuKKFzjGcCs5tPY4cXWhVa5R9FFFQcIUUUUAFFFFABRRRQAUUUUAc540/5B9h/1/wAf8mro65zxp/yD7D/r/j/k1dHUrdmUf4kvkFFFFUahWbr2qW+kaabi6i87LBY4yPvNg457dDzWlWdrF/8AYfsRJjEc10sUjSdApVjn26UnsRN2izm4bzStSZZ9dv7ZF6rYw8Iv+8R94/pWt4u2HwZdeVjZtj246Y3rimTeIIFt9WaOSz32v/HvyD5nyA+vPJxxS+KpDL4HnkbALpExx7utR0Zz6cktb6M09E/5F/Tv+vWL/wBAFc94qfxAvjHw6NH+1f2eZj9u8lcpt3L978M10Oif8i/p3/XrF/6AKyfEPi46D4k0TSvsXn/2rL5fm+bt8r5lGcYOfveo6VpE6I/CjpKKKKCwoorgdb+IN7Nr8mgeDNPXUL6IlZ7iUkRQkcH649SRzxzQB31FeX/8Id411LM+q+Nri0mbkx2YYIPb5WQfpS/8K98S/wDRQtV/8if/AB2p54dyuWXY9PorzD/hXviX/ooWq/8AkT/47R/wr3xL/wBFC1X/AMif/HaOeHcOSXY9PorzD/hXviX/AKKFqv8A5E/+O0f8K98S/wDRQtV/8if/AB2jnh3Dkl2PT6K8w/4V74l/6KFqv/kT/wCO0f8ACvfEv/RQtV/8if8Ax2jnh3Dkl2M741LrV40IjsZBo9iokkuP4Wkc7Rn6ZAH+8a2/hA+uwaCbLV7OSOxCLPYzvjDI/JX6cgj6ms+7+GWt39q9tfeOdQuYHxvimR3VsHIyDLg8gGnw/DfxBbwRw2/j7Uooo1CJGiyKqqBgAAS8ACn7SFrXF7OV72PUqK8w/wCFe+Jf+ihar/5E/wDjtH/CvfEv/RQtV/8AIn/x2lzw7j5Jdj0+ivMP+Fe+Jf8AooWq/wDkT/47R/wr3xL/ANFC1X/yJ/8AHaOeHcOSXY9PorzD/hXviX/ooWq/+RP/AI7R/wAK98S/9FC1X/yJ/wDHaOeHcOSXY9PorzD/AIV74l/6KFqv/kT/AOO0f8K98S/9FC1X/wAif/HaOeHcOSXY9PorzD/hXviX/ooWq/8AkT/47R/wr3xL/wBFC1X/AMif/HaOeHcOSXY9PorzD/hXviX/AKKFqv8A5E/+O0f8K98S/wDRQtV/8if/AB2jnh3Dkl2PT6K8w/4V74l/6KFqv/kT/wCO0f8ACvfEv/RQtV/8if8Ax2jnh3Dkl2PT6K8w/wCFe+Jf+ihar/5E/wDjtH/CvfEv/RQtV/8AIn/x2jnh3Dkl2PT6K8w/4V74l/6KFqv/AJE/+O0f8K98S/8ARQtV/wDIn/x2jnh3Dkl2PT6K8w/4V74l/wCihar/AORP/jtH/CvfEv8A0ULVf/In/wAdo54dw5Jdj0+ivMP+Fe+Jf+ihar/5E/8AjtH/AAr3xL/0ULVf/In/AMdo54dw5Jdj0+ivMP8AhXviX/ooWq/+RP8A47R/wr3xL/0ULVf/ACJ/8do54dw5Jdj04napPPA7CvnPxZY+JtY8fGWfTrqC9vXL2cBYbgiDjHPGAM/XNd9/wr3xL/0ULVf/ACJ/8dqvJ8L9ZlvYryXxvfPdQgiKdo3Lxg8EK3m5GcnpTVSC6icJPoei+H7q9vPD9nNqts9remMCeJ+occE/Q4z+NaVeYf8ACvfEv/RQtV/8if8Ax2j/AIV74l/6KFqv/kT/AOO0ueHcfJLsen0V5h/wr3xL/wBFC1X/AMif/HaP+Fe+Jf8AooWq/wDkT/47Rzw7hyS7Hp9FeYf8K98S/wDRQtV/8if/AB2j/hXviX/ooWq/+RP/AI7Rzw7hyS7Hp9FeYf8ACvfEv/RQtV/8if8Ax2j/AIV74l/6KFqv/kT/AOO0c8O4ckux6fRXmH/CAeJ0+aP4gamzDoH8zB/8iml/4SXxl4KjRvFFvFrGlq4D3tt/rI1PHI4/Ue2aalF7MTjJbo9Ooqrpmp2msabBf6dMs1vOu5HH8j6EdCKtUxBRRRQBznjT/kH2H/X/AB/yaujrnPGn/IPsP+v+P+TV0dSt2ZR/iS+QUUUVRqFRXFrb3cYS6gjnQHIWRAwB9cGpaKA3KX9i6X/0DbP/AL8L/hWf4xUL4PvFUAACMAAdPnWt2sPxn/yKN7/2z/8ARi1MtmZVElTlbsy9on/Iv6d/16xf+gCq+qxaC+rac+sGzF8r/wCg+e4D7sj7gJ5OdvT2qxon/Iv6d/16xf8AoArH8SeEn17xHoWqLeLANKm80xmPd5vzKcZzx939apFx+FHTUUUUFHIfE7XZdE8GSrZs63l84tYDH94FupH/AAEEfUin+DvDkXhnw7BaCNRdOoe6cHJeQjnnuB0FZPxXkW1Xw5fT/wDHtbarG0vpjr/JTXZghlBUggjII71lWbska01q2FFFFcxsFFFFABRRRQAUUUUAFFFFABRRRQAUUUUAFFFFAHPz+M9Oh1Gezigv7preTy5pLa0eRI29CwHWugJAxk4z0rzrWL+28O6td6l4b16GWWS6zeaGzq5nlLBW2D7yt+B5HpxVXXYk1HxZrEOutp0P7qL7EdTuWh8pCnLRYGCd+cn1Fa8iZHNY7yTXbeLxPDobRy/aJbY3KuANgUHGOuc8elRaD4kg8RLJNYWtwLRWKpdSbAkhBwcDdu/EgVy1tbmbx/o1vfzR3u/w9sllUkrMCSC2e4PX8aj+GlpNbeBYL3R7C0lvbiV1neeZotyqxxyFbOPTFDikrgpO52eva/YeHNO+2am7LGWCKEXczHrwPoCfwqe71WysNPW9u7hY7ZigWTBOdxAXp65FcXq4v9d8Z26x6ZDqCaRbFbq3+07IxNMpBAYr8wC+w69qwNSuftnw4FlrMG270PUY7Wbec7Y92Afpt4z3xnvTUE7Cc3qery31tBcwW8syrLcbvKTPL7Rk/kKnLAEAkAnp715tq+neFY/E/hyUR6eNHkhuUMu9fJJHIG7OPvFvxJrP1WMX/irxFFqt5p9tcxsosptRumia2TGVeHjHXBOO9JQTHz2PWSwGckDHJzVe8v7bT7dZryZYo2dY1YgnLMQFHHqTXDw6YmreMtNtNZmXUI/+EfSSYq58u5YSABj03DnPPfBrHuba1bwDEl4oe2sdeMKmU5EUPm4I57Y4oUEHMz1E3Q+3paiGU742k84L+7GCBtJ9eensam3DdjIz6ZrjLZLGLxdZp4d+zm2XRrn7P9nYMm7zlzgjj72fxrnrL+y00bR7q0mQ+LHvIxMPNP2hnMmJVkGcgbd2cjHFLkuHMeqFlHUgc460tecW2gadrWreMTqcHn+VcHytzH92fL5YDseBz7V2HhKaS48HaRLM5eRrOIsxOSTtHJpSjZDTua9FFFQUFFFFABRRRQAUUUUAFFFFABRRRQAUUUUAFNlijniaKZFkjcbWRxkMPQinUUAcD4Ogl8H/ABHvfDStnTdQiN3aAnJQjt+QYf8AAVNem155qBE3xt8PpHy0FlM8mOwKuBn8a9DrtTbimzlas2gooopiOc8af8g+w/6/4/5NXR1znjT/AJB9h/1/x/yaujqVuzKP8SXyCiiiqNTBaz8Ubvl1axI97Qj/ANmpPsfir/oK2H/gKf8AGt+isPYR7v73/mdX1qX8sf8AwFf5HPPaeLAPk1PTife2Yf1rJ8SQ+JU8N3R1C70+WD5N4jiYN98Yxzjriu3rE8YjPhK9+if+hrUyw6s/ef3sipi5Km/djt/KjL0tfGA0mzNq+jNB5CeWJRLu27RjOO+Kz9al8brrGkERDasuZE08t5Uo3LxIWB2j39zXYaEc+HtP/wCvaP8A9BFZXiTxcfD2vaFpv2L7R/a8/k+Z5u3yvmRc4wc/f9ulKOHfScvv/wA0XHFpxV6cfu/yZvWkk8tpG93CsE5Hzxq+8Kfr3qaiiulaI5m7u5jeLPD8fifwzd6XIVV5FzFIwzsccqf6fQmuO8EeKjbIPDPidhZatYsIEWVv9cuPlwemcY788EV6VWH4m8H6R4rtPK1S3/eqMR3MeFkj+h9PY5FEoqSswTcXdF2iuEHwp1W3+TTvHGp20I+6mGOPykH8qP8AhWHiL/ooWp/98yf/AB2svY+Zr7XyO7orhP8AhWHiL/ooWp/98yf/AB2j/hWHiL/ooWp/98yf/HaPY+Ye18ju6K4T/hWHiL/ooWp/98yf/HaP+FYeIv8AooWp/wDfMn/x2j2PmHtfI7uiuE/4Vh4i/wCihan/AN8yf/HaP+FYeIv+ihan/wB8yf8Ax2j2PmHtfI7uivONX8C6voekXGpah8RdUS3t03OQkhJ7AD991JwPxqxb/DjXbu1iuLb4i6lJDMgeNwsmGUjIP+t9KPY+Yva+R39FcJ/wrDxF/wBFC1P/AL5k/wDjtH/CsPEX/RQtT/75k/8AjtHsfMftfI7uiuE/4Vh4i/6KFqf/AHzJ/wDHaP8AhWHiL/ooWp/98yf/AB2j2PmHtfI7uiuE/wCFYeIv+ihan/3zJ/8AHaP+FYeIv+ihan/3zJ/8do9j5h7XyOtGh6UuofbxplmLzdu+0CBfMz67sZz706+0jTdUKHUtPtbsx/cM8Kvt+mRXIf8ACsPEX/RQtT/75k/+O0f8Kw8Rf9FC1P8A75k/+O0eyfcXtF2O0Wws1uY7hbWATxx+UkojG5U/ug9QPaltLO1sLcQWNtDbQqSRHDGEUZ68DiuK/wCFYeIv+ihan/3zJ/8AHaP+FYeIv+ihan/3zJ/8do9j5h7RdjtorW3gklkggjieZt0rIgBkPTJI6n61FJplhN9o82xtn+1Y+0boVPnY6buPmx2zXHf8Kw8Rf9FC1P8A75k/+O0f8Kw8Rf8ARQtT/wC+ZP8A47R7J9w9oux1r6HpUlhHYvpto1pG25IDApRT6hcYB5P50690jTdSdG1Gwtbto/uGeFXK/TIrkP8AhWHiL/ooWp/98yf/AB2j/hWHiL/ooWp/98yf/HaPZPuHtF2O1WztkuFuEt4lmWPylkCAMEznaD1xnt0qM6ZYNaS2psrc28zFpIfKXY5JySRjBJPOa47/AIVh4i/6KFqf/fMn/wAdo/4Vh4i/6KFqf/fMn/x2j2T7h7RdjsbbTLCy8v7HZW8BiQxxmKJV2KTkqMDgE849aRNK0+PUGvo7C2W7brcLCokP/AsZrj/+FYeIv+ihan/3zJ/8do/4Vh4i/wCihan/AN8yf/HaPZPuHtF2O1jsrWJp2itoUa4OZisYBlOMZb149afDBFbQJDbxJFFGoVI41CqoHYAdBXD/APCsPEX/AEULU/8AvmT/AOO0f8Kw8Rf9FC1P/vmT/wCO0ex8w9p5Hd0Vwn/CsPEX/RQtT/75k/8AjtH/AArDxF/0ULU/++ZP/jtHsfMftfI7uiuE/wCFYeIv+ihan/3zJ/8AHaP+FYeIv+ihan/3zJ/8do9j5h7XyO7orhP+FYeIv+ihan/3zJ/8drOufBmq2mvWWkTfEXVRd3ySPEoSTGEGTn999cfQ0ex8xe18j0yiuE/4Vh4i/wCihan/AN8yf/HaP+FYeIv+ihan/wB8yf8Ax2j2PmP2vkd3RXCf8Kw8Rf8ARQtT/wC+ZP8A47R/wrDxF/0ULU/++ZP/AI7R7HzD2vkd3RXCf8Kw8Rf9FC1P/vmT/wCO0f8ACsPEX/RQtT/75k/+O0ex8w9r5Hd0Vwn/AArDxF/0ULU/++ZP/jtH/CsPEX/RQtT/AO+ZP/jtHsfMPa+R3dY/iLxPpvhmwefUJ0EmwtFbhvnlI7AfXv0Fc5/wq/xAeH+IOpsvcbZP/jtamgfC7SNIvxqGoTTaveg5WS7OVU+oXufqTQqK6sTqvoin8OdE1C4v77xb4iieO+v/AJbaN/8AlnCcHgduwGecD3r0KiitjIKKKKAOc8af8g+w/wCv+P8Ak1dHXN+ND/oWnj1v4/5NXSVK3ZlH+JL5BRRRVGoUUUUAFZXiePzfDF+o7RFvyOf6Vq1DeQfabGeD/nrGyfmMUnsTJXi0UPDEol8MWDDtEF/Lj+lJq8WgvqWmtrRsxeLL/oH2hwHL5X7gJ5OdvT2rP8C3AbQntH4mtZWV0PVcnP8APP5UeJ/CT+Idd0DUUvFgGkXPnshj3eb8yNjORj7nv1ojsRSd6aZ01FFFM1CiiigAooooAKKKgkvbeK7W2klCyupZVIPIHXnpUylGKvJ2AnoqG1u4b2ATWr+ZGSQGwRnH1qlrFzewG0j0+SCJ5pSrNNEZAAFJ4AZfT1pe0g4c6em9wehp0VgeZr3/AEENP/8AAB//AI7Ve3vtfmvLqE3ungW7KoP2F+cqD/z196w+t0e/5kc6OE+Nur3c0ltpNvbzi0twJ7iYKdhY8KuenH/sw9K3Pg9rl7eaAdJ1C2lT7Goa2mdCBJE3QZPXH8iPStjW7HUdX0W5stTuNPuLWRQzxfY5V3bSGHKzAjkCpNJ/tiHRbKK1u9PhgS3jWOP7FI2xQowMmbJwO5qvrlDl3/MXMr3Oqorm5rvX4prdPt2nnzpCmfsL8fKzf89f9mpfM17/AKCGn/8AgA//AMdqfrdHv+Y+dG/RVHSprqaGYX0kMkscu0NDEYwRtU9CzevrV6umMlJJovcKKKKYBRRRQAUUUUAFFFFABRRRQAUUUUAFFFFABRRRQAUVUl1OzglmjmmCPCm+QEHhfX369qsQTR3ECTQndG43KcEZH41nGrTlLljJN+oD6Kxr+51T+1JIbG5tYYkjRsTWzSMSS3cOvoO1VLu71+2sp5xfaexijZ8fYX5wM/8APWs5YmlGXK3qTzJHRkhVJY4AGSa+b/F+uavq/j5tStoryGSN8WCmJg6oh4IGPqx+pr3LzNe/6CGn/wDgA/8A8drJvbG+l8TaZqE82nvewrIkE/2SUeWCpz8omwcgnqKUcZQ7/mS5JnR+H9UOteH7O/eJ4ZJowZI5FKlHHDDB9wfwrSrA8zXv+ghp/wD4AP8A/Haihu9flmuE+3aePJkCZ+wvz8qt/wA9f9ql9bo9/wAx86OkornZrjXooJJPt+nnYpbH2F+cD/rrW9bu0trFI+NzIGOOmSK1p1oVfgZSaexJRRRWowooooAKKKKACiiigAooooA5jxg+640a37yXikD6ED/2aunrmNR2ah49062BDizjaaQD+Enp/wCyn8a6epW7MaespMKKKKo2CiiigAooooA5LVWk8M+IxqsMYNlekJcqB91s/e+vU/nW7qlu+s+H54dNv3tXuYv3N1C3KHqCCKuzwx3MDwzoHjcbWVhwRXKLZav4UeQ6Yh1HTSdxhY/PH9P/AKw/Cp+FmGtN36P8C94L/t9fDcUfimJEvIiY1ZX3M6DgM3bJroK4zWtV0PxZok2k3t9daaZSNx27WBBzgnkY9jVzwhCuh6K1leeI4tVKys0MskwyqYGF5JPY9+9VdMuNSL2Z09Fcf4e1fxXLqgXxINDisth+a0mJfd26seKd4i1bxTFqSr4XXRZrPygWa7lIffk5HDDjGKC+ZHXUVh67qWox6OG8PPp0uoblylzLiPH8XRh/Ojw/qWoy6WW8Svp0N7vOFtJcpt4x1Y89aA5kblc/4ktJ9SmgtbW3JdVZzcEEBRj7uenNZ/h/V/FkuqBfEqaJDZbD81pKS+7t1c8U/wARat4pi1JV8MJos9n5QLNdykPvycjhxxjFc2Kw0cVSdGT0e4cyLk7SN4UjdUmsXh2q0IG3PzAdxnHerusf8fWnf9dm/wDRbVW17UNQXRs6AdNnv9y5jupP3eO/Rh/Om6TcT3+jRnxVHpf25XYiOJg0a9gRuJ5x71nDC8sWua94pfdfX8egm01Yt1nWP/IW1P8A66R/+i1rK8PtrcuqBfEumeG4LLYfntcF93bqx4p+ujVIdYjHhvTPDktiyKZZLkKJN2SD0YcYx2rBYC11zGfKu5u3f/HlP/1zb+VRaX/yCLP/AK4J/wCgiqviRHi06M+F7LQ7i6MoEiXgUJ5eDkjBHOcfrUmgxo+jKdfs9FgvgWBjtVXywP4epP8AOj6hpbmDlXcmvP8Aj6sP+vg/+inq3XNeHjrE+pkeKNL8NwWaxkq9qAX38Y6seME0a02tR61s0HTPDk2nYX95cYEmf4ujD+VH9n/3g5V3Oq0vrd/9d/8A2mlX653Xbu+sNMQeDo9Ka4aYGSO4cImzacn5SOchasaFqV9Lo6v4hfT4b/c2Utpcpjt1J/nXo048kFG+xomlobVFcj4d1fxTNqbL4mi0WCz8skPaTEvvyMDlzxjNGtav4qi1rZoMWizadhf3lxMRJn+Lo4/lVj5kddRWD4j1PVIdPjbwudOuLsygOt3LhQmDkjDDnOP1qTQtSvpdIV/ELWEF/ubKW0uUx26k/wA6AujaorkfDur+KZtTZfE0WjW9n5ZIe1my+/IwOXPGM0a1rHiqLWtmgxaNNp2F/eXE2JM/xdHH8qA5kddRWD4k1TVILCNvC/8AZ1xdGUB1u5cKEweRhhznFSaFqV9LpCv4hawgv9zZS2lBTHbqT/OgOZG1RXI+HdY8Uzamy+JodGt7PyyQ9rNl9+RgcueMZpupax4rTxE0elwaLJpO9AJZZ8S7cDccbxzndjj0oDmR2FFYPiTVNUg0+NvC/wDZ1zdGUB1u5cKEwckYYc5xTtK1PUZPD/maudPi1Xa/7qGXMeedvO4+2eaA5kblFcr4b1fxJPeSr4pi0i2txHmNrSbLFsjg5Y8YzUOpaz4rTxE0elwaNJpO9AJZZ8SbcDccbxzndjj0oDmR2FFYPiTVNUgsI28L/wBnXN0ZQHW6mwoTB5GGHOcU7StT1GTw/wCZq50+LVdr/uoZQY887edx9s80BzIp+ILW4vdS329i0i2sYZyVb9/8wOweuOtS6pdwstsA8lpczRL5aSSGJbcZ5Y9Oe2PaoPDer+JJ7yVfFMWk21uI8xtaz5YtkcHLHjGararqfif/AISQpp9nok+lB0CzTyjzdmBu/i7HdjivInlrcqkoz1nvp27fLT113DmRty/8hefnd+5i59eWqDVf+QPe/wDXu/8A6Cag8Uy3H2OObw9aaRfXpkCv9tZcCPB6HI74/M0mmIJvDpfWbDRo9TKvmGIIYiedo5J6jGea3qYPnnz8xm0m9zTqjd/8haw+sn/oNZnht9TnvJV8UaXoFrbiPMbWpUsWyODljxjNQak+sp4kKaZo/h2XSlkQLNKVEu0gbz97rnd29KzWX2fxC5V3OoqpZ/8AH1f/APXwP/RSVd8jRP8Anlp//fKUC20MEkQ6eCTk/InNJYD+9+Acq7le7/48p/8Arm38q1LP/jxg/wCua/yqmbfQyMGHTyD/ALKVaW8s1UKtxAABgAOOK68PQ9imr3uXGy6liioPt1p/z8w/9/BR9utP+fmH/v4K6ironoqD7daf8/MP/fwUfbrT/n5h/wC/goC6J6Kg+3Wn/PzD/wB/BR9utP8An6h/7+CgLonoqudQsx1u4B/20FQza3pcClpdQtgB2EoJ/Ic0roXNFdS9VDWdWg0bT3uJ2Xdg+XGTgyN6Csm48Z28p8nRLaa/uCcKFQhR7nvSaf4dur3UhqviJw86tmK1U5SMdv8A9Q/M0ua+xk6nNpT1/Ik8KaXPDHPqeoj/AEy9bcc9VXrj8fT2FdFRRTSsrGkIqEbIKKKKZYUUUUAFFFFABRRRQBVvdMstRUC9tY5sdCy8j6HqKyn8E6Gx4tXX6St/U1v0UrJkSpwlujnD4F0X/nnMP+2po/4QXRf7k3/f010decWHijxFaaTearcPJqVqllNOTNaiFYZVfCIrADzFIyTjOMdaOREexp/yo6T/AIQXRf7k3/f00f8ACC6L/cm/7+mqLXXiPSdQWwfUotXmvrGeW23QLGYpowpA+XAKEsBzz71Vj1nVI/7Ltf7XuXubjUvIuVubOOKWFTCzBSoGDyAwI69MnmjkQexp/wApsf8ACC6L/cm/7+mj/hBdF/uTf9/TWLbXniC1stburnX5Lv7DeC0jRrWFR1iO/IXrh2GOnNF34g1uez13XLK/htrbRbqWAae8Kss4ixuLv94M2eMYxx1o5EHsaf8AKbX/AAgui/3Jv+/po/4QXRf7k3/f01l3/ifU7C41maZ1SwaLZZSEKGtpxbLIEbj5gxbjOeRjuKl1Pxj9n8eWelwXMa28LpFeIwGZHlB2bT/snaT/AL/tRyLsHsaX8qL/APwgui/3Jv8Av6aP+EF0X+5N/wB/TV/Qrye8XUPtL7/JvpYU4AwikYHFalLlXYfsaf8AKjjdb8OeG9B0a51K+Eyw26FiPN5Y9lHuTxVq28G+H7y1iubXzZIZkDxuspwykZBrifjbdalcpbWcFhd/2da/v7i68pvKLt8qjdjHGfXq2K3PhDqGqSeG/wCztVsLqGO3USWlzLEypLE3IAJGDjqPYj0quSNri9lTv8KN/wD4QXRf7k3/AH9NH/CC6L/cm/7+mujoqeVdh+xp/wAqOc/4QXRf7k3/AH9NH/CC6L/cm/7+mujoo5V2D2NP+VHOf8ILov8Acm/7+mj/AIQXRf7k3/f010dFHKuwexp/yo5z/hBdF/uTf9/TR/wgui/3Jv8Av6a6OijlXYPY0/5Uc5/wgui/3Jv+/po/4QXRf7k3/f010dFHKuwexp/yo5z/AIQXRf7k3/f00f8ACC6L/cm/7+mujoo5V2D2NP8AlRzn/CC6L/cm/wC/po/4QXRf7k3/AH9NdHRRyrsHsaf8qOc/4QXRf7k3/f00f8ILov8Acm/7+mujoo5V2D2NP+VHOf8ACC6L/cm/7+mj/hBdF/uTf9/TXR0Ucq7B7Gn/ACo5z/hBdF/uTf8Af00f8ILov9yb/v6a6OijlXYPY0/5Uc5/wgui/wByb/v6aP8AhBdF/uTf9/TXR0Ucq7B7Gn/KjnP+EF0X+5N/39NH/CC6L/cm/wC/pro6KOVdg9jT/lRzn/CC6L/cm/7+msu80TwzZeIrDRpln+03ySPH+94G0Dr9ecfQ125OFJOePQZr5z8ZT+IdX+IZu4rDUobhnzp0TQOsnlx8gquM9i3HTJqlCLE6NNfZR7T/AMILov8Acm/7+mj/AIQXRf7k3/f01qaHfTalodpd3VtNazyRjzYZ4yjI/Rhg++ce1X6nlXYfsaf8qOc/4QXRf7k3/f00f8ILov8Acm/7+mujoo5V2D2NP+VHOf8ACC6L/cm/7+mj/hBdF/uTf9/TXR0Ucq7B7Gn/ACo5z/hBdF/uTf8Af00f8ILov9yb/v6a6OijlXYPY0/5Uc5/wgui/wByb/v6aP8AhBdF/uTf9/TXR0Ucq7B7Gn/KjnR4G0Qf8spT/wBtTU0Xg3Q4mDfY95H9+RiPyzityijlXYPY0/5URwQQ20Qjt4kiQdFRQAPwFSUUVRqFFFFABRRRQAUUUUAFFFFABRRRQAUUUUAFZtzBpWk+HZ4rqNI9LhhfzUcF1CHJbI5JHJrSrL8TWE+q+FtSsLQKZ7m2eOMMcDJGBzQBmonhqwEF1J59u92wsIJbozrJzyEUv8yA44IwMipLiDw3p0gnum/fW96mHlklkka4MY2gZJZzscYAz1qCPw4bvS7Kyu7OSGBJ5DNHNeNcNtaF03B2JIO5hgdsZrPi8PeI444L24e1vNRs9UNwNzbVuYfIEOTx8rkDPoDVCNuZ9CjtXilgnxqcrXDQi3mMkjLtBbYBuAG1OwHT1qneJ4Tu5Y5JY2uf7SBuPKt0mkS42EAs8aZUkEqPmGfyq1cQ6suq2msW+nxvMbeS2ntWuQCgLhlZWxg9Dke49KybLw9q+iXWmXVrbQ3sscN19oT7R5arJNIsmFJB+UYI6UgNPUJvC+oafPb3zRXFtfwtfyAbyJEjCgvkdCAqjAweOnWp0Xw9d6a4Ro2tdVVrx33MBKAFy5bquPl7jGPasEeDtRhijVWikdtMvYpSGwonncPhf9kEkZ9qsX/hC+udVv7eG4RdIvLK4SNT962ml27gB3QkbsepPrQBq6P/AGNc3jXekm8JlLT783CwSk8Fhu/dtnPbPrV3XtZt/D+hXWp3hxHbxlgP77dFUe5OB+NYWiabr8OuWM1+Ps9tb2Rgnjiuy8MrjaFZI/4RgHt3qp8XoZZfh7O0SllinieQD+7nH8yKOodDm207xB438M3uveKtUn0zR/JM8enWkf8ArI0G7dgkZzjIznJ54GKZBca/4O0DTvEOjalda14eaNRJZ3ihXgj6Lg5OB244HHBFa3izR7nxF4fuvEOh+Kbi20r+zmcWEKny3VUJKnDgDPQjHFc9Z6Fe6f8ADM63feJ7l7CTTpVTTHU+XudGRFHz44Yg/d7VQj2DTNRt9X0u21CyYtBcxiRCRg4PY+9Wq5X4ZQywfDfSFnBDGN3Gf7rSMV/QiuqqGUFFFFABRRRQAUUUUAFFFFABRRRQAUUUUAFFFFABRRRQAUUUUAFFFFABRRRQBx3jzxVfaR9j0jw7Gs2takxWFTg+Uv8AfweOvTPHB9K5O48JXZ8VaRba54s1Q+ILuKR4J7dB5cGFJZQdwIGMjgDNW/EFvJD8aYTdTNarqWnPbWN2BnyJChXI5HIJ9f4h61j6p4P1q3+IWiabL4uvZ7q6imaK+ZG3wBVYkD5884x1HWrRJ03h3xLreh+MF8JeL5UuTMC1nqB4Mo/hB9c4I9c8c8V6JXkPiPT57TXvCWgSanNrOrw3/wBpe5kU70iLKeck8fKT16LXr1SxoKKKKQwooooAKKKKACiiigAooooAKKKKACiiigAooooAKKKKACiiigAooooAKKKKACiiigAooooAKKKKACiiigAqK5tory0mtrlA8MyGORD/ABKRgj8qlooA8o1jQte+Gek32peF9YRtIRldrO7TeylmC/KcYPJHpx64q3p/hDWvG8emar411aK405oluYbC1TYDvUEBjgdjz17gGuu8baHc+JPB99pNi8Uc9x5expiQo2yKxyQCeintV/QrGXS/Dum2FwyNLa2kULlCSpZUCnGe2RVX0FYuxxpFGscSqiIAqqowAB0Ap1FFSMKKKKACiiigAooooAKKKKACiiigAooooAKKKKACiiigAooooAKKKKACiiigDA8X+EbPxfpItLt2hmiJe3nTkxtjrjuPUVw8tx4/0TxBpvhePW7G5kvI3NvczRElVRSTuOCc4X3+ter1zWp+HLu9+IWia7FJALXT4pUlRmO9iysBtGMfxDqRTTEyr4T8CLompTa1q96+p61cbt9w3CqDjhR+GM+nAArr6KKQwooooAKKKKACiiigAooooAKKKKACiiigAooooAKKKKACiiigAooooAKKKKACiiigAooooAKKKKACqranZpqi6c8wF28fmLEQclfUHp2q1XEePrO41e7sdP0i3dtQRXl+0KSojj2kFN3q3p/jWGIqSpU+aKu+3c5MZWnQpe0grvTTvrsvM67T9StNUtftGnzCeHcV3qDgkdetY3jG9u7O30wWVy9uZ73y5GTGSvkytjkHuo/Ksue5/wCLa282m/aNNNv5Ubwquw7t6qwORnHJOQQTnnuKu+Of9Ro7dl1DLH0H2eYf1qY1XOD72v8AfcyjiJVKTXXlTuvO+3XoZP2/U/8AoK3X/jn/AMTVSz1fV5rq/R9WuisNwET7nA8pG/u+rGn+dH/z0X/voVR091W91MswAa6BUk9R5MYz+YNcanVs9Weaqtaz1Zo3ep6rFZzSJqt1uSNmH3OoH+7Uv2/U/wDoK3X/AI5/8TVC9kRtPuArqSYmAAPXip/Oj/56L/30KXPVtuw9rXtux82p6qktuq6rdYeQqfudNrH+77VL9v1P/oK3X/jn/wATVC4kQz2pDqcSknnp8jVP50f/AD0X/voUOdXuwdWvpqzq/Ctzc3Nld/a7iS4aO52q0mMgeWhxwB3JrcrnvBxBsb0jkG74I7/u466GvTp3cFc9yi26UW+wUUUVZsFFFFABRRRQAUUUUAFFFFABRRRQAUUUUAFFFFAFCTXNNhmu4ZbpUkskElwrAjYp5z05/CrNpdwX9pHdWknmQyjcjgEZH415/wCOrWTUde32GnyTrYQBr4qWUXCb1IiBHXHJ/wD1Voa7eW1zFZDTLu6tbye2U2VsrmCODB5eQcDA6YOemADmvP8ArUlKaaVl+P8AW3qeN/aE41KkZJWjtur69L9tvN9kWfEN7fRa60VtfTQRrAjBI9uMktk8g+grIu9T1WKzmkTVbrckbMPudQP92r/iJwviBt7rzbR85xnlqxr2RG0+4CupJiYAA9eKVSdRVGk9Ca9SqqzSbsX/ALfqf/QVuv8Axz/4moJdU1VLu3QardbX3bvudh/u0nnR/wDPRf8AvoVWnkQ31qQ6kAvk56cVkp1e7MFVr33Zo/b9T/6Ct1/45/8AE1FDqeqvLOG1W6wkgUfc6bVP933pnnR/89F/76FQQSIJrnLqMygjnr8i0KdXuwVWvrqy7JqOqLGxGq3WQCf4P/ia7y1ZntIWc5ZkUk+pxXnUssZhf94v3T3r0S0/48YP+ua/yrrw0pNPmPRwMpyUudk1FFFdZ6IUUUUAFFFFABRRRQAUUUUAFFFFABRRRQAUUUUAFFFFABRRRQAUUUUAFFFFABRRRQAUUUUAMlhjnjMc8ayIcZV1BBxz0NPrO1fXbHQ4o5NRd0WQkLsjZ+R9BWda+OtCvZNlvcSsdrNnyHAwoJPOPQGsZVqUZcspJM5p4rD058kppS7XVzoqKrafqFvqmnxXtk5eCUEoxUjPOOh+lNg1K3uNSubGPf51qFMmUIX5hkYPQ1pzxsnffY29pBpNPfbz6luiiqdhqtpqUt1HZyF2tJjDMCpG1x1HPWm5JNJ9RuUU1FvVlyiqi6lbtq7aaN/2hYvOPyHbtyB97pnnpVuhST2CMoy2YUUUUygooooAKKKKACiiigAooooAKKKKACiiigAooooAKKKKACqtzpen3sokvLG2uJANoaWFWIHpkj3qyzBFLN0AyazNH8R6Zr0M0umzmRICPMLIV25+v0NRKULqMt2ZVJUrqnO13sn1sagAAAAwB0AorM0XxDp3iCOZ9LmaVYSA5KFcZ6dfpWnTjKM480XdFU6kKkVODun1QUUVUsdUtdRkuktJC7WsxglypG1x1HPWm2k7MblFNRb1Zboqm+q20esR6Y3mfaJI/NXCHbt5/i6Z4PFXKFJPYIyjK9nsFFFFMoKKKKACiiigAooooAKKKKACiiigAooooAKKKKACiiigAooooAKKKKACiiigAooooAKKKKACiiigBk//AB7yf7h/lXF+Ev8Akk0n/XC5/m9dsyhlKtyCMGqVpo1hY6SdMtYPLsyrKY97Hhs55Jz3PeuepSlKopLs199v8jjrUJTqqa2UZL77f5HmdvYT6Z4K0fXrfUrwXAuVUQ+b+6CbyNoX8OfXJra1O7uV1Txqq3EoENrCYwHPyHYOR6V1reHdKfR4dLa1zZQsGji8xvlIJPXOepPenS6Bpk819LLbbn1BFS5PmMPMAGAOvHHpiuJYKpGKjF9u+/K0/wAWjy45ZVhBRg0tF1e/LKLf3tfccIYbvSJ/CmpJqt7PNqUkS3CSy5QqwXgD0w2O/rWeb6eLXtSspZJrPS7jW2W5vIn2tklsJnsOMk/5Ppc2g6bcR2Ec1tuXTirWo8xh5ZXGO/PQdc0x/DekyW17bvZhor6XzrhS7fO+c568c+mKUsFU+y9Pn2s/ve5E8qr39ySS33f8tn8m9/I5y9llt/Geq20M0iwxaC7Im84UgjB+vv1rFitLq08P6Brv9q30l1PdxRujTHy9hJ+XH0UZ9cmu+j8O6XFM0qWx8xrX7GzGVyTF/d5Pt16+9ObQNMfTbawa2zbWrrJDH5jfIy9DnOT171csJOTbb721ejurG08uqzcpNrrbV6NtNdOhw+pLNq2qeKLufVLuzk0lMW0EMu1cBTgkd9xHb1+ldZ4Klkm8G6dJM7SO0ZyznJPzHvWJ4l8M6nqer3c0OmabcrNF5cNzI7JJFkYJYdGI7HHHFdP4f01tH8P2dhIyu8EYV2XoT1OPbJow9Oca8m1prr31/wAuwYKjVhjJyknaz111vK68tu2n5GjRRRXpnuhRRRQAUUUUAFFFFABRRRQAUUUUAFFFFABRRRQBHP8A8e8n+4f5V5BpuoHRvDUezI/tXTZ4F2jkyrK4U/k5H5V7EyhlKtyCMGshfCeiLBYwixGywkMlsDI52MW3HvzyOhyK4cVh51ZKUHayf4tfpc8rH4OriJRnSaTSa183H9EzgtLKaVpPie28+4t8XyW6NageYTuYBVyRjOMZ9Kv6LJqGh+INVtmF0ix6S10lvc3QnO9SMHIwATzwK6+Twto8sN7E9mCl9L5txmRvmfOdw545J6Yp1j4Z0nTrz7VaWpSfyzEzmV2LqTkhsk7vx9B6VhHB1Iyi01p/m/Lz8jip5ZXpuFmly9m+8vLzXVHKaBpqRQ6JrVx4ivEuryQb4pnLpOT/AAAcY+pzWTdaY8tl4r1OK/u7eSz1GUxpDJtQncMkgdTjiu9svCWiadqAvbSxVJlJKZdisZPXapOB+AqwfD+mG1vrY237q/kMtyvmN+8Y9TnPH4Yo+pydPldvve9rX+8f9l1JU1BpK1+r35bX+/X/ADOSttQurjxpohknkIm0NZZE3nazlWJOPWuegivY/AC+Ixq9/wDa7e4AjQzExgb8cjv1/pXpsfh/TIry3u47bE9tbi2ibzG+WMAgLjOD1PJ5qMeGNHGhnSBaf6AW3mHzX65z1znr70p4KrK933tq93a35BLLK80+aSv71tXu1Gz+TTON1ZNS8QeKdVija8CWEcaxLbXawrHuXduYN159MU+/XXNS0zRIpJY7uZEk8+0ttQWN7nHAcMDzjHPvmuu1Pwto+sTrNf2m+VV2b0kZCy+h2kZ/Gn33hvSdQt7eG4tFC2oxAYmMZjHoCpBx7VTwdRuWu/n537dNupUstrN1G5fF57+9fbldrLTrftYzfAtyk2izwCW7eS2uGjkS8IZ4jx8m4dQPXj6V01U9M0qy0e0+zadCIYyxdvmLFmPUknkmrld9GEoU1GW6PXwtOdKjGE90gooorU6AooooAKKKKACiiigAooooAKKKKACiiigAooooAKKKKACiiigAooooAKKKKACiiigAooooAKKKKACiiigAooooAKKKKACiiigAooooAKKKKACiiigAooooAKKKKACiiigAooooAKKKKACiiigAooooAKKKKACiiigAooooAKKKKACiiigAooooAKKKKACiiigAooooA//Z)"
      ]
    },
    {
      "cell_type": "markdown",
      "metadata": {
        "id": "GJP94FBdpkar"
      },
      "source": [
        "4.  single encoder consists of self attention layers, add normalize, feed forwoard and skip connection, number of layers depend on model type small have 12 layers and large have 24 layers.\n",
        "\n",
        "5. Single attention head:\n",
        "\n",
        "  1. it has query (q_i), keys (k_i) and values(v_i) vectors.\n",
        "  2. multiply q_i to k_i. \n",
        "  3. divide by generally (8)/ (srt(d), where d is found by expermentally 8 fits best).\n",
        "  4. then pass through softmax, this softmax is multiplied by v_i to get z_i, larger the pdt of softmax and v_i, more important the z_i is.  \n",
        "  5. combine/concatenate multiple heads to get final Z matrix which multiply by output weights to give final output layer over this training happens.\n",
        "\n",
        "  6. how q_i is formed, multiply embedding of text sequence (x_i) with weights (w_q/k/v) initialized.\n",
        "   \n",
        "   ![Capture5.JPG](data:image/jpeg;base64,/9j/4AAQSkZJRgABAQEAYABgAAD/4RDeRXhpZgAATU0AKgAAAAgABQESAAMAAAABAAEAAAE7AAIAAAAETmlrAIdpAAQAAAABAAAIVpydAAEAAAAIAAAQzuocAAcAAAgMAAAASgAAAAAc6gAAAAgAAAAAAAAAAAAAAAAAAAAAAAAAAAAAAAAAAAAAAAAAAAAAAAAAAAAAAAAAAAAAAAAAAAAAAAAAAAAAAAAAAAAAAAAAAAAAAAAAAAAAAAAAAAAAAAAAAAAAAAAAAAAAAAAAAAAAAAAAAAAAAAAAAAAAAAAAAAAAAAAAAAAAAAAAAAAAAAAAAAAAAAAAAAAAAAAAAAAAAAAAAAAAAAAAAAAAAAAAAAAAAAAAAAAAAAAAAAAAAAAAAAAAAAAAAAAAAAAAAAAAAAAAAAAAAAAAAAAAAAAAAAAAAAAAAAAAAAAAAAAAAAAAAAAAAAAAAAAAAAAAAAAAAAAAAAAAAAAAAAAAAAAAAAAAAAAAAAAAAAAAAAAAAAAAAAAAAAAAAAAAAAAAAAAAAAAAAAAAAAAAAAAAAAAAAAAAAAAAAAAAAAAAAAAAAAAAAAAAAAAAAAAAAAAAAAAAAAAAAAAAAAAAAAAAAAAAAAAAAAAAAAAAAAAAAAAAAAAAAAAAAAAAAAAAAAAAAAAAAAAAAAAAAAAAAAAAAAAAAAAAAAAAAAAAAAAAAAAAAAAAAAAAAAAAAAAAAAAAAAAAAAAAAAAAAAAAAAAAAAAAAAAAAAAAAAAAAAAAAAAAAAAAAAAAAAAAAAAAAAAAAAAAAAAAAAAAAAAAAAAAAAAAAAAAAAAAAAAAAAAAAAAAAAAAAAAAAAAAAAAAAAAAAAAAAAAAAAAAAAAAAAAAAAAAAAAAAAAAAAAAAAAAAAAAAAAAAAAAAAAAAAAAAAAAAAAAAAAAAAAAAAAAAAAAAAAAAAAAAAAAAAAAAAAAAAAAAAAAAAAAAAAAAAAAAAAAAAAAAAAAAAAAAAAAAAAAAAAAAAAAAAAAAAAAAAAAAAAAAAAAAAAAAAAAAAAAAAAAAAAAAAAAAAAAAAAAAAAAAAAAAAAAAAAAAAAAAAAAAAAAAAAAAAAAAAAAAAAAAAAAAAAAAAAAAAAAAAAAAAAAAAAAAAAAAAAAAAAAAAAAAAAAAAAAAAAAAAAAAAAAAAAAAAAAAAAAAAAAAAAAAAAAAAAAAAAAAAAAAAAAAAAAAAAAAAAAAAAAAAAAAAAAAAAAAAAAAAAAAAAAAAAAAAAAAAAAAAAAAAAAAAAAAAAAAAAAAAAAAAAAAAAAAAAAAAAAAAAAAAAAAAAAAAAAAAAAAAAAAAAAAAAAAAAAAAAAAAAAAAAAAAAAAAAAAAAAAAAAAAAAAAAAAAAAAAAAAAAAAAAAAAAAAAAAAAAAAAAAAAAAAAAAAAAAAAAAAAAAAAAAAAAAAAAAAAAAAAAAAAAAAAAAAAAAAAAAAAAAAAAAAAAAAAAAAAAAAAAAAAAAAAAAAAAAAAAAAAAAAAAAAAAAAAAAAAAAAAAAAAAAAAAAAAAAAAAAAAAAAAAAAAAAAAAAAAAAAAAAAAAAAAAAAAAAAAAAAAAAAAAAAAAAAAAAAAAAAAAAAAAAAAAAAAAAAAAAAAAAAAAAAAAAAAAAAAAAAAAAAAAAAAAAAAAAAAAAAAAAAAAAAAAAAAAAAAAAAAAAAAAAAAAAAAAAAAAAAAAAAAAAAAAAAAAAAAAAAAAAAAAAAAAAAAAAAAAAAAAAAAAAAAAAAAAAAAAAAAAAAAAAAAAAAAAAAAAAAAAAAAAAAAAAAAAAAAAAAAAAAAAAAAAAAAAAAAAAAAAAAAAAAAAAAAAAAAAAAAAAAAAAAAAAAAAAAAAAAAAAAAAAAAAAAAAAAAAAAAAAAAAAAAAAAAAAAAAAAAAAAAAAAAAAAAAAAAAAAAAAAAAAAAAAAAAAAAAAAAAAAAAAAAAAAAAAAAAAAAAAAAAAAAAAAAAAAAAAAAAAAAAAAAAAAAAAAAAAAAAAAAAAAAAAAAAAAAAAAAAAAAAAAAAAAAAAAAAAAAAAAAAAAAAAAAAAAAAAAAAAAAAAAAAAAAAAAAAAAAAAAAAAAAAAAAAAAAAAAAAAAAAAAAAAAAAAAAAAAAAAAAAAAAAAAAAAAAAAAAAAAAAAAAAAAAAAAAAAAAAAAAAAAAAAAAAAAAAAAAAAAAAAAAAAAAAAAAAAAAAAAAAAAAAAAAAAAAAAAAAAAAAAAAAAAAAAAAAAAAAAAAAAAAAAAAAAAAAAAAAAAAAAAAAAAAAAAAAAAAAAAAAAAAAAAAAAAAAAAAAAAAAAAAAAAAAAAAAAAAAAAAAAAAAAAAAAAAAAAAAAAAAAAAAAAAAAAAAAAAAAAAAAAAAAAAAAAAAAAAAAAAAAAAAAAAAAAAAAAAAAAAAAAAAAAAAAAAAAAAAAAAAAAAAAAAAAAAAAAAAAAAAAAAAAAAAAAAAAAAAAAAAAAAAAAAAAAAAAAAAAAAAAAAAAAAAAAAAAAAAAAAAAAAAAAAAAAAAAAAAAAAAAAAAAAAAAAAAAAAAAAAAAAAAAAAAAAAAAAAAAAAAAAAAAAAAAAAAAAAAAAAAAAAAAAAAAAAAAAAAAAAAAAAAAAAAAAAAAAAAAAAAAAAAAAAAAAAAAAAAAAAAAAAAAAAAAAAAAAAAAAAAAAAAAAAAAAAAAAAAAAAAAAAAAAAAAAAAAAAAAAAAAAAAAAAAAAAAAAAAAAAAAAAAAAAAAAAAAAAAAAAAAAAAAAAAAAAAAAAAAAAAAAAAAAAAAAAAAAAAAAAAAAAAAAAAAAAAAAAAAAAAAAAAAAAAAAAAAAAAAAAAAAAAAAAAAAAAAAAAAAAAAAAAAAAAAAAAAAAAAAAAAAAAAAAAAAAAAAAAAAAAFkAMAAgAAABQAABCkkAQAAgAAABQAABC4kpEAAgAAAAM3MAAAkpIAAgAAAAM3MAAA6hwABwAACAwAAAiYAAAAABzqAAAACAAAAAAAAAAAAAAAAAAAAAAAAAAAAAAAAAAAAAAAAAAAAAAAAAAAAAAAAAAAAAAAAAAAAAAAAAAAAAAAAAAAAAAAAAAAAAAAAAAAAAAAAAAAAAAAAAAAAAAAAAAAAAAAAAAAAAAAAAAAAAAAAAAAAAAAAAAAAAAAAAAAAAAAAAAAAAAAAAAAAAAAAAAAAAAAAAAAAAAAAAAAAAAAAAAAAAAAAAAAAAAAAAAAAAAAAAAAAAAAAAAAAAAAAAAAAAAAAAAAAAAAAAAAAAAAAAAAAAAAAAAAAAAAAAAAAAAAAAAAAAAAAAAAAAAAAAAAAAAAAAAAAAAAAAAAAAAAAAAAAAAAAAAAAAAAAAAAAAAAAAAAAAAAAAAAAAAAAAAAAAAAAAAAAAAAAAAAAAAAAAAAAAAAAAAAAAAAAAAAAAAAAAAAAAAAAAAAAAAAAAAAAAAAAAAAAAAAAAAAAAAAAAAAAAAAAAAAAAAAAAAAAAAAAAAAAAAAAAAAAAAAAAAAAAAAAAAAAAAAAAAAAAAAAAAAAAAAAAAAAAAAAAAAAAAAAAAAAAAAAAAAAAAAAAAAAAAAAAAAAAAAAAAAAAAAAAAAAAAAAAAAAAAAAAAAAAAAAAAAAAAAAAAAAAAAAAAAAAAAAAAAAAAAAAAAAAAAAAAAAAAAAAAAAAAAAAAAAAAAAAAAAAAAAAAAAAAAAAAAAAAAAAAAAAAAAAAAAAAAAAAAAAAAAAAAAAAAAAAAAAAAAAAAAAAAAAAAAAAAAAAAAAAAAAAAAAAAAAAAAAAAAAAAAAAAAAAAAAAAAAAAAAAAAAAAAAAAAAAAAAAAAAAAAAAAAAAAAAAAAAAAAAAAAAAAAAAAAAAAAAAAAAAAAAAAAAAAAAAAAAAAAAAAAAAAAAAAAAAAAAAAAAAAAAAAAAAAAAAAAAAAAAAAAAAAAAAAAAAAAAAAAAAAAAAAAAAAAAAAAAAAAAAAAAAAAAAAAAAAAAAAAAAAAAAAAAAAAAAAAAAAAAAAAAAAAAAAAAAAAAAAAAAAAAAAAAAAAAAAAAAAAAAAAAAAAAAAAAAAAAAAAAAAAAAAAAAAAAAAAAAAAAAAAAAAAAAAAAAAAAAAAAAAAAAAAAAAAAAAAAAAAAAAAAAAAAAAAAAAAAAAAAAAAAAAAAAAAAAAAAAAAAAAAAAAAAAAAAAAAAAAAAAAAAAAAAAAAAAAAAAAAAAAAAAAAAAAAAAAAAAAAAAAAAAAAAAAAAAAAAAAAAAAAAAAAAAAAAAAAAAAAAAAAAAAAAAAAAAAAAAAAAAAAAAAAAAAAAAAAAAAAAAAAAAAAAAAAAAAAAAAAAAAAAAAAAAAAAAAAAAAAAAAAAAAAAAAAAAAAAAAAAAAAAAAAAAAAAAAAAAAAAAAAAAAAAAAAAAAAAAAAAAAAAAAAAAAAAAAAAAAAAAAAAAAAAAAAAAAAAAAAAAAAAAAAAAAAAAAAAAAAAAAAAAAAAAAAAAAAAAAAAAAAAAAAAAAAAAAAAAAAAAAAAAAAAAAAAAAAAAAAAAAAAAAAAAAAAAAAAAAAAAAAAAAAAAAAAAAAAAAAAAAAAAAAAAAAAAAAAAAAAAAAAAAAAAAAAAAAAAAAAAAAAAAAAAAAAAAAAAAAAAAAAAAAAAAAAAAAAAAAAAAAAAAAAAAAAAAAAAAAAAAAAAAAAAAAAAAAAAAAAAAAAAAAAAAAAAAAAAAAAAAAAAAAAAAAAAAAAAAAAAAAAAAAAAAAAAAAAAAAAAAAAAAAAAAAAAAAAAAAAAAAAAAAAAAAAAAAAAAAAAAAAAAAAAAAAAAAAAAAAAAAAAAAAAAAAAAAAAAAAAAAAAAAAAAAAAAAAAAAAAAAAAAAAAAAAAAAAAAAAAAAAAAAAAAAAAAAAAAAAAAAAAAAAAAAAAAAAAAAAAAAAAAAAAAAAAAAAAAAAAAAAAAAAAAAAAAAAAAAAAAAAAAAAAAAAAAAAAAAAAAAAAAAAAAAAAAAAAAAAAAAAAAAAAAAAAAAAAAAAAAAAAAAAAAAAAAAAAAAAAAAAAAAAAAAAAAAAAAAAAAAAAAAAAAAAAAAAAAAAAAAAAAAAAAAAAAAAAAAAAAAAAAAAAAAAAAAAAAAAAAAAAAAAAAAAAAAAAAAAAAAAAAAAAAAAAAAAAAAAAAAAAAAAAAAAAAAAAAAAAAAAAAAAAAAAAAAAAAAAAAAAAAAAAAAAAAAAAAAAAAAAAAAAAAAAAAAAAAAAAAAAAAAAAAAAAAAAAAAAAAAAAAAAAAAAAAAAAAAAAAAAAAAAAAAAAAAAAAAAAAAAAAAAAAAAAAAAAAAAAAAAAAAAAAAAAAAAAAAAAAAAAAAAAAAAAAAAAAAAAAAAAAAAAAAAAAAAAAAAAAAAAAAAAAAAAAAAAAAAAAAAAAAAAAAAAAAAAAAAAAAAAAAAAAAAAAAAAAAAAAAAAAAAAAAAAAAAAAAAAAAAAAAAAAAAAAAAAAAAAAAAAAAAAAAAAAAAAAAAAAAAAAAAAAAAAAAAAAAAAAAAAAAAAAAAAAAAAAAAAAAAAAAAAAAAAAAAAAAAAAAAAAAAAAAAAAAAAAAAAAAAAAAAAAAAAAAAAAAAAAAAAAAAAAAAAAAAAAAAAAAAAAAAAAAAAAAAAAAAAAAAAAAAAAAAAAAAAAAAAAAAAAAAAAAAAAAAAAAAAAAAAAAAAAAAAAAAAAAAAAAAAAAAAAAAAAAAAAAAAAAAAAAAAAAAAAAAAAAAAAAAAAAAAAAAAAMjAyMTowODowNyAwMDo1NjoxNgAyMDIxOjA4OjA3IDAwOjU2OjE2AAAATgBpAGsAAAD/4QsWaHR0cDovL25zLmFkb2JlLmNvbS94YXAvMS4wLwA8P3hwYWNrZXQgYmVnaW49J++7vycgaWQ9J1c1TTBNcENlaGlIenJlU3pOVGN6a2M5ZCc/Pg0KPHg6eG1wbWV0YSB4bWxuczp4PSJhZG9iZTpuczptZXRhLyI+PHJkZjpSREYgeG1sbnM6cmRmPSJodHRwOi8vd3d3LnczLm9yZy8xOTk5LzAyLzIyLXJkZi1zeW50YXgtbnMjIj48cmRmOkRlc2NyaXB0aW9uIHJkZjphYm91dD0idXVpZDpmYWY1YmRkNS1iYTNkLTExZGEtYWQzMS1kMzNkNzUxODJmMWIiIHhtbG5zOmRjPSJodHRwOi8vcHVybC5vcmcvZGMvZWxlbWVudHMvMS4xLyIvPjxyZGY6RGVzY3JpcHRpb24gcmRmOmFib3V0PSJ1dWlkOmZhZjViZGQ1LWJhM2QtMTFkYS1hZDMxLWQzM2Q3NTE4MmYxYiIgeG1sbnM6eG1wPSJodHRwOi8vbnMuYWRvYmUuY29tL3hhcC8xLjAvIj48eG1wOkNyZWF0ZURhdGU+MjAyMS0wOC0wN1QwMDo1NjoxNi43MDQ8L3htcDpDcmVhdGVEYXRlPjwvcmRmOkRlc2NyaXB0aW9uPjxyZGY6RGVzY3JpcHRpb24gcmRmOmFib3V0PSJ1dWlkOmZhZjViZGQ1LWJhM2QtMTFkYS1hZDMxLWQzM2Q3NTE4MmYxYiIgeG1sbnM6ZGM9Imh0dHA6Ly9wdXJsLm9yZy9kYy9lbGVtZW50cy8xLjEvIj48ZGM6Y3JlYXRvcj48cmRmOlNlcSB4bWxuczpyZGY9Imh0dHA6Ly93d3cudzMub3JnLzE5OTkvMDIvMjItcmRmLXN5bnRheC1ucyMiPjxyZGY6bGk+TmlrPC9yZGY6bGk+PC9yZGY6U2VxPg0KCQkJPC9kYzpjcmVhdG9yPjwvcmRmOkRlc2NyaXB0aW9uPjwvcmRmOlJERj48L3g6eG1wbWV0YT4NCiAgICAgICAgICAgICAgICAgICAgICAgICAgICAgICAgICAgICAgICAgICAgICAgICAgICAgICAgICAgICAgICAgICAgICAgICAgICAgICAgICAgICAgICAgICAgICAgICAgICAKICAgICAgICAgICAgICAgICAgICAgICAgICAgICAgICAgICAgICAgICAgICAgICAgICAgICAgICAgICAgICAgICAgICAgICAgICAgICAgICAgICAgICAgICAgICAgICAgICAgIAogICAgICAgICAgICAgICAgICAgICAgICAgICAgICAgICAgICAgICAgICAgICAgICAgICAgICAgICAgICAgICAgICAgICAgICAgICAgICAgICAgICAgICAgICAgICAgICAgICAgCiAgICAgICAgICAgICAgICAgICAgICAgICAgICAgICAgICAgICAgICAgICAgICAgICAgICAgICAgICAgICAgICAgICAgICAgICAgICAgICAgICAgICAgICAgICAgICAgICAgICAKICAgICAgICAgICAgICAgICAgICAgICAgICAgICAgICAgICAgICAgICAgICAgICAgICAgICAgICAgICAgICAgICAgICAgICAgICAgICAgICAgICAgICAgICAgICAgICAgICAgIAogICAgICAgICAgICAgICAgICAgICAgICAgICAgICAgICAgICAgICAgICAgICAgICAgICAgICAgICAgICAgICAgICAgICAgICAgICAgICAgICAgICAgICAgICAgICAgICAgICAgCiAgICAgICAgICAgICAgICAgICAgICAgICAgICAgICAgICAgICAgICAgICAgICAgICAgICAgICAgICAgICAgICAgICAgICAgICAgICAgICAgICAgICAgICAgICAgICAgICAgICAKICAgICAgICAgICAgICAgICAgICAgICAgICAgICAgICAgICAgICAgICAgICAgICAgICAgICAgICAgICAgICAgICAgICAgICAgICAgICAgICAgICAgICAgICAgICAgICAgICAgIAogICAgICAgICAgICAgICAgICAgICAgICAgICAgICAgICAgICAgICAgICAgICAgICAgICAgICAgICAgICAgICAgICAgICAgICAgICAgICAgICAgICAgICAgICAgICAgICAgICAgCiAgICAgICAgICAgICAgICAgICAgICAgICAgICAgICAgICAgICAgICAgICAgICAgICAgICAgICAgICAgICAgICAgICAgICAgICAgICAgICAgICAgICAgICAgICAgICAgICAgICAKICAgICAgICAgICAgICAgICAgICAgICAgICAgICAgICAgICAgICAgICAgICAgICAgICAgICAgICAgICAgICAgICAgICAgICAgICAgICAgICAgICAgICAgICAgICAgICAgICAgIAogICAgICAgICAgICAgICAgICAgICAgICAgICAgICAgICAgICAgICAgICAgICAgICAgICAgICAgICAgICAgICAgICAgICAgICAgICAgICAgICAgICAgICAgICAgICAgICAgICAgCiAgICAgICAgICAgICAgICAgICAgICAgICAgICAgICAgICAgICAgICAgICAgICAgICAgICAgICAgICAgICAgICAgICAgICAgICAgICAgICAgICAgICAgICAgICAgICAgICAgICAKICAgICAgICAgICAgICAgICAgICAgICAgICAgICAgICAgICAgICAgICAgICAgICAgICAgICAgICAgICAgICAgICAgICAgICAgICAgICAgICAgICAgICAgICAgICAgICAgICAgIAogICAgICAgICAgICAgICAgICAgICAgICAgICAgICAgICAgICAgICAgICAgICAgICAgICAgICAgICAgICAgICAgICAgICAgICAgICAgICAgICAgICAgICAgICAgICAgICAgICAgCiAgICAgICAgICAgICAgICAgICAgICAgICAgICAgICAgICAgICAgICAgICAgICAgICAgICAgICAgICAgICAgICAgICAgICAgICAgICAgICAgICAgICAgICAgICAgICAgICAgICAKICAgICAgICAgICAgICAgICAgICAgICAgICAgICAgICAgICAgICAgICAgICAgICAgICAgICAgICAgICAgICAgICAgICAgICAgICAgICAgICAgICAgICAgICAgICAgICAgICAgIAogICAgICAgICAgICAgICAgICAgICAgICAgICAgICAgICAgICAgICAgICAgICAgICAgICAgICAgICAgICAgICAgICAgICAgICAgICAgICAgICAgICAgICAgICAgICAgICAgICAgCiAgICAgICAgICAgICAgICAgICAgICAgICAgICAgICAgICAgICAgICAgICAgICAgICAgICAgICAgICAgICAgICAgICAgICAgICAgICAgICAgICAgICAgICAgICAgICAgICAgICAKICAgICAgICAgICAgICAgICAgICAgICAgICAgICAgICAgICAgICAgICAgICAgICAgICAgICAgICAgICAgICAgICAgICAgICAgICAgICAgICAgICAgICAgICAgICAgICAgICAgIAogICAgICAgICAgICAgICAgICAgICAgICAgICAgPD94cGFja2V0IGVuZD0ndyc/Pv/bAEMAAgEBAgEBAgICAgICAgIDBQMDAwMDBgQEAwUHBgcHBwYHBwgJCwkICAoIBwcKDQoKCwwMDAwHCQ4PDQwOCwwMDP/bAEMBAgICAwMDBgMDBgwIBwgMDAwMDAwMDAwMDAwMDAwMDAwMDAwMDAwMDAwMDAwMDAwMDAwMDAwMDAwMDAwMDAwMDP/AABEIAVsBYAMBIgACEQEDEQH/xAAfAAABBQEBAQEBAQAAAAAAAAAAAQIDBAUGBwgJCgv/xAC1EAACAQMDAgQDBQUEBAAAAX0BAgMABBEFEiExQQYTUWEHInEUMoGRoQgjQrHBFVLR8CQzYnKCCQoWFxgZGiUmJygpKjQ1Njc4OTpDREVGR0hJSlNUVVZXWFlaY2RlZmdoaWpzdHV2d3h5eoOEhYaHiImKkpOUlZaXmJmaoqOkpaanqKmqsrO0tba3uLm6wsPExcbHyMnK0tPU1dbX2Nna4eLj5OXm5+jp6vHy8/T19vf4+fr/xAAfAQADAQEBAQEBAQEBAAAAAAAAAQIDBAUGBwgJCgv/xAC1EQACAQIEBAMEBwUEBAABAncAAQIDEQQFITEGEkFRB2FxEyIygQgUQpGhscEJIzNS8BVictEKFiQ04SXxFxgZGiYnKCkqNTY3ODk6Q0RFRkdISUpTVFVWV1hZWmNkZWZnaGlqc3R1dnd4eXqCg4SFhoeIiYqSk5SVlpeYmZqio6Slpqeoqaqys7S1tre4ubrCw8TFxsfIycrS09TV1tfY2dri4+Tl5ufo6ery8/T19vf4+fr/2gAMAwEAAhEDEQA/AP38oqOd2Rflr590D9uVm8XeLtI1Dw7qF7eaX4+m8D6HaaMBNPqckelpqO+UyskcWVMq5LBRsGTzRuB9DUV88n/gpF4Ek0e11K1s/Fl9pMmgab4mur6HTR5enWN9cz2sUkwZw4KzW8odVVioUtyASOg1j9tjwtorW6taeILmS617V/DkUcFojM91pkE81wOXA2lbaTYc8nGcdarlYuZHs1FcZ+z58Vpvjh8HPDfi2bR7vQW8RabbaitlcSJK0KzQpIMOhIdfm4bCkgZKqeB2dSMKKKKACiiigAooooAbMMxN+deHa94B8efFb4t+Ll0f4veKPA+l6Dc21lBp2l6NpFzE26zhmeRpLq1lkLM0pGNwUADA617jJ/q2+lcP8MP+SofEr/sL2n/pttKAONj/AGa/iUg+b9oj4gN9fD3h7/5X1Kv7OPxHHX9oLx83/cA8P/8AyBXs9FAHjq/s7/EMdfj74+/8EXh//wCQKX/hnbx8fvfHr4gH6aNoI/8AbCvXppNi/U4rwH9uL4qfEX4M+H9L1/wfrXhm102a9tNKntNR0mS6mknubhYllWRZkCoobJXaScdRXLjsXHC0JYiabUVd23t33Wx5+aZjTwGFni6qbjBXdrXst3q1+Z0H/DOHjlvvfHf4iH6aXoY/9saT/hmvxofvfHT4kH6WOjD/ANsa4jTf2vfE3wp+I2veF/HVlJ4k/se80Wwm1nQNOW1tbN9QLIryxyzltvmbBtQuwBLEYxVv/huWTw7L9guvDviLxNq91da81vFpNpbwhINMnRJA/m3GM7ZBtbI37T8qEhTwxz3BvSUrNXTT3TT5fz00ueRT4wyyS96Ti02mnF3TUuW1kne8k0rXTafY6wfszeLj9744fEs/S20gf+2VA/Zg8UH73xt+KB+i6WP/AGzri/hf+31afED46TeGLW1utVXXP7MvPD1rZwpHdLp9xZJczXdz5kigRxmQDj5snaFYg1l+H/8Ago7b6F4Ou59X0HxV4hvNG0ebxBqVxp2n2trFDYrqFzZl/Le6Yhk+zsxAJ3LyPmyikc/wDV/aK3vffG116639NS48XZW1ze00vJN2bs42vtd9U/R3dj0j/hlvxEfvfGr4pn6Ppo/9tKP+GVdcP3vjP8Vz9LjTx/7aViX37euhr4zXTbXQfFV5pf8AwkNt4XbXIYbb7Ct/MquEO6USbVVgSwTHOASeK97hLGJd33sc13YXHUMRzexlfldn/XXZ6o9PL82weO5nhJqXLva/n960dmtH0PHj+yhrBHPxk+LR+l9Yr/7a0H9kvUmPzfGD4vfhqdoP/bWvY6K6j0TwL4N6Trfw8/a88TeDrrxl4q8VaKPB+mazDHrlxFcPa3L31/FI0bJGhAZI4wVORmMEYOc++14vo3/KRDxJ/wBk60r/ANOepV7RQAUUUUAFFNmbbExzjFfPvxg/aq1j4UftUWPh+4bTF8GJ4Xk1e/d0P2pZ83RjKtnGzFsQQR1Yc9q48djqWEgqlbRNpfe7Hm5pm2Hy+lGtibqMpRjor6ydlfy7votT6Eor4/8Ahl/wUe1bwb+zxb+Jfihocj6wL7UYLsaQYLaC3S1KkqBczI0kmGACR7nbBO0AEj1W0/a+h8SeMdU0fQ/DPivUbXTZGtJteS1i/s20ujai4WKUFxMBtdcv5ewE4LCuOjn2DqxTUtWk7Wd9b20+T+5nl4TjDKsRCEo1LOSi1FpqXvJtaW7J3eytqz2uivkvQv8AgoZfeIfgZJcXGk6tofjC18MaL4keabToZ7S+gvblIGlgiFwrBd/mDbIyMAQw3YwfQF/bo0OLxvJpd5oPirTtOj1LVdKOszwwfYfP0+J5ph8spkIMUbspCYO0gkEYoo59gamqn0T+92t630fqgocYZTV5XGrZSUWrpr4m4pNNXTurO6S1Wp7pRXy9pn/BVHwHqPhLU9Ua11e3bTFsZWtmmspGaG9cpBM0qXDQwruBDCaRGTjcBuGfd/hP8So/ix4B0vxBBa3Wnw6lF5ot7lonkj5IwWid4z06o7A+tdOFzTC4ifJRmm7X67fcd2A4gy/G1PZYWqpSte2uydr6rTW6s9dDqqKbG2etOrvPYCiiigAooooAjuIfOUDOMEH615noX7JnhXw745n8RW41E6lceKZvGLb7otGNQk0/+z2IXHEfkfwZ4bnNeoUMNwweQeDQB8r6J/wTi0cfEqeze81aP4c2nhHRtCs7CPVZFm1A2t/f3csV2u0b4SZ4SMEM37xeB19Dtv2GvBkHxXTxa03iCa4h1i812HT5dRZ9PguryB4bplhI+7KrlmUkgMMjGTn2NY1Q8d6dVczFZHJ/BH4R2fwJ+GWk+E9O1DWNS03RIEtLN9SuBPPFAihY4t4UZVFAUZycDkk811lFFSMKKKKACiiigAooooAbJ/q2+lcP8MP+SofEr/sL2n/pttK7iT/Vt9K4f4Yf8lQ+JX/YXtP/AE22lAHdUUUUANkTzAOnXvXIfGD4K6V8b/C8Oj6010LO3vrbUEFvKYn82CVZY+R/DuUZHcZFdjRWdSlCpFwmrp7+nYxr0Kdam6VVc0Xo09mjzfxX+zB4d8aajr91f/bmk8TX2mahehLgqvmWDq8GwY+UblG7H3hVXT/2SPCum+I4dUjXUDcW6atGoa6JUrqckcl1kY5+aNdv90Z9a9SorCWAw8nzSgm/Tu7/AJ6nE8lwLn7R0o3721+Jy/8ASm36ts8N0L9gDwL4WTSv7NXV7WbQ7vSr2xuVvP38L6dbfZYFDbfuGHcrqeG3t0zUkP7Bvgey8N67pcY1aOx8Q6BJ4bu1F6dwtHuZ7ltnHyv5lzJhh0XaO1e3U1zhaj+zMJr+7Wt76LW+/wB/Uxjw7lkb8lCKvfZd9/v69z5T1r9h/XtZ+P8Ab39tNomk+ELbxBaeJX8i8u5Jbya3QIEe0Y+SJXAAadXxtAxEGJavqyPiNfp3qPytrd/SpU4QfSjB5fRwrm6S1k7srKsjwmXOpLCxt7R3fr0S7JdBaKKK7j1zxfRv+UiHiT/snWlf+nPUq9orxfRv+UiHiT/snWlf+nPUq9ooAKKKKAGXCNJEQuAfevKvjN+x34T+PWp3114hXUHk1GwttNn+z3RiBiguWuUxjoS7uGPdWxXrFFY18PTrQ5KqTXn/AF5nJjMDh8XD2WJgpR7NXR4P4w/4J6eBfGNzqU0kmvWcmsjU479rXUDG1zFqEqzXMROOEMiKwAxj3Fa2k/sW+GdE8ZSaxbX3iKJZmWebT01N0sbi5W3FuLl41A3SeWoBz8pPzbcgV7FRXHLJ8E587pK+9/69X97OBcN5WqntVQjzXTvbqk0vzem2p4re/sJ+C9Q0qGzk/tZoYPDlj4VXF6cmys7gXEPb/WeYo3N3HFbV3+yb4VvpbVpory4jtta1DXjDLcFo5Z76GWG4Vxj5oyk8gC9sjmvUKK0/svCdKa6dF0d/zNFkOXJ3VGOtlt0Tul8nqeP6R+xzpOi+EZNIi8TeOmVZIDa3L65IZrGOEFY4oxjYYwCQyur7wfmJwMdf8Ffgno/wE+Hth4Z8PxyR6bYtJIPNbdJI8jmR3Y4AyWZjwAOegrsaK0o4HD0Zc9KCTtb5djTC5PgsNNVKFNRkk1ddm02vm0r+iGom1yadRRXUekFFFFABRRRQAUVHdA+WMZ4PY15j4Y/ap8P+K/GPizSbe316K38D382m63q9zZiDS7GaK3juJA07MBtEcqHcBjLdqAPUqK4nT/2h/h/rup2dlYeOvCN3eX141hbQQ6xbvJcXCBS0KKHJZxuXKgEjcvqKq/CX9ozwr8YLe8TTdWs49T0uS5S+0y4u4ft1ksFzLbNJLEjsURmiYqT/AAlc4JxQB6BRXEyftAeBZ/BEPiSLxp4Wbw7cXH2SLUhq0AtZpz0iWXfsLnB4znHPTmuBb9vfwHF8CfCvji5uLqw/4TG0s73TdAuZ7WPW5o7i4itwRAZtrbHlUtsdgAGxuIALswPdKK4CX9o7wb4fspZfEXiLRPDGy+uLCMatqltbm5aCYQOyfvDlfMKjnDDcoZVJxWzffGLwjpXjiHwzceJtDg8RXAUxaY97GLuTcMriLO45HI46c9KQHTUUiuHHHPOKWgAooooAbJ/q2+lcP8MP+SofEr/sL2n/AKbbSu4k/wBW30rh/hh/yVD4lf8AYXtP/TbaUAd1RVHVtXg0TT7i8upPJtrSJpppD0jRQSxP0AJrB8HfF/wz8Qr9bfQ9f0zVpmsYdUVLScTE2s2fKm442Pg7T3wcVMqkU7Nmcq0IyUJNJvZN6v0XU6yivmv9sHxL4gsPHuk2ul+K/EXh+3XTzM8emzRx+c7SuuX3xPnAVQMEfxda8m/4Srxkf+al/EAe4vbb/wCR68XGZ/hsNWdCondWvZLqk+/mfM5lxdgsFiJYaspc0bbJW1Sfdd+x920V+fPhf4ieOtU1rxFDN8TPH7Jp+oLBCBd2o8tDbQSYz9n5+Z25raXxX4yDf8lK+ILe32225/8AJes3xJhU7Wl06d/mcsuOsvjLl5ZdOi6/9vH3ZRX57/D34h+Otf8ACq3V18TfH7zfbL6EsLu1UFYr2eJf+Xfssaj361q6j4w8aW2m3MifEr4gb4oXdf8ATLbqFJH/AC71MuJ8IpcrUvuX+YS48y6MuVqX3L/M+86K+DNM8Y+NLnTLWR/iV8QC0kKOx+2WvJKgn/l3ro/hZ4v8WJ8W/Ccdx4+8aala3WqxwXFrd3Vu8NxGySZVgsKnHQ8MDkVpR4iwtSoqSUrt22NMPxtl9atGhFSvJpLRbv0bPtCiorTd5Z3Zznuc1LXvH2B4vo3/ACkQ8Sf9k60r/wBOepV7RXi+jf8AKRDxJ/2TrSv/AE56lXtFABRUcku3dk8CuQ8HfG3wn8Rr6K20HxDpurzXFr9uRbSbzCYBIY/M46DerLz1KsOxqfaRUlFvVmc61OElGckm9rvf07nZ0V4F+2X4k1rTIPDEOj+JNb8Px3bXMs0mmypHJNtEO0MXjfgb2OMDkjmvD/8AhKvGX/RSviB/4G23/wAj14+Nz3DYWp7Kpe9k9LdfmfN5nxZgsDXeHrqXMknolbX1aPu2ivz50v4ieOrn4g69p8nxM+IDWtjY6dPCv2u1BVpnvQ5J+z85EMfHbB9a2D4r8Zf9FK+IH/gbbf8AyPWD4lwq+zL7v+CccuO8vja8Zfcv/kj7uor8+fBvxE8day2tef8AEz4gN9j1e4tYsXdqNsabNo/49+ep5rbi8U+MmlUf8LK+IHJA/wCP22/+R6U+JsJGXK1L7l/mE+PMujLlal9y/wAz7ror4E8M+OfG+p6BazzfEr4gGSVNzEXlqM/Mw6fZ/YVp6Z418ZWOv6PJ/wALF8d3C/2tYI8Ut1bNHMjXcKujDyBlWVmBwQcHg5qo8SYSU1BKV35FU+OsunUVNKV20tl19Gz7ooqG1UoWHOBwMnPFTV9AfZBRRRQAUUUUAR3LbY/xxXxb4j/4Jwa5rPxQ+OWuRWXw1kufirb6tb6f4huBef21o8d5pkdmLcgL5TRB4yzbTnDnGTivtYjIpNo9B+VHNYD5J8Wf8E+ta1r4i+INYtNa0C2ttWu/AVzDD9mkDQp4dupZpwSoAzKrhY8Y24OeOKzPH/8AwTU1z4yeGdb8La94m8O6X4fm03xVZ6deaTprtfNJr1yZJTcpIdjrCgT7rAzNgkIEG77J2jHQUbF/uj8qfM9xcqPl7TP2TPGlj4l0rxmv/CD2vja11+61C/hkvNQ1DT9ShuNPisGlZpcSpMkUQ2oo2FVCFv8AloOU8Pf8E9/GXgn4UaJ4R0/xB4NuLD/hHfDmi6tc3VnP50T6NfNcxG1VeBHIssg2uf3bjI3biB9mbBQUU/wj8qOZhyo+TH/4J/6y/jHVNSm1Tw/NFfaZ460+OM28pKt4gvYLiEnjGI1hKyDksSMZxXBfC74VeKvh/wDtP+GbC68D3WtaX4d1mwQO4vLeCyuItGjsZ9djYRG2kRkVkVXlD4YjYrDJ+8Ni5+6Pyo2ADGBj6U+YOVEdo26L055HpUtAGKKkYUUUUANk/wBW30rh/hh/yVD4lf8AYXtP/TbaV3En+rb6Vw/ww/5Kh8Sv+wvaf+m20oA6jXftaaXcGxW3kvAjGFZ3ZIjJzt3soJC5xkgE47V8i6d+wj4y8D/A/wCIPhew1Lw7qE3ja8s9ckkt43sZE1D7Qj3UYI4a02r+7ViWHzBs7s19kGMsTUfksG4Xjv715+Ly2jiZKdS90mk77Jqz+88bM8jwmPnGpiE+aKkk07W51yy+9f8AAPnT9r3Q9Qv/AIh6bdW+n6hdQPpojElvayTqGE0hKkqDg4YHmvKj4b1Uj/kD61/4LJ//AIivuFY3WXgYX+dP2N/k1w43h+hiazrTk03b8EkeVmXCGGx2Jliqk5JytovJJfpc/P8A8J+CtcsfEHieWbQdeijvNTWaBjps+JEFrAu4fJ03Aj8DW4PDmqZ/5A+uf+Cy4/8AiK+5AjH+9+dHlsP4m/Ouf/VfCt3cmccuAcHJ8zqSPz/+G/gnXNI8HpBdaDr0E32/UZNjabPna9/cyIfud0ZWHsa1dT8L6tNpd0q6NrjM0EiqBpk/JKkD+CvusK+f/r0bGJ6n86T4Xwzd+ZifAeDbv7SR8J6X4X1eLSrRH0XW1aOCNWB024yCEGf4K6L4YeGtWPxc8It/ZOrrHDq8UsrSWE0axoEkyxZlAAGR1r7K8tv7zfnSCNgefm+ta0eGcPSqRqxk7p3N8NwRhaFaFeFSV4tP1sLbnKH681JTUGBTq+iPtDxfRv8AlIh4k/7J1pX/AKc9Sr2ivF9G/wCUiHiT/snWlf8Apz1KvaKAKt0G2yFfmI6A55r460b9h7xp8P8Awx8Q0MHg3xg3xMvIdT1PT1abT4rW5E8pcIVA8+BYpNwjkZd0iHccSMR9lujEHFRpAyE8Z3V5+NyyjinGdS/NG9mna11Z+t02tTxc2yLC5hKnOvfmp83K07W5ouL01T0bWt/JXPmf40+A9Y0L4WfDXTWttc1C40XTnsrqWZjqF1vEVuoM0ka4d22Nl8AEg15v/wAI3qv/AEB9b/8ABZP/APEV9xBGDH5ce+adtauHF8P0MRPnk2tEvu0PLzDg/C4qoqkpyVkoq3ZKyPz/ANI8Fa5b/ErxFdvoOvLbXWnaXFDJ/Zs+2Ro3vy4Hyfwh0z/vCtz/AIRzVP8AoD65/wCC24/+Ir7kCt7/AJ0eWw/ib865/wDVfCveTOKXAOClq6kj8/8AwR4K1zTjr3n6Dr0P2nW7qeLdps/7yNtmGHydDg1vQ+HNUEyf8SjWh8w/5hk//wARX3Dtcnv+dLsY/wD66JcL4Zu/Mxy4Dwbd/aSPgrwp4S1mz8N2cM2h65HJGhDK2mT5HzE/3K07Lwtq9xrekKuja0zf2tp7nOnTrhVvIWYklcABQSSewNfcXltnq350gRlbqT9aqnwvhoTU1J3WpVPgXCQmqkakrpp/c7iwnLv9akpsa7T7Yp1fSa9T7gKKKKACiiigAozTXfYO/wCAr5x+Jf7ex8DWfxI8TQ+D5r/4f/CHUDpvijVjqghv1kjjhluHs7MRMLiOGOdCxeaFm2uEVyBuAPpDOKN1cOn7QvhOW58pr+SM/wBuXPh4l4HVReW8LzSqSRgKscbtv+6cda4PTv8Agoh8K9Z8Jf21b6tqklnIdMNuF0e6ae9j1FpFsZYYgm+SOZoZFVgOqEHFOzC6PdNworx3Vv2xvCfg6G+k1iS4ikj1FrC2srWzuZ752SxivZFkhMSlXjikywUsBwN287Rs/DH9rHwV8Z/Fn9k+E76817baWt897aWMrWMMVzbLc25ebbtXzIWVlz1zjrkUWYHpNFFFIAooooAKKKKAGyf6tvpXD/DD/kqHxK/7C9p/6bbSu4k/1bfSuH+GH/JUPiV/2F7T/wBNtpQB3JYCl3cVg+MvFmn+BfCmqa3q1wtppuj2st5dykcRxRqXZvwArzzwB+2d4H+IV9qVrHcapop0vS7XWZ21mwk09fstyzLDIGlAB3leAOeR64rop4SvUg6lODaW7W3Rfm0dFPB16kHUpwbit2tui/No9hBzRnmoYGDdO5zXl37Z95Npv7P2rS2809vI17pke+GVo22tqNqrDK4OCpII7gkd6xpx5pqPd2MYR5pKJ6vmivjJrOLceGx/10b/ABrnfCZa78beNIZZZ5YbXUrZII2mcrCp02zchRngFmZiPUk96+mlwvXTS51+P6o+mfCtdSS51r5P/I+780Zr4g8YQ/ZvDVxJDJNDIrRBWSVwwzKg9fQkfjWpLZxee21WxuOP3j8Dt3p/6q1/519zBcLV39tfc/8AI+y84orwv9kFmTUfF0PmSGON7MorOWCExyZIyT1wM+uK9zThRXz2Lw7oVpUW7tHz+Kw7oVZUpO7QtFFFc5zni+jf8pEPEn/ZOtK/9OepV7RXi+jf8pEPEn/ZOtK/9OepV7RQAZo3CoZGJYgH73Arxj4fft1/D34i6va2dneapZx3+nXerW17f6dLa2dzaWzrHLMkzgIybmABzz2relha9WMp0oOSju10vd6/JP7joo4SvVjKdKDko7tdL3f5J/ce27qM4rL8P69ZeJtItdQ0+4iu7O9jWaGaJg8ciHoQR1rH+NN3Np/wg8WXEEjwzQ6LeyJIh2ujCByGB9Qeay5Wpcr9DHlalys6yivjOexhWZ1CsoDHA81zjn6/rWbZxA+MtSi8ybyY9PsXRBK+1Waa+DEDd/EEQH/cFfTf6rVtPfX3P/I+m/1Vr2T519z/AMj7eor4j8TW62/hbVJI2kjkjsp3V0lcMpEbEEc9QauQWkbwRFt7ExrkmR8k4Ge/rVf6qV7/ABr7n/kP/VWve3Ovuf8AkfaBOKM5r5v/AGZ1+z/FfylZ1jl0u5aRN7FXKyW+0kE9RuOD23Gvo6AYiFeBjsJLDVnRk02ux4OOwksNWdGTTa7DqKKK5DkCiiigAooooAa6CQYNfMP7SH7BN349u/ES+F9euo/C/jzU4r/xr4Ku5Ei0zxOpEcVwRciN57Z5IY0BWM7H8vaQu4sPqCimpNaoDwm4/Yrs7z4rXmu3PirxFdeH7rV7jWx4YaK3/s9bq5tZLW5Yv5fnMskcrEKXwrZxjOK534Pf8E5PD/wY0Ox03TtauJLHR9W0rU9P8vQ9NsrpY9PL+RbzzwQJJdZDgNJMWf5MghmYn6Yoo5mFj57+M/7BWg/GW+vNQm1O4s9WuNdm1+1urjSLHVIrN5bKCzlhEF1FJE6PHAjZZdwboQOKveF/2JrLRPjz4S8cXHiTULp/BOlf2TpFhb6XY6fDDEYBE6M9tCjvCSGkEBPlJI2VUYAHu1FK4BRRRQAUUUUAFFFFADZP9W30rh/hh/yVD4lf9he0/wDTbaV3En+rb6Vw/wAMP+SofEr/ALC9p/6bbSgDW+JPgHTvid4C1rw/qkLTadrlpLY3Sq21jHIhRsH1AP5ivmaw/YN8QP4n8aaXq3iq61zRNc8G6XoNjq99bwG6hktLqWRY/JjVFwkezD5yzOx6jn65MGV/HNBt8lenBr0MFm2KwlOVKi9Jb6XtqndPo7xXr1PTwOcYrCU5U6DVpbpq/VO67PRX79SO1BO7tXA/tQ+BtU+I/wAGtS0nR7f7VqEl3YTxxF1j3iG9t5nALEDOyNsZIyeK9CEbeopxQlcVwxlyyUl0PMi3F3R8vN8GfGBP/Is6j/4EWv8A8erE8O/s9eONL8U+KLyXw1eeTq97BcW4W5tmballbQHcPN4+eJ/qMH2P115NHk89q9z/AFjxm+n3Hu/6xYy6emnkfKXiP4F+NNT0SaCPwzfeY7RsN1zbAELIrH/lr6A1fb4M+MGcn/hGdQ69fPtfz/11fT3k80GHI/hp/wCsuN30+4f+sWMvfT7jyf8AZm+H2teDL7xJcaxp0mnLqLWwgWSSN2cIjhj8jsBywHWvW1+6KasZA7U8cCvGxFedao6tTd7nj4itKtUdSe7CiiisTE8X0b/lIh4k/wCydaV/6c9Sr2ivF9G/5SIeJP8AsnWlf+nPUq9ooAglXO4kZ2n86+RIP2BPEngf4ieG4fDviqa88M6HoOqaVp0mr2cF1/wjfmz2sttFDAAnnBfKciR2LKY4jzivr4xZ3dOTSNAxxhvr716GBzTE4PmVBq0lZppNbNdeqUn97WzZ6WX5ticE5Kg1aSs00mtmuvVKT+9rZs5n4V+B4/h14H0nRIRH5OmweUDGrhWJJYt+8d3JJJJLMSSSan+KmhXHij4Z+ItMtV3XWpaXdWsIzjc8kLKoyeByfWt5LdlP3gcVKRkVwyqSlLnlq739Tz5TlKXPN3f9M+Xpvg14wklZv+EZ1D5iTxcWv/x6qNv8CvGkPia9vG8M33k3FnaQLi4tdxaOS6Zs/vumJl/Wvq0w80nk/Svc/wBY8Z5fce2uIsZa2n3Hyrr3wM8aaj4f1C1j8M33m3VpNCm64tdu5kZRk+bwMnrViH4L+MRCg/4RnUOFA/4+LX0/67V9ReTx2o8n6VX+smM8vuH/AKxYzfT7jxH4C/DLxD4Z+Io1DU9Kn0+0jsJ4N8s0Tl3d4SoAR27RsTnHavcIv9WtCJspwGBXj4rFVMTVdaru+x5OKxVTEVHWq7sKKKK5znCiiigAooooAa7iMfNx2pPtMecblzTbtyiDHr618NfC344eLdb/AG3vF3hzxBr2sWfw5tfiXd6fp+oRaqWebVI9MsJrXRGTcDb2jIbmbbjbNIAhIztdpXA+5/tCf3hSiVT/ABCvhL4J/wDBSzxxrXwrT4jeMNI8Pw+A4V0rUtVks2tjeaLaXb3EVwkkMN7cSEWzG0dpZkgYqLgGEMoFd14E/bE8bXnxc+Fen+LB4c8KWXxD0+3u4tN+x/bL83Fx9qnSymCXAltZUtkgPmNBJC7CcGRGCKz5WTzI+taKKKkoKKKKACiiigAooooAbJ/q2+lcP8MP+SofEr/sL2n/AKbbSu4k/wBW30rh/hh/yVD4lf8AYXtP/TbaUAdw8you5jgUgnQjO4VifEC4a28Ca1KryQtHYXDB1baUIjY5B7fWvnX4G/tW6ppXwguLzXLWa8fw/pWkmLTvNQ308E6Kov5ZnfDRO5wAuWGw5GTx87mnE2Gy/GU8JiU17SMpJpXXuptp21vZaWu30R62DyevisNPEUbe7JRtfW8trd9e23U+pg6k9ap+I/FGm+D9HuNR1bULHS9PtQGnurydYIYQSACzsQqjJA5PUiponxIy+leW/toxq/wA1Dcqsp1PRyQRkH/ia2le5UqOEJTfRX/A8ynHmmod2l950H/DUPwz/wCiieBf/B9a/wDxygftRfDMk/8AFxPAvynB/wCJ9a8dD/z09CPzFeEmyhBP7lPyFcn4Hs4T8QPiB+5X/kLWf/pqsq/N4eI3NGUlQ2V/i80v5fM+0lwbaSXtd/L/AO2PqI/tRfDMDP8AwsTwLj1/t61/+OUD9qH4Zn/mongX/wAH1r/8cr5z8b2cP/CLXX7pBloR0H/PaOtaWzi8xmWKNTkkHaOKF4jK1/YdbfF/9qWuDNbe1/D/AO2PpTwZ8TPDfxHguJfD3iDRNejtHEc76dfRXSwsRkBjGx2kjkA9q3Ac14r+ylEF13xcBgc2XQY/5Zyf/q/CvalGBX32V4765hYYm3LzK9ux8fjsL9WxEqF78r3CiiivQOU8X0b/AJSIeJP+ydaV/wCnPUq9orxfRv8AlIh4k/7J1pX/AKc9Sr2igBpkUd6atzGy5DZBprL+956ZzXyr+y7+0rrH/CAXlvqTJdNounxT2cN9dCO41GOSeYSXZmYsTEhQJsRXfI+6SVFfO5txLhsuxVHDYlP96ptStouRJu/a6bt3asj1cDk9bF4eriKNv3bimur5m0rd9Vr959XCVWbG7mo7y/g061kmuJo4IYUMkkkjBVjUDJYk8AAAkk9MVmeD9cbxP4W0zUmsrvTXvrVLg2t0oWe2LKG2OASAwzgjPWsj46Rbvgt4wO5lX+w77IH/AF7yV7lOsp01Vjqmrr56o82UGp8j72Kq/tR/DNhx8RfApzyMa/a8/wDkSgftQ/DMnH/CxPAucZx/b1r/APHK8MubOH7XJ+5j++eij1rGsrSE+PdVXyV/5Bmn9hgfvr/n9P0HpX5v/wARGV2vYbf3v/tT7X/U3RP2u/l/9sfRh/ai+GYBP/CxPAuByT/b1rx/5Eo/4ah+Gf8A0UTwL/4PrX/45Xzv4ss4U8H6x+5TiwuOw/55NVy2s4fscP7pM+WvO0ego/4iNo37Drb4v/tSv9S9be1/D/7Y+kvB/wAZPCPxCvZbXw/4q8Oa5cwJ5ksWnalDdSRpnG5ljYkDPGTxXSK25civn34AwpH8W4cKv/ILu+gAx+8tq+gIhiMV9xkeaLMMJHFKPLe+l77Nrt5HymZ4H6piHQvzWtrtukx1FFFescAUUUUAFFFFACMocfMAfrTDZQkk+TH8ziQ/IOWHRvr71JRQBw/xl+BGj/GfwlJoWoPfWWk31wkup2+nSJb/ANrxL1t522lmhfgOqlSw+XOCQeui0uA3S3Ulvbm8VdnnbB5gHpuxnHtVqigAooooAKKKKACiiigAooooAbJ/q2+lcP8ADD/kqHxK/wCwvaf+m20ruJP9W30rh/hh/wAlQ+JX/YXtP/TbaUAdw8KSKVZVZWGCCMgisvxL4P0zxPpUtjf6fZ3lnMqq8MsQZGCsGUEegYA/UVrUhXJrKpRp1FacU+mpUZSjrFjAgHpz1rg/2kfh1q3xR+EupaPov9njUpbiyubcX07w27tb3kNxsd0R2UMImXcEbBYcGu+246UHkfjTlTTg4PZ6BGbUlJbo+Yz8Dfizn/kA/Dn/AMKy9/8AlZWToH7M/wAWdG8Q+Ir7+yPhxJ/bl3DdCP8A4Sm9XyfLtILfGf7N5z5JbPGN2MHrX1hgUY5PNfPR4RylJpUlr5v/ADPa/wBYsxbTdTbyPlvXf2evi1rGkyW39i/DmMyMjBj4qvWxtdW6f2aOuCKtv8Dviw7HOg/Dnb/2Nl7/APK2vpnH+1QR/tUv9T8otb2S+9/5lf6x5je/tPwPLf2cPhp4p8DXHiC48UWvh+zm1J7f7PFpOpTXyBY0YEu0lvCQSW6AHgde1erL90VGwIHFPX7or3cLhaeGpRoUVaMVZI8fEV51qjqVHeT3FooorpMTxfRv+UiHiT/snWlf+nPUq9orxfRv+UiHiT/snWlf+nPUq9ooAQoD2rA8bfDXQ/Huif2bq2j2OoaexDGCWIFMqwYcex5+vNdBSMu6sa2HpVouFWKknpquhUKk4Pmg2n5GdoGgWnhzSbXT7G3htbOzjWGGGMYWJAMBR7AVQ+J3hu58W+Add0m0MaT6rptxZxNIxEaPJEyKWwCcZYE4B4HQ9K3/AC8d6U5K1SpqMeVbbBzNy5nufMkvwR+LUkjMdB+HC7jkgeLb04/8plU4P2evizDr91ff2L8N/wDSLW3t9v8AwlV7wYnnbOf7N7+djHt719SYG6jH+1Xzy4Rym7fsl97Pa/1izG1vafgfLus/s/fFrV9FvbP+xfhzH9st5IA//CV3rbNyFc4/s0Zxmp4/gX8WkiVf7C+HPyqF/wCRsvecD/sG19N4460Y96FwflKX8Jfe/wDMP9Ysx/5+fgeL/Aj4T+NPDHj1tS8TWPhexs4bGW3iGlaxcX8kzyPETuElrAFUCPqCxJboMZr2qL/VrTCvH60+P7le1gcDRwdFYfDq0VsvXU8rE4qpiKjq1XeTHUUUV1mAUUUUAFFFFACM+wVhD4n+HmtVnXWtNaB9QOkLILhdrXgkMZts5/1u8FdnXIxW5KMgfWvlPxL+zr4v8N/tK6pLoOhLqng3+07r4l2pudRWG3n18WH2OLTsZLIskx+0lyuxSM53ZBaBn0v4h8eaR4Sm0+PVL63099WvY9OshO2z7VcOGKRJ6swRiB/smtM3IH8LdcdOlfBfwF/Z/wDjHL8RLHUPEPh7XtL8PW+v+FNWt9Ov9TSaHT5be11OLVJoka9unUF5LUEtJukGxsZ3Gm2Pwk/aJ1r4LLoMen+M9F1/w78PLnw7Jfz+JLfOt6p/aVnI01tIlyW3PaxTrHPN5TAyYJXJIfKu5PM+x97eeP7r/wDfNSK25cjvXw34i+DfxJtfh54Qm0XQPiZrGoWXiG9uYdA1W8istPtrWVrQbLh49XeaMR7Jnt5VknKZmVogrru+4o/u0mNX6jqKKKQwooooAKKKKAGyf6tvpXD/AAw/5Kh8Sv8AsL2n/pttK7iT/Vt9K4f4Yf8AJUPiV/2F7T/022lAHbNcKvrTWvlX+GTpnpVHxBo0Ov6PdWN15gt7yJoJTG5RwrAqcMOQcHqOQea+a9A8AfFP4f8Aw18Ta1Ldao/ibS7Ww8O6LGZftzXdnbzfPdlcsvmzLKSxYFgI+e2O7B4ONdNuootNaPrd2+5bt9EeXmGYVMNKKjSlNNN3j0srv79l3Z9SGbPTqfWuJ/aI+JN98JfhVqGvadBaXV5b3FnbRR3Ibysz3cMBLbSDgCUnAIziuyjh2vu7Z6f5+teU/tv3Mdn+zfq0s0kcMUeo6SWd2Cqo/tO05JPA/GuPDx5qkVLq0j0KsmqUpLdJ/wDAOTb9pbxoG/1PhX/wFuP/AI7WTof7XPjTV/EXiCxNl4Tj/sW7htlcW9wfO8y0guM483jHnbf+A1yJ8aaKCf8AicaR1/5/Yv8A4quV8F+MNHHj/wAdN/a+k7W1S0wftsXP/ErsR/e9j+Vfo0sjy9SSUFr5vt6n5vHPsxcW+d/cu68j2LXv2qvGmj6TLci18JyeWUAU21xyWdV/56/7Wfwq5L+0p40R2/ceFSFJx/otxz/5FryHxr4w0c+GLgf2xpP34f8Al9i/57J/tVtTeM9Fy3/E40jqf+X2L/4qqWRZd/Ivvf8AmL+3sx/n/Bf5H0D+z98V9Y+Jd1r1vq0OlxtpbweU1kkiBlkRidwdm5G3t616av3a8I/Y11a01bW/GTWl3a3ao9iGaCZZAp8uQ4JUmvdx0r4LMqMKWLnTpq0U9D73K61SrhYVKju2tQoooriPQPF9G/5SIeJP+ydaV/6c9Sr2ivF9G/5SIeJP+ydaV/6c9Sr2igBrTBT3qNrtUXLKyjvkdKjnALNu+Ze49q+WfCPw6+IHwl0nxJfaxdeIpl0FotC8LvYSDULm7snupJnuHSQsobZJBGZJFZkWGTCnIB78FgliVL31Fq2j63dtO9r69ld9Dy8wzGeFcbU3JSvqullfX1tZd3ZdT6tWcP0rE+JPiOTwj4D1zWIo0mk0rTri8SN/uyGOJ3Cn2JUDqKi+GVzql14B0GXWpre41aSyhN7LBA9vFLNsG9kjcBkUtkhWAIBGcVT+O5x8E/GH/YCvj/5LyVxctqnK+9vI74VOaCmuqv5/M8lk/aT8aRuymHwo204z9luOf/ItUof2p/Gkuv3dn9l8Jj7Pa21wH+zXHzGV7lcf63t5Gf8AgdcTP410Xz5P+Jzo/wB4/wDL9F6/71Y9r4z0Y+OtT/4nGk86bp4H+mxc4mv8/wAXuPzFfozyPL0l7i+9/wCZ+cf29mN3734L/I9R1j9qTxppejXl39m8KSfZbeSbb9muPm2oWx/re+Kni/aY8aSRI32fwou5QT/o1xwSAf8AnrXlPi/xlox8Hauv9saRn7BcAf6bFz+6b/arQtvGei/Zo/8Aic6P9xf+X2L0H+1VPI8vT+Bfe/8AMn+3sxtfnf3L/I9x+DHxr8QeOvGx0vVoNFEL2U1yjWccsbBo2iXB3uwIPme3SvX4+Er5t/Zi12x1X4wItrfWV0yaTdlhBcJIVzLbYyFJx0P5V9Joflr4nOsPSoYuVOirRVvyPuMjxNWvhI1Kzu9fwbX6C0UUV5Z6wUUUUAFFFFABRiiigAxRiiigAxRRRQAUUUUAFFFFABRRRQA2T/Vt9K4f4Yf8lQ+JX/YXtP8A022ldxJ/q2+lcP8ADD/kqHxK/wCwvaf+m20oA7rFGKKKACquoaampJ5cyRyxMRuR13KcHPQ8HBGf/wBVWqKAKP8AwjWn/wDPjZ/9+F/wqP8A4RXT1kZl0/TxuOSfs6ZPb09hWjsFGwUXkTyopN4Z08/8uNl/34X/AApr+GtPC/8AHjZ/9+F/wq/sFKFxRqHKivY6Zb6creRDDCH5by0C5+uKsUFc0Dij1GlbYKKKKBni+jf8pEPEn/ZOtK/9OepV7RXnPij4J3lz8bLjxxo/iCfSdSvdDg0GeFrKO6haKG4mnRxuIIbdO4PJBGOBjNaX/CGeM/8Aodof/BJF/wDF0AdpijGK4v8A4Qzxn/0O0P8A4JIv/i6P+EM8Z/8AQ7Q/+CSL/wCLoA7So7iDzxt+XawwcjtXH/8ACGeM/wDodof/AASRf/F0f8IZ4z/6HaH/AMEkX/xdAHTL4Z08L/x42f8A34T/AAo/4RnT93/HjZf9+F/wrmP+EL8Zf9DrB/4JIv8A4uj/AIQvxl/0OsH/AIJIv/i6NSeVHTt4Z0/H/HjZf9+E/wAKP+Eb08LzY2f/AH4X/CuY/wCEL8Zf9DrB/wCCSL/4uj/hC/GX/Q7Qf+CSL/4ui8g5UdTbaJaWjB4La3hbGCyRhSR6cDpVtBtWuM/4Qzxkf+Z2h/8ABJF/8XR/whnjP/odof8AwSRf/F0a9RpW2O0ori/+EM8Z/wDQ7Q/+CSL/AOLo/wCEM8Z/9DtD/wCCSL/4ugZ2lFcX/wAIZ4z/AOh2h/8ABJF/8XXMfGuTx18M/g14u8R2vjKzmutA0W91GBJdEj8t5IYHkUNh87cqM45xQB63RTIWJDZ/vECn0ANkfZjjPtXnfgv9qPwz4+8Xa5pOnR660Ph57qG81abSLiDR1ltn8u4jF46CEtGwYEbv4GxnacehXSs6rjPXnHpXx/8AGf8AYR8efF3xD4+OnzeCvBei+LNL1G1ubGxu725svFN3Jc20trc6jZtGkUbLHDKkrws0konZdxUAU426gfSsfx88FTaZpl8vi7wq1lrUxttOuBq9v5WoSggGOFt+JGBIBC5IJHHNT6h8Z/CulXOpQ3XiTw7azaPG02oRzanCjWMalQzygtlFBdAS2Mb19RXzn8cP2KvGPxh0zzIdD+F+k3eqeGdS8LXVgZJp7Hw+LmeORNRsMWyk3Q2sXBWPc0duQ67Oa/jf/gnPq3ibwx8Tfs+pabZ6/wCMfHlp4os9Qt5Xtrq5sreGzRbS6uBEzrl7eST5VdQzI2M7hTsidT6u8O+IrPxXpMGoafc2t7Y3SCWC4t5lmimU/wASspII9wavDpXmP7InwNf9nb4JWXhmSIQSxXV1eSxjVZdTVZJ53mfE8kUTNlnJ/wBWoBJwK9OqXuUtgooooAKKKKACiiigBsn+rb6Vw/ww/wCSofEr/sL2n/pttK7iT/Vt9K4f4Yf8lQ+JX/YXtP8A022lAHdVHLP5bhduakqCdN04+U/XFAGNJ8S9FttZ/s241TSoNSyoNo97GJwWOEGzO7LduOccVs/aztzt9cc9a+K/jF+zrr3g/wDaO0PxBe6B4bvrPxB8U7HVINfgkkk1aC2a2ZPssqeUAsMbISD5hXDDgHr7/wDCb4a+ILr4G654X8Wap4glvNUudUtRqcl2n9ofZZpJFhmWSIBUfy2DLtC7SAMLjA9nMMtoUKFOtRrKXMlppe732b2fez12PazDLKFDDwr0KynzJaaXu99m9n3s9VoeqQX3nH7vHrniud8AfGLRfiZpdtc6VcrI11b/AGpbeQhLhIt7IHZOqgsrAE9cVyP7HX7Ltj+x18BdH8A6brGt+ILPR2mdb3VGVp382QyEfLwqgkgKK8++H/7Ivif4X+BfGOnWuprdTeJNF+SS3untrmDUYzKY1jlAB+zkOvykjBDcYJz8HnWYZjhsVSWDo+0ptTc31TSTgl/id15Xv0M8twuErYepLEVOSonHlXR3b5r/AOFWa77dT6RF+FP7zbH6ZYDNUvEfjGx8K6NNqF5JstYB8zIpkJ9AAoJOfavHP2uf2QZf2o7fwurQ/DqRvD6XIb/hKvCI8QczCH/UZni8r/VfN97f8nTbz23wd+Dsnwn+CGn+EY10OGSxtJbb/iTaX/ZmngsWIMduHfy1+bOAx5ye+K9nFSq/VpzofHZ2TXW2mmnXoeSviszWtvjPot1ceH4VkuPO8TRpNYp5Lco8ZkUuei/KDxnPtTPDvxr0XxN4kTS4PtkdxP5v2Z57Z4orzym2yeUzDDbT1+uRkVl2nwvv7fQfh7ZtNAW8IvC12Ru2y7LSSE7OP7zA89qp+Bvh14qsviZPrevSaHfLIskMDRtKXsYudqQqVCrnje2SW9eAK/PpZxxNHE4enKj7s5wUrU20ounTc7yU7xtNzinyu73sovm6FCna7Z6crbhS02Ndq06v0mOqOcKKKKoCvcX3kH7uecVm/wDCf6U2tSaauo6a2pQsEe0F2nnqSCygpncCVViAR0UnoDV65ibzdyqzDPI7GvjXS/2aPEnws/aa8D3Op6bokzal401vUB4osneXVLmG6tp5IY51ePaghXCDc0i5VAqgE59LLcFRxKqe0qcjim15tJvrbslpd3asrJnqZbgaOJVT2tTkcU2l3aTfX0W13drSyZ9nLf7wuFPPao73WFsbOa4ZSYYI2kYrzwoJOMdehrzf4f8Aw01vW/2bm8J+KNT16PUtQsLzT7vUheA6kgkeVVmWZRgSCNlIIAwcYA6Vn/spfsn2n7Jf7N8Pw70vWtc8QWtqLlo7zV5A82Zix2/LwFBPAHqfWvNxcXTjUVN8zV7dnb+vxOGVOMa3s73ina67Xtc7r4c/GDRfinolnfaTcLIt9ZQ6gsDkLcRQyjMbPHnK55xn0ro2vQke5tqj1JwK+XfC37J3jD4Q/CqfQ7Ex64bxLJ3a0uzb3MFwsRimLMxjEsCqFaKMspVvQV6z8cPgjN8bvgFL4RkTRZJrqK2D/wDCTaSutWpMZVj50AkjWRsg8hwN3IyOK+X4ZzXMcXS5czoOlUUYt9rtyTS3TskndN/FayselnOBwtCq3g6qnC7S72VtWt0ehal4ht9I064vLiaGO1tI2lmkLfLEqjJJ+gFcjaftEaDdadcTGHV4ZrdoF+yTWMiXU3nbvKKIR8wbY/Pbac4rh/2W/wBkj/hnTwd4m0mW3+HrR+IZA5j8OeE/7DtmAjZCJ4xNL5pOfvZXA45pumfsy6xHp11NctpMt4Z7BorSW6uLq2ljthKGR5JBvw3mkAYIUKBzzXi8ZZpxHhMTShklFVIOM3JuLdmlpquvZWbk9PTz8PCnJfvHY9k8P+JYvEekw3kMVxDHMMqlxE0Mi8kYZWGQeK0gciuV+E3g+68B+CLXTbyYXM8JdiUJMcQZywjj3c7EB2jPOAK6lBha+vyetiquCo1MbHlqyinJdpNK667O6MZ2T90WiiivTJCvPf2tP+TWPiV/2Kuqf+kctehV57+1p/yax8Sv+xV1T/0jloA9BXp+JpaRen4mloAKKKKACiiigAooooAKKKKACiiigAooooAbJ/q2+lcP8MP+SofEr/sL2n/pttK7iT/Vt9K4f4Yf8lQ+JX/YXtP/AE22lAHdUUUUAQz2olTDcjOcUkabE65bvU9JtFHqHqLRRRQAUUUUAFFFFABRRRQAUUUUAFRXEW9lbuvSpaCM0ARovC896koC4oo8gCiiigAooooAKKKKACiiigArz39rT/k1j4lf9irqn/pHLXoVee/taf8AJrHxK/7FXVP/AEjloA9BXp+JpaRen4mloAZNIyBdo5Y46dK8F8Nftqalqnj2+tr7wNcWvhO38ZSeB49at9US4lN8JFjR5bYxqY4XdgoZXcgkZXBzXvcwZgNu3r3rw/Q/2LV03xtcXlz4u1a58Pv4wl8bposdtDCj6gxDKJZsF3ijcB1RdnzAbiwGKI7agN+HH7fXgfxb4RvdQ1HVrWwutMNn9rt4YrmRcXt/PYWfkl4UaZpJ7eSMhFO11YHPBPM/tC/8FLPDvwH/AGctf8X/AGX+3fEWl6JqWtwaNYQ3c0Lx2lxLbgz3AgxaxySRFFkmVFLhgC20mtjwd/wT08M+FLj4cyNqmpXy/Du4vLhY5I4lXWGmujeQfaMDJFtcEyxY6MSf4mzh/ET/AIJn6f41+FviDwna+M9a0ux8XeGrnwprcotIZpLu0lvLq8Rkzjy5Y3vLhQ3zApJyu4Bhfu3J949cs/2m/COp/F+TwLbapJJ4gjaWIKbKdbWWaJBJJbpclPJedI2V2iVy6qckcHHA6X/wUC8M2XxY8c+E/EUGoaTdeFdbbSLOWDTbu8j1IixivAvmRxGNJ3VpBHCX3yeUdoOQDveBP2PNE+Hfxw1fxpp66VJLrWpXGryC50mOW+trmeMJL5V3kOsbYJ2FSRuYbgpAHP6x+xd/ZvxI1zxZH4g17UrG+8Uw+OpvDdvBbIbzULW1SG3hSeQrtjJijYq7AF1T50UMGXu3D3j0zwX8ffDfxGu7yDw/qS63NY6PY6662kTNvtb1JXtWUkBS0qwuwXOQNpIAYE8J+xp+2X/w17oupXsXhuTQY9Pis59y36X0WblGc2srqq+VewBcT25B8oyIN7Z4y/2I/wBlu++DvwH1/S9at7jRdR8W395cfZYr9Z7rQtPfMVjYCdBs3WttsjBQsqsp2u4+Ztf9l39izTv2ZJNQa31i41Yalo2naDJD9kisrVrexWVY5XijGJLqQTMJZycuEjGFCgUaWDU9A+BHxXX44/CPQvF8OnzabZ+JLYahYRSuHke0kJa3lbAG0yQmOTZ1XftOSDXOfEP9oaPwPpfirVprrQLPQ/CcMnnXVzdbnup4oXnuIY0BA3RxhR97JYuCF2ZbA0b9m7xLp37IHhvwONYs7Xxd4GtbWPRNTtppUt5J9PIWyecY3NHLHFGtxGAQRLKF/hI1vG37JukePPB2n6XdTeS1raXVvcSJAjpdtdSQy3MrI3G+R4cE8nZLIvRjUlHc+Dta1jV9Mt73UIbO3juIEl+zorCeBmUMUfkjcucHHcVk+F/jbaeIPjZ4m8BzWs1nrPh3TrHWULNujvrG7M0aTKcDaVmtriNlPTYpz82Bn/BT4a+KvA+s+Kp/EWtWeqw6tqTXenpbq0a2sZklbDKRjeVZAzDhivQACmeFPgrfaf8AtReLPiFqF3A8ep6BpnhvS7WEn91BbS3VxLLJkD53muyoCnASFT1JAEB6Q5zEfpXD/DD/AJKh8Sv+wvaf+m20ruCNsH/Aa4f4Yf8AJUPiV/2F7T/022lAHdUUUUAFFFFABXIfGD4nzfCzwzJqUelXOpIjqreWyIkOWVcuSc4OeNoPPXFdfXP/ABH8CR/EbwneaRPNJbw3mzMkYDMu11ccNx1WvIz6GOnl1aOWS5a/K+R6fFbTe61emu25ULX1MjxZ8X/+Ef8AiBo+hQWLXX9ozrBcXO8Klmzq7IuP4mIRzjjAAJ6iuzjlaTaeme3pXG+IfgdpPiDxbZ60VuLa9tb1L1zFOwW5ZEKKGXOBwRyoBO3HTIrsY4Su32rgyOnnEcRiXmck4Od6VraQ5Vo7RTve71vrtZWRVTksuT5ktFFFfTGYUUUUAFFFFABRRRQAUUUUAFc/8RvGkngPwpfapHYXGpGyheYwwMisAqlixLEDaMHOMn0B6V0FZfi3w0vizQNQ06R2jj1C1ktWdfvIrqVJHuM55rjzCNeWFqRwr5aji+V6aSs7PVNb23RUbX1OL8XfHLUPDOlWeoroRm02Sygu7id7gRqGlYKIYflJkkHLEYHGOcnj0RJmYD1rz3xD8CZ9av8ARbiLXLm2/sK1jt7aJrWGeNWXAMwWRSFkIAGQOB0xzXoEcTrXznDsc6WJrvMm+T3OS/Ja9nztcqTSbt7sr2tdPWy0nyWXKTUUUV9eYhRRRQAV57+1p/yax8Sv+xV1T/0jlr0KvPf2tP8Ak1j4lf8AYq6p/wCkctAHoK9PxNLSL0/E0tABRRRQAUUUUAFNkjEqFW+63Bp1FADY4hEML/OnUUUAFFFFABRRRQA2T/Vt9K4f4Yf8lQ+JX/YXtP8A022ldxJ/q2+lcP8ADD/kqHxK/wCwvaf+m20oA7qiiigAooooAM0ZqF32J+OKjjvY5v8AVsr4O3I7H3rN1FdR6vb5bhZ7otFsUbuaqi6jkdlDKzR/eAP3fr6fjRb3EdyI2VlkVjkMpyDUxrRbSTWv3+f3Dt3LVFFFbCCiiigAooooAKKKKACiiigAzRmoZH8pSfeo0vI5GdVZWaP74ByVqHNJ2fXbzHbqWs0ZqqbtQ2zPzYzjvj1ogvVnH7tlkUHGVORn60vaK/LfX+rh5lqiiitBBRRRQAV57+1p/wAmsfEr/sVdU/8ASOWvQq89/a0/5NY+JX/Yq6p/6Ry0Aegr0/E0tIvT8TS0AR3DbU+9tyetfNej/t8LpPxB+JkPjD+wfDeh/Dkz/aNOxeT+JJYVlSOC6S2WHbcQzl12m3aTBkjUneSo+lLmD7RFt/GvF/GX7Cnhr4peKNU1Lxlr/jLxel7aXthY2l9qKW8OgwXcsUsy2jWscMqktBBteWSR0EK7WXLbmrdQOf8Ail+194h1I6LoPgPQrq08ZXXiqLw9q9nrtlHN/YQ+yteM0ixXKpIZIAGjeOZk5Yk5QrVjQP8AgoPoOr+BNA1mTwr46hn8UQ6rdaZpsVnBcXV1bacy/aJsrLsUBXUhXZWJyqhmxnrvBH7JGi+DdTtdUn1rxH4g8Qxa3/wkF3q+pzQfatUuhZtZJ5whhjiEaW7BVSKONRtBwSWJo+EP2JvDPgq4077Lq3iaa10RdYh0q0nuYWh0y31PyjPbxkRB2jVo90fmM7KXYFmXaod4k6kPgX9t7wz8SLfV30jTfFEsum6Tpuv28NxZR2bapp2oGRbW6gaaRE2OYpARK0bpt+ZVyMwTft4+C4LTw3IyeIBc+LxNFotn9jTz9RvIboWs9inz7ftEbncylgpjDyKzIjMtTxD/AME6/BevaLptouqeKLGXR9G0HRLC5guYGktY9Glnks5NssLxvITcSB/MRkYY+RSAakvP+Ce/g2fT9Ngi1TxXbSeHkuH0C5W+jluPD93PeNeTXtu8kTZuHkKoWl8xfLTZt2vJvNOganudq7MrBvvKcH3qWo4IPJ3d9xzn1qSpKCiiigAooooAbJ/q2+lcP8MP+SofEr/sL2n/AKbbSu4k/wBW30rh/hh/yVD4lf8AYXtP/TbaUAd1RRRQAUUUUAY3jOK8uPCWqR6czLqElpMtqVIUiYoQhyeAd2OteNfs6ata+GtUvLhbfUbPTZLHTLK4EltKN2pMWWTKkZ35I3v9MnpXvTw7hTfsp2/e2/Svj854Xnjczw2Z06vI6PNZWunzJpdU9Lu/fRdDaFRRi423PlHR7XUgfFoisNXa4bSbqK6jRJUuLR2ugV+0yEf6Q+zJUpzsDKAd1eyfsyRsvhC88uKOO1OqTNbPDbtbW8sZC8wxN80aA5GD1IJ716V9mOfvULbYcNxxXzPCfhm8lx8Mc8S6nKpLlcbfE2735n31v125V7prWxCnHlsTUUUV+rHIFFFFABRRRQAUUUUAFFFFAEEhA69M818/fDzUI/C3jePUJoNQgm0e11NvFUy20zGR2uENsW4/enaJNm3cQpOOK+hHh3f4U0WpH8X6V8jxFwzLM8Rh8RGryOi29r31hJdbq0oJPvCUo3XNda06iimrHkt7o0eifHzXri4uNVayuvCzzSzGaSQwkzHesJOdmFAIVfriqv7LN1pl7ea9eaZHJp1rcCzWPSvJlX7EqrIoeRmAVpZP49mcbVySTk+yLa4XryORSJaMn8Rb615uF4H9hmdPHxqLljOpPl5bu9RJWUr3SWtlazvdptJq3WTi16E9FFFfoBzhRRRQAV57+1p/yax8Sv8AsVdU/wDSOWvQq89/a0/5NY+JX/Yq6p/6Ry0Aegr0/E0tIvT8TS0AFFFFABRRRQAUUUUAFFFFABRRRQAUUUUANk/1bfSuH+GH/JUPiV/2F7T/ANNtpXcSf6tvpXD/AAw/5Kh8Sv8AsL2n/pttKAO6ooooAKKKKACiiigAooooAKKKKACiiigAooooAKKKKACiiigAooooAKKKKAK+oTSwxqYoZJjnkIyqf/HiKmiLGMbhhu49KdRQAUUUUAFee/taf8msfEr/ALFXVP8A0jlr0KvPf2tP+TWPiV/2Kuqf+kctAHoK9PxNLSL0/E0tAEd0cR/jXynq/wC3VrPwn+NXxFh+I02g+FvCfgmwvtVs9IGjX8mu6vp8HlhL62uNxtrlZGfaYYhvQlQ23Br6uliEoGc/KcjFeV+Of2LPh/8AFLUdUn8Vafq/iaLVrS9sZLPVNcvbmzghvE2XKQwNL5cW9PlyigqMhSoJy426geW/Fb9tbxRqF3pfhXwn4X1TQfHv/CT2Gia3p+ppZXkmj291bTXUUy7bpIJjLHBIFKynYY33AHaG3PDH7dVzrnh7w7I3w18XNrni+/1ax0bS7a90+WS8/s9nErmVp1jj4jI+dh84IGRtY+heHf2SvA/hrV11KPT9Su9WGrwa5JqF9q93d3lxdwW720LSSySMzrHDI6LGxKDcTt3HNS+Fv2WPBng7xXpms2dnqX2zRNQ1DUtNWbVbqaHT5b4EXQijaQqqPljswVUsSoU07oWp594M/wCCgmh+OtB1S/tfDPiSwht/Den+L9M/tS4sbFdZ0y8kkjimSSS4EcBDRncs7RthlIDZxVWP/go14VuvDPhvULfRfEV9P4yubzSdGtrQ204v9Wtp/KfTUmWQw+YwDSrKXELRxyHflSK63Vv2B/hbrHh7RtMk0G+S38O6TpWiaY0Ws3sc1lbaZP8AaLELIJd2+KX5hISXbozMOKfcfsI/DG605LeXRdUk8l7yaCZ9ev2uLWe7uku7i5ilM2+O4eeNG85WEgA2hghKk0FqetWj7kb5lbB6g1NTIoREzMM5c5OafUlBRRRQAUUUUANk/wBW30rh/hh/yVD4lf8AYXtP/TbaV3En+rb6Vw/ww/5Kh8Sv+wvaf+m20oA7qimeYR7+gphmbtj39qV0BKzBFyegoR965HSolkZ+vfFZXi7xnpnw80O41PV7+z0rTLdkE1zcyCOOMu6ouSfV2VQO5YCn1sF9Lm3RXAn9pvwGP+Zu0L/v/UMH7VPw+ubi4ij8aeHpJLVxHMi3ALRMUVwGHYlXU4PZge9bfV6v8r+5mP1il/OvvR6JRXntx+1H4AtLdpJPGOgRxrjczXGAMkD+Z/Wm3H7UngW3mjj/AOEm0mRpDt3RzArH/vcjFH1er/K/uYLEUX9tfej0SiuU+HXxg0b4pPef2Ldw3i2DqkzRyxSeWWBK52OxGQO4HSurU5UVnKLi7S3NIyUlzRd0FFVdSu57Xb5MKzMxHBfbgZwT36DnHerVSUFFFFABRUZkYMaFlP8AFigCSimLJk0ssqxIzM23aMkntQA6iqI1+1z/AMfEP500eIbXOPtMJb0zT5Zdhc0e5oUVnnxBahM/aYfrmnf2/a/8/EP/AH1RyvsHNHuXqKq22qQ3T7Y5o5GAzhTVpTkUhhRRRQAV57+1p/yax8Sv+xV1T/0jlr0KvPf2tP8Ak1j4lf8AYq6p/wCkctAHoK9PxNLSL0/E0tABTS+DTqyLrxbp8HixdFN9arq0lo18tmXHnNArqjS7f7gdlBPqwqoxb2JlOMdZHAftqanYaV+zf4iuL3WNY0O4VIxpVzpLsL86kZFFnHCqkeY73Hlp5bfI4YhsKWI5n9g7xJq/ifwn4qk8ZXl03xLi16RPF2nGaVrHRbsRx+Xb2If/AJc/IMTxsCd5d2Y7tyr7BaeKNO8Q+FrbWbW4hvNMmgF/b3EY3pJFt3rIuBkgryCBn0p3gjxTpnjjwtpuuaTMt1p2tW0V5a3HltGZ4XQNG2GAYZUg4YAjPQUcslG7RMakXLlTNqim+aucblz9acDkVJoFFFFABRRRQAUUUUANk/1bfSuH+GH/ACVD4lf9he0/9NtpXcSf6tvpXD/DD/kqHxK/7C9p/wCm20oA6jxBaXV3pF3FZXCWd5LC6287x+YsEhB2uV/iwcHGecYr5w8HftT+Mk8A+JPFWqafa3Fh4StrDRr6yEf2Z5tY83ZeyK7D/Ur5kQUAYbnBr6bYFl71T1LQrPVdPktby0gurabmSGSMMjkEHJB4PIB+orswuKpUoyjVp812nfsuq+a08jy8fga9aUZUarhZNW7u2n3P7y4keHA7CvKf21m/4x41TH/QT0jn/uKWlerK2Q3Brj/jp8NH+MPw21Dw7Hff2XJdyW08V21v9oWKSC4inTdHuTcpaJQRuUkE4INctGSjUjJ7Jo9CrFzpuK3af4nzw87bj+8fr/erlvBdw/8Awn3jz94//IVtP4v+oVY164f2QfGmf+R+8M/+EjN/8sKz9M/Yh8WaVrOr3kXxA0EzaxcRXM4fwnKUVkt4oBtH28EArCpOSec9uK++lxJgnJSu9PI/O48L47laaWq7s4bxxPIfC9x+8f78P8X/AE2jrXlmk81vnfr/AHq6jVv2L/GGq6fJby+PvDojkKklPCUoIKsrDrfnuuPxq0/7IfjQEk+PvDPX/oUZuf8AyoVp/rNgd7v7h/6r461rL7za/ZIkZ9d8YbmJ5sep/wCmcle4V5r+z/8ABbVPhH/bMmra7Z67c6xJCwa10trBIVjQrja00pYkknOR9K9KHSvh8yxEK+KnVp7Nn3OV4eeHwsKNTdICM0UUVxncFFFFAFeYZY9+TXzH8Pv2mvHUtn4on8QRaRCngKNdI1Q3EZsor/UXuJAJY2AZtgt1hYRxqzO9woHIr6gkGd317Vm654U03xVpxtNQsbW+tWdZTFPEJF3qcq2COoPQ9sCu7B4mhSjJVqale2vVWetvVXXlv0PLzDB4is4Tw9Vw5ea6W0rrS/azs/vXUj8C63P4k8I6VqF1p9xpV1fWsc8tlM6vJauygmNimVLKTg444q/rP/IPuP8ArhJ/Kk0rS4NFtIbW1hjt7W3QRQxRrtWNQMAADoBU19D9ogkQ9HQoT6Z4rilZybitD0qfMopTd3pf1OeJbPWolJ+2yc/wR/zerx8N3R/5fLf/AMBT/wDF0Dwrdbywu4MsAD/ox7Zx/H7muv28Tl9hIpXJb7JJz/Af5U9GO2rTeF7mVCv2u3wwwf8ART0/77oHhm6UY+2W/wD4Cn/4uj28Q+ryHaH/AMhNe/7tv5rW1H/q1+lZulaNLY3LSSTxynaQoSEpj65Y+grTThR7cVz1JJu6OinFxjZi0UUVmaBXnv7Wn/JrHxK/7FXVP/SOWvQq89/a0/5NY+JX/Yq6p/6Ry0Aegr0/E0tIvT8TS0AFeO/tXfCXXPiTp1g/heZbLWn87Rri880Rvb6beIEuSp/vKUikUdd0Yx3r2KmtArn5l610YXFTw9VVqe677HLjcHTxVF0Kl7Ptv8jwbWvhh4nvPi0txZ6PZ2Wj6ezW1rcW8kUIksfsLRJEwyXLLKRlSAgAUjOCawPAPwg8eeDvAmg6D/ZbOf7H8OwXEq6pGsdjJY7Bcx43ZYkAkFMq3OSOh+ljaxkY2jFH2WP+7Xd/bFbkVNxi0ku+tru713ueW+HqHtHUUpJu/VaJ9FptbRduh4X8DPhH4g8H/EjUL7XpNSuZvP1CRb5LyB7TUIp7jfCrLnzi0SBVUNhUwwBINe7Q8RL9Kb9kj/u981IBtFceLxU8RP2k0r7af8O/66HpYHAwwlP2VNtq99df0X4hRRRXKdgUUUUAFFFFADZP9W30rh/hh/yVD4lf9he0/wDTbaV3En+rb6Vw/wAMP+SofEr/ALC9p/6bbSgDuqKKKACiiigAooooAKKKKADpRRRQAUUUUAFFcv4r+NvhHwN4lXRdY8SaPp+rtai+FlNcqtx9nLlBLszu2F1ZQ2MEqR2ql/w0b4F/6GrRv+/4oA7WiuK/4aN8C/8AQ1aN/wB/xR/w0b4F/wChq0b/AL/igDtaK4r/AIaN8C/9DVo3/f8AFH/DRvgX/oatG/7/AIoA7WiuK/4aN8C/9DVo3/f8Uf8ADRvgX/oatG/7/igDtaK4r/ho3wL/ANDVo3/f8Uf8NG+Bf+hq0b/v+KAO1oriv+GjfAv/AENWjf8Af8Uf8NG+Bf8AoatG/wC/4oA7WiuK/wCGjfAv/Q1aN/3/ABR/w0b4F/6GrRv+/wCKAO1rz39rT/k1j4lf9irqn/pHLV3/AIaN8C/9DVo3/f8AFcR+0x8cPCPif9nH4gadp/iHTLy/vvDWpQW9vDLvknka1lVUVRyzMxAAHJJAHNAHta9PxNLTUOR+Jp1ABRRTWmVSw7rjIAzigB1FME6Efe69Pek+0xn+L9KAJKKakqyZ2sDt4PtTqACiiigAooooAKKKKAGyf6tvpXD/AAw/5Kh8Sv8AsL2n/pttK7iT/Vt9K4f4Yf8AJUPiV/2F7T/022lAHdUVG1wq9/0oS8jfo35jFAXJKKaJAx/+tTm5WgBvm+1J5vtXzh4X/b5m8V+HdP1ax8AaxJY6pbR3ds0uq2qO0UihkLLnhipBI7Ut5+3tcWWvWGnSfD7WBdakk80IGrWu3bDs35OeP9YuPXmtvY1Ox6X9j4+3N7GVvRn0f5uaPMr5/X9tfUpHUf8ACvdTGSFz/bFp3/Gq+m/t2X2q2MdxF8PNV8uTOA2r2gIwSpzz6g0ewqdiv7DzG9vYS+5/5H0P51PByK8Z+Gn7U1x8R/HVlodx4Sv9F+3LL5dxJfwTpvSNpNpVDnkKea9mX7tZyi46SOHEYerQlyVouL7MKKKKkxPFtIyf+ChniRQSM/DrST19NT1KvZ9vvXjOjf8AKRDxJ/2TrSv/AE56lXtFADdvvRt96GmVTg/Wmm8jA+8OKAvbcdt96NvvQJlLYp1AEZbB6mgNnvXhvif9sO68PeK9UsbbwTqWoQ6fcvbC4Gp20SzFGKswVjuHI7+1Zd3+3NfWktur/D3Vt1xL5SAavacHaW556YB/KtPYzfQ9GOT46UVONGVn1sz6G3cdaC2O9fP7fttakV/5J5qmR6axaf41HZ/t0X195vl/D3VcQzPC2dXtB8ynB70/Y1Oxf9h5j/z5l9z/AMj6E3+9OX5h96vC/Df7Yt14g8S6bp9x4J1LT4b66jtTc/2nbSrAZGChiqnJGSOnPNe6Q58pc9cc1EoSj8Rx4jC1sPLkrwcX2asG33o2+9OoqTnG7fegoxH3qdRQA2GLyYwvpTqKKACvjf8A4KkfEjRfhj4q8F6pqGoNr11a2l8sXw8dr2KTxeJDCu6wkthj+0oiuyJXLArcScIcOPsiihAfKsn7ZWqQfGS88CNqEKeKNP8AFt/DdWH9luWstFGnT3FnLI4XYoeRUCuWzIQyjOGx5Fp/7X/xj079m+38bXXiqxvL+P4XeHviG1m3h+BIZ7u8mkjuLI7RuFvtQHAPmq7AiTb8h/QejGarmFYhtk2PIOeOMn0qagDFFSMKKKKACiiigAooooAbJ/q2+lcP8MP+SofEr/sL2n/pttK7iT/Vt9K4f4Yf8lQ+JX/YXtP/AE22lAG5481SDQ/BesX1zfTabb2dnLNJeRIHe0VUYmVVIYEr94AggkDIIr5u/Zw/aa1jxN4d1TVG8TN4qafXNOsYdP1CCKC50eznnEQkmMMUatM+SdgyE2qOea+rtozTJ7WO5ULJGkiqwYB13YIOQee4PNbRqJRcWtz1sDmFChhp0KtJTcnF3utEt18LevlJfMjgbE2OSOeSasUBQKR/unHXtWTPJPgD4B/8kM8E/wDYBsP/AEnjqx4k/wCSu+Ef+vLVv5WlfT2jfse+CvD+kWmn2drqlvZWMKW9vEmrXAWGNAFVQN3QAAfhSz/sfeCbvVbW+kttWkurJZUglOr3GYxJs3gfN32L/wB816UcbBKx+mR42wfsYU3CV1b+XpbzPCoj86/9dBWT4LOPCdr9ZP8A0a9fSg/ZW8Jgj93rKlTkH+1p+v8A31Udn+yP4NsbZYYIdXjjTO1Rq1xgZJJ/i9Saf16B0f6+YLmvyS/D/M8p+Bh/4vh4a/66XP8A6STV9VV5/wCFv2ffDngrxDb6pZxagby1DiJri/lmWPepRiFZsZ2kjPvXfp9wVw4iopz5kfC5/mdPHYv29JNKyWtr6C0UUVieKeL6N/ykQ8Sf9k60r/056lXtFeL6N/ykQ8Sf9k60r/056lXtFAFZwVmbj7xr5G8CftZ3174i8YXVl46GsQ2jpa6Npev2ccDu5m2PM32eFHILMkcUedx3ZbGRX2EVB7VX1LSbXWbUwXltb3cLcmOaMSIfwPFdFGtGCakr3PWyrH4fDRqRxFLn5ra3Wlnd2vFvXbRrS5m+DtUudd8N6be3lmunXl1Aks9qJhMLd2UFk3jhsHIyODitqorSyhsLaOGCGOGGFQsccahVQDoABwAPSpawlvoeXNpybirLou3kfHni0/8AFbeIP+wnd/8Ao56wNf4v9J/6/P8A2jJX0xqv7MnhfWNYuryeHU1lvJnnkEWpzRpvZtzYUNgZPNVZ/wBkrwbdNE0kOsM0L70J1a4+U4x/e9CRXdHFRUUj9IwnGuEp4WFCcJXUUvs9El38jwEdG+tZ3hj/AFeof9hCf/0KvpP/AIZT8IkY8vWeev8AxNrj/wCKplv+yV4OtRJ5cOsL5sjSt/xNrjlm5J+93q/rkTrlx7gm78kvw/zPDvDR/wCKy0T/ALCtn/6PSvsNPu15tpv7M3hbRdUtbyOHVJJrOZLiMS6nM8e9GDKSpbBwQDg+lej2/wDqh+dcteqpu6PiuJM4pZjiY1qSaSVtbXH0UUVznz4UUUUAFFFFABRRRQAUUUUAFFFFABRRRQAUUUUAFFFFADZP9W30rz/4c6ra2XxT+JKzXNvC39r2hw8gU/8AINtPWvQJv9U30rltV+EvhTxTfS32qeGPDupXshCPcXWmwzSuF4UFmUk4AAGTwBQBv/8ACQ6f/wA/1n/3+X/Gj/hIdP8A+f6z/wC/y/41y/8AwoTwL/0JXhH/AME9v/8AEUf8KE8C/wDQleEf/BPb/wDxFAHUf8JDp/8Az/Wf/f5f8aD4h08j/j+s/wDv8v8AjXL/APChPAv/AEJXhH/wT2//AMRR/wAKE8C/9CV4R/8ABPb/APxFAHTHXNOP/L9Z/wDf5f8AGj+3dO/5/rP/AL/L/jXM/wDChPAv/QleEf8AwT2//wARR/woTwL/ANCV4R/8E9v/APEUAdMdb00/8v1n/wB/l/xpP7b04dL6z/7/AC/41zX/AAoTwL/0JXhH/wAE9v8A/EUf8KE8C/8AQleEf/BPb/8AxFAHSNrOnt/y/wBn/wB/l/xqRfEGnqP+P6z/AO/y/wCNcv8A8KE8C/8AQleEf/BPb/8AxFH/AAoTwL/0JXhH/wAE9v8A/EUAdR/wkOn/APP9Z/8Af5f8aP8AhIdP/wCf6z/7/L/jXL/8KE8C/wDQleEf/BPb/wDxFH/ChPAv/QleEf8AwT2//wARQBw/h69hvP8Agob4kaGaOVf+FdaVyjBh/wAhPUvSvbK5nQfh54f8C3Us2h6DoujzXQjjnexsYrdplUkqrFFG4AsxAPQscdTXTUAFFFFABRRRQA3yhR5S06igBvlCjyhTqKLgRmDd3p6LsXFLRQAUUUUAFFFFABRRRQB//9k=)\n",
        "\n",
        "   ![Capture4.JPG](data:image/jpeg;base64,/9j/4AAQSkZJRgABAQEAYABgAAD/4RDSRXhpZgAATU0AKgAAAAgABAE7AAIAAAAETmlrAIdpAAQAAAABAAAISpydAAEAAAAIAAAQwuocAAcAAAgMAAAAPgAAAAAc6gAAAAgAAAAAAAAAAAAAAAAAAAAAAAAAAAAAAAAAAAAAAAAAAAAAAAAAAAAAAAAAAAAAAAAAAAAAAAAAAAAAAAAAAAAAAAAAAAAAAAAAAAAAAAAAAAAAAAAAAAAAAAAAAAAAAAAAAAAAAAAAAAAAAAAAAAAAAAAAAAAAAAAAAAAAAAAAAAAAAAAAAAAAAAAAAAAAAAAAAAAAAAAAAAAAAAAAAAAAAAAAAAAAAAAAAAAAAAAAAAAAAAAAAAAAAAAAAAAAAAAAAAAAAAAAAAAAAAAAAAAAAAAAAAAAAAAAAAAAAAAAAAAAAAAAAAAAAAAAAAAAAAAAAAAAAAAAAAAAAAAAAAAAAAAAAAAAAAAAAAAAAAAAAAAAAAAAAAAAAAAAAAAAAAAAAAAAAAAAAAAAAAAAAAAAAAAAAAAAAAAAAAAAAAAAAAAAAAAAAAAAAAAAAAAAAAAAAAAAAAAAAAAAAAAAAAAAAAAAAAAAAAAAAAAAAAAAAAAAAAAAAAAAAAAAAAAAAAAAAAAAAAAAAAAAAAAAAAAAAAAAAAAAAAAAAAAAAAAAAAAAAAAAAAAAAAAAAAAAAAAAAAAAAAAAAAAAAAAAAAAAAAAAAAAAAAAAAAAAAAAAAAAAAAAAAAAAAAAAAAAAAAAAAAAAAAAAAAAAAAAAAAAAAAAAAAAAAAAAAAAAAAAAAAAAAAAAAAAAAAAAAAAAAAAAAAAAAAAAAAAAAAAAAAAAAAAAAAAAAAAAAAAAAAAAAAAAAAAAAAAAAAAAAAAAAAAAAAAAAAAAAAAAAAAAAAAAAAAAAAAAAAAAAAAAAAAAAAAAAAAAAAAAAAAAAAAAAAAAAAAAAAAAAAAAAAAAAAAAAAAAAAAAAAAAAAAAAAAAAAAAAAAAAAAAAAAAAAAAAAAAAAAAAAAAAAAAAAAAAAAAAAAAAAAAAAAAAAAAAAAAAAAAAAAAAAAAAAAAAAAAAAAAAAAAAAAAAAAAAAAAAAAAAAAAAAAAAAAAAAAAAAAAAAAAAAAAAAAAAAAAAAAAAAAAAAAAAAAAAAAAAAAAAAAAAAAAAAAAAAAAAAAAAAAAAAAAAAAAAAAAAAAAAAAAAAAAAAAAAAAAAAAAAAAAAAAAAAAAAAAAAAAAAAAAAAAAAAAAAAAAAAAAAAAAAAAAAAAAAAAAAAAAAAAAAAAAAAAAAAAAAAAAAAAAAAAAAAAAAAAAAAAAAAAAAAAAAAAAAAAAAAAAAAAAAAAAAAAAAAAAAAAAAAAAAAAAAAAAAAAAAAAAAAAAAAAAAAAAAAAAAAAAAAAAAAAAAAAAAAAAAAAAAAAAAAAAAAAAAAAAAAAAAAAAAAAAAAAAAAAAAAAAAAAAAAAAAAAAAAAAAAAAAAAAAAAAAAAAAAAAAAAAAAAAAAAAAAAAAAAAAAAAAAAAAAAAAAAAAAAAAAAAAAAAAAAAAAAAAAAAAAAAAAAAAAAAAAAAAAAAAAAAAAAAAAAAAAAAAAAAAAAAAAAAAAAAAAAAAAAAAAAAAAAAAAAAAAAAAAAAAAAAAAAAAAAAAAAAAAAAAAAAAAAAAAAAAAAAAAAAAAAAAAAAAAAAAAAAAAAAAAAAAAAAAAAAAAAAAAAAAAAAAAAAAAAAAAAAAAAAAAAAAAAAAAAAAAAAAAAAAAAAAAAAAAAAAAAAAAAAAAAAAAAAAAAAAAAAAAAAAAAAAAAAAAAAAAAAAAAAAAAAAAAAAAAAAAAAAAAAAAAAAAAAAAAAAAAAAAAAAAAAAAAAAAAAAAAAAAAAAAAAAAAAAAAAAAAAAAAAAAAAAAAAAAAAAAAAAAAAAAAAAAAAAAAAAAAAAAAAAAAAAAAAAAAAAAAAAAAAAAAAAAAAAAAAAAAAAAAAAAAAAAAAAAAAAAAAAAAAAAAAAAAAAAAAAAAAAAAAAAAAAAAAAAAAAAAAAAAAAAAAAAAAAAAAAAAAAAAAAAAAAAAAAAAAAAAAAAAAAAAAAAAAAAAAAAAAAAAAAAAAAAAAAAAAAAAAAAAAAAAAAAAAAAAAAAAAAAAAAAAAAAAAAAAAAAAAAAAAAAAAAAAAAAAAAAAAAAAAAAAAAAAAAAAAAAAAAAAAAAAAAAAAAAAAAAAAAAAAAAAAAAAAAAAAAAAAAAAAAAAAAAAAAAAAAAAAAAAAAAAAAAAAAAAAAAAAAAAAAAAAAAAAAAAAAAAAAAAAAAAAAAAAAAAAAAAAAAAAAAAAAAAAAAAAAAAAAAAAAAAAAAAAAAAAAAAAAAAAAAAAAAAAAAAAAAAAAAAAAAAAAAAAAAAAAAAAAAAAAAAAAAAAAAAAAAAAAAAAAAAAAAAAAAAAAAAAAAAAAAAAAAAAAAAAAAAAAAAAAAAAAAAAAAAAAAAAAAAAAAAAAAAAAAAAAAAAAAAAAAAAAAAAAAAAAAAAAAAAAAAAAAAAAAAAAAAAAAAAAAAAAAAAAAAAAAAAAAAAAAAAAAAAAAAAAAAAAAAAAAAAAAAAAAAAAAAAAAAAAAAAAAAAAAAAAAAAAAAAAAAAAAAAAAAAAAAAAAAAAAAAAAAAAAAAAAAAAAAAAAAAAAAAAAAAAAAAAAAAAAAAAAAAAAAAAAAAAAAAAAAAAAAAAAAAAAAAAAAAAAAAAAAAAAAAAAAAAAAAAAAAAAAAAAAAAAAAAAAAAAAAAAAAAAAAAAAAAAAAAAAAAAAAAAAAAAAAAAAAAAAAAAAAAAAAAAAAAAAAAAAAAAAAAAAAAAAAAAAAAAAAAAAAAAAAAAAAAAAAAAAFkAMAAgAAABQAABCYkAQAAgAAABQAABCskpEAAgAAAAM5OQAAkpIAAgAAAAM5OQAA6hwABwAACAwAAAiMAAAAABzqAAAACAAAAAAAAAAAAAAAAAAAAAAAAAAAAAAAAAAAAAAAAAAAAAAAAAAAAAAAAAAAAAAAAAAAAAAAAAAAAAAAAAAAAAAAAAAAAAAAAAAAAAAAAAAAAAAAAAAAAAAAAAAAAAAAAAAAAAAAAAAAAAAAAAAAAAAAAAAAAAAAAAAAAAAAAAAAAAAAAAAAAAAAAAAAAAAAAAAAAAAAAAAAAAAAAAAAAAAAAAAAAAAAAAAAAAAAAAAAAAAAAAAAAAAAAAAAAAAAAAAAAAAAAAAAAAAAAAAAAAAAAAAAAAAAAAAAAAAAAAAAAAAAAAAAAAAAAAAAAAAAAAAAAAAAAAAAAAAAAAAAAAAAAAAAAAAAAAAAAAAAAAAAAAAAAAAAAAAAAAAAAAAAAAAAAAAAAAAAAAAAAAAAAAAAAAAAAAAAAAAAAAAAAAAAAAAAAAAAAAAAAAAAAAAAAAAAAAAAAAAAAAAAAAAAAAAAAAAAAAAAAAAAAAAAAAAAAAAAAAAAAAAAAAAAAAAAAAAAAAAAAAAAAAAAAAAAAAAAAAAAAAAAAAAAAAAAAAAAAAAAAAAAAAAAAAAAAAAAAAAAAAAAAAAAAAAAAAAAAAAAAAAAAAAAAAAAAAAAAAAAAAAAAAAAAAAAAAAAAAAAAAAAAAAAAAAAAAAAAAAAAAAAAAAAAAAAAAAAAAAAAAAAAAAAAAAAAAAAAAAAAAAAAAAAAAAAAAAAAAAAAAAAAAAAAAAAAAAAAAAAAAAAAAAAAAAAAAAAAAAAAAAAAAAAAAAAAAAAAAAAAAAAAAAAAAAAAAAAAAAAAAAAAAAAAAAAAAAAAAAAAAAAAAAAAAAAAAAAAAAAAAAAAAAAAAAAAAAAAAAAAAAAAAAAAAAAAAAAAAAAAAAAAAAAAAAAAAAAAAAAAAAAAAAAAAAAAAAAAAAAAAAAAAAAAAAAAAAAAAAAAAAAAAAAAAAAAAAAAAAAAAAAAAAAAAAAAAAAAAAAAAAAAAAAAAAAAAAAAAAAAAAAAAAAAAAAAAAAAAAAAAAAAAAAAAAAAAAAAAAAAAAAAAAAAAAAAAAAAAAAAAAAAAAAAAAAAAAAAAAAAAAAAAAAAAAAAAAAAAAAAAAAAAAAAAAAAAAAAAAAAAAAAAAAAAAAAAAAAAAAAAAAAAAAAAAAAAAAAAAAAAAAAAAAAAAAAAAAAAAAAAAAAAAAAAAAAAAAAAAAAAAAAAAAAAAAAAAAAAAAAAAAAAAAAAAAAAAAAAAAAAAAAAAAAAAAAAAAAAAAAAAAAAAAAAAAAAAAAAAAAAAAAAAAAAAAAAAAAAAAAAAAAAAAAAAAAAAAAAAAAAAAAAAAAAAAAAAAAAAAAAAAAAAAAAAAAAAAAAAAAAAAAAAAAAAAAAAAAAAAAAAAAAAAAAAAAAAAAAAAAAAAAAAAAAAAAAAAAAAAAAAAAAAAAAAAAAAAAAAAAAAAAAAAAAAAAAAAAAAAAAAAAAAAAAAAAAAAAAAAAAAAAAAAAAAAAAAAAAAAAAAAAAAAAAAAAAAAAAAAAAAAAAAAAAAAAAAAAAAAAAAAAAAAAAAAAAAAAAAAAAAAAAAAAAAAAAAAAAAAAAAAAAAAAAAAAAAAAAAAAAAAAAAAAAAAAAAAAAAAAAAAAAAAAAAAAAAAAAAAAAAAAAAAAAAAAAAAAAAAAAAAAAAAAAAAAAAAAAAAAAAAAAAAAAAAAAAAAAAAAAAAAAAAAAAAAAAAAAAAAAAAAAAAAAAAAAAAAAAAAAAAAAAAAAAAAAAAAAAAAAAAAAAAAAAAAAAAAAAAAAAAAAAAAAAAAAAAAAAAAAAAAAAAAAAAAAAAAAAAAAAAAAAAAAAAAAAAAAAAAAAAAAAAAAAAAAAAAAAAAAAAAAAAAAAAAAAAAAAAAAAAAAAAAAAAAAAAAAAAAAAAAAAAAAAAAAAAAAAAAAAAAAAAAAAAAAAAAAAAAAAAAAAAAAAAAAAAAAAAAAAAAAAAAAAAAAAAAAAAAAAAAAAAAAAAAAAAAAAAAAAAAAAAAAAAAAAAAAAAAAAAAAAAAAAAAAAAAAAAAAAAAAAAAAAAAAAAAAAAAAAAAAAAAAAAAAAAAAAAAAAAAAAAAAAAAAAAAAAAAAAAAAAAAAAAAAAAAAAAAAAAAAAAAAAAAAAAAAAAAAAAAAAAAAAAAAAAAAAAAAAAAAAAAAAAAAAAAAAAAAAAAAAAAAAAAAAAAAAAAAAAAAAAAAAAAAAAAAAAAAAAAAAAAAAAAAAAAAAAAAAAAAAAAAAAAAAAAAAAAAAAAAAAAAAAAAAAAAAAAAAAAAAAAAAAAAAAAAAAAAAAAAAAAAAAAAAAAAAAAAAAAAAAAAAAAAAAAAAAAAAAAAAAAAAAAAAAAAAAAAAAAAAAAAAAAAAAAAAAAAAAAAAAAAAAAAAAAAAAAAAAAAAAAAAAAAAAAAAAAAAAAAAAAAAAAAAAAAAAAAAAAAAAAAAAAAAAAAAAAAAAAAAAAAAAAAAAAAAAAAAAAAAAAAAAAAAAAAAAAAAAAAAAAAAAAAAAAAAAAAAAAAAAAAAAAAAAAAAAAAAAAAAAAAAAAAAAAAAAAAAAAAAAAAAAAAAAAAAAAAAAAAAAAAAAAAAAAAAAAAAAAAAAAAAAAAAAAAAAAAAAAAAAAAAAAAAAAAAAAAAAAAAAAAAAAAAAAAAAAAAAAAAAAAAAAAAAAAAAAAAAAAAAAAAAAAAAAAAAAAAAAAAAAAAAAAAAAAAAAAAAAAAAAAAAAAAAAAAAMjAyMTowODowNyAwMDo1MTo1MgAyMDIxOjA4OjA3IDAwOjUxOjUyAAAATgBpAGsAAAD/4QsWaHR0cDovL25zLmFkb2JlLmNvbS94YXAvMS4wLwA8P3hwYWNrZXQgYmVnaW49J++7vycgaWQ9J1c1TTBNcENlaGlIenJlU3pOVGN6a2M5ZCc/Pg0KPHg6eG1wbWV0YSB4bWxuczp4PSJhZG9iZTpuczptZXRhLyI+PHJkZjpSREYgeG1sbnM6cmRmPSJodHRwOi8vd3d3LnczLm9yZy8xOTk5LzAyLzIyLXJkZi1zeW50YXgtbnMjIj48cmRmOkRlc2NyaXB0aW9uIHJkZjphYm91dD0idXVpZDpmYWY1YmRkNS1iYTNkLTExZGEtYWQzMS1kMzNkNzUxODJmMWIiIHhtbG5zOmRjPSJodHRwOi8vcHVybC5vcmcvZGMvZWxlbWVudHMvMS4xLyIvPjxyZGY6RGVzY3JpcHRpb24gcmRmOmFib3V0PSJ1dWlkOmZhZjViZGQ1LWJhM2QtMTFkYS1hZDMxLWQzM2Q3NTE4MmYxYiIgeG1sbnM6eG1wPSJodHRwOi8vbnMuYWRvYmUuY29tL3hhcC8xLjAvIj48eG1wOkNyZWF0ZURhdGU+MjAyMS0wOC0wN1QwMDo1MTo1Mi45OTI8L3htcDpDcmVhdGVEYXRlPjwvcmRmOkRlc2NyaXB0aW9uPjxyZGY6RGVzY3JpcHRpb24gcmRmOmFib3V0PSJ1dWlkOmZhZjViZGQ1LWJhM2QtMTFkYS1hZDMxLWQzM2Q3NTE4MmYxYiIgeG1sbnM6ZGM9Imh0dHA6Ly9wdXJsLm9yZy9kYy9lbGVtZW50cy8xLjEvIj48ZGM6Y3JlYXRvcj48cmRmOlNlcSB4bWxuczpyZGY9Imh0dHA6Ly93d3cudzMub3JnLzE5OTkvMDIvMjItcmRmLXN5bnRheC1ucyMiPjxyZGY6bGk+TmlrPC9yZGY6bGk+PC9yZGY6U2VxPg0KCQkJPC9kYzpjcmVhdG9yPjwvcmRmOkRlc2NyaXB0aW9uPjwvcmRmOlJERj48L3g6eG1wbWV0YT4NCiAgICAgICAgICAgICAgICAgICAgICAgICAgICAgICAgICAgICAgICAgICAgICAgICAgICAgICAgICAgICAgICAgICAgICAgICAgICAgICAgICAgICAgICAgICAgICAgICAgICAKICAgICAgICAgICAgICAgICAgICAgICAgICAgICAgICAgICAgICAgICAgICAgICAgICAgICAgICAgICAgICAgICAgICAgICAgICAgICAgICAgICAgICAgICAgICAgICAgICAgIAogICAgICAgICAgICAgICAgICAgICAgICAgICAgICAgICAgICAgICAgICAgICAgICAgICAgICAgICAgICAgICAgICAgICAgICAgICAgICAgICAgICAgICAgICAgICAgICAgICAgCiAgICAgICAgICAgICAgICAgICAgICAgICAgICAgICAgICAgICAgICAgICAgICAgICAgICAgICAgICAgICAgICAgICAgICAgICAgICAgICAgICAgICAgICAgICAgICAgICAgICAKICAgICAgICAgICAgICAgICAgICAgICAgICAgICAgICAgICAgICAgICAgICAgICAgICAgICAgICAgICAgICAgICAgICAgICAgICAgICAgICAgICAgICAgICAgICAgICAgICAgIAogICAgICAgICAgICAgICAgICAgICAgICAgICAgICAgICAgICAgICAgICAgICAgICAgICAgICAgICAgICAgICAgICAgICAgICAgICAgICAgICAgICAgICAgICAgICAgICAgICAgCiAgICAgICAgICAgICAgICAgICAgICAgICAgICAgICAgICAgICAgICAgICAgICAgICAgICAgICAgICAgICAgICAgICAgICAgICAgICAgICAgICAgICAgICAgICAgICAgICAgICAKICAgICAgICAgICAgICAgICAgICAgICAgICAgICAgICAgICAgICAgICAgICAgICAgICAgICAgICAgICAgICAgICAgICAgICAgICAgICAgICAgICAgICAgICAgICAgICAgICAgIAogICAgICAgICAgICAgICAgICAgICAgICAgICAgICAgICAgICAgICAgICAgICAgICAgICAgICAgICAgICAgICAgICAgICAgICAgICAgICAgICAgICAgICAgICAgICAgICAgICAgCiAgICAgICAgICAgICAgICAgICAgICAgICAgICAgICAgICAgICAgICAgICAgICAgICAgICAgICAgICAgICAgICAgICAgICAgICAgICAgICAgICAgICAgICAgICAgICAgICAgICAKICAgICAgICAgICAgICAgICAgICAgICAgICAgICAgICAgICAgICAgICAgICAgICAgICAgICAgICAgICAgICAgICAgICAgICAgICAgICAgICAgICAgICAgICAgICAgICAgICAgIAogICAgICAgICAgICAgICAgICAgICAgICAgICAgICAgICAgICAgICAgICAgICAgICAgICAgICAgICAgICAgICAgICAgICAgICAgICAgICAgICAgICAgICAgICAgICAgICAgICAgCiAgICAgICAgICAgICAgICAgICAgICAgICAgICAgICAgICAgICAgICAgICAgICAgICAgICAgICAgICAgICAgICAgICAgICAgICAgICAgICAgICAgICAgICAgICAgICAgICAgICAKICAgICAgICAgICAgICAgICAgICAgICAgICAgICAgICAgICAgICAgICAgICAgICAgICAgICAgICAgICAgICAgICAgICAgICAgICAgICAgICAgICAgICAgICAgICAgICAgICAgIAogICAgICAgICAgICAgICAgICAgICAgICAgICAgICAgICAgICAgICAgICAgICAgICAgICAgICAgICAgICAgICAgICAgICAgICAgICAgICAgICAgICAgICAgICAgICAgICAgICAgCiAgICAgICAgICAgICAgICAgICAgICAgICAgICAgICAgICAgICAgICAgICAgICAgICAgICAgICAgICAgICAgICAgICAgICAgICAgICAgICAgICAgICAgICAgICAgICAgICAgICAKICAgICAgICAgICAgICAgICAgICAgICAgICAgICAgICAgICAgICAgICAgICAgICAgICAgICAgICAgICAgICAgICAgICAgICAgICAgICAgICAgICAgICAgICAgICAgICAgICAgIAogICAgICAgICAgICAgICAgICAgICAgICAgICAgICAgICAgICAgICAgICAgICAgICAgICAgICAgICAgICAgICAgICAgICAgICAgICAgICAgICAgICAgICAgICAgICAgICAgICAgCiAgICAgICAgICAgICAgICAgICAgICAgICAgICAgICAgICAgICAgICAgICAgICAgICAgICAgICAgICAgICAgICAgICAgICAgICAgICAgICAgICAgICAgICAgICAgICAgICAgICAKICAgICAgICAgICAgICAgICAgICAgICAgICAgICAgICAgICAgICAgICAgICAgICAgICAgICAgICAgICAgICAgICAgICAgICAgICAgICAgICAgICAgICAgICAgICAgICAgICAgIAogICAgICAgICAgICAgICAgICAgICAgICAgICAgPD94cGFja2V0IGVuZD0ndyc/Pv/bAEMABwUFBgUEBwYFBggHBwgKEQsKCQkKFQ8QDBEYFRoZGBUYFxseJyEbHSUdFxgiLiIlKCkrLCsaIC8zLyoyJyorKv/bAEMBBwgICgkKFAsLFCocGBwqKioqKioqKioqKioqKioqKioqKioqKioqKioqKioqKioqKioqKioqKioqKioqKioqKv/AABEIAhUDNQMBIgACEQEDEQH/xAAfAAABBQEBAQEBAQAAAAAAAAAAAQIDBAUGBwgJCgv/xAC1EAACAQMDAgQDBQUEBAAAAX0BAgMABBEFEiExQQYTUWEHInEUMoGRoQgjQrHBFVLR8CQzYnKCCQoWFxgZGiUmJygpKjQ1Njc4OTpDREVGR0hJSlNUVVZXWFlaY2RlZmdoaWpzdHV2d3h5eoOEhYaHiImKkpOUlZaXmJmaoqOkpaanqKmqsrO0tba3uLm6wsPExcbHyMnK0tPU1dbX2Nna4eLj5OXm5+jp6vHy8/T19vf4+fr/xAAfAQADAQEBAQEBAQEBAAAAAAAAAQIDBAUGBwgJCgv/xAC1EQACAQIEBAMEBwUEBAABAncAAQIDEQQFITEGEkFRB2FxEyIygQgUQpGhscEJIzNS8BVictEKFiQ04SXxFxgZGiYnKCkqNTY3ODk6Q0RFRkdISUpTVFVWV1hZWmNkZWZnaGlqc3R1dnd4eXqCg4SFhoeIiYqSk5SVlpeYmZqio6Slpqeoqaqys7S1tre4ubrCw8TFxsfIycrS09TV1tfY2dri4+Tl5ufo6ery8/T19vf4+fr/2gAMAwEAAhEDEQA/APpGiiigAooooAKKKKACiiigAooooAKKKKACiiigAooooAKKKKACiiigAooooAKKKKACiiigAooooAKKKKACiiigAooooAKKKKACiiigAooooAKKKKACiiigAooooAKKKKACiiigAooooAKKKKACiiigAooooAKKKKACiiigAooooAKKKKACiiigAooooAKKKKACiiigAooooAKKKKACiiigAooooAKKKKACiiigAooooAKKKKACiiigAooooAKKKKACiiigAooooAKKKKACiiigAooooAKKKKACiiigAooooAKKKKACiiigAooooAKKKKACiiigAooooAKKKKACiiigAooooAKKKKACiiigAooooAKKKKACiiigAooooAKKKKACiiigAooooAKKKKACiiigAooooAKKKKACiiigAooooAKKKKACiiigAooooAKKKKACiiigAooooAKKKKACiiigAooooAKKKKACiiigAooooAKKKKACiiigAooooAKKKKACiiigAooooAKKKKACiiigAooooAKKKKACiiigAooooAKKKKACiiigAooooAKKKKACiiigAooooAKKKKACiiigAooooAKKKKACiiigAooooAKKKKACiiigAooooAKKKKACiiigAooooAKKKKACiiigAooooAKKKKACiiigAooooAKKKKACiiigAooooAKKKKACiiigAooooAKKKKACiiigAooooAKKKKACiiigAooooAKKKKACiiigAooooAKKKKACiiigAooooAKKKKACiiigAooooAKKKKACiiigAooooAKKKKACiiigAooooAKKKKACiiigAooooAKKKKACiiigAooooAKKKKACiiigAooooAKKKKACiiigAooooAKKKKACiiigAooooAKKKKACiiigAooooAKKKKACiiigAooooAKKKKACiiigAooooAKKKKACiiigAooooAKKKKACiiigAooooAKKKKACiiigAooooAKKKKACiiigAooooAKKKKACiiigAooooAKKKKACiiigAooooAKKKKACiiigAooooAKKKKACiiigAooooAKKKKACiiigAooooAKKKKACiiigAooooAKKKKACiiigAooooAKKKM8470AFFFFABRRRQAUUUUAFFFFABRRRQAUUUUAFFFFABRRRQAUUUUAFFFFABRRRQAUUUUAFFFFABRRRQAUUUUAFFFFABRRRQAUUUUAFFFFABRRRQAUUUUAFFFFABRRRQAUUUUAFFFFABRRRQAUUUUAFFFFABRRRQAUUUUAFFFFABRRRQAUUUUAFFFFABRRRQAUUUUAFFFFABRRRQAUUUUAFFFFABRRRQAUUUUAFFFFABRRRQAUUUUAFFFFABRRRQAUVzfjo38fhe5n0+/azEK75DEv7x+RgB8/KPXjJ9RUuoXNzY+NtJEczNa6lHJbywMcqrorSK6jscBgfXj0FMDforjPFejtJ4g0qSPV9WthqF55E0VvfPGgUQuflUcA5QH86py6hqnh268SzWAS8ttNS3Z/tkztJIBCuQD64GST1J6UWEd/RXCHxJcxavrdzp9lJO6QWL7S8kgRZAct5a5+6Dk7Rk4rp9N1H+0PD7Xhnt7glX+e1LKvGeOeVPqOoNFhmpRXB6d4qvLey0WFoYLKyuLCGRb29aR0d24Me/oGA5yx5rptb1O5sp9Ps9Piie6v5miRpiQkYVGdmOOTwuMe9FhGtSMQoLEdB2GTXK6f4vuLrUrfT57WOO4GpS2FwVYlfkhaQOn1wOD05qu/jS+M0sNtYQzSjXG0qNTIVBAjLByeeh6+2cc0WY7nYxyJLGskTB0cBlZTkEHoadUVssqWsS3HliUKN/lZ27u+M84zUtIPQKKKKACiqOsQJcaVMk9/Np8IG6S4gkEbKo5PzEfKMdxg+9cZYtqln4YXVXvNQ8m01PfaJdyEvPaOyptkz1+8zLnkfLTA9BorlfFOsSeHdd0rUZJH+wSxz29xGXOwHZ5iNjpn5GGfQmsDSNV1eXTbfS9Tu5hqN9qNvPuDsrpBIvnso5yAPLkTHQDiiwrnpNFcXoPji61y+sXisP9BvpJEUrHJvgC7trO23YQ23oDxkdaseIvFt3peuPpun2iTPDZ/a3LrI28liFjUIDgnafmPFFmFzrKK4y68Y6obe+ubLTYUisdOhv5UunZZAHVmMeAPvAIee2OhzVTWfEmqTaRqVpfWsFut1oM1/bvBKxePAA2MeMkbgcjFFgud9RXC2/iy/0HRbN9YtYZYH0g3cDQSEuTGqZR8jqd4+Ye/FMPxBv7bTb26utLEiw2cdzE8ayIhd3VPKJdRyCwORwRRZhc72iuN0WbUm+Jl/FqpiEi6XCdsDsY/vtyAeh7fhXZUhhRRRQAUUVi+Krd7jR8oNUfy3DGHS5hFLJ2xuyOOc8EdKANqivPNJ1LULfR9FvTqst20eqHT7mGUtuVJHChJNwBMiHb82PXqDzqeN4r83FlOP7TfSYlc3S6VP5cyNxtc45ZQN3A+tOwrnX0VykmvX32j7HoX2a7gh0qK+S5upGLTAlwBwOpCA59zxWVqmtG5j1PU0WQRS+G7e6WESspXc8p6jkHGBkelFguegUVgWN/qlx4y1Ozd7f7BaLDhNp3/MrHIP1xnPYcVS1TXZdJ1DxBcW8HnSWsFmVR5W2vvd1xjov1A579KLDOsorjNX8S61Y2Ou27paRX1jaxXEMsW5k2uWXo3cFT7H0q5da5rUWspo1tb2Ul4lk17NK7Mse3eVVFHXJx1PAosK509FcxL4hOq/DaTW7W4TSnmtC6yy/MIG6dhzz7fh2rO+H9zeNd39vfXF7GVjidbHUJGknTI+aTcwHysegGcYPQ8UWC53FFcGuvaloq65f+TDNp8Gs+XIHkbzCHMa/KMYAG4fXnpV1/GV0ddlt4LMSW0N+tk6rHK0h5AaTcF2AAt0JzgHpRYLnX0Vylz4uktvENraqba6tLm9+x5hWTdE2D1cjYSCuCo5H4Gsu91nVNWbw5fPHBBY3GtKsSxyN5m0CVRv7HOM4HTjrRYLnf0Vznh7xBdarqM9tfi3tZowxNkUdZkAbAOW4dSP4l45FdHSGFFFFABRRRQAUVxXxB8RPaWF3plhqENjciykuZJWl2SAAHYkfOd7EH6AHuRV6DVXj8Z2MEFyLmy1WwaVcSb1R4sfMpzjDBufcA+tOwrnT0VyVxZz+JfFOp2lxql9ZWumiJIorGfyS7Om4uzDk9cAdODS634jl8PYht5obxbRIlnjkEjznJAyzKNqkjnnrRYDrKK45tXuNN1jXRbos08+q21rAsrkIhe3i5PsOTgda0U1rULfxPp2jX8dsz3VvNNJJDuAGwgAAH1B5osM6CiuOg1qTUtW0C8nKwIZdQRwGwuIyyAnPsuaifxnfeddxQCyuF/s6a9tp40lCHyyOCWADghs5U0WFc7aiuLTxVqdroWgfavs8l7qkHnGbypGVVEasSUQEliWHTArd07Wjc+F11W/jSwYRu0guCUVCpIySQCFOM9OhosM16K4a48Yan/Z+sLB9kae10030FwkUioQN2Rhx83QEEcGtE6lr39uaNZeZZYubOWe4+RsMVaMcdxw/wCefaiwjqKK4/SfGd1qeqWyiyBs7qeWFdkcpeELu2u7FdhB29AeNw5PNO0jxRqt62iy3dpaR2+rmRIxG7F42VGYE5GMHYeO2RyaLBc66iuEj1nU7nw1pd7qpikNxq0ESfZ2eIgeeV+bB5AwOO/fNWovGN/Mi6gtjANLOpDTyDIfOGZPL8zpjG4/d6470WC52NFcRb+M9WlVLt7G0Fj/AGv/AGY4EjeZzJsEg7dxxXb0hhRRWJ4vh1C58Mzw6Qtw1y0kXFtMIpNgkUvtckYO0EdaANuiuDtL17Pw288L6pDd6VqUYubfULozOQ+xSpYEhlKSbh6HBrY8VXdy+oaPotvPLaR6pPIk11C210VEL7VPYtjGe3NOwjpKK5iVpfDP9n6Ppk1xe3WpXDiKTUZ2lEQVNzc9SMLwPUnmo/8AhKNRdbW2itLb7c+pSafLudvLBWNn3jjOMAHH1Ge9FgOrorlI/E+oyxQ2iWtsNTl1GWwyWbyR5aM5f1+6OnqetL4i8TXehaeT5mny30Fs9xPbASMWUdwFyVBwfmbjNFhnVUVxlj4o1G68UTFzDHpcekxXzQ7cuAwJOD3Pb0wPWjSfGt7qEaTvZL5M9lJdIUjlHklQGVHZgFbIPVfQ0WFc7OiuX0vxJqEt3pw1aC0gt9SsHvI2jdsw7QhIcng8SDkY6VS/4S/UJF1CGH7HJJHpr30E8ccqp8pAI+YfN1BBHFFgudrRXHS+KNTs7XSLecWz3l9bNcPN5UjIqqE/hQE5JfrwBitKfWryTwBPrMNv9kvFsXn8mYH92yqSRgjnpxkelFhm/RXD3F1rjeJfDmDayXVxZXLMcssQGIiGYdSe2BjrTYfH91d2emCGyhhurvzzMXEkqReU+w4CDcckj6e9FhXO6orn08RzyeAZtfaxe2uIrSWY2s4IIZA3B6HBK9fQ1n3/AIp1axmsLWe1tI7i/WScECWVYIlC4DBVyzEtjIwBRYZ2FFcQPGuptDpstxp0elwXMLtNcXiSGOORZCnlkgDbkDcC3Y1p6h4nms7PxDMsEbHSZESMEn95ujR+fxcj8KLCudJRXD6nqeo6ffeIZdNlQSjULCJfOBZVV1jU4H/Av596sX2uXekXWuXDwJPdWdnZsUWVhG5d5BgA529Ovfv0osB2FFcXqPjHVdGuNWtr7T7e4nsrBb6L7M7bWUvsIORnjk59B0rT8Na5e6zeX6z/AGWW0tiiw3VqG8ucsoY7SSc7c4Pv+VFgOhorOWEvqeIpp9sZ3SEyErnsuKzPEviK90nXNF03T7aCZ9UeVC0zECPaFweOv3untRY0nFRtqdJRXHQ+KdaGJLuzshDDqi6bP5buWYs4USLnoPmHByeDzVq58UyweIre0ia1ubaa8Fo3lLJuibaer42ZBGCvWixmdPRXFR+JtbtdDu9QuYbW8Kam1nDDHlGP+keVjPTp0P503VPEVxoWvT3GqQLLNbaI9y6W87iNj54AUA8Z5HzYz17cUWC529FcnqfiXVdE0O1u9QtrR5765iggSEuVjLgkluCTgD+Ec1W/4TPUzYeY+nfZxHdtby3ckEzRBAm5ZNgAYAnjngHqaLBc7WioLG4+1afb3HmQy+bGr74DlGyOqnuKnpDCiiigCrqWnwarp01ldhjDMNrhTg4znrVS40d7vxRZ6pPMPJsYXW3hUc+Y/DMx/wB0AAe5pmqaymna5p9rLcbFninkMQh3GQRqCfmyNuM+hz7VVsfG+lahNapEl3GLyF5raSWAqswQZYA+oH/1qeojYvNOt764s5pwxezm86LBxhtrLz68MarXXh+xu4tUjmVyuqKFucPjIC7ePTgVQsfG2lX/ANlMaXccd5G8lvLLAVSXaCWUH1AB+uOM1Zt/FOnXMGlSw+cw1VXa2Hl8nahc5HbgGjUBjeEtP3XDwy3ltLcRwxtLBcFGAiGEwR04PPrV3TdGtdK0xrG2MrRuztI8shd5GY5ZmY8knNVvDeunxBp5ujZzWw3sAZFwGAdlGDnk/Lz7mo4PF2mzWd1estxFY2yuz3ckWIztbaQMc5z2xk0agQTeBtKnt7e2llvms4Io4fsn2pxDIqfd3p0PT8a1NX0e11q1SC6MsZjcSRSwSGOSJgCMqw5BwSPxrKPjvRks7ue4Nxb/AGSOOWWOWEhvLdgquB3GT9R3FQ6p47tLLStUmgtbn7Xp8Kym2niMZZWOFb/dz+I9KNQ0LUngrSJNHi08C4jEVx9qW4jnYTmY5y5k6ljk8n+gp1j4N0nT1jFus/7u9+3AvMWJm2bCxJ5OQfzp03iq1toLUz2t39ouImm+zJFmREU4LEZwBkjHOTnikn8X6dGYhbx3V4ZbRb1Ps0JbMJz83bHTp1o1DQ3aKxpPFFjm1FpHc3rXVut0i20JYiJujnpgH068Hjirdhq9nqV3e29nI0jWMvkznaQofGSoPcjvj1pDL1FVLy6lt7i2SGNZjPIEZTKqbFwSzjPLY9BVugDM17QbXxFp62d+86RLIJP3EpjJIzjJHUc5x6gelZr+EilvBZW+oXUlm10lxdfbJ2mdwhDKilugLBc+w962dU1W10exN1fOVTcqKqjLO7HCqo7kmqlv4ktbuxuJ7e3u3e2lEU1uIv3iMQCMjOMYIOc4p6iJ9a0Sx8QacbHU4zJCXV8A4IKnI5/T6E02XQbGbxHBrkiMb23hMKNu42nPb1+Y/nVFPGuky2dvNB9olluZngitUhJlaRPvrt7YHJOce9Urnxg9n4pe3ntro2n9lrd+QluTKjeY6szegAUUahoadl4WsdO1X7bZzXkS73kFoty32cM2dxEfTuT6Zp2r+GLHWL2K8lku7a6jjMQns7hoXKE52kr1GamfXrBdCh1hZGeymEZWRVPR2CgkHkD5hn0qB/FWmJNfxF5DJYyxRSqE+80jbVC+vzcfUGjUNCR/DlhJBfROJSt/apaTkyEkxqrKOT3w55pt34Y069XE6yEfYXsOHx+6bGR9flHNN/4SnT/t/wBn23Hl/afsn2ryj5PnZxs3euflzjGeM1DL4y0uCO9lkW6EFi7xzz+Q2xXV9mwHuxJGAM9R0o1ATT/BWj6dJKyJPcLJbm1CXU7SrHCesahjwvA4og8F6ZFYXNjLLfXVpcQ+SYLm7eRI0zkBAT8uMDnrxWX/AMJndrrmrD7HJ9ksbKGc29wBDIuWO8knj7oyB+HWtTwhrl7rumtNfWTW/lkJ5kjKGdsncCg+7j5evXOaNQ0JtH8K6fol9Je2r3UtzLCIXlubhpWZQcjk+nT6CtqiikMKKKKACs7V9Gi1iOJZLq9tTExKvZ3LQtz2JHUVo1larqsmm6tpMTeWLS9na3kdgcq5QtGAc9ypH4igCgPB1rB/ZdtZsYrCyumvZEZi8k8/8JZj15JJ9wKu6z4btdclR7m6v4NqFGW1uniWRT2YDrXN2Pjq+u9G1O4a3t47kXMaaahVsTRSyGOJiM5JJVjxjgVuR+M9Hl1JLNJJT5lwbVJ/KPlPMOqBvXg89PenqLQo3vgqDUPEJZ/tFtp8emQ2cX2W5aIkK8m6MgHldpXrWtdeGdNu47iN42VLizSxZUbAESliAPT7x5p+p+ILXS72GzkiuZ7meJ5Y4reEuWCkZ6dOo64qnp/jXSNSuLKK2Nxsv1Y2szwMscpUZZQT3HPtxRqGhdOg2v8AwkQ1lJbmO42BJEjmIilABA3p0YjccUXnh+xvpL151cm9WJZsPjIiYsuPTkmo7PxPp99pumX0Bl8nU5vJt9yYO7DnkduEaue0TxxdTw6DBeWklzcambkvJCgAURyMowPwGfajUNDpL3w9YahLfPdI7G+tltZgHxlAWIx6HLHmqNx4I0y6t7aOe41BpbdHiW6+2OJnjY5ZGcHLL7Gn/wDCUWtsNs7TXMkt9NaQpBbnduTJ24yc8D73APtVa68V+ZcaS9gsoimu5oLqB4sSqY4nYpg9DlR9c0ahobEuhabN4fOiPbL/AGf5Qh8kEjCjpz1z79ag0bwzY6JcTXNu9zPczqqPPdTtK+xeignoBmlsvEmn6gumNaO8n9pxtLBheiqPmLemCQPqaqatrmoaXqElsLVJ/tSAacVBG+XoUfn33Z44B9KznUVNXkZVa0KMeaW39f8ADepbufDen3Wn3tlMshhvrkXMwD4JcFTwewygpj+F7I622pxT3sEryLLLFDcukUrqAAWQHB6D645q1eakmkaSt1qjZcbEYQRkmSRiAFReSck8CqDeMdKitriW6M9u9tLHFPBLCfMjMhwhKjOQc9RmrV2arVDE8E6THqKXga7JiujdxRNcsYopCSxKp0GST+dEXgjSYdSjvEN3mK5N1FCbljFFISSSqZwMkmtuzuftlok4hmgD5xHOmxxzjkdvWpqd2MwYPCFjDJcSNdahPJNbvbK8927mFH+8EJ+70HPXgVuRRiGFI1LEIoUFjknHqe9OopAFFFFABRRRQBU1LS7TVbG4tLyINHcRNE5Aw20jBwe3WqkehqPEw1WRhtt7X7NaxKMBATl2PucKPoPerZ1KAat/Zx3ef9n+0dONm7b19c1kJ420yf7AtrHdXEt/AbmGKOLLeWDjJyfXsMmnqBY1bwpp+r6gt9LJd210sflGazuWhZ0zna208jk/nVe68D6TeXDyTPebZEjWWJbpwkpRQqswz8zAAcn0FTXHiO2sJ9R+1yySJbXUNuI44CWVpEQqvBO/JYdh1x2zSr4rsTbzu8V1HNBcJbNbPFiUyPjYAM45yOc4o1FoS3nhrTr6O+WdZQb6aOeR0kKskiKqqyEcqQEHSqc/grTrmGzEt1qJnsy/lXYvXE+H+8C+ckGtHTNah1W3uZYbe4j+zStFIkqANvUcgAE1zq+Npbzw9Y6rBaT28c2pLblWi3mSMyMvygZJbCj8aNQ0Nm38J6TbWlraxwsYLUTrHG7lhiYneDnr1NQ6b4K0jTJFkiFxMywNbD7RcNJiFsfuwCeFG3gD3qQeLtNFncTyrcRSW9wts9s8REvmMAVUL3yCCD0x9KvaVq9trFvJLaiRTDKYpY5V2tG4AOCPoQePWjUNDNXwXpyaVbWCT36LaSF7aZbtxLDxt2q/ULjjb0q/LodpceH30a6M1zayRmNzNKzO4POSx5znvVBfGemvZtdLFeeRvESSfZziWTdt2J/eOc9OODzxTj4w00WaTBLgyPdG0Fv5eJBKF3bTk4+7znODRqGgWfg3S7OO5XN1cm6tjazPc3DSM8Z/hyTx+GKD4RsTDp6fa9QD6eW8mcXbeYVYglGbqV4HHoBWhBq8E99FZmOaK4ltjciORMFVDBefQ5PSsVvFgkvLa5tFeXT5tJmvhGI/nYq8YH04Y0ahoX7LwvZafqzX1pNex7pHkNqLl/I3tncfLzjuT9alt/D1jaw6ZFEsgXTGZrfL5wSrKc+vDGqeneIzfjSXljltGvYXkMMkOd+EVsq2eAN3HHPtT9O8X6dqUtqsUd1El5C01vLNCUSUKMsAfUD/AOtmjUBsPg3TIAyLJdtF9rS8SF7hmSKRHLjYp+6CxJIHWlPg3SDrI1Hy5gwn+0i3EzCDzv8Anp5ecbvf15p+neKrTVL63tra1vB9pg+0wySRhVeLj5+uccjtnkcVt0agYyeFtNjsfsirJ5X24X/3+fN378/TI6Vs0UUhhVTU9Oj1Wxa2lmuIASGEltMYnUg9mHNW6y/EOsHQtHa9Fu9wRLHGEQf33C/1/lQBTPhSCHTotPtJJPIkvEuryS4kaSWcqQwyx6klEB9gRWlq+j2mt2P2S+VygcSI8blHjcdGVhyCKwZvF7WfiK6hura7+zR6fHdCFLfdJHlpA7NjgABV4z9M1cuvGuj2yRurzXCPareM8EJYRwno7enQ8deDxT1FoSHwlYvpIsZbm/l2zeelzJdu08b4xlZM5HHHHqamtPDWn2UNlHCJT9jne5R3kLM8jKyszseWJDmq154z0yz+0FUurlLaFLiWS3gLokTLuD7umMAn14q9f69YaboI1m5lb7DtjbzEQn5XICnHX+IUahoVrvwrp15aywv9ojMl2bwSwzFJI5SMFlYcjjj8aqXHgPR7p0e4e+kb7P8AZ5WN2+bhMk4k5+bkk80k3jzSrf7UJ4L9HswGuUNq2YUPR29jn69eOKuSeK9Mj/tQ75GGlwJcXBVONjqWUr68A0ahoEfhTTodUs7+A3EU1rbLagJMQssajCq69GxmmWPhKw04zLbz332eSJ4ltXunaGJW6hEJwPb0rB1Px1cabca7cpF9otLOztZ7aPbg5lz94+nSuhl8QRW9y7XPnQRx6fJeSW7wfOFRsE53df8AZx360ahoTN4e0+SO0SSNmS0tHtI1LdY3VVYH14Qc1V07wbpems7I11cNJbNasbm5aT90cfIMngDHGPeobvxbDJpeomyjuILqHT5Ly3+0wlRKirw656gErkHB5HFOTxjp0Om3U180iS2CQ/aE8vljIAU2DvuJwKNQ0F/4QvTxp9tard6krWjMYLhbxxNGCACgf+7gD5enFaw02D+xzpspkmt2hML+bIWZ1IwcseSSO9Jc6pbWd5bW1yWje5SRkJHyjYAWBPY4OfwNZI8Z6Zcafaz2sk2b1JzFmHJj8oEuXXIxj9cj1o1As6b4YstMmtJY5rueSzSSOF7mcyFVfbkc9vkGB2qu3gjSTY29vEbq3a1lklhnguGSWMyHL4Ydj6UWniYzaxa6etrPOJrGK6Nyke1fnOMkZ4HHvjpVHwp42i1PTNHTUxMt7qCMEm8grFLIuSyqfUAfTjrRqGh0D6PbSaDJpErTSW0kDQO0kpaRlYEHLHknnrUOreHLHWEtfPa4hmtM+RPbTNFJHkYIDDsQBmnX+v2WmzXUV0ZA9tbLcsFTO9CxUBfU5GMe49agk8WaVHbtO0rmJbSK7LKhOUlYrGOP4mIwBRqMhuvBtje28Nvc3upvDHH5Txm+kxOu4sfM5+bqfw4pNT8FaVq19cXNy12v2lVE8MVyyRylRhWZRwSABj6CnHxRa3FvmF5bWWO8gt5Y5oMsDIygDAOMMD97Jx6cYp//AAldkdTiskgu3826a0SYRDyzKudy5J7bW7djjNGotCa98N6ffxahHOJR/aDRvMySFSGjC7CpHQjaD+FR/wDCK6eba5hme5n+1RRQyySzFncRszLljznLHmsjwr41/tDR9OOrRXH2m8kkiWdbciF3VnwgPrtX8wa2fDmvf8JBaTz/AGSa2WOeSJTIuA4V2Xjnr8vI7GjUNCj4r8M/2nbX11YRebfXVslpIjy7A8Ik3MoJBCsQWw2Djio/COj6tpt9ePeyXMdhIiLBa3V6bl1YZ3Nu/hHQYBNWZfGmmxTMjQ3rKt01n5qWzMpmUkbBjqSRxjjntVu38Q293p9xcwW12zW0xglt/KxKj8HGM46MDnOMGjUC4mnxRy+YkkwO7cR5hwT9Kgv9Ds9S1TT9QuVcz6eztAVbABYAHI79BWZceMoFt7Cazs7m4+1XrWbxiPDxsqsWBGcZ+X16Vbi8T2c+pyWEFveS3EMqxTBLclYSwDAs3QDDevY0alSk5bslbw9YtFJGVk2yXq3zfP8A8tVZWB+mVHFVE8G6XHqn24Ndlhcm7SE3DGJJScsyp0BJJ/M1Xs/GmnRaVaXWp3TCG5ExW8a3MURKMwKHk4bCnAz82OPStaXVCdDTUoInVGVJNkyYYISM5HY4OaNQjHnkorqUx4Q04XFxKJLvZcXK3TQG4YxrKJBJuVegywyatXnh/TtQ1CW7vITK81m1lIrN8rRFtxGPXPemnVzHf3AkC/ZI42KSDqzKFJH5N+hqD7XevbNK7Ot0URoYUT5GyAT9eSQeeMdqdmdCw03v/X9dSFPBGlDS5LCWS+uIXZHQzXbs0BT7nltnK4z2qQ+Erf7CtuNU1hSJDIZhfyeYxIAILZ6YA47VJ4i19tCOnBbSW5N7drb4jGSMqTx78cD61FdeM9Ks5p0mFyUtSq3UywFo7ZmxgOR35GcZx3panLoW9N0OPS7sNbTOLWK0jtYLbnbGqliWJzyxyOfatSiikMKKKKAMTWPDv9ra1Y3/ANq8n7JBcQ+X5e7f5qhc5yMYx+PtWevg82lhoYW8Mh0S2mjAEOPP3xbPX5fXvXV0U7gcD4Q8MX1z4f0CTV7spBYwuY7P7MY5Fd1ZPnYnnAY4AUdec1o6T4LutOuNFM+rLPb6KZBbxLbbC6ujL87bjkjI5AA46c5HW0UXFYyfD+k3Oi2klnLdxXFssjNbhYSjoGdmIZtxDfexwB096w5fh+t5danJe3UMSajA0MqWNuYfMJYMJHBdgWBHUAdTnrXZUUXGcSfh2j6Dfad5mm2zXUaRi4tNO8tsK6tlv3h3Z29sCr+teDF1m91aeS9MS6jYpabRFny9rFg2c89enH1rp6KLsVjktT8FyasbG5vpdOur22gaB/tNiXhdS2QQnmZVhjruOcnj007Xw6treidJY0UactiIoodirgk7gM8Dn7vb1raoouM5m28L32mfYX0nU4Y57fT4tPma4tTIsiR/dYAOCpyW7kc+1Sab4Ym0bXr+9026t1g1G4NxcpNalpMnqFcOOMkkZBxk+tdFRRcAooopAZHiXw9b+JdJFnckKY5UmjZk3qHU8bl/iB5BHoaw5vAJm0uK1SXTbbZdC4kht7Blt5wFwFkj8zLeud34V2dFO4HGWXgB9LitJNN1KOO7srue4gZrX91iUANGUDDjA4IIxWqPDs8urT6jeX0ck8+mixcRwbFB3s28ZY/3sY9utb1FF2KxhweGUj8DL4cluTIotDbfaAmDnGA23PY84z2rNh8CFdS029m1NpZbZ3ku/wBxgXbmUyqfvfLtckjrxxxXXUUXGc0fCk3n+QNQQaX9v+3/AGf7P+88zf5m3zN2Nu/n7ue2afc+E1ufD2o6Y14yG8vHu0mWMZiYyiReCecED0z7V0VFFwMLStAu7TxDdaxqOoR3U9zbxwMkVuYlXaScjLMec/56DdoopAFFFFABRRRQAVj+KNA/4SPRTZJdGzmWWOaG4Cb/AC3Rsg4yM9x171sVWvr5bFIi0ckplkESLHjJYg+pA7VUU27ImUlFXZg3HgmCbVtDuoroxQ6SiIYPLz53lgiPnPG0sx6HOarad8P7XTNa+1wCwli+0m5DT2W64Qk52rKHAwD0JUkV09rfR3Sy/I8TQttkSUAFeM9jjoaamq6fI9qsd7bs14pa2AlUmcAZJTn5gBzxQ007ME1JXRFJpfmeJLfVfOx5NrJb+Vt672Rt2c9tmMY71i6f4K+w23h6E3/mf2K8rZ8nHnbwwx975cbvetOXxNpkUc85uoGtILc3D3CTIwwGKkAA5zkY6Yzx14qD/hMdINzAEvLdrSW3knN4Jl8tNjIpUn1zIKWo9Chpfgu506PSrU6sJLHSblp7eL7Nh2BDjDtu5I3nBAHuD2Sy8EzaamiPZ6kn2jSWuBult8pKkzEsNoYEEZ4Ofwrpv7Qs/wCz/t/2uD7Hs3/aPMHl7fXd0x70kmo2UM00Mt3AksEXnSo0gBSP++R2XjrRdgcnqmg3tpqukDTp8ySavc3Zma3LJDvic4YA8jtnIzntV+Hwu1pJa313f+bPbXs2oXDR25AlZ4ym1VBJAAIx94nHvWx/bWli6t7U6ja+fdIJIIvOXdKp6FRnkGmtrdlBb3VxfXENpBazmF5ZZ025wOpB4PPQ4PtRqBz3g7RBFrmp6uqTRWbM0GnQzRGMxxM3mSEKQCAZCcZAOFHtWtqXhtdVvJrm8unMiqFsyi4+yEEHeOeWLAc8cDFJN4v0eKS0aO+tpbS4aRWu0nUxxFFDHLZx3A/GprvxRoljFZS3Wp2scN8SIJTKuxgFJJ3ZxjjGfUgd6icFNWkjOpSp1Y8s1dDtT0iXVNIhtpbvZdwyRTJcpFwJUIYNsJ6Ejpnv1rL/AOEOknup76/1BZL64urWaR44NkYWBwyoqliRnByST16dq6C61CzsYVlvbuG3jbO15ZAoOFLHk+wJ+gNV4de0i5mt4bfVLOWW6UvAiTqWlAzkqM89D+R9KpaI0SSVjQoqkms6ZJqbadHqFq16oy1sJlMg7/dzmqtj4q0PUVkNrqlq3lzeSwMqghtxUd+5HHr2oGa9FUbbV7S8u0is5Yp45ITMs0cyMCA204AOTz3xj3pkXiHRp7Se6h1aykt7c4mlW4UrH6bjnA/GgDRoqhNruk22nRX9xqVpHZzECOdplCP9Gzg9D+VXIZo7iFJoJFlikUMjo2VYHoQR1FAD6KKKAMXUtFvLjW49S02/jtZPszWsqy2/mhkLbsrhlwwPrke1Y1x4Dkl0HTdKW9tdtjEES6ezPnxsDnfG4kGw9OORx36V0d/q6WV1FaR2093dSqXWGALkKMAsSxAAyQOTTYNdtZrC8upFltxY7vtMUy4eLC7jnBI6c5Bwa05JqPNbQv2cuXmtoUbjwv8AaLu6nN5j7RqFre4MWdvkhBt6858vr2z0NZvirRpUgvZomkf+0r21Z2SB3NqIwPnwh3NygHy7SN3UYzW3a+I7W5sRcvDcW6m2juNkqjdh87VwCfmOOnuKkv8AXYdOjtPPt5zPdlhHboFMnyoXYnnHAX17isYVIzlyxd3/AEhShKMeaS0KHg5LiGwu4JYFWFLkmGcQSwm4BUMzssrM+dxIyTziobDwhLZaXa6cdQR7Wxv1u7f9wQ+0OzlGO7BOWxkAdOhrZTWbWSGwki3uL8gQqAM/dLEn2AHNPvdY03TSRqOoWtqVUMRNMqYBOAeT0JBH4VrKMo7oyjKMtmYOqeCItUm1OSa5Qm9uoLpEkgDpG0cYTDLn5wQD6da1fD+ipoenvAsVlGzyF2FlbGBOgH3Szc8dc1Zt9X027vXtLS/tp7mNA7QxyqzKpxgkA9OR+YqAeJNEaG6lj1azkSzXdcFJ1byh74PHpU6lGZc+DIrrwnBos1wkht7g3CSSQBkLb2bDJnkYYjGR+FRN4MH/AAjr6YsOiqss3mSoNOYQtxgYUS5DD+9u9q1rfxNotzpceopqdqtrIhYO8yrjABIPPBGRkds1LFrVk9vd3Ms8MNtayBGnedNmCqsCSD8v3hwcH8CKNQ0MmDwtfWLadLp+rqJ7SzNnJJc25l8xCwYEDeCCCOMk8dc06w8HrZQ2cTXrSJbaXJpx/d4Lh2Q7+vGNnT3rTk8QaPFp0V/LqtmlnK22O4adQjn0DZwTwfyNPvNb0vTnhW/1G1tmn/1QmmVfM+mTz1FGoGXYeG7uA6Ub7UIZjpkUkEflWxj3oyKozlzyNuSRwc9Biki8OvpmnaMYpjdPods6LGseDcnytuOvy/rXR0UXGeeeDbW+03VNOjht/tMUls0d3NJZzwtZgDcqBpG2kFuNqKvrgCvQ6KKACiiikAVna9pbazo0tkk/kOzI6SFNwVkdXGRkZGVHetGo57iG1i8y5lSGPcq7pGCjJIAGT3JIH40AYo8PXE13f3d7exNPfaetm/lQFVUgudwBYn+Ppnt154xX+G8IWyZZbG5kt7KOzf7dY+cjBM4dQHBU8njJB4rq7fWdMu7P7Xa6hazW/mCLzo5lZN5IAXIOMkkDHuKjbxFoqQQTvq1ksVwxSGQ3C7ZCDghTnnB44p6i0KDeFE+yaxbw3Cwx6lYpZqqQ4WALGyAgZ5HzdOOmKfqHhr7d4Lh0D7Xs8uOBPP8ALznymQ52577PXjPer+o6zYaYVS8u4Ip5FJhheUK8pHZQevp+NR6Trlpq1lazRyJHNcWiXf2ZpAXRGHBI9M8Zo1AzNR8Ifb7jxBL9u8v+2bWO3x5OfJ2Ajd975s56cVTvPAtzM2orZ6usEWp2UVrch7Xe37tCqsp3jGQeQQf6jop9c0m1tILq51O0ht7jHkyyTqqyZ5+Uk4NSHVtOXUUsDf2wvJF3Jb+avmMMZyFznpRdgczeeAFvLTVIH1EqNQsra1yIf9WYejfe5ye3H1qxrei3kmmahf3Nwlzd/wBjXFoY7eAqJGb5gVG4nsBjnP6Vsapr+l6JJbJqt7Dam5crGZXCjhSSST0HGM+pA71SsfF+mXWpXdlPcQ2k0F0bWJZplBuGCqcoO/3hRqGhRt/C97fWTPqmoozvpT2EAS2KeUsiruZwWO5vlXptHHTmq13ocOq+MNLhRLhoNOhH252haOOVoiDCoJGG+ZmbAJHrXVyanYxahHYS3lul5Ku6O3aUCRx6hep6H8qdfahZ6Zam41G6htYAQDJNIEXPpk0XYGb4n8Pt4hsYoYbw2U0UhZZ1j3kKyMjLjI6q5/SqFt4IhtdV1W6huyIr6B4oYPL4ti6qHIOeclFOOOldEl9aSfZ/LuoX+1KWg2yA+aAM5X1GOeKztQ8V6Jpf2c3upW8a3E7QK3mDAdc7sntgjBz0JAo1Agt/D11Y6lY3VnfRbYLGOynSWAt5iIchlIYbTyeu4VWs/Bn2Sz8OQfb9/wDYbs+7yceflSP73y9fetqTW9KivEtZdStEuJH8tImmUMzYB2gZznDKce49alfUbKNLh5LuFVtmCzsZABESAcN6cEdfUUagZmteG/7X1ewvRdmBbcgTxCPd9oQSJIFzkbcNGOeeCRWVB8PYI9C1LTZ70zrdyo0LtCP3CI26OMgk7gCT6ZBxxW/beIdKu9Yn0u3voHvYPvwiQbumTgd8d/Sp7nVtOsryG0vL62guLg4iiklVWk5xwCcnnijUNDBtPBi29isAOn2zC9guibGyMKsInDBSC7ZJwRnPGehrB0yC9HiePURYt9om1GQvZz2U+bVGO1pBLuEQO0ZyF5zjJPNdUfFNs/i/+wLcRyTogaVjcIpUkE4VOrEAZOOgIqS88V6TaXV9Zm8he+s4DM1r5gDvhC+AO5wuT6ZFGoFTT/CP2DQ9H077b5n9mXhuvM8rHm5Mh24zx/rOvPT3q/oOkTaLHdW7XKT2slxJNAoiKvHvdnYM24huW44HTvRoniLT9dtIZLS5hNxJbxzyWwlVpIg6ggMB061bs9TsNQeZLC9t7loG2SiGUOYz6HHToaNQMoeF8W6R/a/u6s2pZ8rrly+zr74z+lVtT8HNfw3iLeRkXWorfNFNAXiYCNU8t1DDcPl3dRzjjitBPElp/bOq2Nzttk0uOKSW4lkCoRICRyemMd6uW2sabeRwSWl/bTpcMUhaOVWEjAEkLg8kAE49qNQMC38Fy2OlW9vp97BFPbai1/EfsmIgSrKU2Bh8uGOMH0rZ0nSW0251GeSdZnvrgTttj2BCI0TA5P8Acz+OPepbjWdMtLeWe61C1hihk8qV5JlAR8A7SSeDgjj3om1nTLdYWuNQtYluI2lhLzKBIiruZl55AHJI7Uagc3/wr8TaDZ6Jfao8mnW3mu0cMXltJKzsyvu3HAXdwO5GT6V00FnKdIWz1G4F1IYvLlmCbPM4xnGTg1Pb3EN1bx3FtIssMqh0kQ5VgehB9KkouxrR3RkPoKyaXDaPcMSkhd5AvLg5yMZ44OPwrXAAAA4A6UUUNtmk6s5/E/6ZkeIdFm1iGyNpdLa3FjdpdRPJF5illDDawyDghj0NZV74LnuV1KCHVBDaau6yX0YttzFsAN5bbvlDAdw2OxrrKKLmYgAVQBwAMCloopAFFFFABRRRQAUUUUAFFFFABRRRQAUUUUAFFFFABRRRQAUUUUAFFFFABRRRQAUUUUAFFFFABRRRQAUUUUAFZ2sWct6tmsQYhLpXcq20qoByc/j2rRoqoScJcyJnFTjysz9JtJbJLiGcF/3pZZi2TKD0z3yOn5VwSeDddtILmS3h3T6TcA6KBMvzxmV2cZJ4yjhcHHK16bRTlNylzMUYKMeVHES+ELmKwurC0t0MTeHvsMbFhhp8sfr1Oc+9WbbRGv8AXdIu7zRPs1taWU0bxT+U22UmPBwrEHID8/niuuoqblWOZ0Lw/JF4HuNEv4BCsrXUYjyCFjeRyuMf7LA+1cpH4N8R3On2t1exY1G4P2C/UzKf9EKRoWJzg8xlsDn5zXqNFFwscLd+F5n8SXr3FnfTW1zdQzQS2b26rEEVAA2/DrtKk/Lng+uara1aXVvci1jhY6lda1Je2Ua7H3xLEFd9rEIeDjDFTzkdOfQ6q32mWOpIi6hZwXQQ5QTRhtp9RnpRcLHHaHo1vcpoUVrYytbaVc3SXa3gj3JKQckhSVPzNxtyBx6U5fD95ZR6dL/ZH2pLLVbyX7LG0W7yJPNCFdzBcfMpxkY/Cu0tbS3sbdbeygjt4U+7HEgVR9AKlouFjD17S31S70M/ZVlgtr7zp0fbhF8qQA4PX5mXpmsSLwpLBDug02GOYeIBdqy7ARB5mcg56bc/L19q7eii4Hn9zouvXuvWVzNZTB7bWPPeVWt0i+z5YDbt/eE7SM7vfrUV14Z1Gbw5c6Oui4cat9o84PEEmhM5fj5s8KehA9q9FoouFjkte8OXl5dXkekxpawyaNJaROhCKshcELgcgEZ5xVLV9Fu9W0ayjtPD8unfY7yKaa2V7dWnVVYfIQWU7SQRvxmu6oouFjgn8MeVpCm10zWluftUtxEfNtWeF2UAkoW8vY390Z79M12Gjpdx6JZJqSRJdrAgmWEYRWxyBjt9Ku0UXGFFFFIDGv4by11+PU7S0a8iNsYJYo3VXX5twYbiAe4IyO1YUMVz4l06+nt4gsWqX0UVxFvG6CCPAkD5/iIUrgZ+8PrXbU1I0j3bEVdxy2BjJ9a39t7nLbXa/kb+1vTcWtdr+Rhajo9xdarPdQDY8cMRtiW+UyKzHBX6HHPrxRa6dc33is6vqVs0C21osFrEzq2Gc5lbgn0VfwNb9FcFLDxpTlOPXf77/wDA9BVK0qkVGXQ57SdEntdbeSZQtnZq6WK7geJG3MfUY4Xmobzw+1/8QhqF7ZR3GnjSTb7pdrDzTLnG08/dJ5x3rp6K7alWVSXNL+v63OSlSjSjyx/r+tjhdM8M6lpmneHXsrCCG/s7GeOdmK4ErRjaGIOWG8ds1StfC2s3k0kt5ZNDJcaNPZzNMYAvntsIwsX8GckE5PHOO/o9FZ3NLHF6foE9xD4Xjv8ARxFHpsTx3UcxjZd/lKofCsQwLDjv3IFJeaBf5vJF08XMI1xL0WodB9ohECJwCdvDDIDEfd+ldrRRcLHF6xo91fXmmX8elXkNtFBPE9jbm282JnZSGw5MZBCnODnke9VtV8PX1vaab/wj2nXf223tYoFe6e3ki8sNkxyhmzkDPzID14JrvaKLhYKKKKQwooooAKKKKACub8erv8JuvlCbdd2o8psYf/SI/l59eldJUVxbQ3cXl3MSSpuV9rjI3KQQfqCAfwoA4q68PXuowauyaR9khvbqxK2bvGCVikUyOQrFRlffJC1PrOgSR6xdTWugxaja3Gmi1gRDEv2Z9zk/KxACtvBJXJ+XpXZ0U7isefW3hjUbBfIv9KTWmm0mGzWcyIRA679wO8htp3A5UE/L0p2laLrmi32n3S6YbknQYdPdEnjHkzIc/Nk/d56ruPHSu/oouFjz3TPDupaVPplxqGjf2rFHo8dk1srxMbeUNljh2C4PqCTxU6+GLg+JLmW9tL+RJtQS7iubaS3CIBtwGLfvBtxjC5BHTrXd0UXCxz/iWwmn1DR76DTjqC2Vw7SwoU3lWideN5AOGIOM1zGp+D9QutJ8UNHpiG+vdRins2Lx7iitGSQ2flwA/BI/WvR6KLgeeTeD7mTxJqMmoWl9dRXd+l1BcWksChAuNoYvhxtx/Dniuk8RWE8+o6Vex2H9pQ2byGW1BTcdy4DgOQpI9yPvGt+ii4WOFsdF1fSW02+GnvOsV7dzGxhljDW0U33EXcwU7e4B78VVPhvVhaaddT6T58ttrVxeTWqyRljFIzEYJYKeo4JFeiUUXCx5xfafcapqfiqzs9H86e5u4ES83RgWxEMRySTuGOo2g81e1nSdZZfEllZ6W9yuqTRzQ3CzRqigIisrAsGB+Q44IORyK7SK2gglmlhiRHnYPKyjBcgAAn14AH4VLRcLHPadp81j4y1Sc6aTBe+XJHdp5e1CqbWUjO7JI7Ag5rL8QaHe3N1rqRaT9ubVYEjtrrfGBakIV+bcQwAPzjaDyfWu1oouM5/R9Gms/EuoXlzEriS2tkjuTt3SOocOfUHkfXNUNQ0i7/trXzDpTTrqdkEgukaMCNxE6lW3MGGSQMgEc84rr6KLgedx+DdQii0JLO0js5Y9EntLuZGUFJnjUDODlvmycjNXfBvhqTS7y0mu7C/trq2svszyPLAYG5GQoj+ZuRkFhn8a7eii4rHD6no+uJr3iC8sLTfFe/YlQqYmZ0TPm7Vc7dwB43DFULjTLzRPDmt6rcQtata30epWYuJI9x2oisD5fygsNy4Hr3616PVe80+z1ARi+tYbkROJEEsYYK3qM96LhY4h/Dt/NpWiXrQXEsnmz3d7DbmLzPMmGQQJfkO3O36dKS48Hzzap4QEOnSvp2nvctcpeSRM0QcgqGCnB57LkAYr0Cii4WGoiRRrHEqoijCqowAPQCnUUUhhRRRQAUUUUAFFFFABRRRQAUUUUAFFFFABRRRQAUUUUAFFFFABRRRQAUUUUAFFFFABRRRQAUUUUAFFFFABRRRQAUUUUAFFFFABRRRQAUUUUAFFFFABRRRQAUUUUAFFFFABRRRQAUUUUAFFFFABRRRQAUUUUAFFFFABRRRQAUUUUAFFFFABRRRQAUUUUAFFFFABRRRQAUUUUAFFFFABRRRQAUUUUAFFFFABRRRQAUUUUAFFFFABRRRQAUUUUAFFFFABRRRQAUUUUAFFFFABRRRQAUUUUAFFFFABRRRQAUUUUAFFFFABRRRQAUUUUAFFFFABRRRQAUUUUAFFFFABRRRQAUUUUAFFFFABRWbr97eadolxeadDHPLAu8xyZ+ZR1xjvjn8K58+OzfW2kxaJbxTajqJ+aCRzthAyGLEc9QfwBNYVMRTpy5ZPX+kclbGUaM+Sb1tf11tp316HZUUi7to34LY5wOM0tbnWFFFFABRRRQAUUUUAFFFFABRRRQAUUUUAFFFFABXN+O73UdN8MPe6RcGCWCVS7BQ2UPy45B7kV0lU9Y09dW0a7sHIUXETIGIztJHB/A4NbUJRhVjKSur6m1CUYVYykrq+pxPiXxpe2t/pUmmyEWq20d5eKFB3xuyjHPTr2/vVrprF9e/Ev+zrW5IsLW0Ek0YUYZiOOcZ/jXv2rjNA0y51Xw/4he4jy9tZLaxjrzH82B+KL+davhIXS+Fdd8Sbv9LltykJxkr5ceM/n/6DXt1aFGEHFJXXu/OVrP5ant1aFGEGklde785Ws/lqd5rN82maHe3qLva3gaRV9SBx+Fcvc3GpaFa6PqL6tNevdzRR3ME23YwkHVAANuD0qHw7Eg12ztRI88F/oSzXcckhcO5IBY5PU5Iq/wD8IFAL20uDql6/2J1NskpVxGoOdvI5HGB6VxRjSoPkm/Pbfpby1OOMaVB8k357b9LeWp1lFFFeWeUFFFFABRRRQAUUUUAFFFFABRRRQAUUUUAFFFFABRRRQAUUUUAFFFFABRRRQAUUUUAFFFFABRRRQAUUUUAFFFFABRRRQAUUUUAFFFFABRRRQAUUUUAFFFFABRRRQAUUUUAFFFFABRRRQAUUUUAFFFFABRRRQAUUUUAFFUBqub37L9huvN27/wCDG3OM/eq3BOlxGXjzgOyHI7qxU/qDUqSexEakZOyJKKbHJ5ibtrLyRhhg8HFRLeRNqMlkN3nRxLK3HG1iwH6qad0PmSt5k9FNSTe0i7WXY23LDAbgHI9Rzj6g06mUFFFFABRRRQAUUUUAFFFFABRVDUtYg0t4lnjlcyhivlgcYxnqR6iqX/CV2n/Ptdf98p/8VUOcU7NmcqtOLtKSRuUVgyeLrKKJpHt7oKgLE7V6D/gVO/4Su0/59rr/AL5T/wCKpe0h3RPt6X8y+8u63qkOi6Nc39yMpCmQv98ngL+JrzTw0ZvDWtWOuapbwQ2Wsh1BQYFvubI47Dgfgfau3u9d0m/iEV9pslzGG3BJoo3APrgt1ptx4h0fUImt7vTZLmONxmOaGNlBxkcE+hrir01VmpqaXLt6+f5Hl4uisRVjVVRLk+H1vrfytodKDkZFFYKeKLGONUjtLhEUAKqqgAHoBuobxdZIyK1vdZc7V+VeTgn+96A12+0h3R6ir0v5l95vUVh/8JXaf8+11/3yn/xVH/CV2n/Ptdf98p/8VR7SHdB7el/MvvNyimQTLcW8c0edkiB1z6EZp9aGwUUUUAFFFFABRRRQAUVm6+zLo0pR2Q74xuU4Iy4HWsX7O3/P1d/9/wBv8a0UY8t2zRRjy3bOsorjLyOSKAMl1dZ3qOZ27kD1qf7O3/P1d/8Af9v8arkha9/wHyQte/4HWUVxV+kkFoXS6us7lHM7HqfrVn7O3/P1d/8Af9v8aPZw5ea/4D5IKKlf8DrKjuJPJtZZSjSBELFFGS2B0FclcRyRKjLdXWfMQczserAetdjUThaN4vclxikpLVHN2N7oenaFJren6etujna6xxqHPzYx1x74zV248SWltoUOqukphmICoAN2Tn3x2Nck4ZbyXw4F4bU1kX/rmQc/kNpoto3vb618PE/Ja38rNnoI15/X5vzr5J5vipuz1duX/t+9vyPelgaTfPJve+/2LHoSNvjVsFdwBweorGfxPbqZkS3lknS6a2SFMFpGHUj0HvUN14kmgubhkto2tLW4W3kJc7yT1I4xx6VTXw7qEF7d6labUvftjSRAv8ssRPKn0zXo4jGVZtLC62+LTp3XfZ27s4KOGhFN19L7a9ez+9XOsUkqCwwccjOcUtNQs0al12MQCVJzg+lOr2FseYwooopgFFFFABRRRQAUUUUAFFFNfd5bbPvYOM+tAHLah4+srXU5rGysL3UZbc4mNtHuVD3/ACrX0HxDY+IrJp7FmDI22WGQYeM+hH9a5v4fXtpYeCrq4unCPbzSPdnGWBHcgc9KxbDxBb2XirxLr2nJ59ktsjhR8oZ2KAZ9OS3617EsHCTnThF3j17u6VvnfQ9iWDhJzpwi7x693dK3zvoepUVi6Pq95c6pdadqkEMdxBFHMrQMSrK2fXkEEYrarypwcHZnlTg4SswoooqCAooooAKKKKACiiigAooooAKKKKACiiigAooooAKKKKACiiigAooooAKKKKACiiigAooooAKKKKACiiigAooooAKKKKACiiigAooooAKKKKACiiq8F7BcXVzbxNmW2ZVlUgjGRkfXildITkk0n1KwVv8AhJi207fsYGccZ31Tt7FIYkuEiP2g6jKTIR821pnGM/3cHp0rWtr2C8edbdtxt5TFJwRhgASPfrU9Zcilqc/soz95O+/9fgYNtZrc6hB9riMiLFP8kgyuTKMEg8Zx0rM+z3bXzsI5JLePT7cTRgHfMqyS5QH1xyR1PTvXXPMiSxxsfmkJCjHXAzSlwJFTDZYE5A4GPU9qh0Ivr/VjKWFjK2u3+VjEaFbu8UFWa3bUFYDBClfsvH4Z7UksMUT+VPHtsI707kI+RVMWRkdNu4/TOK3qhurVLpEDM6Mjb0eNsFTgj+RNU6WnmXLD6Nre9/8Agehk+HzF/aWsLbbvIWdBGD90Dy1Py/7OScfpxW5VezsYbGN1gDEyOXkd23M7HuT36AewAFWKunFxjZmtCDhDll5/i7hRRRWhsFFFFABRRRQBzHi3/j7sP9yX+aVhVs+M5hDdaeSkj5SX7i57pXO/bR/zwuP+/RrzMQm6h4ONi3WYt9/yDrn/AK5N/I1YrPvbwHT7geRP/qm6xH0qf7aP+eFx/wB+jWHK7HLyuxZqvb/6+6/66j/0BaT7aP8Anhcf9+jUFveATXX7ifmUf8sj/cWhRYKLszQqvcf6+1/66n/0BqT7aP8Anhcf9+jUFxeAzWv7ifiU/wDLI/3GoUWCi7mhRVb7aP8Anhcf9+jR9tH/ADwuP+/RpcrJ5WehaT/yBbL/AK94/wD0EVbqppP/ACBbL/r3j/8AQRVuvbPqgooooAKKKKACiiigDM8Q/wDIFk/66R/+hrWPdErZzFSQQhII7cVr+I13aHKpJGXjHH++tc3dabGtpMwmuDhCeZParqKP1d3dt/yR1UlF8vM+v+Q8acJ7dDJc3PIDH95360XFmYraSRbq5yqkjMlWY8pYJtPKxDB/Cq8cMt3ZjzblsSL8wCjvXJHBU50b7ffu0RLGVIVeXVr5Df7NW4tk825uSGAYjzPxpbizMVtJIt1c5VSRmSpRbzRRYW6fCrgDavb8Kjjhlu7MebctiRfmAUd6t4Cm6Vk1+O5Cx1T2iTTtv02+8amnie3jaS5uckK/EnfrVm4NxFbu6311lRkZmNMFtLFCFS6cKi4A2joKZFDNdWitJcth1yRtH+FKWApui0mr2897egLHVPaJNO2/Tb7zfTQrU61Hq5aX7SEC4yNp+XbnpnOPenW2hWlrrc+qRtIZ5lIZSRtGccgYz29ay3u9RjhYrft8q5A8pP8ACugtHaSygeQ7maNSxx1OKPqVCKUkk9b/APb3cSxdWT5W2tLdNuxzt3pUMutS2H9oRoLyVbt7dozvO3rtOcYOK3YdVsrjUJbGG4R7mEEyRjqvT/EVz/i4tp+saLq8fHlT+TIf9lv/AK26sTS5Rp+tW+vTnEWo3F0pOeNvVf1Br0cNlVCFN1ad7yX4pt29N38zzsRmdZ1VSna0X/5K0lf12XyO8tdStL6aeK0nWV7dtkoXPynkY/Q064v7a0uLeC4l2SXLFIgVJ3Eds9B+Ncn4duBoXhZNQnie4utUucpEmAWZjhRz9Cfxq9e3P/CQeH5bqC2kjvdNud4gPLLJGcleOuQa0lhVGq19m9r+f+VyYYtypJ/bte3l/nY6CG8gnuZ4IZN0luQJQAflJGQM9OlTVjeF7Oa20lp7tClzezPcyq3VSx4H5YrZrkqxjCbjF3sddKUpwUpK1wooorM1CiiuZTxqkiho9F1N0PRgYBn85aqMZS2Q1Fy2R01Fcy/jRY42dtD1QKoyTm36f9/aE8aK6K66HqhVhkc2/wD8dqvZz7Fezn2Z01Fc3/wmQ/6AWp/99W//AMdpkfjZJYkkj0PVCjqGU5t+Qf8AtrR7OfYPZz7MbqXgDTb7Upr2C6vLGWc5lFtIFV89eMd6gi+Hlpa6XqNhaX9wtvfRIuyQBgjqch+2eR047+2Ln/CZD/oBan/31b//AB2ugt5hc2sU6qyrKgcBuoBGea6XisTBKLk7f5f5HT9axMEouTt/l/kYOh2/k+Ib6S+1CG51Foo42ihjKCNF+pOSS2a14dUs7m8ktLedZJ4vvqoJ2/U9K4fVbnULbxdq50qNmleEB2UZKJtUkj8q6Twx/Ztr4bFxZkbQm+4YnLBgOc/SvmaOa1cViZU5JLlbu/KOit59+x2YrCqNNVpO91GyVuq6+Xbub9FZel60dQuDDLaSWrtEJow7A70Jxnjp24961K9SlVhWjzwd0eXUpypy5ZbhRRRWpmFFFFABRRRQAVn3NzqEUkhitY2iXkOzgcfnWhWNqN2Lm8Fj5qxQg/vXJx+FNbm9CPNLa5b0u+lvo3eWMIqkBSO/rV6s954ktYodPlQAyLHlCG2g/wBeKmspHYTRyMXMUhQMRyRgH+tD7hUhe8krLsWqKKKRgFFFFABRRRQAUUUUAFFFFABRRRQAUUUUAFFFFABRRRQAUUUUAFFFFABRRRQAUUUUAFFFFABRRRQAVzdwk9nqd5qNskjSGcwbACQ4aKPYcezgDPYM1dJRWc4c6MatL2iSva2pzMdoun281o/7yL7XGrS3H3TiBSXf1BYe3JFLDt2iOfYbFL1vMCxlIwpjyvyknCbj9M4rpaKz9iujMfqqWz/rt6GGlpaXE1okMLNaJPKyqw/dt8p6D+7knA6ccdqqajFLHol3FAkg2298saqDx12gf0/Sunopuimv68v8hywqlFq9r/8AA/yObv7KSzsgNLjlSVtPkDtECXcgx8+pfBbB65JqJoISs620wELQBZfstu+wHeuC3zcnG7cB82M5PArqaKToJsmWEi23/X5/eZOi+Ws1ylukIjwjb7bIiYnIOF6KeBkAnqK1qKK2jHlVjppw5I8oUUUVRoFFFFABRRRQBzHi3/j7sP8Acl/mlYVdH4ntLm5uLNraCSUIkgYoM4yUx/I1i/2Zf/8APlP/AN8V52IhOVS6R4mLpVJVm4xbM6+/5B1z/wBcm/kasU+70nUZLKdEsZyzRsANvU4qb+zL/wD58p/++Kw9lO2zOb2FW3wv7itVe3/191/11H/oC1o/2Zf/APPlP/3xUMOk6is1wWsZwHkBX5eo2qP6GhUp9mCoVdfdf3DKr3H+vtf+up/9AatH+zL/AP58p/8AvioZtJ1FprcrYzkJIS3y9BtYf1FNUp9mCoVf5X9wyirP9mX/APz5T/8AfFH9mX//AD5T/wDfFL2VTsxewq/yv7jsNJ/5Atl/17x/+girdVtOjeHS7SORdrpCisD2IUVZr2D6UKKKKACiiigAooooAzPEP/IFk/66R/8Aoa1jXn/HjP8A9c2/lWz4iG7Q5RkjLx8j/fWueurPFnMftFwcIeDJ7VVVJ4d3ff8AJHTSSfLd9f8AIZ9gDWYb7Tcj5A2BJx06fSrVj/x4w/7ooQY09R/0y/pUFpDM1pEVuWUFeAFHFGGpQjh9NNu/Y48RVnKvrrv27ouv/q2+hqGx/wCPGH/dFNeCbY3+lOeP7i/4VFaQzNaRFbllBXgBRxXQoR9m/eW67+fkYOcvaL3Xs+3l5l1/9W30NQ2P/HjD/uimvBNsb/SnPH9xf8KitIZmtIityygrwAo4oUI+zfvLdd/PyBzl7Re69n28vMtz/wDHvJ/un+VdFY/8g62/65L/ACFctLBMIXJunI2njavP6V1Fh/yDbb/rkv8AIVEklT0d9S4tupqraFXX9HXXdIksnl8ksyssm3dtIPpke4rO1Dwil94Zs9IF15ZtSCJvLzuIBB4zxnOetdHRTp4irTSUXs7r1FUw1Ko25rdWfoYWq6PP/Zemx6aFkk02aORI3O0SBBjGexNTeH7C5s4bya+VY57y5acxq24Rg4AXPc8Vr0UnXm6fI/66gsPBVPaL/gdvyCiiisDoCiiigArza18xxYwpM8StE7NsC84xjqD616TXmemyM91Yq0MiAQyYZiuDyvoc05ylChUlF2djswvxMnfynV42u71lyUbbb5HoeQlQlnju4EhuL77MI2Dn7N0I27f4M/3q0LX/AFT/APXWT/0M1PW9LBOUFJ1Zarv/AMA86pmlWM3FRWj8/wDMzkmikQOl5fFTyCLbr/5DqJMRSQxRXF8LdYyD/o3QjbtH3PTNXdP/AOQfD/u1Zq1gHv7Wf3/8Al5rVv8ACvx/zM5JopEDpeXzKehFt1/8h1saRrn2WdY7q6u5LZYSqh7Q/KQRj7qA9M1n6d/yD4f92rNOOAV1KVST9X/wCKmZVJqzivx/zNvTdLjOtTa5DcmSO9hG2MxFcDC4OSc9umB1qCDwt9kuNQNpd7La+jZGtzH90kHBBz2ye3StPRv+QHY/9cE/9BFWZ42lt5I0do2dCodTgqSOorx3gMM3Zx6t7vd7/f22PSWLrpXT6JdOm3/DmPpFlfC/S41CBIPs9oLVAsm/zOQS3sOBxW5XHaP4kmi8HX82pSE3lgzxMW5LMfu5/E4/CtnQZJLbw5aS6tdkzTKHZ53xy3IHPtjiu+OXvCQcb3s7eb/pWOH6/HFSTStdX9P6dzYooByMjkUVBsFFFFABWbca/p1rdSW80sokjIDhbeRgDgHqFx0IrSrjdS/5Dd9/11X/ANAWqirs6cNRVafKzc/4SbS/+es3/gLL/wDE1B/b2gTkvtLksQWNlIckHB/g9RWFVey/492/67S/+htWnIj0FgYJ6SZ0kmsaG8JjUyxAkHMdpIpBHQ/dp1p4h0eKEiGe4cF23M1tKSWzg5+X2rBqvZf8e7f9dpf/AENqORDeDi/dcmdZ/wAJNpf/AD1m/wDAWX/4mtC0u4b21W4tmLRtkAspU8HB4IB6iuLrqPD/APyBIf8Afk/9DaolFI48Tho0YppmlRRRUHCFFFFABRRRQAUUUUAFFFMWeJ4y6SoyL1YMCB+NA7MfRTBNEYjIJEMY6uGGPzpkt7awxq81xEiN91mcAH6UDUZN2SJqKbHIksYeJ1dG6MpyDTqCdgooooAKKKKACiiigAooooAKKKKACiiigAooooAKKKKACiiigAooooAKKKKACiiigAooooAKKKKACiiigAooooAKKKKACiiigAooooAKKKKACiiigAooooAKKKKACiiigDM8Q/8AIFk/66R/+hrWNef8eM//AFzb+VbPiIbtDlGSMvHyP99a566s8Wcx+0XBwh4MntVVUnh3d9/yR00kny3fX/IQWSGyDebN9wHAkOOlWLH/AI8Yf90UIMaeo/6Zf0qG0ti1pE3nzLlegYYH6U8PThHD6abfkcdepN1++/5lx/8AVt9DUNj/AMeMP+6Ka9qQjf6TP0/vD/Co7S2LWkTefMuV6BhgfpW6jH2b97qv1MHKXtF7vR/oXH/1bfQ1DY/8eMP+6Ka9qQjf6TP0/vD/AAqO0ti1pE3nzLlegYYH6UKMfZv3uq/UHKXtF7vR/oWp/wDj3k/3T/Kuisf+Qdbf9cl/kK5aW1Ihc/aJjhTwWHp9K6iw/wCQbbf9cl/kKiSSp6O+pcW3U1VtCxRRRWBuFFFFABRRRQAUUUUAFeaW0KzS6erlwPJk+47L/d9CK9Lrz6KwvbG8sUvbR4cRSDcXQgnK+hNTVklh6nodeFa5rMbbXUUEbR7Lg7ZZBnynb+M98HNTfb4v+edx/wCA7/4U61/1T/8AXWT/ANDNT17NC/so+i/I+brW9rL1Zm2F7GLCEbLj7v8Azwc/0qz9ui/553H/AIDv/hRp/wDyD4f92rNaq9jN2uZun3sY0+EbJ/u9oHP9Ks/bov8Anncf+A7/AOFGnf8AIPh/3as0K9gdrnTaId2g2JGebdOox/CKvVS0b/kB2P8A1wT/ANBFXa8R7nuLY8+1vw9fv4oltLSGRtP1OaOaeRVO1ME7snoOpP4it7XY7I65YJqwiFitvNtE2Agf5fXvjOK6Oo57aC6jCXMMcyA5CyIGGfXmu54yUnHm6K2m+1r+uxwLBRip8v2mnrtve3pe5n+GfN/4RfT/AD87/IXr1xjj9MVqUdOlFcdSXPNy7nbTjyQUewUUUVBYVw+q3KR69fqyyk+av3YmYf6te4FdxXG6l/yG77/rqv8A6AtXDc78D/FfoZ/2yP8AuT/9+H/wqCzvIxA3yTf62T/lg/8Afb2q/Vey/wCPdv8ArtL/AOhtWx7Gtw+2R/3J/wDvw/8AhUFneRiBvkm/1sn/ACwf++3tV+q9l/x7t/12l/8AQ2oDW4fbI/7k/wD34f8AwrrvDjh9BhYAgFpPvAg/6xuxrma6jw//AMgSH/fk/wDQ2rOex5+PvyI0qKKKyPICiiigAooooAKKKKACuPUtplnrWnng7h5S/wB4Px/LFdhWFqmizXmu2t1Ft8pSvnAtjO05/lVxfc7sHUjGTjN6PX5p3/4BmOGtNCvdLVsyfa1iT3DYI/kavGCysdaji1Db5EdqqQNMPlyD83XjNS3GjTS+KI7wbfs2Vdxu53KCBx+VbckaSrtlRXX0YZFNyNquJikrO/Mru3d2/wAvxMzQQv2e5MAxbG4YwccbeOntnNatAAAAAwB0AoqG7s8+pPnm5BRRRSMwooooAKKKKACiiigAooooAKKKKACiiigAooooAKKKKACiiigAooooAKKKKACiiigAooooAKKKKACiiigAooooAKKKKACiiigAooooAKKKKACiiigAooooAKKKKAMzxD/yBZP+ukf/AKGtY15/x4z/APXNv5V011axXtu0FwpaNiCQCR0ORyPpWXf6DYR6dcuqS7liYjM7nt9aKri6DT8/yOik4txT7/5GKLNTZBvNmHyA4Epx0qex/wCPGH/dFKBtscDoI8fpUFpbFrSJvPmXK9AwwP0q8PThHD6abfkcdepN1++/5lx/9W30NQ2P/HjD/uimvakI3+kz9P7w/wAKjtLYtaRN58y5XoGGB+lbqMfZv3uq/Uxcpe0Xu9H+hcf/AFbfQ1DY/wDHjD/uimvakI3+kz9P7w/wqO0ti1pE3nzLlegYYH6UKMfZv3uq/UHKXtF7vR/oWp/+PeT/AHT/ACrorH/kHW3/AFyX+QrlpbUiFz9omOFPBYen0rqLD/kG23/XJf5CokkqejvqXFt1NVbQsUUUVgbhRRRQAUUUUAFFFFABVS90y11Fozdo7GLOwpKyYzjP3SPQVbopNJqzGm1qjjPsU1tJNFHaXOxZpNh8t3yu8kc854pfJuP+fS5/78P/AIV2VFdccVOKSSRySwsJNttnDWdrdRWcSPZ3QZVwR5Df4VP5Nx/z6XP/AH4f/Cuyop/W59kL6pDuzhrO1uorOJHs7oMq4I8hv8Kn8m4/59Ln/vw/+FdlRR9bn2QfVId2VNJR4tHs0kUo6woGVhgg4HFW6KK5Nzr2CiiigAooooAKKKKACuR1K1uTrF4y207K8gKssTMCNijqB7V11FNOxtRrSpS5onE/Zrn/AJ9Ln/vw/wDhUNrZXccLB7O5BMkjf6huhckdvQ13lFVzs6fr9Xsv6+ZxP2a5/wCfS5/78P8A4VDa2V3HCwezuQTJI3+oboXJHb0Nd5RRzsPr9Xsv6+ZxP2a5/wCfS5/78P8A4V02hRvFo8SSo0bbnO1hgjLkjitCik5NmNbEzrJKQUUUVJzBRRRQAUUUUAFFFFABRWT4gJ8i1AJAa4AODjI2tWLcKFltwpYBpMH5jyMGqSN40oytd736dvmdhRXIyoBPAAWAZiD8x5+U0SoBPAAWAZiD8x5+U0WBU4O2r1Te3a/n5HXUVztgoTVrbaSMls/MeflNdFSM5RSs11CiiikQFFFFABRRRQAUUUUAFFFFABRRRQAUUUUAFFFFABRRRQAUUUUAFFFFABRRRQAUUUUAFFFFABRRRQAUUUUAFFFFABRRRQAUUUUAFFFFABRRRQAUUUUAFFFFABRRRQAUyaJZ4Xik+66lWx6Gn0Umk1ZjTs7oyZ9EtI7WQqZvlQkfvT6VkWP/AB4w/wC6K6uVPNheMnAZSufTNYqeGgiBVv5wBwAAK1pQpRpuK01MqsqjqKW+hUf/AFbfQ1DY/wDHjD/uitI+HMjB1C4/SkTw0EQKt/OAOAABWtqfJy834MyvU5+bl/FFR/8AVt9DUNj/AMeMP+6K0j4cyMHULj9KRPDQRAq384A4AAFFqfJy834ML1Ofm5fxRSn/AOPeT/dP8q6Kx/5B1t/1yX+QrLPhvcpBv7ggjB4FbEEQgt44gSwjQLk98DFRLlUbJ3LjzOd2rD6KKKxNgooooAKKKKACiiigAooooAKKKKACiiigAooooAKKKKACiiigAooooAKKKKACiiigAooooAKKKKACiiigAooooAKKKKACiiigAooooAx/ESh7e0DDINwP/QGrEubeIS22E6y4PP8AsmtvxEoe3tAwyDcD/wBAasS5t4hLbYTrLg8/7Jq0ehRlZRXM1o/18x01vEJ4AE6sc8/7Jomt4hPAAnVjnn/ZNE1vEJ4AE6sc8/7Jomt4hPAAnVjnn/ZNAKp8PvvZ/r5l2whjj1e1KLg5b/0E10lc3YQxx6valFwct/6Ca6SpZzVXdRd76dfVhRRRSMAooooAKKKKACiiigAooooAKKKKACiiigAooooAKKKKACiiigAooooAKKKKACiiigAooooAKKKKACiiigAooooAKKKKACiiigAooooAKKKKACiiigAooooAKKKKACiiigAooooAKrX2o2emQrLqFzFbRs20PK20E9cfoas1zfj+x+3eCr0AZeACZeOm05P6ZrWjCM6sYS2bNqMIzqxhLZs27jUbO0nghurmKKS5bbCjsAZDxwPXqPzofUbOLUI7GS5iW7lXckJb5mHPIH4H8q8l1q6n1xY7+GRt2laVbygg/dlLrk/kSfwrp9CuE1n4jahq5I+z2dlGqN2UsoPX/vuvQngFCnzyeyd/XS333PQngFCnzyeyd/XS333O8JwMngVk2HinRtT1BrKxvklnGcLtID467SRhvwzVS51OPxLoGtW2iszSRI8Cv2kYpn5fbnGa5nVdZtdQtfDumWMDRSxXEDO7Ls+ysvylTkcHn8axo4XnupJ3/LS93/SMKOE57qSd/wAtL3f9I9HooorgOAKKKKACiiigAooooAKKKKACiiigAooooAKKKKACiiigAooooAKKKKACiiigAooooAKKKKACiiigAooooAKKKKACiiigAooooAKKKKAMfxEoe3tAwyDcD/0BqxLm3iEtthOsuDz/ALJrb8RKHt7QMMg3A/8AQGrEubeIS22E6y4PP+yatHoUZWUVzNaP9fMdNbxCeABOrHPP+yaJreITwAJ1Y55/2TRNbxCeABOrHPP+yaJreITwAJ1Y55/2TQCqfD772f6+ZdsIY49XtSi4OW/9BNdJXN2EMcer2pRcHLf+gmukqWc1V3UXe+nX1YUUUUjAKKKKACiiigAooooAKKKKACiiigAooooAKKrXmoWtgitdShNzogHUku4ReBz95gM0txf2trYSXtxOiW0alnlzlQB1PFAFiiiigAoqveX1vYLC10+wTTJAnyk5djhRx70Wd9b36zNavvEMzwP8pGHU4Yc+9AFiiiigAooooAKKqwala3OpXdhDJuubMIZ02kbQ4JXnoc4PSrVABRRRQAUVHLcQwvGs0scbStsjDsAXbBOB6nAJx7VFaahbX011FbSb3tJfJmG0ja+0Njnrww6UAWaKKKACiq9zf21pb3M08yhbWMyzAclFAJyQOegP5U+0uor2zhurZt8M8ayRtgjKsMg4PsaAJaKKKACiq17qVnp0e++uEhXY75Y/wqMsfwFVrvxHo9hNFFeajBDJKodVdsYU8Bj/AHQTxk4oA0qKKKACiiigAooooAKKKKACiiigAorL8RqH0OVWGQXjB/77WsH+ybH/AJ4D/vo/41rGMOW8n+H/AATRRhy3k/w/4KOyorhbzTbSK3DRw4O9RncehYD1qx/ZNj/zwH/fR/xquSna/M/u/wCCVy07Xu/u/wCCdlTXRZY2jkAZGBVlPQg9q4bUNOtYbMvFFtbcozuPqKs/2TY/88B/30f8afJTSUuZ/d/wR8tNRUuZ/d/wRdD8BLpWlaxZy3QlOop5SsF/1a4OPx5/StPwh4b/AOEZ0h7WSVZ5pJTI8ijGeAAPwArGuNNtIVR44dreagzuPdhXZ3EP2i1lh3tH5iFd6HDLkdQfWtcRias4N81+bytqkdFbETqR1ldSeunaxk6HZXFrqmtS3ERRLi7EkRJHzLsUZ/MVtYz1rhRqd2PBclsbiT7at59l37zvzu3devqKLrVbqbwjp9vDcSLeyXP2d2DndkE9+vdfzr5qpndOb5nHXlT/ACXL6nTPAVKkrtrfl+SW/pod1RTE2RLHEX+bGF3Ny2B+tcOt7NLq15Y3c81vYS6jIr3Csev8Mef4RxXTi8bHDcqau5afPz/zOLD4V1+aztY7uikVQiBVGAowBS13nIFFFFABRRRQAUUUUAFFFFABRRTZGKxsyjcwBIHrQBk6j4s0PSbk29/qMUcw6oAXK/XaDj8a0LG/tNTtVubC4juIW6OhyPp7H2rkPh3b2beHLjVbxYjc3E8jXE0oHGD0JPQd/wAaqeG57bTfiF4gjtG/4lxhE/7kF1ydp4C5/vt0r0p4Wn78IX5ofc+j/wCBuenPC0/fhC/ND7n0/wCG3PQqKzNB1uLXrOa5gheJI53hAk4J298duvStOvPnCUJOMt0edOEoScZboKKKKkkKKKKACiiigAooooAKKKKACiiigAooooAKKKKACiiigAooooAKKKKAMfxGiyW1or8g3Azg4/hasK4s4VltwFb5pMH5z6H3rd8RosltaK/INwM4OP4WrCuLOFZbcBW+aTB+c+h960R6NGfKorma0e3z80OlsoBPAArYZjn52/un3olsoBPAArYZjn52/un3olsoBPAArYZjn52/un3olsoBPAArYZjn52/un3ouUqu37yWz/XzLunW0UOsWrRgg5bqxP8J9a6auZ062ih1i1aMEHLdWJ/hPrXTVLOStLm5XdvTr6vzYUUUVJzhRRRQAUUUUAFFFFABRRRQAUUUUAFFFFAGJ4k8LWXie3jivPkMbFhIsaluhxyR0DENjvjB4qv4tsxD8O9TtLSIfLaMqpFGBk+yjj8q6OimBwHiTRzqF54qupWvfMs7KOWyEU0iKsojZtwCkAnKgd/1rZ8QXsy+AlmmtmuZJ44VlXc8YXeVDMxT5gBkk45rpqiuLmC0i826mjhj3Bd8jBRknAGT3JIFFxHm2lRXKwSWyK72sWvWclvtSTYFIUsV35bbnPt1Peuw8Lxyx2uq5QqzapdMocEZy5wfpW9RRcLHlXh+zv1E1zcXmzUGsrgXtvicyyOVJ+YMdgIboVxkdM1d0zSrzSrbQr3SBdNqV9o8pn8+V3V5vKRkDBjhcNx244r0ZJEkz5bq+1ip2nOCOo+tOouFjzFLeNPBEraG2onWZIoP7VJaYzAbh52A3Rvvfd5x0qK+hmhsNXh8MHUjojPaeYymUso3nzvKLfMRt25xnvXqdFFwseS3Nnc28XiceFVvhaSmxCORKW8n5/M2E/OVHPTnGccU86fdx6PHBZalJLbT61ahEszN/oytkOAz5OO/XANerk4GTUcE8N1bxz20qTQyKGSSNgysD0II6incLHn3iLTrbS9esPsitfRwJFCunvLOJIxvzviYHDE553Z+717Vs+N4nmu9FjuvtP9jG4c6gbcuONh8vcU527uvbpXWUUrgeRyacZrfRptYhvn0q31i5jhkmMu5bQr+7LfxAZ6E84x2rRv8ARN58S6ui3a3ttqcb2jRyOoGFiyQoOGzkg5B6e1ejrcQvcSQJKjTRqrPGGG5Q2cEjtnBx9DUlO4WPM7201K48b3Ut7drZXMd/F9iZvPJMA24CBTsIb5g2R1Jzjiuj8O6Skmvarql39oa4iv5YrffKwRIyF6LnBySecGuluLiG1t3nupUhhjGXkkYKqj1JPSi4uIbW3ee6lSGGMZeSRgqqPUk9KVwOA1bT7KPX/FTywzfbp7Bms+ZCJM27h8fwn0x27VS06zn8OT6Rc2UN9P8AaNAllu4PMkbzZFRWVcHO054AHToK9NSaKSSSNJEZ4yA6hgSmRkZHbin0XCx49Zm9jh1hbBZY7a58PSTGOEzsqzhgAN0nJcBucY/Suv0nR/7F8bWf2WS8eO70yRrpp5nkDyq8eGO4nDHc3+FdlRRcLHlXjfSNU1jxfPBBZM8ZiiQOL+VUYSOq/dA2rxG2QOMHccnAp2o2M+ljxJZ3VncNNqelW8NkqCS43yBGVkDkZJDEHnBxzXqdFFwsZ2i3Mb2S2Xmb7mxjjhuRg4V9inGehOCDx61o1FDbQ25lMEaoZXMkhA+8xwMn8hUtIYUUUUAFFFFABRRRQAUUUUAZniE40WTP9+P/ANDWsO7mi+xzYkTPlt/EPStzxEobQ5QwyC8YI/4Gtc9dafaLZzFYEBCEg49qqpy/V3zef5I6qXJ7vN3/AMhI9NtpbeMurHKg/fNF1YW8VpK6hgVQkEufSrKfLYLt4xEMe3FQQ232myUzTSsJF+YbuDXLHBUJ0b2S+XkZyxlWNblu3138xqaZazWyb1Y7lBPzmi6sLeK0ldQwKoSCXPpU32QRxYSaYBRwN/So4bb7TZKZppWEi/MN3Bq3gMO6TVl226krG11USbdt9xsOm201tEzhiSqt989etSXNuiWzspfIHHzmnfZBHFhJpgFXAAfpUcFv59ojSzSneuSN1KWX0HRaVr7bdbAsbWVVXvbffoRjRLk+N1Agl+wvKl0ZNh27lUnr0+8SPxqTTdIuV8bzGa3kFpBLLcRuyEIWbHQ9D2/KrUj3CQsVvbn5VOP3ldHZMXsLdnJZjEpJPUnFef8A2LRhaalf3+b9bel9Tr/tSrK8HG3u2/4PqZF1aRw+MdOnQuXmWbduckDCjGB269qvNolg9vdQPBuju5DLKCx5Y9x6fhWdqepzWHjDTIJin2O6RkUsgysnsevOVFU9H8R3l74xurGZlNkGljgwoGWQjPPfg/rXq08q0nUaTT975NKLXro7nm1MzSlGndpr3fnun6aqx1UUawwpGmdqKFGTk4Hv3p1c/wCFdWvNZ/tC5uWU2y3Bjt8KB8oyevfgirOvXl5p7WFzbvi2Fysd0u0H5GOM56jB9PWuh4eUKvsdL/8AA2/QyWJjKl7bW3/B3/X0NeisnQ7+fU5b+4dv9GW4MVuuB91Rgtnvk5rWrOpB05cr3Nac1UjzLYKKKKgsKKK52LxYZolkTT22tyMyj/CqjGUtkVGMpbI6Kiudk8VNFE8h09iFUsf3w7fhRH4qaSJXGnsAwBH74f4VfsqnYr2U+x0VFc//AMJO/wD0D2/7/D/CmQeLGnt45V09gJFDAGYdxn0o9jU7B7KfYz7rwPd291eSaBqq2tvfE+fazwCWM564B4/T8aseD/CM/ha9vB9oiuLaeNMPs2ybxnI9h/j7Vb/4Sd/+ge3/AH+H+FbltN9ptYpwu0SIHwe2RmumpicR7N057PyXTzOqpisRyOnPZ+S1t5mL4WtJNPj1C3ujGJpL6acIsgY7GIIJA6VtC4haYwrNGZR1QMNw/CuC1HVptH8Y6tNbReZK8QRcjIXhSWP0xXR+GdOtLawGpCb7RcXSb5rhj68kD0Gev0r5ynmssZiZU1FXTd/ROyt3b/A6MVheWHt5v4krerV/uX4m9RVWy1K01Ey/YphMIW2Oy9M+x7/hVqvThOM480XdHlyjKLtJWYUUUVRIUUUUAFFFFABWfcX13DM4SxLxr0ffjIrQrJ1K7M9yLCF1QN/rXJxgelNbm9CPNKzVyzpt+1+kjGHywpABznNXaqRqsFn5eneXIU7Fv1OKfYzPPYxSycsy5OBQxVIptyirIsUUUUjEKKKKACiiigAooooAKKKKAMfxGiyW1or8g3Azg4/hasK4s4VltwFb5pMH5z6H3rd8RqHt7RWzg3A6Ej+BvSsO5to1ltwDJzJg5kY/wn3rRHo0ZuKiuZrR7fPzFlsoBPAArYZjn52/un3olsoBPAArYZjn52/un3pZbaMTwAGTljn96390+9EttGJ4ADJyxz+9b+6fei4KtL3ffez/AF8y5p1tFDrFq0YIOW6sT/CfWumrmtPgSPWLUqXzlvvOT/CfU10tSzlrScuVtt6dfVhRRRUmAUUUUAFFFFAFW9s4rtVM0skYjycowH5/lWXptqZNSMsDym2iPys5++auayt1LCkNtGzo3+s2/wAqSxnuY/Kt/wCz2iiHG4tnHv0q1sd0HKNF2e/poadFFFQcIUUUUAFFFFAHIeMNY1bRtUszZSn7NfQS2kS7FIS6ODE2cZyeeOnFY0niPxFDBqmy581tEs5I7hjEn7yYzMqORjtEu/AwORmvQ57aC58v7TDHL5TiSPzEDbHHRhnoR60JaW8ckzx28SPcHMzKgBkOMZb1445p3Ec94SvtTuri8W+nNxaqkbQSSTwSSAnduB8nA28Ajj1rnPEOoTX1pfm71co8OtQ28em4jAKLNHtPTfk/eznGO1d9YaVp+lq66ZY21msh3OLeJUDH1OBzSS6Ppk9211Pp1rLcOFDTPApdgCCASRnggH8BRcDj9Q8QajbyX93FqZ+122ppaw6OFjxNGXRemN5LKxYEHHtjNF9q2sW9pqWqpqkmyx1hbVLTyo/LeIyIpDHbuz855BHQV2babYvqCX72Vu14g2pcGJTIo6YDYzSvp1lJDJFJZ27RyyebIjRKQ75B3EY5OQDn2FFwOU1OwTS/FGhxQ6pcWVvNJdzP80eGkY7zksp5O4j6DjFauvz3p1vRrCyvZLOO8eYTPEiMxCx7hjcCByPSta80+z1BES/tILpY3EiCaMOFYdCM9D71I9vDJNHLJEjyRZ8t2UFkyMHB7ZFFwPPZPE2srZ21o11ISNUu7KW7QwxySLETsGXHlhj9OdvFS3Ova8ltottczNFJcJcNLPbTWwaQo4CDe+Y87TkgdwcYANdtLpOnTWsttNYWr280hkliaFSruTksRjBJPOetNl0XS59OSwm060ks48bLdoFMa49FxgdTRdAcomranPPp9rq2sR6Wf7MNzJLCYSs8ofafmYMpAGCQuPvdam0/ULrSvg3a32nw+dcwaWjxrjPO0c4746/hXTS6Rps0dtHNp9rIlqQbdWhUiEjptGPl/CrMMEVvAkNvEkUSLtSNFCqo9AB0FFwOAGua9BoOrXK3xlSO1ikt5ppLeV1kLYPEXG0jGMj15qxqMut2lxr8MXiC7K6bpyXsLNDBuZyJPlb93jb+76DB5611cGg6RawzxW2l2UUdxjzkS3QCTHTcAOfxqy9laytM0ltC5uIxFMWjB8xBn5W9R8x4PqfWi4HBX+oPHrms3o1n+y5xo9tcIqiPErASnBDg5AJxgYPzdaNU8Ra/JqEkVq5s5YrCCeKIyQRozuCWL+b8xXI2/KRjB74rtp9F0u6ZGutNtJmQqUMkCsV2/dxkcYycemaW+0jTtTeJ9RsLW7aE5jM8KuU+mRx0FFwOE8W6lcXdj4mhvNV+xC0WOKGwxHiZWRWLHILHJYgbSMbfrTvGOoTXNr4nguNXNolmsccFliMCZWRWLHI3HJYgYIxt+td1c6Tp15c/aLzT7WebyzF5ksKs2w9VyR05PHvSXOkabe3IuLzT7W4nCGMSSwqzBDnK5I6cnj3NFwOW1bU7+2vNdWxnW3kW+sIY5BEhIEhjVs5HzcMeucdqZf6tqmlQ63btqcs6WU9mRcyJEJUjlYBwMKEJ64yO9dg9hZyNI0lpA7SOjuWjBLsuNpPqRgYPbFZ3iDw+ms2EkVuYbeeSSOSR5IBIk2zosi8b19iaLgVfC9/M9ncT6lqRmjnvDFZfaJItxTA2r8mBuJ3HHXGK6OsDw/4Vt9HhmNwlpNNNOLjEFqsMUTKu0FEydpxnnOTk1v0MYUUUUgCiiigAooooAKKKKACiiigAooooAzPEJxosmf78f/oa1h3c0RspgJE/1bfxD0rc8RKG0OUMMgvGCP8Aga1z11p9otnMVgQEISDj2qqnL9XfN5/kjqpcnu83f/IaNPt2sg5D52BvvnrjNWbH/jxh/wB0UIMaeoH/ADy/pUNpbb7SJvOmGV6B8AUYelTjh9NNunkcWIqVJV9dd/zRcf8A1bfQ1DY/8eMP+6Ka9phG/fz9P79R2ltvtIm86YZXoHwBXQow9m9eq/Uwcp+0WnR/oXH/ANW30NQ2P/HjD/uimvaYRv38/T+/Udpbb7SJvOmGV6B8AUKMPZvXqv1Byn7RadH+han/AOPeT/dP8q6Kx/5B1t/1yX+QrlpbXELnz5jhTwX9q6iw/wCQbbf9cl/kKiSSp6PqXFt1NV0Of8ewsNHt7+IZksbhJAfQZx/PFc/eLNpPhPR9YhXFwZpJJG9fNB/oBXpFFdNHGunTjBxuk/vTW34nLWwKq1JVFKza+5p7/gjn9N06Wz8E28FvO9pKsHmOyKCckFiOQe5/SpdJtl1XwTbW927sLi2Cu+fm5HXJ71tOgkRkcZVhgj1FR21tFZ20dvbJsijXaig9BWEq7km+rd/zN44dRaXRK35EenWEOl6fDZ2wPlxLgFupPUk+5PNWaKK55Scm29zpjFRSitkFFFFIYV5taL5jWMbM4QxOSFcrkjbjp9a9JrzPTXka6sQ8QVRDJht2c8rRUk44eo1vY7ML8TLZSGRXUW906ZZCfP4OCQer+1QNbuL2AxW90tusbh1+0d/l2/x+xq7a/wCqf/rrJ/6GanrejgIyhGTnLVdzzauZ1ozcUlo+xRiMU0SyJbXe1hkfv/8A7OmC32TxCO1ulgWNlKifvldv8foDVjT/APkHw/7tWatZdDfnl95DzSvfZfd/wSjEYpolkS2u9rDI/f8A/wBnWppWpPZXQ8yK8MAiKBGlDgHIxgF/QGqGnf8AIPh/3as04ZfTTUuaT9WRUzKrNcrS+40NL06W48RXeryRr9ivrYBAxG4gheCPwNO0PR77RdTurddkmlTEsmWyyH6fp+ArV0b/AJAdj/1wT/0EVZuBK1rKLdgsxQ+WxGQGxx+teNHL6MailG6ak3f13Xoes8ZVcGnqmkvu2+Zk6BaSWt5qu6AwxvdFo/lwCuOo9q2q5rRvEpufCVxqF8QLi0DrMNuMsORx75A+taPhye9u9Bt7rUnDzzr5nyqFAU9Ontz+NehDAywlNwe0W1993ocLxscTNSX2lf7rLX+u5qUUUVJoFFFFABWVceILe2u5bdoZ2aJgrFQuM4B7n3rVrjdS/wCQ3ff9dV/9AWqirs6sNSjVnyyNn/hJbb/n2ufyT/4qqJ1TR7tnmawuWYuwY5AyQcH+P2rMqvZf8e7f9dpf/Q2rTkSPRjg4Rfutr5nRW2s6daBhb2dym/r905/NqLLxHZx2ixxQXTLGSmSqZ4JB/i9RWLVey/492/67S/8AobUciB4ODerZ1P8Awktt/wA+1z+Sf/FVpWV2l9aLcRKyqxIAcDIwSO30rjK6jw//AMgSH/fk/wDQ2qJRSOPFYeFGKcTSoooqDgCiiigAooooAKKKKAMfxGoe3tFbODcDoSP4G9Kw7m2jWW3AMnMmDmRj/CfetzxGoe3tFbODcDoSP4G9Kw7m2jWW3AMnMmDmRj/CfetEehRlZRV2tH+vmOltoxPAAZOWOf3rf3T70S20YngAMnLHP71v7p96JbaMTwAGTljn96390+9EttGJ4ADJyxz+9b+6fei4RqfD7z2f6+Zd0+BI9YtSpfOW+85P8J9TXS1zWnwJHrFqVL5y33nJ/hPqa6WpZy1XdRd76dfVhRRRUmJSudXsrS4ME8xWQAEqI2bAPToKi/t/Tf8Anu//AH5f/CsHWv8AkY7n/rlH/wCzVVrRQTVz06WCjUgpN7nTv4i0uNSz3DKo6kwv/hS/2/pv/Pd/+/L/AOFcZqf/ACDpfoP5irdPkRf1CN/iOo/t/Tf+e7/9+X/wpF8Q6Y2dtwxwcHEL9fyrmKgtPuy/9dW/nRyIf1CP8x1/9v6b/wA93/78v/hSHxDpgYKbhsnoPJfn9K5ioJf+P6D/AHX/AKUciD6hH+Y6/wDt/Tf+e7/9+X/woPiDTVUkzsAOSfJf/CuXqO4/49Zf9w/yo5EDwEbfEd8DkZFFIn+rX6CisjyDk/FOs3fh7X7S+MrnTpbK4jaL+ETIpkQ49SFYfhWPpuuarZ2unaLrN7I2rRXxe6fqWgSETtyOo+YJXbavotlrltFBqMZeOKZZlAbHzL0/Dkg+xqJvDunP4iOtvCWvDbm3OTlSp6/L644z6U7oRheHfH39v6ra2405o4bxHeGRWZjHtGcSZQKCRyNrN6Ve1HxPNY+K7fSWgtoY59nlzXUzp55Y4IjIQqWHoSCcj61e0vw9a6OyCxnu0t4wRHatOWijB7AH9MnijUfD1rqtwr301zJCHSQ23mkRFlIKnH1APWjQNTIs/EepRWut3uqLp8dpZXUkUTyXLIAVKgKx8vgc9eTk4xUNv48kls7o/wBnCW6try3tjHDIQsvnEbCpdVPfuB9cVq3PhHTrr7YHkuljvJRO8STkKsoZW8xfRsqKWHwlpsUsspa4llmuILmWSWYszyRHKEk/Tp0o0DUoxazr7eOLXSri2sooWsGuZkS4ZsfvQuQ2wZIHbgHJ54FX9R125i8RQ6LpdnHc3Rtjdy+dMYlSINtGCFbLE9sY461budFtbnWbfVC0sV3AhjDxOV3oSDsYdxkA03UNCtNRvob12nguokMQmt5TGzRk5KEjqMgH2PTFGgHNaBrk8el6O11588z6ZdXDNJcHko6cMOcnng9ufWpbjxte2um2Fzc6bbwtqgDWqtcO21Nm4tJtjJB5XAUHryRW3B4Y022htooUkCW1tLaxguTiOQgsPc/KOafP4esp7Gxtg08JsFC200MpWSMBdv3h1yOCDwaNA1Mq28W3epwafHpemx/brxJpGjupmjjiWJgrHdsJOSwx8o4OTimf2xrU3iLWLGWK2itrWwjkPlzsWRmWQ5U7BnlQOowACOpFa1x4dtrmO1L3V4txahxHdJORLhvvAnuDgcY7ClPh60OoG8ElwJXthbS4lOJkAIG8dyNx596NA1MHTvFkun+Ho/7RgMjxaNBewSeaWa6JUKwORw28qO+d4NbWra5No8elyXNqpju7hLe4cScW7OOD05G7jt1FZV/4YlvtX0O1ithDpejbf3zzZadVC7Y9o7bkUnd/dFdFq2l22taXNYXysYJsbtjbSCCCCD2IIBo0A5my8dy3stjbHTPLub24wsZm+7b+SJRLnHXBA2+ueaZomv6rfXehRWUMRtLnSzcyrc3LNJ/rEUndsJYgHjpncc4wK6KPw9p0WsLqccO24S1FouD8qpnsPXgDPoMVBD4VsLYab9kkuYG06LyYmjmILRkglG/vDKijQNTlfC/inU7PTdO/tG3+1Wt9qktkt090WlDl32/KR90Bcfe7dK6HxBq+q2XibQtP02O3aO+ebzPOkK7tkZOOFOB0OR1IxwKsR+EtLisbK0RZfKsr37dCPM5EuWPPqPmPFW9T0W11Wa0nnaWOezcvBNC5RkyMMM+hHBo0A5q11/U9PuNTmlt1udPj1n7M8kly3mRh2RBsTaRtBYcZHU8VM3jr/ipG0+KzDwJeCyZgz+ZuJALgBNu0E4OWzwTityTw/YyWlzbssnl3N2t5J8/PmBlYfhlBxSJoFvFqT3ltPdQebL50sMUxEcj8clffAzjGe9GgakOsa7PZ6tZaTptolzfXiPIvnSmONETGSSATnkAACoNO8Um/udOgayMEt1JcwzIZN3kyQnDAED5gT34rQ1PRLTVZoJ5jLFc227ybiCQpIgYYYAjsfQ1VPhPTVtLOC3Nxbmyd3iminYSbnzvJY5J3ZOc0aAZc3ibVru60pdKtbZRcX13bSJNOQHEIkA5CHAOzdx3AHTJp9z4xurSO8vJtNiGnWF99kuJRcnzOWVd6ptwQC4zkg9a0R4T05LG2toHuoPss8lxDLHOfMVn3bvmOc53nrVCw8IRyXV/JqvntHLqLXK24nJilA2lGZOmcjOPYZzRoGpPdeK2ttIv737IGNnqK2QTzMb8yIm7OOPv5x7VJoWparf6zrMd3HbfY7W9aCJllO9cRxkDbtAIO4nJOcnHQA0t14O0y7uJ5JXuhHcTrcvAtwwjMqkHft9flHtV620W3s9Wur+3lnRro75YfMPlM+Au7b2OFAo0A0KKKKQwooooAKKKKACiiigDM8Q/8gWT/AK6R/wDoa1jXhH2Kfn/lm38q2fEShtDlDDILxgj/AIGtc9dafaLZzFYEBCEg49qqry/V3fz/ACR00uX3bvr/AJALKJrIMTJnywf9Y3p9ansf+PGH/dFCDGnqB/zy/pUNpbb7SJvOmGV6B8AU8PTpxw+mm35HFXqTdfvv+Zcf/Vt9DUNj/wAeMP8AuimvaYRv38/T+/Udpbb7SJvOmGV6B8AVuow9m9eq/Uxcp+0WnR/oXH/1bfQ1DY/8eMP+6Ka9phG/fz9P79R2ltvtIm86YZXoHwBQow9m9eq/UHKftFp0f6Fqf/j3k/3T/Kuisf8AkHW3/XJf5CuWltcQufPmOFPBf2rqLD/kG23/AFyX+QqJJKno+pcW3U1XQsUUUVgbhRRRQAUUUUAFFFFABXmltCs0unq5cDyZD8jsv93uCK9LrgzpN3pl3YrdiLAikUGNyc/d9hU1ZJYep6HXhWlOzILaaSKJo0tJ5FWWQBt6nPznuWz+dTfapv8AnxuP++o//iqda/6p/wDrrJ/6Ganr2aF/ZR9F+R83Wt7WXqzOsLmUafCBZTn5eu6P/wCKqx9ql/58bj/vqP8A+Ko0/wD5B8P+7VmtUtDNvUzdPuZRp8IFlOfl6ho//iqs/aZf+fG4/wC+o/8A4qjTv+QfD/u1ZoS0BvU6bRDnQbEkFSbdOD2+UVeqlo3/ACA7H/rgn/oIq7XiPc9xbHmet2V1ba/eaHboRFq1xHMmOgXJLfr/AOg10/jNbiy8Ks+n3clqluFUpGMFhuUAbuox7V0ZijaRZGRS68BiOR+NRXtlb6jaPbXsQlhfG5CSM4OR09xXoPG806bktI7+ey/JHmrA8sKii9ZbeW7/ADZPRRRXnHphRRRQAVw+qzSJr1+FtpZB5q/MpXH+rX1YV3FcbqX/ACG77/rqv/oC1cNzvwP8V+hn/aZf+fKf/vpP/iqr2dxKIG/0OY/vZO6f32/2q0Kr2X/Hu3/XaX/0Nq2PYtruH2mX/nyn/wC+k/8Aiqr2dxKIG/0OY/vZO6f32/2q0Kr2X/Hu3/XaX/0NqAtruH2mX/nyn/76T/4quu8OMW0GAspQlpPlbGR+8b0rma6jw/8A8gSH/fk/9Das57Hn4/4EaVFFFZHkBRRRQAUUUUAFFFFAGP4iUPb2inODcDoSP4G9KxLm3RZbcAycy4OZGP8ACfetvxEoe3tFOcG4HQkfwN6ViXNuiy24Bk5lwcyMf4T71aO+lKyirtaP9fMdLbRieAZk5Y/8tW/un3oltoxPAMycsf8Alq390+9EttGJ4BmTlj/y1b+6feiW2jE8AzJyx/5at/dPvTuOM/h957P9fMuafCkesWpUvnLfedj/AAn1NdLXNafCkesWpUvnLfedj/CfU10tQzlqu6i730/VhRRRSMTi9euEi8SXAYSE+VH9yJm/vegqj9ti/uz/APgO/wDhWlrX/Ix3P/XKP/2aqtbx2PoMNf2MTN1K8iOnygLN0HWB/Ue1WvtsX92f/wAB3/wpmp/8g6X6D+Yq3VG+tyv9ti/uz/8AgO/+FQWt5EFl+Wf/AFrf8sH9fpV+oLT7sv8A11b+dAa3E+2xf3Z//Ad/8KgkvIvtsHyz/db/AJYP7e1X6gl/4/oP91/6UA7ifbYv7s//AIDv/hUdxexfZpfln+4f+WD+n0q5Udx/x6y/7h/lQDvY71P9Wv0FFCf6tfoKK5j5gzNZ8Q2ehtBHcrPPcXBIht7WIyyOFGWIUdgOprA1Lxy0t3oVv4fjeVdWLt9oe1eQIqZBXaCvzAjnn5RzWvrGiXNzrdjrGmTxR3dnHJF5c6kpIj4znHIIIBqhYeD57O+0O6kvUmksJLua4by9vmvPknaOwBNPQWpe1jxTFpHiHTdJaxu7iS+DsHhjLBAv8/f0HNUbHxvC2pz2OoQTqw1F7KOeO3byQd2EVn6bjx+Y6Vf1nRLq88QaRq1jPCkmn+arRzKSrrIADyOhGKryeGJn06e2FxGGl1ddQDbTwomWTb9cLijQNSz/AMJZp39t/wBm7bnd532f7R5DeR5uM+Xv6bvb14qxrGu22iiATxXNxNcEiKC1hMsj7RliFHYD+YrItfCP2TXZroQafcQy3rXglmibzomY7iAc4OG6HtVvxH4cOsXthexLbSyWYkTybpCY3V9ueRyCCowfrRoGoy48b6VCtoYY7y7a8tzcQx2ts0jsgODwOhHfPpT5/GWlxWVjcQrdXhv4zLDDa27SSbBjLFRyAMgH3pNO8ONZa5ZX6i2hjt7CS1NvboVUM0ivlc9uD+dULHwlqGkS2F5pt1bNeW9o9nKs6N5bo0nmAjHIIP55o0DUvX/jfSNOu2guBdHylRriSO3Zktd/3fMI+6faqHizx7baLZ6lFpyyT31kilnNu7wRu2Cquw4BI6c06+8JajM2sR2V/bxQa4qi73wktEdmxzHzzkevSq+p+B76e21yy07ULeKz1crI3mxFniZQBgEHBB2jntT0DU17/wAZ6Rp2qNY3DTlonSOeaOFmigZ/uh3HAJyKnsfE9hqOtXGmWi3Dz20jxzMITsjK+rdBnt64NY9x4IB16/vVh0+8hv5VldL2FmaIgAHaQeQcZ5xg1saBokmj3GrySSrJ9vv3ul2jGwMqjB9+KWgajJfFdhH4gfRkjupryNkWQRQF1jDAEMxHAXnqaoxeOLOPRbO7uI7i6kmtDdyfZLckJGDguQTwPxJ4NaNhosln4k1rU2lVk1IQBEA5Ty0KnP1zXDahpw0P+ztKvZISLLSzEzyLOqXe5zlB5XLY28q2fv8ASnoB0dx46istWmjurS7a0FjDdoIbZnkQMX3M+CQFAVfzPWtEeKoH8SR6TDZXcwkt451uY4iYwrk4JPYcdfwqC00m51CK71CaNbN9T0mG3+zEc27ASEg+w8wD8KfZ6Ffafq1jdW89u8cenxWVwrqwOEJO5ceu48GloGozV/Ff9jeJBZT209xAbL7QFtbdpZMhyCTjgKAO9Lc+OtFt7a0mja4uhd25uUW2gaRliHV2A+6B05qXUtI1R/EH9q6Tc2qN9i+ymO4jYj7+7dkHt6d6wYfhz9gXTmt5LS9a0sTZyRXsJ2SZcvvGDkHLEY54NGgamyPFluuo38ks0R0u306C8SZFJZhIXH45CrgYzk1La+MNOuRh4ry2lE8UDQ3NuY3UynCMQf4SeM1Sm8GtNHeIktvbLPY21vGsERCRSROzghc/dyRxnoKLvwrfamdSu9Qurdb+5t4oLcwo3lw+W5kVjk5J3kH2xRoGppp4p02Q3AR5Ga3vlsHATkyswUY9Rk9fY+lM1jxNHo+sWOntYXt092GIa3hLBQB+p9R2HNZGmeCJ9P1HSZmvkkhtY1a6QqczzqJcSZ+szH8BW3rGmXl1qWm3+nSwLLZNJlJwSrq64PTuMCjQNTL0/wAbQSalNY6hDOrjUpLKOeO3byQQ5CKz9NxAH59qtv4rt7WOQzpNcym+ltIYbSBmdigJPGecAEk8Uw+GZvsLQfaI8nWRqOdp+6JhJt+uBiorjwvNJYXVsYrC7W4v5bvFyrjy93QqV5DD1FGgamzca1aWegtq98ZLW1WISv50ZV0B7FeuecY9azI/HGkNp99dTC6tjYIsk8FxbtHIqMcKwU9Qadd+GZr7wKNButQd5xCi/a2Xcd6MGDYJ55UdTWXqfgvUNZj1efUL62F5f2kdnGIY2EcaK+7Jyckk/l70aBqatp4y0q5jvnl+02a2MInk+2QNETGc4dQeSDg1a0XxFaa5JPFbxXNvPbhTJDdQmJwrZ2tg9jg/lWf4h8Ir4hnvvOuPKiurBbUbVyyOsvmBvcZxxVrQNFfS5J5JrTToJJFVd1kjAsBn72frwO3NGgam3RRRSGFFFFABRRRQBmeITjRZCePnj/8AQ1rDu5ojZTYkT/Vt/EPSuslijnjMc8ayIequoIP4Gs/UNNsV0y5ZbK3BETEERLxwfairKPsJJ+f5G9JxvFPv/kc8LG2axDGME+WGzk9cVPY/8eMP+6KdgCxwOB5f9KrWlnG9pGxaQEr2cirw9OnHD6abbLyOSvUqSr99935l1/8AVt9DUNj/AMeMP+6KY9jGEY75en/PQ1HaWcb2kbFpASvZyK3UYezevVdPXzMXKp7RadH19PIuv/q2+hqGx/48Yf8AdFMexjCMd8vT/noajtLON7SNi0gJXs5FCjD2b16rp6+YOVT2i06Pr6eRbn/495P90/yrorH/AJB1t/1yX+QrlZbKNYXIeXhSeZDXU2HGm23/AFyX+QqJKKp+6+pcXJ1PeXQsUUUVgbhRRRQAUUUUAFFFFABUFzZWt5s+1W8c2zO3eoO3PXFT0Ubgcp/Y17FJKsNmfL81ym10A2liR39DS/2XqH/Pm/8A32n/AMVXVUV0rE1ErI5nhqbd2cfaaNqUNpHG9m25VwcSJ/8AFVN/Zeof8+b/APfaf/FV1VFH1qoL6rTOPtNG1KG0jjezbcowcSJ/8VU39l6h/wA+b/8Afaf/ABVdVRR9aqB9VplXTIXt9KtYZl2yRwqrDOcECrVFFcx1BRRRQAUUUUAFFFFABXMX+lX0mq3UsVsXjkcMrB1GRsUdz6g109FNOxrSqypS5onI/wBkaj/z6N/38T/4qorbQ9TiiKtZtkyO3EidCxI7+9dnRVc7Oj67VOR/sjUf+fRv+/if/FVFbaHqcURVrNsmR24kToWJHf3rs6KOdh9dqnI/2RqP/Po3/fxP/iq6DRreW10qKK4TZIGclcg4y5I6exq9RScmzKriJ1VaQUUUVJzhRRRQAUUUUAFFFFAGP4iUPb2inODcDoSP4G9KxLm3RZbcAycy4OZGP8J962/ESh7e0U5wbgdCR/A3pWJc26LLbgGTmXBzIx/hPvVo76UrKKu1o/18x0ttGJ4BmTlj/wAtW/un3oltoxPAMycsf+Wrf3T70S20YngGZOWP/LVv7p96JbaMTwDMnLH/AJat/dPvTuOM/h957P8AXzLmnwpHrFqVL5y33nY/wn1NdLXNafCkesWpUvnLfedj/CfU10tQzlqu6i730/VhRRRSMTj9dEyeIJ2FpdyI0UeHhtnkU4znlQRVHzJf+fDUP/AGX/4mu+oq1NpHbTxk4RUUloec3/2iWxkSPT9QZjjA+wy+v+7VjzJf+fDUP/AGX/4mu+oo52X9fqX2RwPmS/8APhqH/gDL/wDE1DbmdFk3afqAzIxH+gy9M/7teiUUc7D6/U7I4HzJf+fDUP8AwBl/+JqGQzm6hYafqG1Q2T9hl46f7NeiUUc7D6/U7I4HzJf+fDUP/AGX/wCJpkzTNbyKthqBJUgD7DL6f7teg0Uc7D6/U7IRPuL9KKWioPPCiiigAooooAKKKKACiiigAooooAKKKKACiiigAooooAKKKKACiiigAooooAKKKKACiiigAooooAKKKKACiiigAooooAKbJGssbRyDcrAhh6inUUPXRhsZ1xpNilrKVtlBVCRyfSsOx/48Yf8AdFdXIgkjZG6MCDisoeGrJQAHuAB2Epq6UaUYOK016IzqurKalvp1Znv/AKtvoahsf+PGH/dFa/8Awjdl/fuP+/ppB4aslAAe4AHYSmtv3fLy834f8Ey/e83Ny/j/AMAz3/1bfQ1DY/8AHjD/ALorX/4Ruy/v3H/f00g8NWSgAPcADsJTR+75eXm/D/gh+95ubl/H/gGbP/x7yf7p/lXRWP8AyDrb/rkv8hVA+G7IjBe4/wC/prTijWGFIkztRQoz6Cok4qNou5cVNyvJWH0UUVibBRRRQAUUUUAFFFFABRRRQAUUUUAFFFFABRRRQAUUUUAFFFFABRRRQAUUUUAFFFFABRRRQAUUUUAFFFFABRRRQAUUUUAFFFFABRRRQBj+IlD29opzg3A6Ej+BvSsS5t0WW3AMnMuDmRj/AAn3rb8SIJLa0UlgDcDlTg/dasG4tFWW3AkmO6THMhOODWiPQouyj7zWj/UlltoxPAMycsf+Wrf3T70S20YngGZOWP8Ay1b+6femS2aCeAeZNyx6yn+6aJbNBPAPMm5Y9ZT/AHTQNSXu++9n+vmX9PhSPWLUqXzlvvOx/hPqa6WuY063WLWLUq8jct99yf4T6109SzlrO/LrfT9WFFFFSYBRRRQAUUUUAFFFFABRRRQAUUUUAFFFFABRRRQAUUUUAFFFFABRRRQAUUUUAFFFFABRRRQAUUUUAFFFFABRRRQAUUUUAFFFFABRRRQAUUUUAFFFFABRRRQAUUUUAFFFFABRRRQAUUUUAFFFFABRRRQAUUUUAFFFFABRRRQAUUUUAFFFFABRRRQAUUUUAFFFFABRRRQAUUUUAFFFFABRRRQAUUUUAFFFFABRRRQAUUUUAFFFFABRRRQAUUUUAFFFFAGP4kQSW1opLAG4HKnB+61YNxaKstuBJMd0mOZCccGt7xIgktrRSWANwOVOD91qwbi0VZbcCSY7pMcyE44NaRPRoysormto/wBR0tmgngHmTcsesp/umiWzQTwDzJuWPWU/3TRLZoJ4B5k3LHrKf7pols0E8A8yblj1lP8AdNFylU+H33s+nqXdOt1i1i1KvI3Lffcn+E+tdPXMadbrFrFqVeRuW++5P8J9a6epZyVpc3K730/VhRRRUnOFFFFABRRRQAUUUUAFFFFABRRRQAUUUUAFFFFABRRRQAUUUUAFFFFABRRRQAUUUUAFFFFABRRRQAUUUUAFFFFAFPVNSj0qz+0SxvIu4LtTrk1QPiaOEg3un3trGTjzJIvlFM8YZ/sRdvXzlx+tZuvNrK6eo1byDaNIof7P979a9GhRpzhHm6t9fyPNxFepCcuXol0/M69WV0DIcqwyCO4pajt1RbWJYv8AVhAFz6Y4qSvPe56K2CiiikMKKKKACiiigAooooAKKKKACiiigAooooAy9W1DULK+02Kw01ryG5uPLuZQ2Ps6f3v8+nvUVrqmqTeLb7Tp9JaLTYIVeG+3cSsduVx+J/75962aKAMvw7qGoanpIuNX01tNuTIymBmzwDwfxrUoooAKKKKACiiigAooooAKKKKACiiigAooooAKKKKAGefFtdvNTbGSHO4YUjrn0o8+LajeamJCAh3D5vp61hJ4L0hLHV7RVn8rWJWluv3pzuJz8vpzT38H6U9jo9qwm8vR5Ultf3pzuXpu9aegG7RRRSAKKKKACiiigAooooAKKKKACiiigApvmxmUxB18wDcUzyB64p1ZK+GtPTxTJ4gAl+3SQeQx8w7dvHb14FAGl9pg8lpfOj8tMhn3jC465NPBDKCpBBGQR3rnIPAei2/hW78PRLcCxu5PNkHmksGyp4P/AAEVu2NnFp2n29lbBhDbRLFGGOTtUYHP0FAE9FFFABRRRQAUUUUAFFFFABRRRQBj+Il3W9oMkf6QOQf9hqxLmHEtt+8kOZe7dPlNbfiJd1vaDJH+kDkH/YasS5hxLbfvJDmXu3T5TVo9CjKyjrbR/qOmhxPB+8k5Y/xf7JomhxPB+8k5Y/xf7JomhxPB+8k5Y/xf7JomhxPB+8k5Y/xf7JoBT+H3uj6epdsItmr2p3u3LfebP8JrpK5uwi2avane7ct95s/wmukqWc1V3Udb6fqwooopGAUUUUAFFFFABRRRQAUUUUAFFFFABRRRQAUUUUAFFFFABRRRQAUUUUAFFFFABRRRQAUUUUAFFFFABRXH+PkV/sAdQw/edRn+7XHeRF/zyT/vkV6OHwLrU+dSsebiMeqFTkcbnsNFeMXUMQtZMRp0/uipvIi/55J/3yK3/suV/i/Aw/tWNr8v4nrF9YQajbiG5DFAwb5TjkUX9hBqVqbe6BMZIPynHIryfyIv+eSf98ioYIYt037tP9Yf4R6CrWXVI2tPYh5lTkneG57LGgiiSNckKoUZ9qdXj3kRf88k/wC+RUMsMX2iD92nU/wj0qHlct+b8C1msduT8T2eivHvIi/55J/3yKbJDF5bfuk6H+EUf2XL+b8Bf2tH+T8T2OioLL/kH2//AFyX+VT1457QUUUUAFFFFABRRRQAUUUUAFFFFABVDV9asdCtFutTlMULOIwwRm5IJ7A+hq/XP+OdP/tHwbfxqu54085Pqpyf0BFbUIwnVjGezZtQjCdWMZ7Nl++17TtNu7O2vLgJLettgG0nccgdR06jrTpNbsItci0h5j9tmTzEjCE/LzznGB9015RqE0viG2kvkdi+laTb4IP3ZN6lj9cbq6bw7cya1401TXYITcLb2kccCbgu5mUEgE8Do3516U8BCnT5pPZO/rpb8z0p4CFOnzSeyd/XS35nfSSLFG0kjBUQFmY9AB3rHtPFem3dxBEv2iFbo4tpZ4GRJz/ssev9az7nU7vX11Tw/wD2dJaXP2NizmdWVCwwoJX1/lWVqs2oalbaJpy6Nd2yW1xA08zxHETKdvy4ByOeo/SuelhU9J7+q0Vt/P8Aruc9LCp6VN/VaK2/n/Xc7+iiivPPPCiiigAooooAKKKKACiiigAooooAKKKKACiiigAooooAKKKKACiiigAooooAKKKKACiiigAooooAKKKKACiiigAooooAKKKKACiiigDH8RLut7QZI/0gcg/7DViXMOJbb95Icy926fKa2/ES7re0GSP9IHIP+w1YlzDiW2/eSHMvdunymrR6FGVlHW2j/UdNDieD95Jyx/i/2TRNDieD95Jyx/i/2TRNDieD95Jyx/i/2TRNDieD95Jyx/i/2TQCn8PvdH09S7YRbNXtTvduW+82f4TXSVzdhFs1e1O925b7zZ/hNdJUs5qruo630/VhRRRSMAooooAKKKKACiiigAooooAKKKKACiiigAooooAKKKKACiiigAooooAKKKKACiiigAooooAKKKKAOQ8d/wDLh/20/wDZa5Cut8fxpKNPEiK4HmcMM/3a437Jbf8APvF/3wK+ky+/sF8z5nMbfWHfyC7/AOPST6VLVS6tbcWsmIIun9wVN9ktv+feL/vgV3a3OH3eUlqK3+9N/wBdD/IUfZLb/n3i/wC+BUMFrblpswRf6w/wD0FDvdAuWzLdRS/8fEH1P8qPslt/z7xf98CoZbW3+0QfuIup/gHpQ72FHluW6bJ/q2+hpn2S2/594v8AvgU2S0t/Lb/R4uh/gFPUS5bnr1l/x4W//XJf5VPUFl/yD7f/AK5L/Kp6+MPtVsFFFFAwooooAKKKKACjNZniJQ2hyhhkF4wR/wADWsP+zrP/AJ90/KtFGPLdv+vvNFGPLdv+vvOvzRmuIvbG2jtwUgRTvUZA/wBoVY/s6z/590/Kq5IWvd/d/wAEfLDlvd/d/wAE6/NIQGUhgCCMEHvXD6jZW0VmWjhRW3KMge4q1/Z1n/z7p+VPkgoqV393/BHywUVK7+7/AIJPo3ge00jTdVs/P85dRBUts2+WmCAvU5xk88Ve8LeHU8M6P9iSb7QzSGR5dmzcTx0yewHesS5sraJEaOFFPmoMgf7QrspohPbyRFmUOpXcpwRnuD61pXr1Zwb5r83y1S0NqtepUj70rqT107GdoWnTWNvcPebDd3VxJNKynOQWO0Z9lwK1K4X+0rweDZLVrmX7at79l8zed+c569exFJc6pdz+E9PtYbmVb2S6+zu4c7sgnv17rXzc87pybk4u/LzfO9uX1OuWX1Jzu5LWVvla9/Q7uiq4urWHETXMQKfKQ0gz+NcYl5M2sXNrezTRac+pSI8qORlv4Uz1VeP/ANVdOKx0MPyq176b7evZeZyUMLKtzdLf1od3RSKoVQqjAAwBS16BxhRRRQAUUUUAFFFFABRRRQAUUUUAFFcSPEPiTxBfXJ8LW9rHYWzmPz7rP71h1xjt/nNanhfxLJq8lzp+o2/2bU7E7Z0X7rc43L/nuK654SpCLk7abq+q9TrnhKkIuTtpur6r1OiooorkOQKKKKACiiigAooooAKKKKACiiigAooooAKKKKACiiigAooooAKKKKACiiigDH8RLut7QZI/0gcg/wCw1YlzDiW2/eSHMvdunymurvLKK+jRZ92Efeu1sc4I/rVVtBtHKljMSpyP3h4NUmdlOsopa7XMCaHE8H7yTlj/ABf7JomhxPB+8k5Y/wAX+ya3zoVozKS02VOR+8NB0K0ZlJabKnI/eGncarLT3ujW3r/mZthFs1e1O925b7zZ/hNdJVKDSreC4SZDIXTONzkjkYq7Us56kua2t7L9WFFFFIyCiiigAooooAKKKKACiiigAooooAKKKKACiiigAooooAKKKKACiiigAooooAKKKKACiiigAooooA5Dx3/y4f8AbT/2WuQr1me1t7oAXMEcwXoJEDY/Oof7J07/AKB9r/35X/CvTw+P9hT5OW/zPLxOX+3qc/Nb5f8ABPJ7v/j0k+lS16n/AGTp3/QPtf8Avyv+FH9k6d/0D7X/AL8r/hW/9qa/B+P/AADD+ytLc/4f8E8sqK3+9N/10P8AIV6x/ZOnf9A+1/78r/hR/ZOnf9A+1/78r/hR/an9z8f+AH9lafH+H/BPLKil/wCPiD6n+Vesf2Tp3/QPtf8Avyv+FH9k6d/0D7X/AL8r/hQ80v8AY/H/AIALKbfb/D/gnllNk/1bfQ16r/ZOnf8AQPtf+/K/4Uf2Tp3/AED7X/vyv+FP+1f7n4/8AX9k/wB/8P8Agkll/wAeFv8A9cl/lU9AAUAAYA4AHaivEPcCiiigAooooAKKKKAMzxD/AMgWT/rpH/6GtY122LOYg4IRsEH2rZ8RKG0OUMMgvGCP+BrXPXWn2i2cxWBAQhIOPaqq8v1d3ff8kdNNRfLfv/kKlhFNbp5jSnIDH94evWi5tEjtZXV5cqhI/eGp0+WwXbxiIYx24qrDaG5s1MtxMRIvzLu4Nc8MHSnRu7L5d0ZTxdWFXl1fz8x66fDPbJ5rStuUE/vD1oubRI7WV1eXKoSP3hpfsRjjwt1MAo4G6o4bQ3NmpluJiJF+Zd3BrR4Gi6Vrrtt1IWNrKok07b7j4rGKa2iaRpSSqt/rD161Nc747Z2WefIHGZW/xqL7CY4sJczAKvADdKZBatcWqNJczfOuSN3FKWBoui0mr7Xt1sNY2sqqunbe1xBolyfHCnyZPsLyJdNJsO0sFJ5PTO4n86k03R7lfHE7TQSC0hlkuImZDsLNjoemen/fNTSfakhYrqF18qkgb66ayZmsLdnJZjEpJPUnFeb/AGLQhaalf3+b/gel9TsWaVpXg42923/B9TGv9Ps7/wAR29q1rCBGhup2EYBkOcKCevXJPritNtJsXhnhe2Ro7hzJKp53Me/1rJ1PUbjTfGWmxvNiyvUaIptHDjpzjPUr3qjouv31341u7WeXdZF5YoE2gYZCO+M9P5161LKVyzq2Tuubbptb8Hf5nm1M0SlGldqz5fnvf8UdciLHGqJwqgAZOeKdXOeEdSvdW/tG7upi9v8AaSluhUDaoyew54I/KrXiG4u7JrC8t5GW3juVS5QdCjEDJ+hx+dbvDyjV9jdX/wCBt+hksTGVH2yTt/wd/wBTZorH0G9n1KXULt3P2c3Bit07BUGCfxOa2KyqQdOXKzWnNVI8y2CiiioNAooooAKKKKACmyLvjZc43AjI7U6igDz3wbr9roOg3uk3pSPUNPkkPkyyLEJeezNxVbwv5vivxRrerWs02nJNDHGGjYb0b5Dx/wB8Hn3rvb3RNL1GUSX+n21xIP45IgzfnTYtB0y3ad7SzitZJ4vJd4FCHbjtjp/9Yeleq8ZS9+UYtSl81umz1XjKXvyjFqUvmt02ZHhCO/le8vLjUbm7sncxWonYEsFJBfjpkjj2rp6w9JvrW0vpNAtoWji0+AYkd8gqAP8AGptI15dZup1tbZxbQnH2hjgOfYV4tXH4etWtF7tpK3bf/gvY58RSqzlKpy2Ss+mz2+bNaiiitTiCiiigAooooAKKKKACqE+s2tvO0Um/cpwcLV+s7Urxgy2dtzcTcZH8I9aaNqMVKVmr/gWLO/hvg/kbvkxncMdas1Tt7VrCzWO2RZXzlizbc+/epLO4e5jZ3jCAMVGG3bsd+lD8hTiruUNixRRRSMgooooAKKKKACiiigAooooAKKKKACiiigAooooAKKKKACiiigAooooAKKKKACiiigAooooAKKKKACiiigAooooAKKKKACiiigAooooAKKKKACiiigAooooAKKKKACiiigAooooAKKKKACiiigAooooAKKKKACiiigAooooAzPEJxoshPHzx/wDoa1h3c8RspgJUP7tv4h6VueIgDokoIyC8eQf99awbu0txZzEW8QIjbB2D0qqvL9Xd/P8AJHTS5fdv3/yGCxtmsgxiBPlhs5PXFT2P/HjD/uihR/xLwB/zy/pVa1skktY2MkoJXOA+BTw1OnGhpptsvI4sRUqOv333fmX3/wBW30NQ2P8Ax4w/7oqNrCMIT5k3T+/UVrZJJaxsZJQSucB8CuhRp+zfvdV09TByqe0Xu9H19C+/+rb6GobH/jxh/wB0VG1hGEJ8ybp/fqK1skktY2MkoJXOA+BQo0/Zv3uq6eoOVT2i93o+voXZ/wDj3k/3T/Kuisf+Qdbf9cl/kK5OWwjWFyJJuFJ5eursONNtv+uSfyFZzUVT9131NIOTqe8raHP+PYW/sSG+iH7yyuElB9s4/niufvkl0vwfo2qwjFx5zu7evmg5/QAV6RRXTRxrpwjBxuk7+qtt+Jy1sCqtSU1Kzat6NO9/wRzdrp1jY+CLX+00Pl20HnOA7J8xGSOCOcnFS6PoQ/4Rqa1vWYtfgvIu4nytw4Vc5+7x+NbN3Z29/atb3kQlhfG5G6HByP1FTVjLEycXrq3f+vn+htHDQUlorJW/4f5fqV9PsYdN0+GzthiOFdoz1PqT7k81Yoormk3J3Z1Rioqy2CiiikMK84jvrlYLZQ1/cyzKW+S6IxjGc7nHrXo9eb2P+vsP+uMn81q/aOnSnNbpHXhopyaY+W51JoXWO11MOVIU/bBwf+/lRLqF9E8FvLbaoZnjLf8AH4OduM/8tPcVciSWUOxupR+8cADbgAMQO3tQ1lunSZrmYyRqVVsrwDjPb2FVTjjpxUvc1XmYzx+GjJxs9PJEX2q//wCfTU//AAMX/wCOVDBeajHHBBNbam0xiyT9sHOMAn/WepqxZpNLZxSPdzFmXJ+7/hUhtGMqyG5m3qCoPy8A4z29hVKnjv7n4ieY4bs/uRD9qv8A/n01P/wMX/45XVaHq7XixWk1pcQzRwAs8zIwYjAPKsT1PeuXs0mms45Hu5izLk/d/wAKswrPBN5sN7Or7SuRt6HH+z7CkqGMm1z8tvK5lVx2GktE7/Iqanpt3qvjDVreyl2ERB2GcbwFX5fxOK6TwzqaahofkWqJbXVqnltGy8K2OGx6E/1qfRNOhCxasxd7y6t0ErsfvcDnHTsKnTR7G01SXVU3RSuD5h34UjuSPwzXzmHy6th8Q6sWvelK68m7q3mvxPXrY2lWoqm/spW9Utb+TK+lX2oXOrXVvcSW8sFsArSRRsv7w/wjJOcDr9a2ao6TaRWWnKkUyzhmaRphj5ySST/T8KtwzxXCb4JUlXONyMCM/hXq4anUhSXtL369beXy2PPrzhKp7m35+fzH0UUV0GIUUUUAFFFchqVzc/2zeKt3cIiyAKqSkADYp6fjTSua0qUqsuWJ19Zs2jiS7e4W5kjdz/Dxiua+0Xf/AD/XX/f5qhtbu8khYvf3RPmSD/XN0DkD9BV8rR2wwleD91r+vkdethLFazxx3UkjyDCtIT8tW4IxDBHGOiKBXF/aLv8A5/rr/v8ANUNrd3kkLF7+6J8yQf65ugcgfoKOVhLCV5aNr+vkd7RXEfaLv/n+uv8Av81dPoUkkujRNLI0j7nBZzknDsBzUuLRzVsPOiryNCiiipOYKKKKACiiigAooooAKKRSTnKkc4Ge9LQAUUhOBzn8Bmo47hJZWjVZAyjJLRMo/AkYNAEtFFFABRRRQAUUUUAFFFFABRRRQAUUUUAFFFFABRRRQAUUUUAFFFFABRRRQAUUUUAFFFFABRRRQAUUUUAFFFFABRRRQAUUUUAFFFFABRRRQAUUUUAFFFFABRRRQAUUUUAFFFFAGZ4hONFkJ4+eP/0Naw7ueI2UwEqf6tv4h6VueIgDokoIyC8eQf8AfWsG7tLcWcxFvECI2wdg9Kqry/V3fz/JHTS5fdv3/wAiEabatZhyrE7A2d564zVqx/48Yf8AdFCj/iXgD/nl/Sq1rZJJaxsZJQSucB8CjDUqUKGmm2y8jjxFWrKv333fmi+/+rb6GobH/jxh/wB0VG1hGEJ8ybp/fqK1skktY2MkoJXOA+BXSo0/Zv3uq6epzuVT2i93o+voX3/1bfQ1DY/8eMP+6KjawjCE+ZN0/v1Fa2SSWsbGSUErnAfAoUafs373VdPUHKp7Re70fX0Ls/8Ax7yf7p/lXRWP/IOtv+uS/wAhXJy2EawuRJNwpPL11dhxptt/1yT+QrOaiqfuu+ppBydT3lbQsUUUVgbhRRRQAUUUUAFFFFABXldpCLK5sZrW3nuHeKTconzjleztgfhXqleb2P8Ar7D/AK4yfzWlU/3ep6HXhVeTLdizPa7nQxsZJCUJBK/OeOOKs1nw2XmCR/tNwmZpPlV8AfOfapP7P/6e7r/v5/8AWr2KDfso+i/I+crJe1lr1Y/T/wDkHw/7tWay7CwzYQn7Xcj5e0n/ANarH9n/APT3df8Afz/61aK9jNpX3H6d/wAg6H/dqzWXYWGbCE/a7kfL0En/ANarH2DH/L3df9/P/rU1ewNK+52ejf8AIDsf+uCf+girUsSzQvFIMo6lWHqDxVTRBt0GwGScW6DJ6n5RV6vFejPbWqPPdP1eTRfCGs6fKczWMxgizxw5Iz+e410emzWvhrQbG0uhMH8re3lwO/zHls7QccnvWfq/hCW/8WRXkTBbKRkkuVLdWXPQe4x+ZrX8Sx3dzp8NnZJIRdXCRTug+5EfvHPbpj8a9atUo1XGKfxO8vLT/h38zx6NOtSUpNfAuWPW6v8A8MvkaVndw39nHdWzFopRuRipGR9DU1NRFjjVI1CqoAUDsKdXkO19Nj2I3truFFFFIYVxupf8hu+/66r/AOgLXZVwesWMc/iC/dpbhSZV4SdlH+rXsDVw3O7A39q7dh1V7L/j3b/rtL/6G1Rf2XF/z3u//Ap/8ags9MiMDfv7v/WyDi5f++3vWx7HvX2NSq9l/wAe7f8AXaX/ANDaov7Li/573f8A4FP/AI1BZ6ZEYG/f3f8ArZBxcv8A3296A96+xqV1Hh//AJAkP+/J/wChtXFf2XF/z3u//Ap/8a7Lw1GIvD8CKWYK0nLsWP8ArG7ms57HBj78iuatFFFZHkBRRRQAUUUUAFFFFACAhhkeuKWiigAooooAKKKKACiiigAoooOeMfjzQAUUUUAFFFFABRRRQAUUUUAFFFFABRRRQAUUUUAFFFFABRRRQAUUUUAFFFFABRRRQAUUUUAFFFFABRRRQAUUUUAFFFFABRRRQAUUUUAFFFFABRRRQAUUUUAZniE40WQnj54//Q1rDu54jZTASp/q2/iHpXVz28V1CYriNZI2xlW6HvWZqGi6amm3LpZQhliYghehxTqOHsJKXn+R0UnBuKl3/wAjAGn27WQchs7A33z1xmrNj/x4w/7opcAWOBwBHx+VQWltvs4m86YZXoHwBTw1KnDD6K23TyOTEVKkq+uu/XzRcf8A1bfQ1DY/8eMP+6Ka9oAjfv5+n/PSo7S232cTedMMr0D4AroUYezevVfqYOU/aLTo/wBC4/8Aq2+hqGx/48Yf90U17QBG/fz9P+elR2ltvs4m86YZXoHwBQow9m9eq/UHKftFp0f6Fqf/AI95P90/yrorH/kHW3/XJf5CuWltcQufOmOFPV/auosP+Qbbf9cl/kKiSSp6PqXFt1NV0LFFFFYG4UUUUAFFFFABRRRQAVzeo+Ho4Lu2m0nT1G1XWTyyq4ztx1I9DXSUVM4qcXF7MqMnB3RwturIkiyKVZZpAVJHB3n0qaujfQNOkleRopNzsXbE8gBJOTwG9TTf+Ee03/nlL/4Eyf8AxVejDEwhFRtsebPCzlJyvucrp/8AyD4f92rNb6eG9LjQIkMoUDAAuZOP/Hqd/wAI9pv/ADyl/wDAmT/4qqWLhbYl4Sd9zldP/wCQfD/u1ZrfTw3pcaBUhlCjoBcyf/FU7/hHtN/55S/+BMn/AMVR9bh2B4Sd9ybRv+QHY/8AXBP/AEEVdqOCCO2t44IV2xxqFUZJwB05NSV571Z6K0QUUUUhhRRRQAUUUUAFcbqX/Ibvv+uq/wDoC12VZ0+hWFxcyTyxyeZIQWIlYAnAHQH0AqouzOnDVlRnzM5aq9l/x7t/12l/9Dauu/4R3Tv+ecv/AH/f/Gmp4Z0yNSEilAJLf69+pOT39TV86O/6/Tvszm6r2X/Hu3/XaX/0Nq67/hHdO/55y/8Af9/8aanhnTI1ISKUAkt/r36k5Pf1NHOg+v077M5uuo8P/wDIEh/35P8A0Nqb/wAI7p3/ADzl/wC/7/41etbWKytlgtwVjUkgFiTycnk+5qZSTOXE4mNaKUUTUUUVBwhRRRQAUUUUAFFFFABQTgZPSiigABz0ooooAKKKKACiiigAooooAKKKKACiiigAooooAKKKKACiiigAooooAKKKKACiiigAooooAKKKKACiiigAooooAKKKKACiiigAooooAKKKKACiiigAooooAKKKKACiiigAooooAKKKKACmyxrNC8UgyjqVYZ6g06ik0mrMNtTMl0Gx8hxFC2/adv71uuOO9ULXS7yO1jR4cMq4I3D/ABroqKIRhTi4wil6BNynJSk2zCbTbsowEXOP7w/xqK10u8jtY0eHDKuCNw/xroqKvmfLyk8q5uYwm027KMBFzj+8P8aitdLvI7WNHhwyrgjcP8a6KijmfLyhyrm5jAl027aF1WLJKkD5h/jW1aI0VlBG4wyxqpHoQKloo5nawcqvcKKKKkoKKKKACiiigAooooAKKKKACiiigAooooAKKKKACiiigAooooAKKKKACiiigAooooAKKKKACiiigAooooAKKKKACiiigAooooAKKKKACiiigAooP5UnIAzz9KAFoqGO7glk8tZAJOT5bgq2PXaece9TUAFFFFABRRRQAUUUUAFFFFABRRRQAUUUUAFFFFABRRRQAUUUUAFFFFABRRRQAUUUUAFFFFABRRRQAUUUUAFFFFABRRRQAUUUUAFFFFABRRRQAUUUUAFFFFABRRRQAUUUUAFFFFABRRRQAUUUUAFFFFABRRRQAUUUUAFFFFABRRRQAUUUUAFFFFABRRRQAUUUUAFFFFABRRRQAUUUUAFFFFABRRRQAUUUUAFFFFABRRRQAUUUUAFFFFABRRRQAUUUUAFFFFABRRRQAUUUUAQ3dna38Hk31tDcxEg+XNGHXPrg0sNtHbjEIZV7LuJUD0APAHsMUUUAS0UUUAFFFFABRRRQAUUUUAFFFFABRRRQAUUUUAf/2Q==)\n",
        "\n",
        "pre-processed as follows — 80% are replaced with a “[MASK]” token, 10% with a random word, and 10% use the original word.\n",
        "\n",
        "\n",
        "6. Bert in this uses masked language model, in which we mask(token) some of the words in sentences in addition to this we have two more tokens namely [CLS] which contains contextual meaning of given sentence (according to implementaion) and [SEP] which signifies, seperation between two sentences/sequences.\n",
        "\n",
        "7. After final layer (which generally has 768/512 vectors for each word) it passes through softmax for classification.\n",
        "\n",
        "8. Bert layer details :\n",
        "used bert based uncased 12-layer, 768-hidden, 12-heads, 110M parameters.\n",
        "Trained on lower-cased English text."
      ]
    },
    {
      "cell_type": "markdown",
      "metadata": {
        "id": "ztbw2NDWDjSf"
      },
      "source": [
        "###WORKING"
      ]
    },
    {
      "cell_type": "markdown",
      "metadata": {
        "id": "BwudPccKEBvL"
      },
      "source": [
        "**LOGISTIC REGRESSION**"
      ]
    },
    {
      "cell_type": "code",
      "metadata": {
        "colab": {
          "base_uri": "https://localhost:8080/"
        },
        "id": "K3E3HlDgEBvL",
        "outputId": "35b4c1a4-505d-4f76-8c6b-f9d3d9a6ea36"
      },
      "source": [
        "from tqdm import tqdm\n",
        "params = [{'classifier': [LogisticRegression(random_state=42)],\n",
        "        \"classifier__C\": [ 0.0001, 0.001, 0.1, 0.25, 0.50, 0.75, 1.25, 1.5, 1.75, 2.0],\n",
        "        \"classifier__class_weight\" : [{0:1.61 ,1:1.0}, {0:3.82 ,1:1.0}, {0:2.3, 1:1.0}],\n",
        "        \"classifier__penalty\": ['l2'],\n",
        "        \"classifier__solver\": ['liblinear']}]      #[\"newton-cg\", \"liblinear\", \"sag\"]}]\n",
        "\n",
        "lr_pred_bert, best_clf = model(x_train_bert, y_train, x_test_bert, tqdm(params), 'logistic_regression')\n",
        "pickle.dump((best_clf), open('/content/gdrive/MyDrive/cs1/best_clf_log_reg_bert.pkl','wb'))"
      ],
      "execution_count": null,
      "outputs": [
        {
          "output_type": "stream",
          "text": [
            "100%|██████████| 1/1 [00:00<00:00, 433.21it/s]\n",
            "[Parallel(n_jobs=1)]: Using backend SequentialBackend with 1 concurrent workers.\n"
          ],
          "name": "stderr"
        },
        {
          "output_type": "stream",
          "text": [
            "Fitting 3 folds for each of 10 candidates, totalling 30 fits\n"
          ],
          "name": "stdout"
        },
        {
          "output_type": "stream",
          "text": [
            "[Parallel(n_jobs=1)]: Done  30 out of  30 | elapsed: 16.0min finished\n"
          ],
          "name": "stderr"
        },
        {
          "output_type": "stream",
          "text": [
            "best cv params for logistic_regression model : {'classifier__solver': 'liblinear', 'classifier__penalty': 'l2', 'classifier__class_weight': {0: 3.82, 1: 1.0}, 'classifier__C': 0.5, 'classifier': LogisticRegression(C=0.5, class_weight={0: 3.82, 1: 1.0}, dual=False,\n",
            "                   fit_intercept=True, intercept_scaling=1, l1_ratio=None,\n",
            "                   max_iter=100, multi_class='auto', n_jobs=None, penalty='l2',\n",
            "                   random_state=42, solver='liblinear', tol=0.0001, verbose=0,\n",
            "                   warm_start=False)}\n",
            "best cv score for logistic_regression model  : 0.6168774085561138\n"
          ],
          "name": "stdout"
        }
      ]
    },
    {
      "cell_type": "code",
      "metadata": {
        "colab": {
          "base_uri": "https://localhost:8080/"
        },
        "id": "-IVBThzvEBvM",
        "outputId": "d2555b2d-048f-4c68-b796-f380762c582a"
      },
      "source": [
        "metrics(y_test, lr_pred_bert)"
      ],
      "execution_count": null,
      "outputs": [
        {
          "output_type": "stream",
          "text": [
            "Hamming Loss      :  0.19902120717781402\n",
            "Exact Match Ratio :  0.5579119086460033\n",
            "Recall            :  0.5587340231284236\n",
            "Precision         :  0.7110766847405112\n",
            "Fl score          :  0.6257668711656442\n"
          ],
          "name": "stdout"
        }
      ]
    },
    {
      "cell_type": "code",
      "metadata": {
        "id": "u5W1Aub4EBvM"
      },
      "source": [
        "##LABEL POWESET HAVE NO CV_RESULT_ PARAM SO CANNOT PLOT FOR CV SCORES."
      ],
      "execution_count": null,
      "outputs": []
    },
    {
      "cell_type": "markdown",
      "metadata": {
        "id": "Zahwc-60EBvM"
      },
      "source": [
        "**SVM**"
      ]
    },
    {
      "cell_type": "code",
      "metadata": {
        "colab": {
          "base_uri": "https://localhost:8080/"
        },
        "id": "gYNjy-kdEBvM",
        "outputId": "f35ac3a2-5e53-4eab-80c7-1da72d3cce09"
      },
      "source": [
        "%%time\n",
        "from tqdm import tqdm\n",
        "from sklearn.svm import LinearSVC\n",
        "params = [{'classifier': [SVC(random_state=42)],         #linearsvc consider\n",
        "        \"classifier__C\": [ 0.0001, 0.001, 0.1, 0.75, 1.0,  1.5, 2.0, 10],\n",
        "        \"classifier__class_weight\" : [{0:1.61 ,1:1.0}, {0:3.82 ,1:1.0}, {0:2.3, 1:1.0}],\n",
        "        'classifier__kernel':['poly', 'rbf']}]\n",
        "\n",
        "cvm_lin_pred_bert, best_clf = model(x_train_bert, y_train, x_test_bert, tqdm(params), 'svc lin')\n",
        "pickle.dump((best_clf), open('/content/gdrive/MyDrive/cs1/best_clf_lin_svc_bert.pkl','wb'))"
      ],
      "execution_count": null,
      "outputs": [
        {
          "output_type": "stream",
          "text": [
            "100%|██████████| 1/1 [00:00<00:00, 466.03it/s]\n",
            "[Parallel(n_jobs=1)]: Using backend SequentialBackend with 1 concurrent workers.\n"
          ],
          "name": "stderr"
        },
        {
          "output_type": "stream",
          "text": [
            "Fitting 3 folds for each of 10 candidates, totalling 30 fits\n"
          ],
          "name": "stdout"
        },
        {
          "output_type": "stream",
          "text": [
            "[Parallel(n_jobs=1)]: Done  30 out of  30 | elapsed: 52.4min finished\n"
          ],
          "name": "stderr"
        },
        {
          "output_type": "stream",
          "text": [
            "best cv params for svc lin model : {'classifier__kernel': 'poly', 'classifier__class_weight': {0: 3.82, 1: 1.0}, 'classifier__C': 10, 'classifier': SVC(C=10, break_ties=False, cache_size=200, class_weight={0: 3.82, 1: 1.0},\n",
            "    coef0=0.0, decision_function_shape='ovr', degree=3, gamma='scale',\n",
            "    kernel='poly', max_iter=-1, probability=False, random_state=42,\n",
            "    shrinking=True, tol=0.001, verbose=False)}\n",
            "best cv score for svc lin model  : 0.6203651969636895\n",
            "CPU times: user 56min 10s, sys: 2.8 s, total: 56min 13s\n",
            "Wall time: 56min 2s\n"
          ],
          "name": "stdout"
        }
      ]
    },
    {
      "cell_type": "code",
      "metadata": {
        "colab": {
          "base_uri": "https://localhost:8080/"
        },
        "id": "5oAZQ117EBvN",
        "outputId": "ae103c15-4728-4178-ff51-b1cbf10a9f0f"
      },
      "source": [
        "metrics(y_test, cvm_lin_pred_bert)"
      ],
      "execution_count": null,
      "outputs": [
        {
          "output_type": "stream",
          "text": [
            "Hamming Loss      :  0.20174007612833061\n",
            "Exact Match Ratio :  0.5486677542142468\n",
            "Recall            :  0.5429093122337189\n",
            "Precision         :  0.7113237639553429\n",
            "Fl score          :  0.6158094580600622\n"
          ],
          "name": "stdout"
        }
      ]
    },
    {
      "cell_type": "markdown",
      "metadata": {
        "id": "EhpS4RefEBvN"
      },
      "source": [
        "**DT**"
      ]
    },
    {
      "cell_type": "code",
      "metadata": {
        "colab": {
          "base_uri": "https://localhost:8080/"
        },
        "id": "pinWkvl0EBvN",
        "outputId": "e0efa61b-63bf-42b2-8b6c-1e706c55353d"
      },
      "source": [
        " %%time\n",
        "from tqdm import tqdm\n",
        "from sklearn.tree import DecisionTreeClassifier\n",
        "params = [{'classifier'                      : [DecisionTreeClassifier()],\n",
        "          'classifier__criterion'            : ['gini', 'entropy'], \n",
        "          'classifier__max_depth'            : [2, 4, 6, 8, 10, 12, 15, 18, 20, 25, 30, 50, 75, 100], \n",
        "          'classifier__min_samples_split'    : [2, 3, 4, 5, 6, 7, 8, 10]}]\n",
        "\n",
        "dt_pred_bert, best_clf = model(x_train_bert, y_train, x_test_bert, tqdm(params), 'decision tree')\n",
        "pickle.dump((best_clf), open('/content/gdrive/MyDrive/cs1/best_clf_dt_bert.pkl','wb'))"
      ],
      "execution_count": null,
      "outputs": [
        {
          "output_type": "stream",
          "text": [
            "100%|██████████| 1/1 [00:00<00:00, 484.11it/s]\n",
            "[Parallel(n_jobs=1)]: Using backend SequentialBackend with 1 concurrent workers.\n"
          ],
          "name": "stderr"
        },
        {
          "output_type": "stream",
          "text": [
            "Fitting 3 folds for each of 10 candidates, totalling 30 fits\n"
          ],
          "name": "stdout"
        },
        {
          "output_type": "stream",
          "text": [
            "[Parallel(n_jobs=1)]: Done  30 out of  30 | elapsed:  9.0min finished\n"
          ],
          "name": "stderr"
        },
        {
          "output_type": "stream",
          "text": [
            "best cv params for decision tree model : {'classifier__min_samples_split': 2, 'classifier__max_depth': 18, 'classifier__criterion': 'entropy', 'classifier': DecisionTreeClassifier(ccp_alpha=0.0, class_weight=None, criterion='entropy',\n",
            "                       max_depth=18, max_features=None, max_leaf_nodes=None,\n",
            "                       min_impurity_decrease=0.0, min_impurity_split=None,\n",
            "                       min_samples_leaf=1, min_samples_split=2,\n",
            "                       min_weight_fraction_leaf=0.0, presort='deprecated',\n",
            "                       random_state=None, splitter='best')}\n",
            "best cv score for decision tree model  : 0.41656275306710205\n",
            "CPU times: user 10min 53s, sys: 486 ms, total: 10min 54s\n",
            "Wall time: 10min 52s\n"
          ],
          "name": "stdout"
        }
      ]
    },
    {
      "cell_type": "code",
      "metadata": {
        "colab": {
          "base_uri": "https://localhost:8080/"
        },
        "id": "EwCjVw1rEBvO",
        "outputId": "aa8bcd9c-7a4e-4d22-8b93-3dd3f1437771"
      },
      "source": [
        "metrics( y_test, dt_pred_bert)"
      ],
      "execution_count": null,
      "outputs": [
        {
          "output_type": "stream",
          "text": [
            "Hamming Loss      :  0.347652709806054\n",
            "Exact Match Ratio :  0.30886351277868407\n",
            "Recall            :  0.4175289105295192\n",
            "Precision         :  0.416514875531269\n",
            "Fl score          :  0.41702127659574467\n"
          ],
          "name": "stdout"
        }
      ]
    },
    {
      "cell_type": "markdown",
      "metadata": {
        "id": "IhW_Mn4cEBvO"
      },
      "source": [
        "**RANDOM FOREST**"
      ]
    },
    {
      "cell_type": "code",
      "metadata": {
        "colab": {
          "base_uri": "https://localhost:8080/"
        },
        "id": "-H5zCOToEBvO",
        "outputId": "109fd47e-e01e-4ac9-f762-de7ba31eed45"
      },
      "source": [
        "%%time\n",
        "from tqdm import tqdm\n",
        "params = [{'classifier': [RandomForestClassifier(random_state=42)],\n",
        "        'classifier__n_estimators': [50, 80, 250, 500],\n",
        "        'classifier__max_depth'   : [5,8,10, 20, 50, 100, 250],\n",
        "        'classifier__max_features' : ['sqrt', 'log2'],\n",
        "        'classifier__max_samples' : [0.6, 0.75, 1],\n",
        "        \"classifier__class_weight\" : [{0:1.61 ,1:1.0}, {0:3.82 ,1:1.0}, {0:2.3, 1:1.0}]}]\n",
        "\n",
        "rf_pred_bert, best_clf = model(x_train_bert, y_train, x_test_bert, tqdm(params), 'random forest')\n",
        "pickle.dump((best_clf), open('/content/gdrive/MyDrive/cs1/best_clf_rf_bert.pkl','wb'))"
      ],
      "execution_count": null,
      "outputs": [
        {
          "output_type": "stream",
          "text": [
            "100%|██████████| 1/1 [00:00<00:00, 164.12it/s]\n",
            "[Parallel(n_jobs=1)]: Using backend SequentialBackend with 1 concurrent workers.\n"
          ],
          "name": "stderr"
        },
        {
          "output_type": "stream",
          "text": [
            "Fitting 3 folds for each of 10 candidates, totalling 30 fits\n"
          ],
          "name": "stdout"
        },
        {
          "output_type": "stream",
          "text": [
            "[Parallel(n_jobs=1)]: Done  30 out of  30 | elapsed:  5.3min finished\n"
          ],
          "name": "stderr"
        },
        {
          "output_type": "stream",
          "text": [
            "best cv params for random forest model : {'classifier__n_estimators': 250, 'classifier__max_samples': 0.6, 'classifier__max_features': 'sqrt', 'classifier__max_depth': 50, 'classifier__class_weight': {0: 1.61, 1: 1.0}, 'classifier': RandomForestClassifier(bootstrap=True, ccp_alpha=0.0,\n",
            "                       class_weight={0: 1.61, 1: 1.0}, criterion='gini',\n",
            "                       max_depth=50, max_features='sqrt', max_leaf_nodes=None,\n",
            "                       max_samples=0.6, min_impurity_decrease=0.0,\n",
            "                       min_impurity_split=None, min_samples_leaf=1,\n",
            "                       min_samples_split=2, min_weight_fraction_leaf=0.0,\n",
            "                       n_estimators=250, n_jobs=None, oob_score=False,\n",
            "                       random_state=42, verbose=0, warm_start=False)}\n",
            "best cv score for random forest model  : 0.4691359856489772\n",
            "CPU times: user 6min 59s, sys: 990 ms, total: 7min\n",
            "Wall time: 6min 59s\n"
          ],
          "name": "stdout"
        }
      ]
    },
    {
      "cell_type": "code",
      "metadata": {
        "colab": {
          "base_uri": "https://localhost:8080/"
        },
        "id": "u9cxkDuLEBvO",
        "outputId": "5b46e43b-a391-4a45-a48d-8274d64230f2"
      },
      "source": [
        "metrics(y_test, rf_pred_bert)"
      ],
      "execution_count": null,
      "outputs": [
        {
          "output_type": "stream",
          "text": [
            "Hamming Loss      :  0.2374478883451151\n",
            "Exact Match Ratio :  0.4866775421424687\n",
            "Recall            :  0.34692635423006696\n",
            "Precision         :  0.7063197026022305\n",
            "Fl score          :  0.4653061224489796\n"
          ],
          "name": "stdout"
        }
      ]
    },
    {
      "cell_type": "code",
      "metadata": {
        "colab": {
          "base_uri": "https://localhost:8080/"
        },
        "id": "zps-mEfeEBvP",
        "outputId": "1a2e7afb-3875-450a-ea20-56c9d81085bf"
      },
      "source": [
        "from prettytable import PrettyTable\n",
        "k5 = PrettyTable()\n",
        "k5.field_names = [\"Vectorizer\",\"Model\",\"Hamming loss\",\"EMR\",\"Recall\",\"Precision\",\"F1 score\",]\n",
        "k5.add_row([\"bert + Numerical\",'LOGISTIC REGRESSION',0.1990, 0.5579, 0.5587, 0.7111, 0.6258])\n",
        "k5.add_row([\"bert + Numerical\",'LINEAR SVM',0.2017, 0.4279, 0.4437, 0.7113, 0.6158])\n",
        "k5.add_row([\"bert + Numerical\",'DESICION TREE',0.3477, 0.5487, 0.5429, 0.41651, 0.4170])\n",
        "k5.add_row([\"bert + Numerical\",'RANDOM FOREST',0.2374, 0.4867, 0.3469, 0.70632, 0.4653])\n",
        "print(k5)"
      ],
      "execution_count": null,
      "outputs": [
        {
          "output_type": "stream",
          "text": [
            "+------------------+---------------------+--------------+--------+--------+-----------+----------+\n",
            "|    Vectorizer    |        Model        | Hamming loss |  EMR   | Recall | Precision | F1 score |\n",
            "+------------------+---------------------+--------------+--------+--------+-----------+----------+\n",
            "| bert + Numerical | LOGISTIC REGRESSION |    0.199     | 0.5579 | 0.5587 |   0.7111  |  0.6258  |\n",
            "| bert + Numerical |      LINEAR SVM     |    0.2017    | 0.4279 | 0.4437 |   0.7113  |  0.6158  |\n",
            "| bert + Numerical |    DESICION TREE    |    0.3477    | 0.5487 | 0.5429 |  0.41651  |  0.417   |\n",
            "| bert + Numerical |    RANDOM FOREST    |    0.2374    | 0.4867 | 0.3469 |  0.70632  |  0.4653  |\n",
            "+------------------+---------------------+--------------+--------+--------+-----------+----------+\n"
          ],
          "name": "stdout"
        }
      ]
    }
  ]
}