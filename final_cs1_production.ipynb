{
  "nbformat": 4,
  "nbformat_minor": 0,
  "metadata": {
    "colab": {
      "name": " final cs1 production.ipynb",
      "provenance": [],
      "collapsed_sections": [
        "zSUHDJEq4HBk",
        "AMPLNjn4m7Ab",
        "yZHVkQsLr-0x",
        "vTSCQWvE3t-l",
        "pZiSVpYMDAVn"
      ]
    },
    "kernelspec": {
      "name": "python3",
      "display_name": "Python 3"
    },
    "language_info": {
      "name": "python"
    }
  },
  "cells": [
    {
      "cell_type": "markdown",
      "metadata": {
        "id": "OA46APkRswx5"
      },
      "source": [
        "#PRODUCTIONIZE MODELS"
      ]
    },
    {
      "cell_type": "code",
      "metadata": {
        "colab": {
          "base_uri": "https://localhost:8080/"
        },
        "id": "e5v60o3osHeF",
        "outputId": "548ee863-db21-47e0-f265-8b530a6f7358"
      },
      "source": [
        "from google.colab import drive\n",
        "drive.mount('/content/gdrive')"
      ],
      "execution_count": 1,
      "outputs": [
        {
          "output_type": "stream",
          "text": [
            "Mounted at /content/gdrive\n"
          ],
          "name": "stdout"
        }
      ]
    },
    {
      "cell_type": "code",
      "metadata": {
        "id": "S-eEbYsPssAj",
        "colab": {
          "base_uri": "https://localhost:8080/"
        },
        "outputId": "594f3739-c0c6-44f9-9929-54f561d2c826"
      },
      "source": [
        "import pandas as pd\n",
        "import numpy as np\n",
        "import re\n",
        "import matplotlib.pyplot as plt\n",
        "import seaborn as sns\n",
        "import pickle\n",
        "\n",
        "from sklearn.metrics import hamming_loss, recall_score, precision_score, f1_score\n",
        "import tensorflow as tf\n",
        "from keras.preprocessing.text import Tokenizer\n",
        "from keras_preprocessing.sequence import pad_sequences\n",
        "from nltk.stem import WordNetLemmatizer\n",
        "import nltk\n",
        "nltk.download('wordnet')\n",
        "nltk.download('stopwords')\n",
        "from nltk.corpus import stopwords"
      ],
      "execution_count": 2,
      "outputs": [
        {
          "output_type": "stream",
          "text": [
            "[nltk_data] Downloading package wordnet to /root/nltk_data...\n",
            "[nltk_data]   Unzipping corpora/wordnet.zip.\n",
            "[nltk_data] Downloading package stopwords to /root/nltk_data...\n",
            "[nltk_data]   Unzipping corpora/stopwords.zip.\n"
          ],
          "name": "stdout"
        }
      ]
    },
    {
      "cell_type": "markdown",
      "metadata": {
        "id": "vTSCQWvE3t-l"
      },
      "source": [
        "##END 2 END PIPLINE"
      ]
    },
    {
      "cell_type": "code",
      "metadata": {
        "id": "_iLN4KSgil6t"
      },
      "source": [
        "lemmatizer = WordNetLemmatizer()\n",
        "def preprocess(text):\n",
        "    \n",
        "    \"\"\"performs common expansion of english words, preforms preprocessing\"\"\"\n",
        "\n",
        "    text = re.sub(r\"won\\'t\", \"will not\", text)   # decontracting the words\n",
        "    text = re.sub(r\"can\\'t\", \"can not\", text)\n",
        "    text = re.sub(r\"n\\'t\", \" not\", text)\n",
        "    text = re.sub(r\"\\'re\", \" are\", text)\n",
        "    text = re.sub(r\"\\'s\", \" is\", text)\n",
        "    text = re.sub(r\"\\'d\", \" would\", text)\n",
        "    text = re.sub(r\"\\'ll\", \" will\", text)\n",
        "    text = re.sub(r\"\\'t\", \" not\", text)\n",
        "    text = re.sub(r\"\\'ve\", \" have\", text)\n",
        "    text = re.sub(r\"\\'m\", \" am\", text)\n",
        "\n",
        "    text = re.sub(r'\\w+:\\s?','',text)                                            ## removing anyword:\n",
        "    text = re.sub('[([].*?[\\)]', '', text)                                       ## removing sq bracket and its content\n",
        "    text = re.sub('[<[].*?[\\>]', '', text)                                       ## removing <> and its content\n",
        "    text = re.sub('[{[].*?[\\}]', '', text)                                       ## removing {} and its content\n",
        "    \n",
        "    text = ' '.join([lemmatizer.lemmatize(word) for word in text.split()])       ## lemmatizing the word\n",
        "\n",
        "    text = re.sub(r'\\W', ' ', str(text))                                         # Remove all the special characters\n",
        "    text = re.sub(r'\\s+[a-zA-Z]\\s+', ' ', text)                                  # remove all single characters \n",
        "    text = re.sub(r\"[^A-Za-z0-9]\", \" \", text)                                    # replace all the words except \"A-Za-z0-9\" with space  \n",
        "    text = re.sub(r'[^\\w\\s]','',text)\n",
        "    text = ' '.join(e for e in text.split() if e.lower() not in set(stopwords.words('english')) and len(e)>2)  \n",
        "    # convert to lower and remove stopwords discard words whose len < 2\n",
        "    \n",
        "    text = re.sub(\"\\s\\s+\" , \" \", text)                                           ## remove extra white space  lst\n",
        "    text = text.lower().strip()   \n",
        "\n",
        "    return text\n"
      ],
      "execution_count": 3,
      "outputs": []
    },
    {
      "cell_type": "code",
      "metadata": {
        "id": "Jwvf_mJqxuxB"
      },
      "source": [
        "#pickle.dump((tokenizer), open('/content/gdrive/MyDrive/cs1/tokenizer.pkl','wb'))"
      ],
      "execution_count": 17,
      "outputs": []
    },
    {
      "cell_type": "code",
      "metadata": {
        "id": "cz93ThrCWBIL"
      },
      "source": [
        "tokenizer = pickle.load(open('/content/gdrive/MyDrive/cs1/tokenizer.pkl', 'rb'))\n",
        "\n",
        "def end_to_end_pipeline(string):\n",
        "  path = '/content/gdrive/MyDrive/cs1/deep model final/model2_gv_deepl.h5'\n",
        "  result = []\n",
        "  x = preprocess(string)\n",
        "  sent_token = tokenizer.texts_to_sequences([x])\n",
        "\n",
        "  sent_token_padd = pad_sequences(sent_token, maxlen=300, dtype='int32', padding='post', truncating='post')\n",
        "  model = tf.keras.models.load_model(path)\n",
        "  pred = model.predict(sent_token_padd, batch_size=64)\n",
        "  \n",
        "  row, column = pred.shape\n",
        "  predict = np.zeros((row, column))\n",
        "  for i in range(row):\n",
        "    for j in range(column):\n",
        "      if pred[i,j]>0.5:\n",
        "        predict[i,j] = 1\n",
        "  \n",
        "  for k in range(predict.shape[0]):\n",
        "    if predict[k][0] == 1.0:\n",
        "      result.append('commenting')\n",
        "    if predict[k][1] == 1.0:\n",
        "      result.append('ogling')\n",
        "    if predict[k][2] == 1.0:\n",
        "      result.append('groping')\n",
        "    if np.sum(predict) == 0.0:\n",
        "      result.append('None')\n",
        "    \n",
        "  print(f'possible action : {result}')\n"
      ],
      "execution_count": 18,
      "outputs": []
    },
    {
      "cell_type": "code",
      "metadata": {
        "colab": {
          "base_uri": "https://localhost:8080/"
        },
        "id": "YuODko2Hd_G1",
        "outputId": "6a7e8a42-5692-4937-cd8f-85e95c20bfdd"
      },
      "source": [
        "%time\n",
        "query_1 = 'During morning, a woman was walking and thin guy came around and called her names, and commented on her body.'\n",
        "end_to_end_pipeline(query_1)"
      ],
      "execution_count": 19,
      "outputs": [
        {
          "output_type": "stream",
          "text": [
            "CPU times: user 4 µs, sys: 1 µs, total: 5 µs\n",
            "Wall time: 9.06 µs\n",
            "possible action : ['commenting']\n"
          ],
          "name": "stdout"
        }
      ]
    },
    {
      "cell_type": "code",
      "metadata": {
        "colab": {
          "base_uri": "https://localhost:8080/"
        },
        "id": "iopNvLDjrRSl",
        "outputId": "6d4aff96-9894-4cde-bdee-4b24ca15f79e"
      },
      "source": [
        "%time\n",
        "query_2 = 'During morning, a woman was walking by and thin guy came and groped her.'\n",
        "end_to_end_pipeline(query_2)"
      ],
      "execution_count": 20,
      "outputs": [
        {
          "output_type": "stream",
          "text": [
            "CPU times: user 10 µs, sys: 1e+03 ns, total: 11 µs\n",
            "Wall time: 18.6 µs\n",
            "possible action : ['groping']\n"
          ],
          "name": "stdout"
        }
      ]
    },
    {
      "cell_type": "code",
      "metadata": {
        "colab": {
          "base_uri": "https://localhost:8080/"
        },
        "id": "FVaR0KkNzZdF",
        "outputId": "3d8611b5-677b-40f6-8e61-e6d476f0f890"
      },
      "source": [
        "%time\n",
        "query_3 = 'During morning, a woman was walking by and thin guy was staring at her.'\n",
        "end_to_end_pipeline(query_3)"
      ],
      "execution_count": 21,
      "outputs": [
        {
          "output_type": "stream",
          "text": [
            "CPU times: user 4 µs, sys: 0 ns, total: 4 µs\n",
            "Wall time: 10 µs\n",
            "possible action : ['ogling']\n"
          ],
          "name": "stdout"
        }
      ]
    },
    {
      "cell_type": "code",
      "metadata": {
        "colab": {
          "base_uri": "https://localhost:8080/"
        },
        "id": "4iLw56w0zlzK",
        "outputId": "717ec207-112a-4cfc-cf94-35c9b6ac4361"
      },
      "source": [
        "%time\n",
        "query_4 = 'During morning, a woman was walking by and thin guy came and did nothing to her.'\n",
        "end_to_end_pipeline(query_4)"
      ],
      "execution_count": 22,
      "outputs": [
        {
          "output_type": "stream",
          "text": [
            "CPU times: user 3 µs, sys: 0 ns, total: 3 µs\n",
            "Wall time: 6.68 µs\n",
            "possible action : ['None']\n"
          ],
          "name": "stdout"
        }
      ]
    },
    {
      "cell_type": "code",
      "metadata": {
        "colab": {
          "base_uri": "https://localhost:8080/"
        },
        "id": "BO9S5F021ApN",
        "outputId": "b0f4bac5-a85b-4821-c38a-12695b23ba10"
      },
      "source": [
        "%time\n",
        "query_5 = 'Catcalls and passing comments were two of the ghastly things the Delhi police at the International Airport put me and my friend through. It is appalling that the protectors and law enforcers at the airport can make someone so uncomfortable.'\n",
        "end_to_end_pipeline(query_5)"
      ],
      "execution_count": 23,
      "outputs": [
        {
          "output_type": "stream",
          "text": [
            "CPU times: user 4 µs, sys: 1 µs, total: 5 µs\n",
            "Wall time: 9.54 µs\n",
            "possible action : ['commenting']\n"
          ],
          "name": "stdout"
        }
      ]
    },
    {
      "cell_type": "code",
      "metadata": {
        "colab": {
          "base_uri": "https://localhost:8080/"
        },
        "id": "duikbSeh1X-9",
        "outputId": "960d7d29-daa9-4a3c-a9e8-9fd304473a05"
      },
      "source": [
        "%time\n",
        "query_6 = 'This incident took place in the evening.I was in the metro when two guys started staring.'\n",
        "end_to_end_pipeline(query_6)"
      ],
      "execution_count": 24,
      "outputs": [
        {
          "output_type": "stream",
          "text": [
            "CPU times: user 2 µs, sys: 1e+03 ns, total: 3 µs\n",
            "Wall time: 6.68 µs\n",
            "possible action : ['ogling']\n"
          ],
          "name": "stdout"
        }
      ]
    },
    {
      "cell_type": "code",
      "metadata": {
        "colab": {
          "base_uri": "https://localhost:8080/"
        },
        "id": "-c3xQnAY1niv",
        "outputId": "2feb3299-7b15-4e64-a219-21aef555692d"
      },
      "source": [
        "%time\n",
        "query_7 = 'Was walking along crowded street, holding mums hand, when an elderly man groped butt, I turned to look at him and he looked away, and did it again after a while.I was 12 yrs old then.'\n",
        "end_to_end_pipeline(query_7)"
      ],
      "execution_count": 25,
      "outputs": [
        {
          "output_type": "stream",
          "text": [
            "CPU times: user 3 µs, sys: 0 ns, total: 3 µs\n",
            "Wall time: 6.44 µs\n",
            "possible action : ['groping']\n"
          ],
          "name": "stdout"
        }
      ]
    },
    {
      "cell_type": "code",
      "metadata": {
        "colab": {
          "base_uri": "https://localhost:8080/"
        },
        "id": "gkvmCOu8116Y",
        "outputId": "5475acb6-5171-497b-8901-05fa31b7044d"
      },
      "source": [
        "%time\n",
        "query_8 = 'chain snatching evening punjabi bagh bus stop'\n",
        "end_to_end_pipeline(query_8)"
      ],
      "execution_count": 26,
      "outputs": [
        {
          "output_type": "stream",
          "text": [
            "CPU times: user 3 µs, sys: 0 ns, total: 3 µs\n",
            "Wall time: 6.91 µs\n",
            "possible action : ['None']\n"
          ],
          "name": "stdout"
        }
      ]
    },
    {
      "cell_type": "code",
      "metadata": {
        "colab": {
          "base_uri": "https://localhost:8080/"
        },
        "id": "xEAXxXcx0Z7B",
        "outputId": "22a05ecd-0dfb-413a-8d23-5eeed31c7c27"
      },
      "source": [
        "%time\n",
        "query_9 = 'Was walking along crowded street, holding mums hand, when an elderly man groped butt, I turned to look at h7m and he looked away, and did it again after a while.I was 12 yrs old then.'\n",
        "end_to_end_pipeline(query_9)"
      ],
      "execution_count": 27,
      "outputs": [
        {
          "output_type": "stream",
          "text": [
            "CPU times: user 4 µs, sys: 0 ns, total: 4 µs\n",
            "Wall time: 8.34 µs\n",
            "possible action : ['groping']\n"
          ],
          "name": "stdout"
        }
      ]
    },
    {
      "cell_type": "code",
      "metadata": {
        "colab": {
          "base_uri": "https://localhost:8080/"
        },
        "id": "9Ylkf7Hq22V5",
        "outputId": "503e4337-00df-43e7-ee12-ed88fd32659d"
      },
      "source": [
        "%time\n",
        "query_10 = 'witnEsseD incident chaIn9 brutALLy snatched elderly lady incident tok pla$Ce even!ing'\n",
        "end_to_end_pipeline(query_10)"
      ],
      "execution_count": 28,
      "outputs": [
        {
          "output_type": "stream",
          "text": [
            "CPU times: user 4 µs, sys: 1e+03 ns, total: 5 µs\n",
            "Wall time: 8.82 µs\n",
            "possible action : ['None']\n"
          ],
          "name": "stdout"
        }
      ]
    },
    {
      "cell_type": "code",
      "metadata": {
        "colab": {
          "base_uri": "https://localhost:8080/"
        },
        "id": "EG5DXyZH3V8j",
        "outputId": "eec4ed5a-45f7-4fa3-9c73-5966f3508232"
      },
      "source": [
        "%time\n",
        "query_11 = 'incident kap0Pened inMide tRaI*n'\n",
        "end_to_end_pipeline(query_11)"
      ],
      "execution_count": 29,
      "outputs": [
        {
          "output_type": "stream",
          "text": [
            "CPU times: user 3 µs, sys: 0 ns, total: 3 µs\n",
            "Wall time: 6.91 µs\n",
            "possible action : ['None']\n"
          ],
          "name": "stdout"
        }
      ]
    }
  ]
}